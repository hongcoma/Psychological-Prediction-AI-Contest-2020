{
 "cells": [
  {
   "cell_type": "code",
   "execution_count": 20,
   "id": "319533b7",
   "metadata": {},
   "outputs": [],
   "source": [
    "import matplotlib.pyplot as plt\n",
    "%matplotlib inline\n",
    "import seaborn as sns\n",
    "sns.set() # setting seaborn default for plots\n",
    "\n",
    "def bar_chart(feature):\n",
    "    yes = train[train['voted']==1][feature].value_counts()\n",
    "    no = train[train['voted']==2][feature].value_counts()\n",
    "    df = pd.DataFrame([yes,no])\n",
    "    df.index = ['Yes','No']\n",
    "    df.plot(kind='bar',stacked=True, figsize=(10,5))"
   ]
  },
  {
   "cell_type": "code",
   "execution_count": 21,
   "id": "a5c36f45",
   "metadata": {},
   "outputs": [],
   "source": [
    "import pandas as pd\n",
    "\n",
    "train=pd.read_csv('./train.csv')\n",
    "test=pd.read_csv('./test_x.csv')"
   ]
  },
  {
   "cell_type": "code",
   "execution_count": 25,
   "id": "1e73c001",
   "metadata": {},
   "outputs": [],
   "source": [
    "train['is10s']=(train['age_group']=='10s')"
   ]
  },
  {
   "cell_type": "code",
   "execution_count": 26,
   "id": "dc35992d",
   "metadata": {},
   "outputs": [
    {
     "data": {
      "text/plain": [
       "0        False\n",
       "1        False\n",
       "2        False\n",
       "3        False\n",
       "4        False\n",
       "         ...  \n",
       "45527     True\n",
       "45528    False\n",
       "45529     True\n",
       "45530    False\n",
       "45531    False\n",
       "Name: is10s, Length: 45532, dtype: bool"
      ]
     },
     "execution_count": 26,
     "metadata": {},
     "output_type": "execute_result"
    }
   ],
   "source": [
    "train['is10s']"
   ]
  }
 ],
 "metadata": {
  "kernelspec": {
   "display_name": "Python 3 (ipykernel)",
   "language": "python",
   "name": "python3"
  },
  "language_info": {
   "codemirror_mode": {
    "name": "ipython",
    "version": 3
   },
   "file_extension": ".py",
   "mimetype": "text/x-python",
   "name": "python",
   "nbconvert_exporter": "python",
   "pygments_lexer": "ipython3",
   "version": "3.9.12"
  }
 },
 "nbformat": 4,
 "nbformat_minor": 5
}
