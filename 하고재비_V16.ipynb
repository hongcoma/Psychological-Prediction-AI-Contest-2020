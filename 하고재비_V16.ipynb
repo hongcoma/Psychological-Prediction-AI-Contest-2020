{
 "cells": [
  {
   "cell_type": "markdown",
   "id": "1ca40348",
   "metadata": {},
   "source": [
    "# V13코드를 기반으로 lightGBM 을 사용한 버전"
   ]
  },
  {
   "cell_type": "markdown",
   "id": "d6c0a76c",
   "metadata": {},
   "source": [
    "# 시각화"
   ]
  },
  {
   "cell_type": "code",
   "execution_count": 49,
   "id": "951f1aa8",
   "metadata": {},
   "outputs": [],
   "source": [
    "import matplotlib.pyplot as plt\n",
    "%matplotlib inline\n",
    "import seaborn as sns\n",
    "sns.set() # setting seaborn default for plots\n",
    "\n",
    "def bar_chart(feature):\n",
    "    yes = train[train['voted']==1][feature].value_counts()\n",
    "    no = train[train['voted']==2][feature].value_counts()\n",
    "    df = pd.DataFrame([yes,no])\n",
    "    df.index = ['Yes','No']\n",
    "    df.plot(kind='bar',stacked=True, figsize=(10,5))"
   ]
  },
  {
   "cell_type": "code",
   "execution_count": 50,
   "id": "57b1a445",
   "metadata": {},
   "outputs": [],
   "source": [
    "import pandas as pd\n",
    "\n",
    "train=pd.read_csv('./train.csv')\n",
    "test=pd.read_csv('./test_x.csv')"
   ]
  },
  {
   "cell_type": "markdown",
   "id": "d5d66bbb",
   "metadata": {},
   "source": [
    "# 데이터 전처리"
   ]
  },
  {
   "cell_type": "code",
   "execution_count": 51,
   "id": "5132a1e5",
   "metadata": {},
   "outputs": [],
   "source": [
    "import numpy as np\n",
    "train['trust']=1\n",
    "test['trust']=1\n",
    "\n",
    "family_drop_score=10\n",
    "\n",
    "train['trust']=np.where(train['familysize'] >= family_drop_score, 0, train['trust'])\n",
    "test['trust']=np.where(test['familysize'] >= family_drop_score, 0, test['trust'])\n",
    "\n",
    "train['familysize']=np.where(train['familysize'] >= family_drop_score, family_drop_score, train['familysize'])\n",
    "test['familysize']=np.where(test['familysize'] >= family_drop_score, family_drop_score, test['familysize'])\n",
    "\n",
    "train['trust']=np.where(train['education'] == 0, 0, train['trust'])\n",
    "train['education']=np.where(train['education'] == 0, 2, train['education'])\n",
    "test['trust']=np.where(test['education'] == 0, 0, test['trust'])\n",
    "test['education']=np.where(test['education'] == 0, 2, test['education'])\n",
    "\n",
    "train['urban']=train['urban'].astype('str')\n",
    "test['urban']=test['urban'].astype('str')\n",
    "\n",
    "train['education']=train['education'].astype('str')\n",
    "test['education']=test['education'].astype('str')\n"
   ]
  },
  {
   "cell_type": "code",
   "execution_count": 52,
   "id": "cc005109",
   "metadata": {},
   "outputs": [],
   "source": [
    "time = ['QaE', 'QbE', 'QcE', 'QdE', 'QeE','QfE', 'QgE', 'QhE', 'QiE', 'QjE', 'QkE', 'QlE', 'QmE', 'QnE', 'QoE', 'QpE', 'QqE', 'QrE', 'QsE', 'QtE']\n",
    "\n",
    "train[time] = np.where(train[time] > 10000, 10000, train[time])\n",
    "test[time] = np.where(test[time] > 10000, 10000, test[time])\n",
    "\n",
    "# train[time] = np.where(train[time] > 10000, train[time].median(), train[time])\n",
    "# test[time] = np.where(test[time] > 10000, test[time].median(), test[time])\n",
    "\n",
    "P_time=['QbE', 'QcE', 'QhE', 'QjE', 'QmE', 'QoE', 'QpE', 'QsE', 'QtE']\n",
    "N_time=['QaE', 'QdE', 'QeE', 'QfE', 'QgE', 'QiE', 'QkE', 'QlE', 'QnE', 'QqE', 'QrE']\n",
    "\n",
    "train['p_time']=train[P_time].sum(axis=1)\n",
    "test['p_time']=test[P_time].sum(axis=1)\n",
    "train['n_time']=train[N_time].sum(axis=1)\n",
    "test['n_time']=test[N_time].sum(axis=1)"
   ]
  },
  {
   "cell_type": "markdown",
   "id": "f829ef3e",
   "metadata": {},
   "source": [
    "# 원핫 인코딩 (gender, race, religion)"
   ]
  },
  {
   "cell_type": "code",
   "execution_count": 53,
   "id": "741c771b",
   "metadata": {},
   "outputs": [],
   "source": [
    "train=pd.get_dummies(train, columns=['race'])\n",
    "train=pd.get_dummies(train, columns=['religion'])\n",
    "train=pd.get_dummies(train, columns=['gender'])\n",
    "train=pd.get_dummies(train, columns=['urban'])\n",
    "train=pd.get_dummies(train, columns=['education'])\n",
    "# train=pd.get_dummies(train, columns=['age_group'])\n",
    "train=pd.get_dummies(train, columns=['hand'])\n",
    "\n",
    "test=pd.get_dummies(test, columns=['race'])\n",
    "test=pd.get_dummies(test, columns=['religion'])\n",
    "test=pd.get_dummies(test, columns=['gender'])\n",
    "test=pd.get_dummies(test, columns=['urban'])\n",
    "test=pd.get_dummies(test, columns=['education'])\n",
    "# test=pd.get_dummies(test, columns=['age_group'])\n",
    "test=pd.get_dummies(test, columns=['hand'])"
   ]
  },
  {
   "cell_type": "markdown",
   "id": "1d4cb1a4",
   "metadata": {},
   "source": [
    "# Feature : Mach_score (마키아벨리니즘 스코어)"
   ]
  },
  {
   "cell_type": "code",
   "execution_count": 55,
   "id": "5f73d7a8",
   "metadata": {
    "scrolled": false
   },
   "outputs": [],
   "source": [
    "Answers = ['QaA', 'QbA', 'QcA', 'QdA', 'QeA',\n",
    "             'QfA', 'QgA', 'QhA', 'QiA', 'QjA', \n",
    "             'QkA', 'QlA', 'QmA', 'QnA', 'QoA', \n",
    "             'QpA', 'QqA', 'QrA', 'QsA', 'QtA']"
   ]
  },
  {
   "cell_type": "code",
   "execution_count": 56,
   "id": "f031affe",
   "metadata": {},
   "outputs": [],
   "source": [
    "reverse = [\"QeA\", \"QfA\", \"QkA\", \"QqA\", \"QrA\"]\n",
    "for r in reverse: \n",
    "        train[r] = 6 - train[r]\n",
    "        test[r] = 6 - test[r]"
   ]
  },
  {
   "cell_type": "code",
   "execution_count": 57,
   "id": "329ca96b",
   "metadata": {},
   "outputs": [],
   "source": [
    "reverse = [\"QaA\", \"QdA\", \"QgA\", \"QiA\", \"QnA\"]\n",
    "for r in reverse: \n",
    "        train[r] = 6 - train[r]\n",
    "        test[r] = 6 - test[r]"
   ]
  },
  {
   "cell_type": "code",
   "execution_count": 58,
   "id": "c589c845",
   "metadata": {},
   "outputs": [],
   "source": [
    "train['Mach_score'] = train[Answers].mean(axis = 1)\n",
    "test['Mach_score'] = test[Answers].mean(axis = 1)"
   ]
  },
  {
   "cell_type": "markdown",
   "id": "d3acad36",
   "metadata": {},
   "source": [
    "# Feature : tp0106, tp0207, tp0308, tp0409, tp0510 (관련있는 tp 끼리 묶음)"
   ]
  },
  {
   "cell_type": "code",
   "execution_count": 59,
   "id": "3d213727",
   "metadata": {},
   "outputs": [],
   "source": [
    "Tp = ['tp01', 'tp02', 'tp03', 'tp04', 'tp05',\n",
    "             'tp06', 'tp07', 'tp08', 'tp09', 'tp10']"
   ]
  },
  {
   "cell_type": "code",
   "execution_count": 60,
   "id": "f5c66c11",
   "metadata": {
    "scrolled": true
   },
   "outputs": [],
   "source": [
    "reverse = [\"tp06\", \"tp07\", \"tp08\", \"tp09\", \"tp10\"]\n",
    "for r in reverse: \n",
    "        train[r] = 7 - train[r]\n",
    "        test[r] = 7 - test[r]\n",
    "        \n",
    "tp0106=['tp01', 'tp06']\n",
    "tp0207=['tp02', 'tp07']\n",
    "tp0308=['tp03', 'tp08']\n",
    "tp0409=['tp04', 'tp09']\n",
    "tp0510=['tp05', 'tp10']\n",
    "train['tp0106'] = train[tp0106].sum(axis = 1)\n",
    "train['tp0207'] = train[tp0207].sum(axis = 1)\n",
    "train['tp0308'] = train[tp0308].sum(axis = 1)\n",
    "train['tp0409'] = train[tp0409].sum(axis = 1)\n",
    "train['tp0510'] = train[tp0510].sum(axis = 1)\n",
    "temp=['tp0106', 'tp0207', 'tp0308','tp0409', 'tp0510']\n",
    "\n",
    "test['tp0106'] = test[tp0106].sum(axis = 1)\n",
    "test['tp0207'] = test[tp0207].sum(axis = 1)\n",
    "test['tp0308'] = test[tp0308].sum(axis = 1)\n",
    "test['tp0409'] = test[tp0409].sum(axis = 1)\n",
    "test['tp0510'] = test[tp0510].sum(axis = 1)"
   ]
  },
  {
   "cell_type": "code",
   "execution_count": 61,
   "id": "0ee93748",
   "metadata": {},
   "outputs": [
    {
     "data": {
      "text/html": [
       "<div>\n",
       "<style scoped>\n",
       "    .dataframe tbody tr th:only-of-type {\n",
       "        vertical-align: middle;\n",
       "    }\n",
       "\n",
       "    .dataframe tbody tr th {\n",
       "        vertical-align: top;\n",
       "    }\n",
       "\n",
       "    .dataframe thead th {\n",
       "        text-align: right;\n",
       "    }\n",
       "</style>\n",
       "<table border=\"1\" class=\"dataframe\">\n",
       "  <thead>\n",
       "    <tr style=\"text-align: right;\">\n",
       "      <th></th>\n",
       "      <th>tp0106</th>\n",
       "      <th>tp0207</th>\n",
       "      <th>tp0308</th>\n",
       "      <th>tp0409</th>\n",
       "      <th>tp0510</th>\n",
       "    </tr>\n",
       "  </thead>\n",
       "  <tbody>\n",
       "    <tr>\n",
       "      <th>count</th>\n",
       "      <td>45532.000000</td>\n",
       "      <td>45532.000000</td>\n",
       "      <td>45532.000000</td>\n",
       "      <td>45532.000000</td>\n",
       "      <td>45532.000000</td>\n",
       "    </tr>\n",
       "    <tr>\n",
       "      <th>mean</th>\n",
       "      <td>7.545023</td>\n",
       "      <td>7.590090</td>\n",
       "      <td>5.261486</td>\n",
       "      <td>7.763749</td>\n",
       "      <td>4.017921</td>\n",
       "    </tr>\n",
       "    <tr>\n",
       "      <th>std</th>\n",
       "      <td>3.509913</td>\n",
       "      <td>2.916658</td>\n",
       "      <td>3.043976</td>\n",
       "      <td>3.366161</td>\n",
       "      <td>2.473560</td>\n",
       "    </tr>\n",
       "    <tr>\n",
       "      <th>min</th>\n",
       "      <td>0.000000</td>\n",
       "      <td>0.000000</td>\n",
       "      <td>0.000000</td>\n",
       "      <td>0.000000</td>\n",
       "      <td>0.000000</td>\n",
       "    </tr>\n",
       "    <tr>\n",
       "      <th>25%</th>\n",
       "      <td>5.000000</td>\n",
       "      <td>6.000000</td>\n",
       "      <td>3.000000</td>\n",
       "      <td>5.000000</td>\n",
       "      <td>2.000000</td>\n",
       "    </tr>\n",
       "    <tr>\n",
       "      <th>50%</th>\n",
       "      <td>8.000000</td>\n",
       "      <td>8.000000</td>\n",
       "      <td>5.000000</td>\n",
       "      <td>8.000000</td>\n",
       "      <td>4.000000</td>\n",
       "    </tr>\n",
       "    <tr>\n",
       "      <th>75%</th>\n",
       "      <td>11.000000</td>\n",
       "      <td>10.000000</td>\n",
       "      <td>7.000000</td>\n",
       "      <td>11.000000</td>\n",
       "      <td>6.000000</td>\n",
       "    </tr>\n",
       "    <tr>\n",
       "      <th>max</th>\n",
       "      <td>14.000000</td>\n",
       "      <td>14.000000</td>\n",
       "      <td>14.000000</td>\n",
       "      <td>14.000000</td>\n",
       "      <td>14.000000</td>\n",
       "    </tr>\n",
       "  </tbody>\n",
       "</table>\n",
       "</div>"
      ],
      "text/plain": [
       "             tp0106        tp0207        tp0308        tp0409        tp0510\n",
       "count  45532.000000  45532.000000  45532.000000  45532.000000  45532.000000\n",
       "mean       7.545023      7.590090      5.261486      7.763749      4.017921\n",
       "std        3.509913      2.916658      3.043976      3.366161      2.473560\n",
       "min        0.000000      0.000000      0.000000      0.000000      0.000000\n",
       "25%        5.000000      6.000000      3.000000      5.000000      2.000000\n",
       "50%        8.000000      8.000000      5.000000      8.000000      4.000000\n",
       "75%       11.000000     10.000000      7.000000     11.000000      6.000000\n",
       "max       14.000000     14.000000     14.000000     14.000000     14.000000"
      ]
     },
     "execution_count": 61,
     "metadata": {},
     "output_type": "execute_result"
    }
   ],
   "source": [
    "train[temp].describe()"
   ]
  },
  {
   "cell_type": "code",
   "execution_count": 62,
   "id": "82b7ce3e",
   "metadata": {},
   "outputs": [],
   "source": [
    "tp_drop_score=12\n",
    "\n",
    "train['trust']=np.where(train['tp0106'] >= tp_drop_score, 0, train['trust'])\n",
    "train['trust']=np.where(train['tp0207'] >= tp_drop_score, 0, train['trust'])\n",
    "train['trust']=np.where(train['tp0308'] >= tp_drop_score, 0, train['trust'])\n",
    "train['trust']=np.where(train['tp0409'] >= tp_drop_score, 0, train['trust'])\n",
    "train['trust']=np.where(train['tp0510'] >= tp_drop_score, 0, train['trust'])\n",
    "\n",
    "test['trust']=np.where(test['tp0106'] >= tp_drop_score, 0, test['trust'])\n",
    "test['trust']=np.where(test['tp0207'] >= tp_drop_score, 0, test['trust'])\n",
    "test['trust']=np.where(test['tp0308'] >= tp_drop_score, 0, test['trust'])\n",
    "test['trust']=np.where(test['tp0409'] >= tp_drop_score, 0, test['trust'])\n",
    "test['trust']=np.where(test['tp0510'] >= tp_drop_score, 0, test['trust'])\n",
    "\n",
    "train['tp0106']=np.where(train['tp0106'] >= tp_drop_score, tp_drop_score, train['tp0106'])\n",
    "train['tp0207']=np.where(train['tp0207'] >= tp_drop_score, tp_drop_score, train['tp0207'])\n",
    "train['tp0308']=np.where(train['tp0308'] >= tp_drop_score, tp_drop_score, train['tp0308'])\n",
    "train['tp0409']=np.where(train['tp0409'] >= tp_drop_score, tp_drop_score, train['tp0409'])\n",
    "train['tp0510']=np.where(train['tp0510'] >= tp_drop_score, tp_drop_score, train['tp0510'])\n",
    "\n",
    "test['tp0106']=np.where(test['tp0106'] >= tp_drop_score, tp_drop_score, test['tp0106'])\n",
    "test['tp0207']=np.where(test['tp0207'] >= tp_drop_score, tp_drop_score, test['tp0207'])\n",
    "test['tp0308']=np.where(test['tp0308'] >= tp_drop_score, tp_drop_score, test['tp0308'])\n",
    "test['tp0409']=np.where(test['tp0409'] >= tp_drop_score, tp_drop_score, test['tp0409'])\n",
    "test['tp0510']=np.where(test['tp0510'] >= tp_drop_score, tp_drop_score, test['tp0510'])"
   ]
  },
  {
   "cell_type": "markdown",
   "id": "ea7ff505",
   "metadata": {},
   "source": [
    "# wr에서 가져갈 feature : 1, 3, 5, 6, 9, 11"
   ]
  },
  {
   "cell_type": "markdown",
   "id": "65e01335",
   "metadata": {},
   "source": [
    "# wf_(1~3) : 설문자의 어휘 능력 (허구인 단어의 정의를 앎)"
   ]
  },
  {
   "cell_type": "code",
   "execution_count": 63,
   "id": "ae88ab68",
   "metadata": {
    "scrolled": true
   },
   "outputs": [],
   "source": [
    "wf=['wf_01', 'wf_02', 'wf_03']\n",
    "\n",
    "train['wf']=train[wf].mean(axis=1)\n",
    "train['trust']= np.where(train['wf'] >= 0.0, 0, train['trust'])\n",
    "\n",
    "test['wf']=test[wf].mean(axis=1)\n",
    "test['trust']= np.where(test['wf'] >= 0.0, 0, test['trust'])"
   ]
  },
  {
   "cell_type": "code",
   "execution_count": 64,
   "id": "11745081",
   "metadata": {},
   "outputs": [],
   "source": [
    "train['is10s']=(train['age_group']=='10s')\n",
    "test['is10s']=(test['age_group']=='10s')"
   ]
  },
  {
   "cell_type": "markdown",
   "id": "ab06e14f",
   "metadata": {},
   "source": [
    "# drop 할 feature들"
   ]
  },
  {
   "cell_type": "code",
   "execution_count": 65,
   "id": "a0686027",
   "metadata": {},
   "outputs": [],
   "source": [
    "drop_feature=[\n",
    "#                 'engnat',\n",
    "    \n",
    "#                 'familysize',\n",
    "    \n",
    "#                 'married',\n",
    "    \n",
    "#                 'race_Arab', 'race_Asian','race_Black','race_Indigenous Australian','race_Native American','race_Other','race_White',               \n",
    "    \n",
    "#                 'religion_Agnostic','religion_Atheist', 'religion_Buddhist','religion_Christian_Catholic','religion_Christian_Mormon', \n",
    "#                 'religion_Christian_Other', 'religion_Christian_Protestant', 'religion_Hindu','religion_Jewish','religion_Muslim', \n",
    "#                 'religion_Other','religion_Sikh',\n",
    "    \n",
    "#                 'gender_Female','gender_Male',\n",
    "                \n",
    "#                 'urban_0','urban_1','urban_2','urban_3',\n",
    "    \n",
    "#                 'education_1', 'education_2', 'education_3', 'education_4, '\n",
    "    \n",
    "#                 'trust',\n",
    "                \n",
    "                'age_group',\n",
    "                \n",
    "                'QaA', 'QbA', 'QcA', 'QdA', 'QeA','QfA', 'QgA', 'QhA', 'QiA', 'QjA', 'QkA', 'QlA', 'QmA', 'QnA', 'QoA','QpA', \n",
    "                'QqA', 'QrA', 'QsA', 'QtA',\n",
    "                \n",
    "                'QaE', 'QbE', 'QcE', 'QdE', 'QeE', 'QfE', 'QgE', 'QhE', 'QiE', 'QjE', 'QkE', 'QlE','QmE', 'QnE', 'QoE', 'QpE', \n",
    "                'QqE', 'QrE', 'QsE', 'QtE',\n",
    "    \n",
    "#                 'p_time' , \n",
    "\n",
    "#                 'n_time',\n",
    "              \n",
    "                'tp01', 'tp02', 'tp03', 'tp04', 'tp05','tp06','tp07', 'tp08', 'tp09', 'tp10',\n",
    "              \n",
    "#                 'wr_01', 'wr_02', 'wr_03', 'wr_04', 'wr_05', 'wr_06', 'wr_07', 'wr_08', 'wr_09','wr_10','wr_11', 'wr_12', 'wr_13', \n",
    "                'wr_02',  'wr_04', 'wr_07', 'wr_08', 'wr_10', 'wr_12', 'wr_13', \n",
    "                'wf_01', 'wf_02', 'wf_03', 'wf',\n",
    "              \n",
    "                'hand_0','hand_1','hand_2','hand_3',\n",
    "              \n",
    "              ]\n",
    "\n",
    "train = train.drop(drop_feature, axis = 1)\n",
    "test = test.drop(drop_feature, axis = 1)"
   ]
  },
  {
   "cell_type": "markdown",
   "id": "b90b6eae",
   "metadata": {},
   "source": [
    "# Model 생성"
   ]
  },
  {
   "cell_type": "code",
   "execution_count": 66,
   "id": "ddc2ea46",
   "metadata": {},
   "outputs": [],
   "source": [
    "from sklearn.neighbors import KNeighborsClassifier\n",
    "from sklearn.tree import DecisionTreeClassifier\n",
    "from sklearn.ensemble import RandomForestClassifier\n",
    "from sklearn.naive_bayes import GaussianNB\n",
    "from sklearn.svm import SVC\n",
    "import lightgbm as lgb"
   ]
  },
  {
   "cell_type": "markdown",
   "id": "93c8e33a",
   "metadata": {},
   "source": [
    "# 사용한 feature 목록"
   ]
  },
  {
   "cell_type": "code",
   "execution_count": 67,
   "id": "65fb6275",
   "metadata": {
    "scrolled": false
   },
   "outputs": [
    {
     "name": "stdout",
     "output_type": "stream",
     "text": [
      "index\n",
      "engnat\n",
      "familysize\n",
      "married\n",
      "voted\n",
      "wr_01\n",
      "wr_03\n",
      "wr_05\n",
      "wr_06\n",
      "wr_09\n",
      "wr_11\n",
      "trust\n",
      "p_time\n",
      "n_time\n",
      "race_Arab\n",
      "race_Asian\n",
      "race_Black\n",
      "race_Indigenous Australian\n",
      "race_Native American\n",
      "race_Other\n",
      "race_White\n",
      "religion_Agnostic\n",
      "religion_Atheist\n",
      "religion_Buddhist\n",
      "religion_Christian_Catholic\n",
      "religion_Christian_Mormon\n",
      "religion_Christian_Other\n",
      "religion_Christian_Protestant\n",
      "religion_Hindu\n",
      "religion_Jewish\n",
      "religion_Muslim\n",
      "religion_Other\n",
      "religion_Sikh\n",
      "gender_Female\n",
      "gender_Male\n",
      "urban_0\n",
      "urban_1\n",
      "urban_2\n",
      "urban_3\n",
      "education_1\n",
      "education_2\n",
      "education_3\n",
      "education_4\n",
      "Mach_score\n",
      "tp0106\n",
      "tp0207\n",
      "tp0308\n",
      "tp0409\n",
      "tp0510\n",
      "is10s\n"
     ]
    }
   ],
   "source": [
    "for i in train:\n",
    "    print(i)\n"
   ]
  },
  {
   "cell_type": "markdown",
   "id": "19e092ef",
   "metadata": {},
   "source": [
    "# 모델 전처리"
   ]
  },
  {
   "cell_type": "code",
   "execution_count": 83,
   "id": "2b2db252",
   "metadata": {},
   "outputs": [],
   "source": [
    "import pandas as pd\n",
    "import numpy as np\n",
    "from sklearn.model_selection import train_test_split\n",
    "from sklearn.preprocessing import StandardScaler\n",
    "from sklearn.metrics import *\n",
    "\n",
    "import warnings\n",
    "import gc\n",
    "warnings.filterwarnings(\"ignore\")\n",
    "\n",
    "x_train = train.copy()\n",
    "x_train.drop('voted', axis=1, inplace = True)\n",
    "y_train = train['voted']\n",
    "\n",
    "def lgbm_method(x_data, y_data, randomnum, ratio=0.9, min_feats=40):\n",
    "    feats=x_data.columns.tolist()\n",
    "    archive = pd.DataFrame(columns=['model', 'n_feats', 'feats', 'score'])\n",
    "    while True:\n",
    "        # 파라미터 더 추가하기\n",
    "        model = LGBMClassifier(objective = 'binary', num_iterations=10**4, learning_rate=0.06)\n",
    "        x_train, x_test, y_train, y_test = train_test_split(x_data[feats], y_data, random_state=randomnum)\n",
    "        model.fit(x_train, y_train, eval_set=[(x_test, y_test)], early_stopping_rounds=100, verbose=False)\n",
    "        pred = model.predict_proba(x_test)\n",
    "        pred = pred[:,1]\n",
    "        score = roc_auc_score(y_test, pred)\n",
    "        n_feats = len(feats)\n",
    "        print(n_feats, score)\n",
    "        archive = archive.append({'model': model, 'n_feats': n_feats, 'feats': feats, 'score': score}, ignore_index=True)\n",
    "        feat_imp = pd.Series(model.feature_importances_, index=feats).sort_values(ascending=False)\n",
    "        next_n_feats = int(n_feats * ratio)\n",
    "        if next_n_feats < min_feats:\n",
    "            break\n",
    "        else:\n",
    "            feats = feat_imp.iloc[:next_n_feats].index.tolist()\n",
    "    return archive"
   ]
  },
  {
   "cell_type": "code",
   "execution_count": 84,
   "id": "de9aa0bc",
   "metadata": {},
   "outputs": [
    {
     "name": "stdout",
     "output_type": "stream",
     "text": [
      "49 0.7696867268210211\n",
      "44 0.7684982983135802\n"
     ]
    }
   ],
   "source": [
    "lgbm_A = lgbm_method(x_train, y_train, 42)"
   ]
  },
  {
   "cell_type": "code",
   "execution_count": 85,
   "id": "d074c363",
   "metadata": {},
   "outputs": [
    {
     "name": "stdout",
     "output_type": "stream",
     "text": [
      "49 0.7671554207392708\n",
      "44 0.7675417165835463\n",
      "49 0.7621579193857588\n",
      "44 0.7623579966299441\n"
     ]
    }
   ],
   "source": [
    "lgbm_B = lgbm_method(x_train, y_train, 100)\n",
    "lgbm_C = lgbm_method(x_train, y_train, 568)"
   ]
  },
  {
   "cell_type": "code",
   "execution_count": 86,
   "id": "3f3d1675",
   "metadata": {},
   "outputs": [],
   "source": [
    "model = LGBMClassifier(objective=\"binary\", num_iterations= 10**4, learning_rate=0.06)\n",
    "\n",
    "x_train_1 = x_train[lgbm_A.iloc[1,2]]\n",
    "\n",
    "model.fit(x_train_1, y_train)\n",
    "\n",
    "pred_y1 = model.predict_proba(test[lgbm_A.iloc[1,2]])\n",
    "pred_y1 = pred_y1[:,1]"
   ]
  },
  {
   "cell_type": "code",
   "execution_count": 87,
   "id": "0268b2cb",
   "metadata": {},
   "outputs": [],
   "source": [
    "model = LGBMClassifier(objective=\"binary\", num_iterations= 10**4, learning_rate=0.06)\n",
    "\n",
    "x_train_2 = x_train[lgbm_B.iloc[1,2]]\n",
    "\n",
    "model.fit(x_train_2, y_train)\n",
    "\n",
    "pred_y2 = model.predict_proba(test[lgbm_B.iloc[1,2]])\n",
    "pred_y2 = pred_y2[:,1]"
   ]
  },
  {
   "cell_type": "code",
   "execution_count": 88,
   "id": "62336491",
   "metadata": {},
   "outputs": [],
   "source": [
    "model = LGBMClassifier(objective=\"binary\", num_iterations= 10**4, learning_rate=0.06)\n",
    "\n",
    "x_train_3 = x_train[lgbm_C.iloc[1,2]]\n",
    "\n",
    "model.fit(x_train_1, y_train)\n",
    "\n",
    "pred_y3 = model.predict_proba(test[lgbm_C.iloc[1,2]])\n",
    "pred_y3 = pred_y3[:,1]"
   ]
  },
  {
   "cell_type": "code",
   "execution_count": 89,
   "id": "1a66970f",
   "metadata": {},
   "outputs": [],
   "source": [
    "pred_all = (pred_y1 + pred_y2 + pred_y3) * (1/3)\n",
    "\n",
    "submission= pd.read_csv('./sample_submission.csv')\n",
    "submission['voted'] = pred_all\n",
    "submission.to_csv('submission_proba.csv', index = False)"
   ]
  }
 ],
 "metadata": {
  "kernelspec": {
   "display_name": "Python 3 (ipykernel)",
   "language": "python",
   "name": "python3"
  },
  "language_info": {
   "codemirror_mode": {
    "name": "ipython",
    "version": 3
   },
   "file_extension": ".py",
   "mimetype": "text/x-python",
   "name": "python",
   "nbconvert_exporter": "python",
   "pygments_lexer": "ipython3",
   "version": "3.8.12"
  }
 },
 "nbformat": 4,
 "nbformat_minor": 5
}
