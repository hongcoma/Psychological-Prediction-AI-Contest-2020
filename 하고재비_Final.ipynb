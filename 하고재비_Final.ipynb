{
 "cells": [
  {
   "cell_type": "markdown",
   "id": "d6c0a76c",
   "metadata": {},
   "source": [
    "# 시각화"
   ]
  },
  {
   "cell_type": "code",
   "execution_count": 2,
   "id": "951f1aa8",
   "metadata": {},
   "outputs": [],
   "source": [
    "import matplotlib.pyplot as plt\n",
    "%matplotlib inline\n",
    "import seaborn as sns\n",
    "sns.set() # setting seaborn default for plots"
   ]
  },
  {
   "cell_type": "code",
   "execution_count": 3,
   "id": "57b1a445",
   "metadata": {},
   "outputs": [],
   "source": [
    "import pandas as pd\n",
    "\n",
    "train=pd.read_csv('./train.csv')\n",
    "test=pd.read_csv('./test_x.csv')"
   ]
  },
  {
   "cell_type": "markdown",
   "id": "d5d66bbb",
   "metadata": {},
   "source": [
    "# 데이터 전처리"
   ]
  },
  {
   "cell_type": "code",
   "execution_count": 4,
   "id": "5132a1e5",
   "metadata": {},
   "outputs": [],
   "source": [
    "import numpy as np\n",
    "family_drop_score=10\n",
    "\n",
    "train['familysize']=np.where(train['familysize'] >= family_drop_score, family_drop_score, train['familysize'])\n",
    "test['familysize']=np.where(test['familysize'] >= family_drop_score, family_drop_score, test['familysize'])\n",
    "\n",
    "train['education']=np.where(train['education'] == 0, 2, train['education'])\n",
    "test['education']=np.where(test['education'] == 0, 2, test['education'])\n",
    "\n",
    "train['urban']=train['urban'].astype('str')\n",
    "test['urban']=test['urban'].astype('str')\n",
    "\n",
    "train['education']=train['education'].astype('str')\n",
    "test['education']=test['education'].astype('str')"
   ]
  },
  {
   "cell_type": "markdown",
   "id": "f829ef3e",
   "metadata": {},
   "source": [
    "# 원핫 인코딩 (gender, race, religion)"
   ]
  },
  {
   "cell_type": "code",
   "execution_count": 5,
   "id": "741c771b",
   "metadata": {},
   "outputs": [],
   "source": [
    "train=pd.get_dummies(train, columns=['race'])\n",
    "train=pd.get_dummies(train, columns=['religion'])\n",
    "train=pd.get_dummies(train, columns=['urban'])\n",
    "train=pd.get_dummies(train, columns=['hand'])\n",
    "train=pd.get_dummies(train, columns=['gender'])\n",
    "\n",
    "test=pd.get_dummies(test, columns=['race'])\n",
    "test=pd.get_dummies(test, columns=['religion'])\n",
    "test=pd.get_dummies(test, columns=['urban'])\n",
    "test=pd.get_dummies(test, columns=['hand'])\n",
    "test=pd.get_dummies(test, columns=['gender'])"
   ]
  },
  {
   "cell_type": "markdown",
   "id": "5a5e30a7",
   "metadata": {},
   "source": [
    "# 라벨 인코딩 (gender, race, religion)"
   ]
  },
  {
   "cell_type": "code",
   "execution_count": 6,
   "id": "232028a9",
   "metadata": {},
   "outputs": [],
   "source": [
    "from sklearn.preprocessing import LabelEncoder\n",
    "label = LabelEncoder()\n",
    "train['age_group_code'] = label.fit_transform(train['age_group'])\n",
    "train['education_code'] = label.fit_transform(train['education'])\n",
    "\n",
    "test['age_group_code'] = label.fit_transform(test['age_group'])\n",
    "test['education_code'] = label.fit_transform(test['education'])"
   ]
  },
  {
   "cell_type": "markdown",
   "id": "1d4cb1a4",
   "metadata": {},
   "source": [
    "# Feature : Mach_score (마키아벨리니즘 스코어)"
   ]
  },
  {
   "cell_type": "code",
   "execution_count": 7,
   "id": "5f73d7a8",
   "metadata": {
    "scrolled": false
   },
   "outputs": [],
   "source": [
    "Answers = ['QaA', 'QbA', 'QcA', 'QdA', 'QeA',\n",
    "             'QfA', 'QgA', 'QhA', 'QiA', 'QjA', \n",
    "             'QkA', 'QlA', 'QmA', 'QnA', 'QoA', \n",
    "             'QpA', 'QqA', 'QrA', 'QsA', 'QtA']"
   ]
  },
  {
   "cell_type": "code",
   "execution_count": 8,
   "id": "f031affe",
   "metadata": {},
   "outputs": [],
   "source": [
    "reverse = [\"QeA\", \"QfA\", \"QkA\", \"QqA\", \"QrA\"]\n",
    "for r in reverse: \n",
    "        train[r] = 6 - train[r]\n",
    "        test[r] = 6 - test[r]"
   ]
  },
  {
   "cell_type": "code",
   "execution_count": 9,
   "id": "329ca96b",
   "metadata": {},
   "outputs": [],
   "source": [
    "reverse = [\"QaA\", \"QdA\", \"QgA\", \"QiA\", \"QnA\"]\n",
    "for r in reverse: \n",
    "        train[r] = 6 - train[r]\n",
    "        test[r] = 6 - test[r]"
   ]
  },
  {
   "cell_type": "code",
   "execution_count": 10,
   "id": "c589c845",
   "metadata": {},
   "outputs": [],
   "source": [
    "train['Mach_score'] = train[Answers].mean(axis = 1)\n",
    "test['Mach_score'] = test[Answers].mean(axis = 1)"
   ]
  },
  {
   "cell_type": "markdown",
   "id": "d3acad36",
   "metadata": {},
   "source": [
    "# TIPI\n",
    "## 성실성 (Conscientiousness)\n",
    "## 우호성 (Agreeableness)\n",
    "## 신경성 (Neuroticism) - 정서적 안정감\n",
    "## 개방성 (Openness to experience)\n",
    "## 외향성 (Extroversion)\n",
    "\n",
    "- 성실성 : {3번 점수 + (8 - '8번 점수')} ÷ 2\n",
    "- 우호성 : {7번 점수 + (8 - '2번 점수')} ÷ 2\n",
    "- 정서적 안정성(점수가 낮으면 신경성과 관련) : {9번 점수 + (8 - '4번 점수')} ÷ 2\n",
    "- 개방성 : {5번 점수 + (8 - '10번 점수')} ÷ 2\n",
    "- 외향성 : {1번 점수 + (8 - '6번 점수')} ÷ 2"
   ]
  },
  {
   "cell_type": "code",
   "execution_count": 11,
   "id": "f5c66c11",
   "metadata": {
    "scrolled": true
   },
   "outputs": [],
   "source": [
    "train['TIPT_C']=(train['tp03']+(8-train['tp08']))/2\n",
    "train['TIPT_A']=(train['tp07']+(8-train['tp02']))/2\n",
    "train['TIPT_N']=(train['tp09']+(8-train['tp04']))/2\n",
    "train['TIPT_O']=(train['tp05']+(8-train['tp10']))/2\n",
    "train['TIPT_E']=(train['tp01']+(8-train['tp06']))/2\n",
    "\n",
    "test['TIPT_C']=(test['tp03']+(8-test['tp08']))/2\n",
    "test['TIPT_A']=(test['tp07']+(8-test['tp02']))/2\n",
    "test['TIPT_N']=(test['tp09']+(8-test['tp04']))/2\n",
    "test['TIPT_O']=(test['tp05']+(8-test['tp10']))/2\n",
    "test['TIPT_E']=(test['tp01']+(8-test['tp06']))/2"
   ]
  },
  {
   "cell_type": "markdown",
   "id": "65e01335",
   "metadata": {},
   "source": [
    "# wf_(1~3) : 설문자의 어휘 능력 (허구인 단어의 정의를 앎)"
   ]
  },
  {
   "cell_type": "code",
   "execution_count": 12,
   "id": "ae88ab68",
   "metadata": {
    "scrolled": true
   },
   "outputs": [],
   "source": [
    "wf=['wf_01', 'wf_02', 'wf_03']\n",
    "\n",
    "train['wf']=train[wf].mean(axis=1)\n",
    "test['wf']=test[wf].mean(axis=1)"
   ]
  },
  {
   "cell_type": "markdown",
   "id": "ab06e14f",
   "metadata": {},
   "source": [
    "# drop 할 feature들"
   ]
  },
  {
   "cell_type": "code",
   "execution_count": 13,
   "id": "a0686027",
   "metadata": {},
   "outputs": [],
   "source": [
    "drop_feature=[\n",
    "#                 'engnat',\n",
    "    \n",
    "#                 'familysize',\n",
    "    \n",
    "#                 'married',\n",
    "    \n",
    "#                 'race_Arab', 'race_Asian','race_Black','race_Indigenous Australian','race_Native American','race_Other','race_White',               \n",
    "    \n",
    "#                 'religion_Agnostic','religion_Atheist', 'religion_Buddhist','religion_Christian_Catholic','religion_Christian_Mormon', \n",
    "#                 'religion_Christian_Other', 'religion_Christian_Protestant', 'religion_Hindu','religion_Jewish','religion_Muslim', \n",
    "#                 'religion_Other','religion_Sikh',\n",
    "    \n",
    "#                 'gender_Female','gender_Male',\n",
    "                \n",
    "#                 'urban_0','urban_1','urban_2','urban_3',\n",
    "    \n",
    "                'education',\n",
    "                \n",
    "                'age_group',\n",
    "                \n",
    "                'QaA', 'QbA', 'QcA', 'QdA', 'QeA','QfA', 'QgA', 'QhA', 'QiA', 'QjA', 'QkA', 'QlA', 'QmA', 'QnA', 'QoA','QpA', \n",
    "                'QqA', 'QrA', 'QsA', 'QtA',\n",
    "                \n",
    "                'QaE', 'QbE', 'QcE', 'QdE', 'QeE', 'QfE', 'QgE', 'QhE', 'QiE', 'QjE', 'QkE', 'QlE','QmE', 'QnE', 'QoE', 'QpE', \n",
    "                'QqE', 'QrE', 'QsE', 'QtE',\n",
    "              \n",
    "                'tp01', 'tp02', 'tp03', 'tp04', 'tp05','tp06','tp07', 'tp08', 'tp09', 'tp10',\n",
    "              \n",
    "#                 'wr_01', 'wr_02', 'wr_03', 'wr_04', 'wr_05', 'wr_06', 'wr_07', 'wr_08', 'wr_09','wr_10','wr_11', 'wr_12', 'wr_13', \n",
    "                'wr_02',  'wr_04', 'wr_07', 'wr_08', 'wr_10', 'wr_12', 'wr_13', \n",
    "                'wf_01', 'wf_02', 'wf_03', 'wf',\n",
    "              \n",
    "                'hand_0','hand_1','hand_2','hand_3',\n",
    "              \n",
    "              ]\n",
    "\n",
    "train = train.drop(drop_feature, axis = 1)\n",
    "test = test.drop(drop_feature, axis = 1)"
   ]
  },
  {
   "cell_type": "markdown",
   "id": "b90b6eae",
   "metadata": {},
   "source": [
    "# Model 생성"
   ]
  },
  {
   "cell_type": "code",
   "execution_count": 14,
   "id": "ddc2ea46",
   "metadata": {},
   "outputs": [],
   "source": [
    "from sklearn.neighbors import KNeighborsClassifier\n",
    "from sklearn.tree import DecisionTreeClassifier\n",
    "from sklearn.ensemble import RandomForestClassifier\n",
    "from sklearn.naive_bayes import GaussianNB\n",
    "from sklearn.svm import SVC\n",
    "import lightgbm as lgb"
   ]
  },
  {
   "cell_type": "markdown",
   "id": "93c8e33a",
   "metadata": {},
   "source": [
    "# 사용한 feature 목록"
   ]
  },
  {
   "cell_type": "code",
   "execution_count": 15,
   "id": "65fb6275",
   "metadata": {
    "scrolled": false
   },
   "outputs": [
    {
     "name": "stdout",
     "output_type": "stream",
     "text": [
      "index\n",
      "engnat\n",
      "familysize\n",
      "married\n",
      "voted\n",
      "wr_01\n",
      "wr_03\n",
      "wr_05\n",
      "wr_06\n",
      "wr_09\n",
      "wr_11\n",
      "race_Arab\n",
      "race_Asian\n",
      "race_Black\n",
      "race_Indigenous Australian\n",
      "race_Native American\n",
      "race_Other\n",
      "race_White\n",
      "religion_Agnostic\n",
      "religion_Atheist\n",
      "religion_Buddhist\n",
      "religion_Christian_Catholic\n",
      "religion_Christian_Mormon\n",
      "religion_Christian_Other\n",
      "religion_Christian_Protestant\n",
      "religion_Hindu\n",
      "religion_Jewish\n",
      "religion_Muslim\n",
      "religion_Other\n",
      "religion_Sikh\n",
      "urban_0\n",
      "urban_1\n",
      "urban_2\n",
      "urban_3\n",
      "gender_Female\n",
      "gender_Male\n",
      "age_group_code\n",
      "education_code\n",
      "Mach_score\n",
      "TIPT_C\n",
      "TIPT_A\n",
      "TIPT_N\n",
      "TIPT_O\n",
      "TIPT_E\n"
     ]
    }
   ],
   "source": [
    "for i in train:\n",
    "    print(i)\n"
   ]
  },
  {
   "cell_type": "markdown",
   "id": "19e092ef",
   "metadata": {},
   "source": [
    "# 모델 전처리"
   ]
  },
  {
   "cell_type": "code",
   "execution_count": 16,
   "id": "2b2db252",
   "metadata": {},
   "outputs": [],
   "source": [
    "import pandas as pd\n",
    "import numpy as np\n",
    "from sklearn.model_selection import train_test_split\n",
    "from sklearn.metrics import *\n",
    "from lightgbm import LGBMClassifier\n",
    "\n",
    "import warnings\n",
    "import gc\n",
    "warnings.filterwarnings(\"ignore\")\n",
    "\n",
    "X = train.copy()\n",
    "X.drop('voted', axis=1, inplace = True)\n",
    "Y = train['voted']\n",
    "\n",
    "x_train, x_test, y_train, y_test = train_test_split(X, Y, test_size=0.3, random_state=0)"
   ]
  },
  {
   "cell_type": "code",
   "execution_count": 17,
   "id": "824afcdc",
   "metadata": {},
   "outputs": [
    {
     "name": "stdout",
     "output_type": "stream",
     "text": [
      "[LightGBM] [Warning] boosting is set=rf, boosting_type=gbdt will be ignored. Current value: boosting=rf\n",
      "[LightGBM] [Warning] bagging_fraction is set=0.5, subsample=1.0 will be ignored. Current value: bagging_fraction=0.5\n",
      "[LightGBM] [Warning] bagging_freq is set=1, subsample_freq=0 will be ignored. Current value: bagging_freq=1\n",
      "[1]\tvalid_0's auc: 0.751284\tvalid_0's binary_logloss: 0.575854\n",
      "[2]\tvalid_0's auc: 0.75558\tvalid_0's binary_logloss: 0.573841\n",
      "[3]\tvalid_0's auc: 0.757808\tvalid_0's binary_logloss: 0.572958\n",
      "[4]\tvalid_0's auc: 0.760064\tvalid_0's binary_logloss: 0.571674\n",
      "[5]\tvalid_0's auc: 0.761428\tvalid_0's binary_logloss: 0.570643\n",
      "[6]\tvalid_0's auc: 0.762164\tvalid_0's binary_logloss: 0.570362\n",
      "[7]\tvalid_0's auc: 0.762851\tvalid_0's binary_logloss: 0.569833\n",
      "[8]\tvalid_0's auc: 0.763161\tvalid_0's binary_logloss: 0.569616\n",
      "[9]\tvalid_0's auc: 0.762871\tvalid_0's binary_logloss: 0.569717\n",
      "[10]\tvalid_0's auc: 0.763015\tvalid_0's binary_logloss: 0.569612\n",
      "[11]\tvalid_0's auc: 0.763051\tvalid_0's binary_logloss: 0.569458\n",
      "[12]\tvalid_0's auc: 0.763052\tvalid_0's binary_logloss: 0.569451\n",
      "[13]\tvalid_0's auc: 0.762963\tvalid_0's binary_logloss: 0.56959\n",
      "[14]\tvalid_0's auc: 0.763214\tvalid_0's binary_logloss: 0.569566\n",
      "[15]\tvalid_0's auc: 0.763113\tvalid_0's binary_logloss: 0.569603\n",
      "[16]\tvalid_0's auc: 0.763303\tvalid_0's binary_logloss: 0.569549\n",
      "[17]\tvalid_0's auc: 0.763461\tvalid_0's binary_logloss: 0.56945\n",
      "[18]\tvalid_0's auc: 0.763531\tvalid_0's binary_logloss: 0.569425\n",
      "[19]\tvalid_0's auc: 0.76351\tvalid_0's binary_logloss: 0.569495\n",
      "[20]\tvalid_0's auc: 0.763598\tvalid_0's binary_logloss: 0.569406\n",
      "[21]\tvalid_0's auc: 0.763643\tvalid_0's binary_logloss: 0.569397\n",
      "[22]\tvalid_0's auc: 0.763493\tvalid_0's binary_logloss: 0.56942\n",
      "[23]\tvalid_0's auc: 0.763701\tvalid_0's binary_logloss: 0.569325\n",
      "[24]\tvalid_0's auc: 0.763746\tvalid_0's binary_logloss: 0.569272\n",
      "[25]\tvalid_0's auc: 0.763791\tvalid_0's binary_logloss: 0.569252\n",
      "[26]\tvalid_0's auc: 0.763709\tvalid_0's binary_logloss: 0.569284\n",
      "[27]\tvalid_0's auc: 0.763681\tvalid_0's binary_logloss: 0.569306\n",
      "[28]\tvalid_0's auc: 0.763795\tvalid_0's binary_logloss: 0.569259\n",
      "[29]\tvalid_0's auc: 0.763694\tvalid_0's binary_logloss: 0.569286\n",
      "[30]\tvalid_0's auc: 0.763675\tvalid_0's binary_logloss: 0.569286\n",
      "[31]\tvalid_0's auc: 0.763642\tvalid_0's binary_logloss: 0.56929\n",
      "[32]\tvalid_0's auc: 0.763641\tvalid_0's binary_logloss: 0.569287\n",
      "[33]\tvalid_0's auc: 0.763706\tvalid_0's binary_logloss: 0.569273\n",
      "[34]\tvalid_0's auc: 0.763621\tvalid_0's binary_logloss: 0.569302\n",
      "[35]\tvalid_0's auc: 0.763627\tvalid_0's binary_logloss: 0.569289\n",
      "[36]\tvalid_0's auc: 0.763606\tvalid_0's binary_logloss: 0.569275\n",
      "[37]\tvalid_0's auc: 0.763692\tvalid_0's binary_logloss: 0.569264\n",
      "[38]\tvalid_0's auc: 0.763712\tvalid_0's binary_logloss: 0.56925\n",
      "[39]\tvalid_0's auc: 0.763678\tvalid_0's binary_logloss: 0.569267\n",
      "[40]\tvalid_0's auc: 0.763652\tvalid_0's binary_logloss: 0.569259\n",
      "[41]\tvalid_0's auc: 0.763724\tvalid_0's binary_logloss: 0.569232\n",
      "[42]\tvalid_0's auc: 0.763735\tvalid_0's binary_logloss: 0.569234\n",
      "[43]\tvalid_0's auc: 0.7639\tvalid_0's binary_logloss: 0.569188\n",
      "[44]\tvalid_0's auc: 0.763913\tvalid_0's binary_logloss: 0.56918\n",
      "[45]\tvalid_0's auc: 0.763837\tvalid_0's binary_logloss: 0.56922\n",
      "[46]\tvalid_0's auc: 0.763787\tvalid_0's binary_logloss: 0.569217\n",
      "[47]\tvalid_0's auc: 0.76379\tvalid_0's binary_logloss: 0.569207\n",
      "[48]\tvalid_0's auc: 0.763886\tvalid_0's binary_logloss: 0.569159\n",
      "[49]\tvalid_0's auc: 0.76387\tvalid_0's binary_logloss: 0.569193\n",
      "[50]\tvalid_0's auc: 0.763843\tvalid_0's binary_logloss: 0.569209\n",
      "[51]\tvalid_0's auc: 0.763852\tvalid_0's binary_logloss: 0.569192\n",
      "[52]\tvalid_0's auc: 0.763892\tvalid_0's binary_logloss: 0.569176\n",
      "[53]\tvalid_0's auc: 0.763851\tvalid_0's binary_logloss: 0.569185\n",
      "[54]\tvalid_0's auc: 0.763852\tvalid_0's binary_logloss: 0.569165\n",
      "[55]\tvalid_0's auc: 0.763822\tvalid_0's binary_logloss: 0.569173\n",
      "[56]\tvalid_0's auc: 0.763756\tvalid_0's binary_logloss: 0.569198\n",
      "[57]\tvalid_0's auc: 0.763757\tvalid_0's binary_logloss: 0.569206\n",
      "[58]\tvalid_0's auc: 0.7638\tvalid_0's binary_logloss: 0.56921\n",
      "[59]\tvalid_0's auc: 0.763853\tvalid_0's binary_logloss: 0.5692\n",
      "[60]\tvalid_0's auc: 0.763823\tvalid_0's binary_logloss: 0.569209\n",
      "[61]\tvalid_0's auc: 0.763905\tvalid_0's binary_logloss: 0.569177\n",
      "[62]\tvalid_0's auc: 0.763948\tvalid_0's binary_logloss: 0.569158\n",
      "[63]\tvalid_0's auc: 0.764006\tvalid_0's binary_logloss: 0.569095\n",
      "[64]\tvalid_0's auc: 0.764007\tvalid_0's binary_logloss: 0.569081\n",
      "[65]\tvalid_0's auc: 0.764007\tvalid_0's binary_logloss: 0.569095\n",
      "[66]\tvalid_0's auc: 0.763981\tvalid_0's binary_logloss: 0.569111\n",
      "[67]\tvalid_0's auc: 0.763982\tvalid_0's binary_logloss: 0.5691\n",
      "[68]\tvalid_0's auc: 0.763992\tvalid_0's binary_logloss: 0.569102\n",
      "[69]\tvalid_0's auc: 0.763967\tvalid_0's binary_logloss: 0.569136\n",
      "[70]\tvalid_0's auc: 0.764021\tvalid_0's binary_logloss: 0.56911\n",
      "[71]\tvalid_0's auc: 0.76398\tvalid_0's binary_logloss: 0.569124\n",
      "[72]\tvalid_0's auc: 0.763961\tvalid_0's binary_logloss: 0.569147\n",
      "[73]\tvalid_0's auc: 0.763959\tvalid_0's binary_logloss: 0.569139\n",
      "[74]\tvalid_0's auc: 0.763984\tvalid_0's binary_logloss: 0.56914\n",
      "[75]\tvalid_0's auc: 0.763982\tvalid_0's binary_logloss: 0.569143\n",
      "[76]\tvalid_0's auc: 0.763972\tvalid_0's binary_logloss: 0.569144\n",
      "[77]\tvalid_0's auc: 0.763949\tvalid_0's binary_logloss: 0.569151\n",
      "[78]\tvalid_0's auc: 0.763929\tvalid_0's binary_logloss: 0.569153\n",
      "[79]\tvalid_0's auc: 0.763944\tvalid_0's binary_logloss: 0.569149\n",
      "[80]\tvalid_0's auc: 0.763974\tvalid_0's binary_logloss: 0.569139\n",
      "[81]\tvalid_0's auc: 0.764015\tvalid_0's binary_logloss: 0.569134\n",
      "[82]\tvalid_0's auc: 0.764056\tvalid_0's binary_logloss: 0.56913\n",
      "[83]\tvalid_0's auc: 0.764048\tvalid_0's binary_logloss: 0.569132\n",
      "[84]\tvalid_0's auc: 0.764113\tvalid_0's binary_logloss: 0.569098\n",
      "[85]\tvalid_0's auc: 0.76409\tvalid_0's binary_logloss: 0.569114\n",
      "[86]\tvalid_0's auc: 0.764093\tvalid_0's binary_logloss: 0.569116\n",
      "[87]\tvalid_0's auc: 0.764114\tvalid_0's binary_logloss: 0.569097\n",
      "[88]\tvalid_0's auc: 0.764095\tvalid_0's binary_logloss: 0.569096\n",
      "[89]\tvalid_0's auc: 0.764115\tvalid_0's binary_logloss: 0.569089\n",
      "[90]\tvalid_0's auc: 0.764091\tvalid_0's binary_logloss: 0.569107\n",
      "[91]\tvalid_0's auc: 0.764138\tvalid_0's binary_logloss: 0.569088\n",
      "[92]\tvalid_0's auc: 0.764139\tvalid_0's binary_logloss: 0.569082\n",
      "[93]\tvalid_0's auc: 0.764146\tvalid_0's binary_logloss: 0.569075\n",
      "[94]\tvalid_0's auc: 0.764133\tvalid_0's binary_logloss: 0.56909\n",
      "[95]\tvalid_0's auc: 0.764155\tvalid_0's binary_logloss: 0.569079\n",
      "[96]\tvalid_0's auc: 0.76417\tvalid_0's binary_logloss: 0.569079\n",
      "[97]\tvalid_0's auc: 0.764194\tvalid_0's binary_logloss: 0.569059\n",
      "[98]\tvalid_0's auc: 0.764181\tvalid_0's binary_logloss: 0.569068\n",
      "[99]\tvalid_0's auc: 0.764165\tvalid_0's binary_logloss: 0.569071\n",
      "[100]\tvalid_0's auc: 0.76415\tvalid_0's binary_logloss: 0.569073\n",
      "[101]\tvalid_0's auc: 0.764128\tvalid_0's binary_logloss: 0.569078\n",
      "[102]\tvalid_0's auc: 0.764136\tvalid_0's binary_logloss: 0.569082\n",
      "[103]\tvalid_0's auc: 0.764165\tvalid_0's binary_logloss: 0.56909\n",
      "[104]\tvalid_0's auc: 0.764131\tvalid_0's binary_logloss: 0.569101\n",
      "[105]\tvalid_0's auc: 0.764113\tvalid_0's binary_logloss: 0.5691\n",
      "[106]\tvalid_0's auc: 0.764124\tvalid_0's binary_logloss: 0.569099\n",
      "[107]\tvalid_0's auc: 0.764108\tvalid_0's binary_logloss: 0.569104\n",
      "[108]\tvalid_0's auc: 0.76409\tvalid_0's binary_logloss: 0.569122\n",
      "[109]\tvalid_0's auc: 0.76412\tvalid_0's binary_logloss: 0.56911\n",
      "[110]\tvalid_0's auc: 0.764105\tvalid_0's binary_logloss: 0.569129\n",
      "[111]\tvalid_0's auc: 0.764115\tvalid_0's binary_logloss: 0.56913\n",
      "[112]\tvalid_0's auc: 0.76415\tvalid_0's binary_logloss: 0.569107\n",
      "[113]\tvalid_0's auc: 0.764165\tvalid_0's binary_logloss: 0.569094\n",
      "[114]\tvalid_0's auc: 0.764155\tvalid_0's binary_logloss: 0.56909\n",
      "[115]\tvalid_0's auc: 0.764157\tvalid_0's binary_logloss: 0.5691\n",
      "[116]\tvalid_0's auc: 0.76418\tvalid_0's binary_logloss: 0.569095\n",
      "[117]\tvalid_0's auc: 0.764206\tvalid_0's binary_logloss: 0.569077\n",
      "[118]\tvalid_0's auc: 0.764207\tvalid_0's binary_logloss: 0.569082\n",
      "[119]\tvalid_0's auc: 0.76417\tvalid_0's binary_logloss: 0.569096\n",
      "[120]\tvalid_0's auc: 0.764194\tvalid_0's binary_logloss: 0.569091\n",
      "[121]\tvalid_0's auc: 0.764217\tvalid_0's binary_logloss: 0.569084\n",
      "[122]\tvalid_0's auc: 0.764225\tvalid_0's binary_logloss: 0.569082\n",
      "[123]\tvalid_0's auc: 0.764243\tvalid_0's binary_logloss: 0.569074\n",
      "[124]\tvalid_0's auc: 0.764246\tvalid_0's binary_logloss: 0.569076\n",
      "[125]\tvalid_0's auc: 0.764228\tvalid_0's binary_logloss: 0.569084\n",
      "[126]\tvalid_0's auc: 0.764229\tvalid_0's binary_logloss: 0.569077\n",
      "[127]\tvalid_0's auc: 0.764242\tvalid_0's binary_logloss: 0.569074\n",
      "[128]\tvalid_0's auc: 0.764232\tvalid_0's binary_logloss: 0.569081\n",
      "[129]\tvalid_0's auc: 0.764214\tvalid_0's binary_logloss: 0.569087\n",
      "[130]\tvalid_0's auc: 0.764204\tvalid_0's binary_logloss: 0.56909\n",
      "[131]\tvalid_0's auc: 0.76421\tvalid_0's binary_logloss: 0.56909\n",
      "[132]\tvalid_0's auc: 0.764246\tvalid_0's binary_logloss: 0.569071\n",
      "[133]\tvalid_0's auc: 0.764256\tvalid_0's binary_logloss: 0.569077\n",
      "[134]\tvalid_0's auc: 0.764256\tvalid_0's binary_logloss: 0.569073\n",
      "[135]\tvalid_0's auc: 0.76426\tvalid_0's binary_logloss: 0.569056\n",
      "[136]\tvalid_0's auc: 0.764249\tvalid_0's binary_logloss: 0.569067\n",
      "[137]\tvalid_0's auc: 0.764229\tvalid_0's binary_logloss: 0.569079\n",
      "[138]\tvalid_0's auc: 0.764239\tvalid_0's binary_logloss: 0.569074\n",
      "[139]\tvalid_0's auc: 0.764247\tvalid_0's binary_logloss: 0.569072\n",
      "[140]\tvalid_0's auc: 0.764234\tvalid_0's binary_logloss: 0.569074\n",
      "[141]\tvalid_0's auc: 0.764236\tvalid_0's binary_logloss: 0.569063\n",
      "[142]\tvalid_0's auc: 0.764247\tvalid_0's binary_logloss: 0.569066\n",
      "[143]\tvalid_0's auc: 0.764263\tvalid_0's binary_logloss: 0.569069\n",
      "[144]\tvalid_0's auc: 0.764233\tvalid_0's binary_logloss: 0.56908\n",
      "[145]\tvalid_0's auc: 0.764249\tvalid_0's binary_logloss: 0.569068\n",
      "[146]\tvalid_0's auc: 0.764238\tvalid_0's binary_logloss: 0.569061\n",
      "[147]\tvalid_0's auc: 0.764231\tvalid_0's binary_logloss: 0.569056\n",
      "[148]\tvalid_0's auc: 0.764226\tvalid_0's binary_logloss: 0.56906\n",
      "[149]\tvalid_0's auc: 0.764223\tvalid_0's binary_logloss: 0.56906\n",
      "[150]\tvalid_0's auc: 0.764227\tvalid_0's binary_logloss: 0.56906\n",
      "[151]\tvalid_0's auc: 0.764225\tvalid_0's binary_logloss: 0.569067\n",
      "[152]\tvalid_0's auc: 0.764223\tvalid_0's binary_logloss: 0.569069\n",
      "[153]\tvalid_0's auc: 0.7642\tvalid_0's binary_logloss: 0.569077\n",
      "[154]\tvalid_0's auc: 0.7642\tvalid_0's binary_logloss: 0.56908\n",
      "[155]\tvalid_0's auc: 0.764225\tvalid_0's binary_logloss: 0.569071\n",
      "[156]\tvalid_0's auc: 0.764203\tvalid_0's binary_logloss: 0.569085\n",
      "[157]\tvalid_0's auc: 0.764204\tvalid_0's binary_logloss: 0.56909\n",
      "[158]\tvalid_0's auc: 0.764216\tvalid_0's binary_logloss: 0.569087\n"
     ]
    },
    {
     "name": "stdout",
     "output_type": "stream",
     "text": [
      "[159]\tvalid_0's auc: 0.764196\tvalid_0's binary_logloss: 0.569096\n",
      "[160]\tvalid_0's auc: 0.764179\tvalid_0's binary_logloss: 0.5691\n",
      "[161]\tvalid_0's auc: 0.764181\tvalid_0's binary_logloss: 0.569104\n",
      "[162]\tvalid_0's auc: 0.764188\tvalid_0's binary_logloss: 0.569097\n",
      "[163]\tvalid_0's auc: 0.764194\tvalid_0's binary_logloss: 0.569096\n",
      "[164]\tvalid_0's auc: 0.764209\tvalid_0's binary_logloss: 0.569091\n",
      "[165]\tvalid_0's auc: 0.764216\tvalid_0's binary_logloss: 0.569087\n",
      "[166]\tvalid_0's auc: 0.764225\tvalid_0's binary_logloss: 0.569081\n",
      "[167]\tvalid_0's auc: 0.764236\tvalid_0's binary_logloss: 0.569063\n",
      "[168]\tvalid_0's auc: 0.764221\tvalid_0's binary_logloss: 0.569063\n",
      "[169]\tvalid_0's auc: 0.764213\tvalid_0's binary_logloss: 0.56907\n",
      "[170]\tvalid_0's auc: 0.764187\tvalid_0's binary_logloss: 0.569074\n",
      "[171]\tvalid_0's auc: 0.764206\tvalid_0's binary_logloss: 0.569064\n",
      "[172]\tvalid_0's auc: 0.764237\tvalid_0's binary_logloss: 0.569056\n",
      "[173]\tvalid_0's auc: 0.764229\tvalid_0's binary_logloss: 0.569063\n",
      "[174]\tvalid_0's auc: 0.764239\tvalid_0's binary_logloss: 0.569062\n",
      "[175]\tvalid_0's auc: 0.764244\tvalid_0's binary_logloss: 0.569061\n",
      "[176]\tvalid_0's auc: 0.764249\tvalid_0's binary_logloss: 0.569055\n",
      "[177]\tvalid_0's auc: 0.764217\tvalid_0's binary_logloss: 0.569065\n",
      "[178]\tvalid_0's auc: 0.76422\tvalid_0's binary_logloss: 0.569073\n",
      "[179]\tvalid_0's auc: 0.76419\tvalid_0's binary_logloss: 0.569082\n",
      "[180]\tvalid_0's auc: 0.764174\tvalid_0's binary_logloss: 0.569084\n",
      "[181]\tvalid_0's auc: 0.764169\tvalid_0's binary_logloss: 0.569086\n",
      "[182]\tvalid_0's auc: 0.764146\tvalid_0's binary_logloss: 0.569091\n",
      "[183]\tvalid_0's auc: 0.764147\tvalid_0's binary_logloss: 0.569089\n",
      "[184]\tvalid_0's auc: 0.764153\tvalid_0's binary_logloss: 0.569082\n",
      "[185]\tvalid_0's auc: 0.764135\tvalid_0's binary_logloss: 0.569086\n",
      "[186]\tvalid_0's auc: 0.764125\tvalid_0's binary_logloss: 0.569088\n",
      "[187]\tvalid_0's auc: 0.764334\tvalid_0's binary_logloss: 0.569085\n",
      "[188]\tvalid_0's auc: 0.764343\tvalid_0's binary_logloss: 0.569075\n",
      "[189]\tvalid_0's auc: 0.764351\tvalid_0's binary_logloss: 0.569074\n",
      "[190]\tvalid_0's auc: 0.764337\tvalid_0's binary_logloss: 0.569072\n",
      "[191]\tvalid_0's auc: 0.76436\tvalid_0's binary_logloss: 0.569068\n",
      "[192]\tvalid_0's auc: 0.764362\tvalid_0's binary_logloss: 0.569072\n",
      "[193]\tvalid_0's auc: 0.764356\tvalid_0's binary_logloss: 0.569073\n",
      "[194]\tvalid_0's auc: 0.76434\tvalid_0's binary_logloss: 0.569078\n",
      "[195]\tvalid_0's auc: 0.764333\tvalid_0's binary_logloss: 0.569078\n",
      "[196]\tvalid_0's auc: 0.764335\tvalid_0's binary_logloss: 0.569074\n",
      "[197]\tvalid_0's auc: 0.764323\tvalid_0's binary_logloss: 0.569076\n",
      "[198]\tvalid_0's auc: 0.764308\tvalid_0's binary_logloss: 0.569078\n",
      "[199]\tvalid_0's auc: 0.764305\tvalid_0's binary_logloss: 0.56908\n",
      "[200]\tvalid_0's auc: 0.764311\tvalid_0's binary_logloss: 0.569079\n",
      "[201]\tvalid_0's auc: 0.764327\tvalid_0's binary_logloss: 0.569078\n",
      "[202]\tvalid_0's auc: 0.764311\tvalid_0's binary_logloss: 0.569077\n",
      "[203]\tvalid_0's auc: 0.76436\tvalid_0's binary_logloss: 0.569056\n",
      "[204]\tvalid_0's auc: 0.76437\tvalid_0's binary_logloss: 0.569055\n",
      "[205]\tvalid_0's auc: 0.76434\tvalid_0's binary_logloss: 0.569064\n",
      "[206]\tvalid_0's auc: 0.764335\tvalid_0's binary_logloss: 0.569067\n",
      "[207]\tvalid_0's auc: 0.76434\tvalid_0's binary_logloss: 0.569065\n",
      "[208]\tvalid_0's auc: 0.764334\tvalid_0's binary_logloss: 0.569067\n",
      "[209]\tvalid_0's auc: 0.764327\tvalid_0's binary_logloss: 0.569071\n",
      "[210]\tvalid_0's auc: 0.764349\tvalid_0's binary_logloss: 0.569069\n",
      "[211]\tvalid_0's auc: 0.764343\tvalid_0's binary_logloss: 0.56907\n",
      "[212]\tvalid_0's auc: 0.76436\tvalid_0's binary_logloss: 0.569066\n",
      "[213]\tvalid_0's auc: 0.764358\tvalid_0's binary_logloss: 0.569067\n",
      "[214]\tvalid_0's auc: 0.764372\tvalid_0's binary_logloss: 0.569059\n",
      "[215]\tvalid_0's auc: 0.764365\tvalid_0's binary_logloss: 0.569062\n",
      "[216]\tvalid_0's auc: 0.764366\tvalid_0's binary_logloss: 0.569063\n",
      "[217]\tvalid_0's auc: 0.764345\tvalid_0's binary_logloss: 0.569068\n",
      "[218]\tvalid_0's auc: 0.764348\tvalid_0's binary_logloss: 0.569067\n",
      "[219]\tvalid_0's auc: 0.764339\tvalid_0's binary_logloss: 0.569072\n",
      "[220]\tvalid_0's auc: 0.764328\tvalid_0's binary_logloss: 0.56908\n",
      "[221]\tvalid_0's auc: 0.764301\tvalid_0's binary_logloss: 0.569091\n",
      "[222]\tvalid_0's auc: 0.764306\tvalid_0's binary_logloss: 0.569093\n",
      "[223]\tvalid_0's auc: 0.764323\tvalid_0's binary_logloss: 0.569087\n",
      "[224]\tvalid_0's auc: 0.76433\tvalid_0's binary_logloss: 0.569081\n",
      "[225]\tvalid_0's auc: 0.764323\tvalid_0's binary_logloss: 0.569082\n",
      "[226]\tvalid_0's auc: 0.764324\tvalid_0's binary_logloss: 0.569083\n",
      "[227]\tvalid_0's auc: 0.764325\tvalid_0's binary_logloss: 0.56908\n",
      "[228]\tvalid_0's auc: 0.764336\tvalid_0's binary_logloss: 0.569077\n",
      "[229]\tvalid_0's auc: 0.764336\tvalid_0's binary_logloss: 0.569077\n",
      "[230]\tvalid_0's auc: 0.764317\tvalid_0's binary_logloss: 0.569084\n",
      "[231]\tvalid_0's auc: 0.764306\tvalid_0's binary_logloss: 0.569087\n",
      "[232]\tvalid_0's auc: 0.7643\tvalid_0's binary_logloss: 0.569086\n",
      "[233]\tvalid_0's auc: 0.764306\tvalid_0's binary_logloss: 0.569087\n",
      "[234]\tvalid_0's auc: 0.76429\tvalid_0's binary_logloss: 0.569099\n",
      "[235]\tvalid_0's auc: 0.764308\tvalid_0's binary_logloss: 0.56909\n",
      "[236]\tvalid_0's auc: 0.764292\tvalid_0's binary_logloss: 0.569095\n",
      "[237]\tvalid_0's auc: 0.764286\tvalid_0's binary_logloss: 0.569101\n",
      "[238]\tvalid_0's auc: 0.764277\tvalid_0's binary_logloss: 0.569106\n",
      "[239]\tvalid_0's auc: 0.764296\tvalid_0's binary_logloss: 0.569108\n",
      "[240]\tvalid_0's auc: 0.764297\tvalid_0's binary_logloss: 0.569104\n",
      "[241]\tvalid_0's auc: 0.764299\tvalid_0's binary_logloss: 0.569106\n",
      "[242]\tvalid_0's auc: 0.764279\tvalid_0's binary_logloss: 0.569114\n",
      "[243]\tvalid_0's auc: 0.7643\tvalid_0's binary_logloss: 0.569107\n",
      "[244]\tvalid_0's auc: 0.764303\tvalid_0's binary_logloss: 0.569105\n",
      "[245]\tvalid_0's auc: 0.764291\tvalid_0's binary_logloss: 0.56911\n",
      "[246]\tvalid_0's auc: 0.764298\tvalid_0's binary_logloss: 0.569102\n",
      "[247]\tvalid_0's auc: 0.764293\tvalid_0's binary_logloss: 0.569105\n",
      "[248]\tvalid_0's auc: 0.764301\tvalid_0's binary_logloss: 0.569098\n",
      "[249]\tvalid_0's auc: 0.764307\tvalid_0's binary_logloss: 0.569096\n",
      "[250]\tvalid_0's auc: 0.764282\tvalid_0's binary_logloss: 0.569107\n",
      "[251]\tvalid_0's auc: 0.764272\tvalid_0's binary_logloss: 0.56911\n",
      "[252]\tvalid_0's auc: 0.764268\tvalid_0's binary_logloss: 0.569118\n",
      "[253]\tvalid_0's auc: 0.764273\tvalid_0's binary_logloss: 0.569113\n",
      "[254]\tvalid_0's auc: 0.764276\tvalid_0's binary_logloss: 0.569115\n",
      "[255]\tvalid_0's auc: 0.764276\tvalid_0's binary_logloss: 0.569108\n",
      "[256]\tvalid_0's auc: 0.764279\tvalid_0's binary_logloss: 0.569106\n",
      "[257]\tvalid_0's auc: 0.764266\tvalid_0's binary_logloss: 0.569106\n",
      "[258]\tvalid_0's auc: 0.764271\tvalid_0's binary_logloss: 0.569101\n",
      "[259]\tvalid_0's auc: 0.764276\tvalid_0's binary_logloss: 0.569101\n",
      "[260]\tvalid_0's auc: 0.764278\tvalid_0's binary_logloss: 0.5691\n",
      "[261]\tvalid_0's auc: 0.764287\tvalid_0's binary_logloss: 0.569094\n",
      "[262]\tvalid_0's auc: 0.764281\tvalid_0's binary_logloss: 0.569092\n",
      "[263]\tvalid_0's auc: 0.764289\tvalid_0's binary_logloss: 0.569089\n",
      "[264]\tvalid_0's auc: 0.764279\tvalid_0's binary_logloss: 0.569093\n",
      "[265]\tvalid_0's auc: 0.76429\tvalid_0's binary_logloss: 0.569093\n",
      "[266]\tvalid_0's auc: 0.764288\tvalid_0's binary_logloss: 0.569097\n",
      "[267]\tvalid_0's auc: 0.764294\tvalid_0's binary_logloss: 0.569092\n",
      "[268]\tvalid_0's auc: 0.764295\tvalid_0's binary_logloss: 0.569093\n",
      "[269]\tvalid_0's auc: 0.764288\tvalid_0's binary_logloss: 0.569092\n",
      "[270]\tvalid_0's auc: 0.764306\tvalid_0's binary_logloss: 0.569085\n",
      "[271]\tvalid_0's auc: 0.764304\tvalid_0's binary_logloss: 0.569088\n",
      "[272]\tvalid_0's auc: 0.764307\tvalid_0's binary_logloss: 0.569089\n",
      "[273]\tvalid_0's auc: 0.764311\tvalid_0's binary_logloss: 0.569087\n",
      "[274]\tvalid_0's auc: 0.764298\tvalid_0's binary_logloss: 0.569091\n",
      "[275]\tvalid_0's auc: 0.764316\tvalid_0's binary_logloss: 0.569086\n",
      "[276]\tvalid_0's auc: 0.764315\tvalid_0's binary_logloss: 0.569086\n",
      "[277]\tvalid_0's auc: 0.764305\tvalid_0's binary_logloss: 0.569092\n",
      "[278]\tvalid_0's auc: 0.764313\tvalid_0's binary_logloss: 0.569092\n",
      "[279]\tvalid_0's auc: 0.764311\tvalid_0's binary_logloss: 0.569092\n",
      "[280]\tvalid_0's auc: 0.764305\tvalid_0's binary_logloss: 0.569098\n",
      "[281]\tvalid_0's auc: 0.764302\tvalid_0's binary_logloss: 0.5691\n",
      "[282]\tvalid_0's auc: 0.764308\tvalid_0's binary_logloss: 0.569098\n",
      "[283]\tvalid_0's auc: 0.764312\tvalid_0's binary_logloss: 0.569097\n",
      "[284]\tvalid_0's auc: 0.764322\tvalid_0's binary_logloss: 0.569094\n",
      "[285]\tvalid_0's auc: 0.764328\tvalid_0's binary_logloss: 0.56909\n",
      "[286]\tvalid_0's auc: 0.764325\tvalid_0's binary_logloss: 0.569091\n",
      "[287]\tvalid_0's auc: 0.764332\tvalid_0's binary_logloss: 0.569094\n",
      "[288]\tvalid_0's auc: 0.764339\tvalid_0's binary_logloss: 0.56909\n",
      "[289]\tvalid_0's auc: 0.764338\tvalid_0's binary_logloss: 0.569088\n",
      "[290]\tvalid_0's auc: 0.764338\tvalid_0's binary_logloss: 0.569089\n",
      "[291]\tvalid_0's auc: 0.764344\tvalid_0's binary_logloss: 0.569091\n"
     ]
    },
    {
     "name": "stdout",
     "output_type": "stream",
     "text": [
      "[292]\tvalid_0's auc: 0.764338\tvalid_0's binary_logloss: 0.569094\n",
      "[293]\tvalid_0's auc: 0.764329\tvalid_0's binary_logloss: 0.569101\n",
      "[294]\tvalid_0's auc: 0.764323\tvalid_0's binary_logloss: 0.5691\n",
      "[295]\tvalid_0's auc: 0.76432\tvalid_0's binary_logloss: 0.569101\n",
      "[296]\tvalid_0's auc: 0.764313\tvalid_0's binary_logloss: 0.569104\n",
      "[297]\tvalid_0's auc: 0.764321\tvalid_0's binary_logloss: 0.569101\n",
      "[298]\tvalid_0's auc: 0.764318\tvalid_0's binary_logloss: 0.569103\n",
      "[299]\tvalid_0's auc: 0.76433\tvalid_0's binary_logloss: 0.569096\n",
      "[300]\tvalid_0's auc: 0.764325\tvalid_0's binary_logloss: 0.569098\n",
      "[301]\tvalid_0's auc: 0.764313\tvalid_0's binary_logloss: 0.5691\n",
      "[302]\tvalid_0's auc: 0.764327\tvalid_0's binary_logloss: 0.569096\n",
      "[303]\tvalid_0's auc: 0.76432\tvalid_0's binary_logloss: 0.569096\n",
      "[304]\tvalid_0's auc: 0.764324\tvalid_0's binary_logloss: 0.569098\n"
     ]
    },
    {
     "data": {
      "text/html": [
       "<style>#sk-container-id-1 {color: black;background-color: white;}#sk-container-id-1 pre{padding: 0;}#sk-container-id-1 div.sk-toggleable {background-color: white;}#sk-container-id-1 label.sk-toggleable__label {cursor: pointer;display: block;width: 100%;margin-bottom: 0;padding: 0.3em;box-sizing: border-box;text-align: center;}#sk-container-id-1 label.sk-toggleable__label-arrow:before {content: \"▸\";float: left;margin-right: 0.25em;color: #696969;}#sk-container-id-1 label.sk-toggleable__label-arrow:hover:before {color: black;}#sk-container-id-1 div.sk-estimator:hover label.sk-toggleable__label-arrow:before {color: black;}#sk-container-id-1 div.sk-toggleable__content {max-height: 0;max-width: 0;overflow: hidden;text-align: left;background-color: #f0f8ff;}#sk-container-id-1 div.sk-toggleable__content pre {margin: 0.2em;color: black;border-radius: 0.25em;background-color: #f0f8ff;}#sk-container-id-1 input.sk-toggleable__control:checked~div.sk-toggleable__content {max-height: 200px;max-width: 100%;overflow: auto;}#sk-container-id-1 input.sk-toggleable__control:checked~label.sk-toggleable__label-arrow:before {content: \"▾\";}#sk-container-id-1 div.sk-estimator input.sk-toggleable__control:checked~label.sk-toggleable__label {background-color: #d4ebff;}#sk-container-id-1 div.sk-label input.sk-toggleable__control:checked~label.sk-toggleable__label {background-color: #d4ebff;}#sk-container-id-1 input.sk-hidden--visually {border: 0;clip: rect(1px 1px 1px 1px);clip: rect(1px, 1px, 1px, 1px);height: 1px;margin: -1px;overflow: hidden;padding: 0;position: absolute;width: 1px;}#sk-container-id-1 div.sk-estimator {font-family: monospace;background-color: #f0f8ff;border: 1px dotted black;border-radius: 0.25em;box-sizing: border-box;margin-bottom: 0.5em;}#sk-container-id-1 div.sk-estimator:hover {background-color: #d4ebff;}#sk-container-id-1 div.sk-parallel-item::after {content: \"\";width: 100%;border-bottom: 1px solid gray;flex-grow: 1;}#sk-container-id-1 div.sk-label:hover label.sk-toggleable__label {background-color: #d4ebff;}#sk-container-id-1 div.sk-serial::before {content: \"\";position: absolute;border-left: 1px solid gray;box-sizing: border-box;top: 0;bottom: 0;left: 50%;z-index: 0;}#sk-container-id-1 div.sk-serial {display: flex;flex-direction: column;align-items: center;background-color: white;padding-right: 0.2em;padding-left: 0.2em;position: relative;}#sk-container-id-1 div.sk-item {position: relative;z-index: 1;}#sk-container-id-1 div.sk-parallel {display: flex;align-items: stretch;justify-content: center;background-color: white;position: relative;}#sk-container-id-1 div.sk-item::before, #sk-container-id-1 div.sk-parallel-item::before {content: \"\";position: absolute;border-left: 1px solid gray;box-sizing: border-box;top: 0;bottom: 0;left: 50%;z-index: -1;}#sk-container-id-1 div.sk-parallel-item {display: flex;flex-direction: column;z-index: 1;position: relative;background-color: white;}#sk-container-id-1 div.sk-parallel-item:first-child::after {align-self: flex-end;width: 50%;}#sk-container-id-1 div.sk-parallel-item:last-child::after {align-self: flex-start;width: 50%;}#sk-container-id-1 div.sk-parallel-item:only-child::after {width: 0;}#sk-container-id-1 div.sk-dashed-wrapped {border: 1px dashed gray;margin: 0 0.4em 0.5em 0.4em;box-sizing: border-box;padding-bottom: 0.4em;background-color: white;}#sk-container-id-1 div.sk-label label {font-family: monospace;font-weight: bold;display: inline-block;line-height: 1.2em;}#sk-container-id-1 div.sk-label-container {text-align: center;}#sk-container-id-1 div.sk-container {/* jupyter's `normalize.less` sets `[hidden] { display: none; }` but bootstrap.min.css set `[hidden] { display: none !important; }` so we also need the `!important` here to be able to override the default hidden behavior on the sphinx rendered scikit-learn.org. See: https://github.com/scikit-learn/scikit-learn/issues/21755 */display: inline-block !important;position: relative;}#sk-container-id-1 div.sk-text-repr-fallback {display: none;}</style><div id=\"sk-container-id-1\" class=\"sk-top-container\"><div class=\"sk-text-repr-fallback\"><pre>LGBMClassifier(bagging_fraction=0.5, bagging_freq=1, boosting=&#x27;rf&#x27;,\n",
       "               is_training_metric=True, learning_rate=0.01,\n",
       "               metric=&#x27;binary_logloss&#x27;, n_estimators=1000, objective=&#x27;binary&#x27;,\n",
       "               seed=2020)</pre><b>In a Jupyter environment, please rerun this cell to show the HTML representation or trust the notebook. <br />On GitHub, the HTML representation is unable to render, please try loading this page with nbviewer.org.</b></div><div class=\"sk-container\" hidden><div class=\"sk-item\"><div class=\"sk-estimator sk-toggleable\"><input class=\"sk-toggleable__control sk-hidden--visually\" id=\"sk-estimator-id-1\" type=\"checkbox\" checked><label for=\"sk-estimator-id-1\" class=\"sk-toggleable__label sk-toggleable__label-arrow\">LGBMClassifier</label><div class=\"sk-toggleable__content\"><pre>LGBMClassifier(bagging_fraction=0.5, bagging_freq=1, boosting=&#x27;rf&#x27;,\n",
       "               is_training_metric=True, learning_rate=0.01,\n",
       "               metric=&#x27;binary_logloss&#x27;, n_estimators=1000, objective=&#x27;binary&#x27;,\n",
       "               seed=2020)</pre></div></div></div></div></div>"
      ],
      "text/plain": [
       "LGBMClassifier(bagging_fraction=0.5, bagging_freq=1, boosting='rf',\n",
       "               is_training_metric=True, learning_rate=0.01,\n",
       "               metric='binary_logloss', n_estimators=1000, objective='binary',\n",
       "               seed=2020)"
      ]
     },
     "execution_count": 17,
     "metadata": {},
     "output_type": "execute_result"
    }
   ],
   "source": [
    "import lightgbm as lgb\n",
    "\n",
    "model=LGBMClassifier(\n",
    "n_estimators=1000,\n",
    "learning_rate=0.01,\n",
    "boosting='rf',\n",
    "objective= 'binary',\n",
    "metric= 'binary_logloss',\n",
    "bagging_freq =1,\n",
    "bagging_fraction = 0.5,\n",
    "is_training_metric= True,\n",
    "seed=2020\n",
    ")\n",
    "evals=[(x_test, y_test)]\n",
    "model.fit(x_train, y_train, early_stopping_rounds=100, eval_metric=\"AUC\",eval_set=evals, verbose=True)"
   ]
  },
  {
   "cell_type": "code",
   "execution_count": 18,
   "id": "685fcbd5",
   "metadata": {},
   "outputs": [],
   "source": [
    "preds=model.predict(x_test)"
   ]
  },
  {
   "cell_type": "code",
   "execution_count": 19,
   "id": "620b530d",
   "metadata": {},
   "outputs": [],
   "source": [
    "pred_proba=model.predict_proba(test)"
   ]
  },
  {
   "cell_type": "code",
   "execution_count": 20,
   "id": "6e59a29f",
   "metadata": {},
   "outputs": [
    {
     "data": {
      "text/plain": [
       "(11383, 2)"
      ]
     },
     "execution_count": 20,
     "metadata": {},
     "output_type": "execute_result"
    }
   ],
   "source": [
    "pred_proba.shape"
   ]
  },
  {
   "cell_type": "code",
   "execution_count": 21,
   "id": "96e41566",
   "metadata": {},
   "outputs": [],
   "source": [
    "submission= pd.read_csv('./sample_submission.csv')\n",
    "submission['voted'] = pred_proba[:,1]\n",
    "submission.to_csv('submission_proba.csv', index = False)"
   ]
  },
  {
   "cell_type": "code",
   "execution_count": 22,
   "id": "0e6e1f25",
   "metadata": {
    "scrolled": true
   },
   "outputs": [
    {
     "data": {
      "text/html": [
       "<div>\n",
       "<style scoped>\n",
       "    .dataframe tbody tr th:only-of-type {\n",
       "        vertical-align: middle;\n",
       "    }\n",
       "\n",
       "    .dataframe tbody tr th {\n",
       "        vertical-align: top;\n",
       "    }\n",
       "\n",
       "    .dataframe thead th {\n",
       "        text-align: right;\n",
       "    }\n",
       "</style>\n",
       "<table border=\"1\" class=\"dataframe\">\n",
       "  <thead>\n",
       "    <tr style=\"text-align: right;\">\n",
       "      <th></th>\n",
       "      <th>index</th>\n",
       "      <th>voted</th>\n",
       "    </tr>\n",
       "  </thead>\n",
       "  <tbody>\n",
       "    <tr>\n",
       "      <th>0</th>\n",
       "      <td>0</td>\n",
       "      <td>0.669575</td>\n",
       "    </tr>\n",
       "    <tr>\n",
       "      <th>1</th>\n",
       "      <td>1</td>\n",
       "      <td>0.817942</td>\n",
       "    </tr>\n",
       "    <tr>\n",
       "      <th>2</th>\n",
       "      <td>2</td>\n",
       "      <td>0.496636</td>\n",
       "    </tr>\n",
       "    <tr>\n",
       "      <th>3</th>\n",
       "      <td>3</td>\n",
       "      <td>0.270775</td>\n",
       "    </tr>\n",
       "    <tr>\n",
       "      <th>4</th>\n",
       "      <td>4</td>\n",
       "      <td>0.751068</td>\n",
       "    </tr>\n",
       "  </tbody>\n",
       "</table>\n",
       "</div>"
      ],
      "text/plain": [
       "   index     voted\n",
       "0      0  0.669575\n",
       "1      1  0.817942\n",
       "2      2  0.496636\n",
       "3      3  0.270775\n",
       "4      4  0.751068"
      ]
     },
     "execution_count": 22,
     "metadata": {},
     "output_type": "execute_result"
    }
   ],
   "source": [
    "submission.head()"
   ]
  },
  {
   "cell_type": "markdown",
   "id": "13b70873",
   "metadata": {},
   "source": [
    "# F1 score"
   ]
  },
  {
   "cell_type": "code",
   "execution_count": 23,
   "id": "52b240e8",
   "metadata": {},
   "outputs": [
    {
     "name": "stdout",
     "output_type": "stream",
     "text": [
      "F1 score :0.7065\n"
     ]
    }
   ],
   "source": [
    "print('F1 score :{:.4f}'.format(f1_score(y_test, preds)))"
   ]
  },
  {
   "cell_type": "markdown",
   "id": "f3c8dd82",
   "metadata": {},
   "source": [
    "# 파라미터 별 결과\n",
    "\n",
    "### public / private / F1 : 0.779141352 / 0.770271404 / 0.6980 (최고점 160등)\n",
    "- n_estimators=400\n",
    "\n",
    "### public / private  F1 : 0.7773849453 / 0.7699346405 / 0.6959\n",
    "- n_estimators=1000,\n",
    "- learning_rate=0.01,\n",
    "- max_depth=16,\n",
    "- boosting='gbdt',\n",
    "- objective='binary',\n",
    "- metric='mse',\n",
    "- is_training_metric=True,\n",
    "- num_leaves=144,\n",
    "- feature_fraction=0.9,\n",
    "- bagging_fraction=0.7,\n",
    "- bagging_freq=5,\n",
    "- seed=2020\n",
    "\n",
    "### public / private / F1 : 0.7783070588 / 0.7706610222 / 0.7013\n",
    "- n_estimators=1000,\n",
    "- learning_rate=0.01,\n",
    "- boosting='gbdt',\n",
    "- objective= 'binary',\n",
    "- metric= 'auc',\n",
    "- is_training_metric= True,\n",
    "- seed=2020\n",
    "\n",
    "### public / private / F1 : 0.7783070588 / 0.7706610222 / 0.7013\n",
    "- n_estimators=1000,\n",
    "- learning_rate=0.01,\n",
    "- boosting='gbdt',\n",
    "- objective= 'binary',\n",
    "- metric= 'binary_logloss',\n",
    "- is_training_metric= True,\n",
    "- seed=2020\n",
    "\n",
    "### public / private / F1 : 0.7770950256 / 0.7685265013 / 0.7043\n",
    "- n_estimators=1000,\n",
    "- learning_rate=0.01,\n",
    "- boosting='dart',\n",
    "- objective= 'binary',\n",
    "- metric= 'binary_logloss',\n",
    "- is_training_metric= True,\n",
    "- seed=2020\n",
    "\n",
    "### public / private / F1 : 0.77277671 / 0.7640015648 / 0.7065\n",
    "- n_estimators=1000,\n",
    "- learning_rate=0.01,\n",
    "- boosting='rf',\n",
    "- objective= 'binary',\n",
    "- metric= 'binary_logloss',\n",
    "- bagging_freq =1,\n",
    "- bagging_fraction = 0.5,\n",
    "- is_training_metric= True,\n",
    "- seed=2020"
   ]
  }
 ],
 "metadata": {
  "kernelspec": {
   "display_name": "Python 3 (ipykernel)",
   "language": "python",
   "name": "python3"
  },
  "language_info": {
   "codemirror_mode": {
    "name": "ipython",
    "version": 3
   },
   "file_extension": ".py",
   "mimetype": "text/x-python",
   "name": "python",
   "nbconvert_exporter": "python",
   "pygments_lexer": "ipython3",
   "version": "3.9.12"
  }
 },
 "nbformat": 4,
 "nbformat_minor": 5
}
