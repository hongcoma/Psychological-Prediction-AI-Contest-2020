{
 "cells": [
  {
   "cell_type": "markdown",
   "id": "d6c0a76c",
   "metadata": {},
   "source": [
    "# 시각화"
   ]
  },
  {
   "cell_type": "code",
   "execution_count": 1,
   "id": "951f1aa8",
   "metadata": {},
   "outputs": [],
   "source": [
    "import matplotlib.pyplot as plt\n",
    "%matplotlib inline\n",
    "import seaborn as sns\n",
    "sns.set() # setting seaborn default for plots"
   ]
  },
  {
   "cell_type": "code",
   "execution_count": 2,
   "id": "57b1a445",
   "metadata": {},
   "outputs": [],
   "source": [
    "import pandas as pd\n",
    "\n",
    "train=pd.read_csv('./train.csv')\n",
    "test=pd.read_csv('./test_x.csv')"
   ]
  },
  {
   "cell_type": "markdown",
   "id": "d5d66bbb",
   "metadata": {},
   "source": [
    "# 데이터 전처리"
   ]
  },
  {
   "cell_type": "code",
   "execution_count": 3,
   "id": "5132a1e5",
   "metadata": {},
   "outputs": [],
   "source": [
    "import numpy as np\n",
    "family_drop_score=10\n",
    "\n",
    "train['familysize']=np.where(train['familysize'] >= family_drop_score, family_drop_score, train['familysize'])\n",
    "test['familysize']=np.where(test['familysize'] >= family_drop_score, family_drop_score, test['familysize'])\n",
    "\n",
    "train['education']=np.where(train['education'] == 0, 2, train['education'])\n",
    "test['education']=np.where(test['education'] == 0, 2, test['education'])\n",
    "\n",
    "train['urban']=train['urban'].astype('str')\n",
    "test['urban']=test['urban'].astype('str')\n",
    "\n",
    "train['education']=train['education'].astype('str')\n",
    "test['education']=test['education'].astype('str')"
   ]
  },
  {
   "cell_type": "markdown",
   "id": "f829ef3e",
   "metadata": {},
   "source": [
    "# 원핫 인코딩 (gender, race, religion)"
   ]
  },
  {
   "cell_type": "code",
   "execution_count": 4,
   "id": "741c771b",
   "metadata": {},
   "outputs": [],
   "source": [
    "train=pd.get_dummies(train, columns=['race'])\n",
    "train=pd.get_dummies(train, columns=['religion'])\n",
    "train=pd.get_dummies(train, columns=['urban'])\n",
    "train=pd.get_dummies(train, columns=['hand'])\n",
    "train=pd.get_dummies(train, columns=['gender'])\n",
    "\n",
    "test=pd.get_dummies(test, columns=['race'])\n",
    "test=pd.get_dummies(test, columns=['religion'])\n",
    "test=pd.get_dummies(test, columns=['urban'])\n",
    "test=pd.get_dummies(test, columns=['hand'])\n",
    "test=pd.get_dummies(test, columns=['gender'])"
   ]
  },
  {
   "cell_type": "markdown",
   "id": "5a5e30a7",
   "metadata": {},
   "source": [
    "# 라벨 인코딩 (gender, race, religion)"
   ]
  },
  {
   "cell_type": "code",
   "execution_count": 5,
   "id": "232028a9",
   "metadata": {},
   "outputs": [],
   "source": [
    "from sklearn.preprocessing import LabelEncoder\n",
    "label = LabelEncoder()\n",
    "train['age_group_code'] = label.fit_transform(train['age_group'])\n",
    "train['education_code'] = label.fit_transform(train['education'])\n",
    "\n",
    "test['age_group_code'] = label.fit_transform(test['age_group'])\n",
    "test['education_code'] = label.fit_transform(test['education'])"
   ]
  },
  {
   "cell_type": "markdown",
   "id": "1d4cb1a4",
   "metadata": {},
   "source": [
    "# Feature : Mach_score (마키아벨리니즘 스코어)"
   ]
  },
  {
   "cell_type": "code",
   "execution_count": 6,
   "id": "5f73d7a8",
   "metadata": {
    "scrolled": false
   },
   "outputs": [],
   "source": [
    "Answers = ['QaA', 'QbA', 'QcA', 'QdA', 'QeA',\n",
    "             'QfA', 'QgA', 'QhA', 'QiA', 'QjA', \n",
    "             'QkA', 'QlA', 'QmA', 'QnA', 'QoA', \n",
    "             'QpA', 'QqA', 'QrA', 'QsA', 'QtA']"
   ]
  },
  {
   "cell_type": "code",
   "execution_count": 7,
   "id": "f031affe",
   "metadata": {},
   "outputs": [],
   "source": [
    "reverse = [\"QeA\", \"QfA\", \"QkA\", \"QqA\", \"QrA\"]\n",
    "for r in reverse: \n",
    "        train[r] = 6 - train[r]\n",
    "        test[r] = 6 - test[r]"
   ]
  },
  {
   "cell_type": "code",
   "execution_count": 8,
   "id": "329ca96b",
   "metadata": {},
   "outputs": [],
   "source": [
    "reverse = [\"QaA\", \"QdA\", \"QgA\", \"QiA\", \"QnA\"]\n",
    "for r in reverse: \n",
    "        train[r] = 6 - train[r]\n",
    "        test[r] = 6 - test[r]"
   ]
  },
  {
   "cell_type": "code",
   "execution_count": 9,
   "id": "c589c845",
   "metadata": {},
   "outputs": [],
   "source": [
    "train['Mach_score'] = train[Answers].mean(axis = 1)\n",
    "test['Mach_score'] = test[Answers].mean(axis = 1)"
   ]
  },
  {
   "cell_type": "markdown",
   "id": "d3acad36",
   "metadata": {},
   "source": [
    "# TIPI\n",
    "## 성실성 (Conscientiousness)\n",
    "## 우호성 (Agreeableness)\n",
    "## 신경성 (Neuroticism) - 정서적 안정감\n",
    "## 개방성 (Openness to experience)\n",
    "## 외향성 (Extroversion)\n",
    "\n",
    "- 성실성 : {3번 점수 + (8 - '8번 점수')} ÷ 2\n",
    "- 우호성 : {7번 점수 + (8 - '2번 점수')} ÷ 2\n",
    "- 정서적 안정성(점수가 낮으면 신경성과 관련) : {9번 점수 + (8 - '4번 점수')} ÷ 2\n",
    "- 개방성 : {5번 점수 + (8 - '10번 점수')} ÷ 2\n",
    "- 외향성 : {1번 점수 + (8 - '6번 점수')} ÷ 2"
   ]
  },
  {
   "cell_type": "code",
   "execution_count": 10,
   "id": "f5c66c11",
   "metadata": {
    "scrolled": true
   },
   "outputs": [],
   "source": [
    "train['TIPT_C']=(train['tp03']+(8-train['tp08']))/2\n",
    "train['TIPT_A']=(train['tp07']+(8-train['tp02']))/2\n",
    "train['TIPT_N']=(train['tp09']+(8-train['tp04']))/2\n",
    "train['TIPT_O']=(train['tp05']+(8-train['tp10']))/2\n",
    "train['TIPT_E']=(train['tp01']+(8-train['tp06']))/2\n",
    "\n",
    "test['TIPT_C']=(test['tp03']+(8-test['tp08']))/2\n",
    "test['TIPT_A']=(test['tp07']+(8-test['tp02']))/2\n",
    "test['TIPT_N']=(test['tp09']+(8-test['tp04']))/2\n",
    "test['TIPT_O']=(test['tp05']+(8-test['tp10']))/2\n",
    "test['TIPT_E']=(test['tp01']+(8-test['tp06']))/2"
   ]
  },
  {
   "cell_type": "markdown",
   "id": "65e01335",
   "metadata": {},
   "source": [
    "# wf_(1~3) : 설문자의 어휘 능력 (허구인 단어의 정의를 앎)"
   ]
  },
  {
   "cell_type": "code",
   "execution_count": 11,
   "id": "ae88ab68",
   "metadata": {
    "scrolled": true
   },
   "outputs": [],
   "source": [
    "wf=['wf_01', 'wf_02', 'wf_03']\n",
    "\n",
    "train['wf']=train[wf].mean(axis=1)\n",
    "test['wf']=test[wf].mean(axis=1)"
   ]
  },
  {
   "cell_type": "markdown",
   "id": "ab06e14f",
   "metadata": {},
   "source": [
    "# drop 할 feature들"
   ]
  },
  {
   "cell_type": "code",
   "execution_count": 13,
   "id": "a0686027",
   "metadata": {},
   "outputs": [],
   "source": [
    "drop_feature=[\n",
    "#                 'engnat',\n",
    "    \n",
    "#                 'familysize',\n",
    "    \n",
    "#                 'married',\n",
    "    \n",
    "#                 'race_Arab', 'race_Asian','race_Black','race_Indigenous Australian','race_Native American','race_Other','race_White',               \n",
    "    \n",
    "#                 'religion_Agnostic','religion_Atheist', 'religion_Buddhist','religion_Christian_Catholic','religion_Christian_Mormon', \n",
    "#                 'religion_Christian_Other', 'religion_Christian_Protestant', 'religion_Hindu','religion_Jewish','religion_Muslim', \n",
    "#                 'religion_Other','religion_Sikh',\n",
    "    \n",
    "#                 'gender_Female','gender_Male',\n",
    "                \n",
    "#                 'urban_0','urban_1','urban_2','urban_3',\n",
    "    \n",
    "                'education',\n",
    "                \n",
    "                'age_group',\n",
    "                \n",
    "                'QaA', 'QbA', 'QcA', 'QdA', 'QeA','QfA', 'QgA', 'QhA', 'QiA', 'QjA', 'QkA', 'QlA', 'QmA', 'QnA', 'QoA','QpA', \n",
    "                'QqA', 'QrA', 'QsA', 'QtA',\n",
    "                \n",
    "                'QaE', 'QbE', 'QcE', 'QdE', 'QeE', 'QfE', 'QgE', 'QhE', 'QiE', 'QjE', 'QkE', 'QlE','QmE', 'QnE', 'QoE', 'QpE', \n",
    "                'QqE', 'QrE', 'QsE', 'QtE',\n",
    "              \n",
    "                'tp01', 'tp02', 'tp03', 'tp04', 'tp05','tp06','tp07', 'tp08', 'tp09', 'tp10',\n",
    "              \n",
    "#                 'wr_01', 'wr_02', 'wr_03', 'wr_04', 'wr_05', 'wr_06', 'wr_07', 'wr_08', 'wr_09','wr_10','wr_11', 'wr_12', 'wr_13', \n",
    "                'wr_02',  'wr_04', 'wr_07', 'wr_08', 'wr_10', 'wr_12', 'wr_13', \n",
    "                'wf_01', 'wf_02', 'wf_03', 'wf',\n",
    "              \n",
    "                'hand_0','hand_1','hand_2','hand_3',\n",
    "              \n",
    "              ]\n",
    "\n",
    "train = train.drop(drop_feature, axis = 1)\n",
    "test = test.drop(drop_feature, axis = 1)"
   ]
  },
  {
   "cell_type": "markdown",
   "id": "b90b6eae",
   "metadata": {},
   "source": [
    "# Model 생성"
   ]
  },
  {
   "cell_type": "code",
   "execution_count": 14,
   "id": "ddc2ea46",
   "metadata": {},
   "outputs": [],
   "source": [
    "from sklearn.neighbors import KNeighborsClassifier\n",
    "from sklearn.tree import DecisionTreeClassifier\n",
    "from sklearn.ensemble import RandomForestClassifier\n",
    "from sklearn.naive_bayes import GaussianNB\n",
    "from sklearn.svm import SVC\n",
    "import lightgbm as lgb"
   ]
  },
  {
   "cell_type": "markdown",
   "id": "93c8e33a",
   "metadata": {},
   "source": [
    "# 사용한 feature 목록"
   ]
  },
  {
   "cell_type": "code",
   "execution_count": 15,
   "id": "65fb6275",
   "metadata": {
    "scrolled": false
   },
   "outputs": [
    {
     "name": "stdout",
     "output_type": "stream",
     "text": [
      "index\n",
      "engnat\n",
      "familysize\n",
      "married\n",
      "voted\n",
      "wr_01\n",
      "wr_03\n",
      "wr_05\n",
      "wr_06\n",
      "wr_09\n",
      "wr_11\n",
      "race_Arab\n",
      "race_Asian\n",
      "race_Black\n",
      "race_Indigenous Australian\n",
      "race_Native American\n",
      "race_Other\n",
      "race_White\n",
      "religion_Agnostic\n",
      "religion_Atheist\n",
      "religion_Buddhist\n",
      "religion_Christian_Catholic\n",
      "religion_Christian_Mormon\n",
      "religion_Christian_Other\n",
      "religion_Christian_Protestant\n",
      "religion_Hindu\n",
      "religion_Jewish\n",
      "religion_Muslim\n",
      "religion_Other\n",
      "religion_Sikh\n",
      "urban_0\n",
      "urban_1\n",
      "urban_2\n",
      "urban_3\n",
      "gender_Female\n",
      "gender_Male\n",
      "age_group_code\n",
      "education_code\n",
      "Mach_score\n",
      "TIPT_C\n",
      "TIPT_A\n",
      "TIPT_N\n",
      "TIPT_O\n",
      "TIPT_E\n"
     ]
    }
   ],
   "source": [
    "for i in train:\n",
    "    print(i)\n"
   ]
  },
  {
   "cell_type": "markdown",
   "id": "19e092ef",
   "metadata": {},
   "source": [
    "# 모델 전처리"
   ]
  },
  {
   "cell_type": "code",
   "execution_count": 16,
   "id": "2b2db252",
   "metadata": {},
   "outputs": [],
   "source": [
    "import pandas as pd\n",
    "import numpy as np\n",
    "from sklearn.model_selection import train_test_split\n",
    "from sklearn.metrics import *\n",
    "from lightgbm import LGBMClassifier\n",
    "\n",
    "import warnings\n",
    "import gc\n",
    "warnings.filterwarnings(\"ignore\")\n",
    "\n",
    "X = train.copy()\n",
    "X.drop('voted', axis=1, inplace = True)\n",
    "Y = train['voted']\n",
    "\n",
    "x_train, x_test, y_train, y_test = train_test_split(X, Y, test_size=0.3, random_state=0)"
   ]
  },
  {
   "cell_type": "code",
   "execution_count": 117,
   "id": "685fcbd5",
   "metadata": {},
   "outputs": [],
   "source": [
    "preds=model.predict(x_test)"
   ]
  },
  {
   "cell_type": "code",
   "execution_count": 118,
   "id": "620b530d",
   "metadata": {},
   "outputs": [],
   "source": [
    "pred_proba=model.predict_proba(test)"
   ]
  },
  {
   "cell_type": "code",
   "execution_count": 119,
   "id": "6e59a29f",
   "metadata": {},
   "outputs": [
    {
     "data": {
      "text/plain": [
       "(11383, 2)"
      ]
     },
     "execution_count": 119,
     "metadata": {},
     "output_type": "execute_result"
    }
   ],
   "source": [
    "pred_proba.shape"
   ]
  },
  {
   "cell_type": "code",
   "execution_count": 120,
   "id": "96e41566",
   "metadata": {},
   "outputs": [],
   "source": [
    "submission= pd.read_csv('./sample_submission.csv')\n",
    "submission['voted'] = pred_proba[:,1]\n",
    "submission.to_csv('submission_proba.csv', index = False)"
   ]
  },
  {
   "cell_type": "code",
   "execution_count": 121,
   "id": "0e6e1f25",
   "metadata": {
    "scrolled": true
   },
   "outputs": [
    {
     "data": {
      "text/html": [
       "<div>\n",
       "<style scoped>\n",
       "    .dataframe tbody tr th:only-of-type {\n",
       "        vertical-align: middle;\n",
       "    }\n",
       "\n",
       "    .dataframe tbody tr th {\n",
       "        vertical-align: top;\n",
       "    }\n",
       "\n",
       "    .dataframe thead th {\n",
       "        text-align: right;\n",
       "    }\n",
       "</style>\n",
       "<table border=\"1\" class=\"dataframe\">\n",
       "  <thead>\n",
       "    <tr style=\"text-align: right;\">\n",
       "      <th></th>\n",
       "      <th>index</th>\n",
       "      <th>voted</th>\n",
       "    </tr>\n",
       "  </thead>\n",
       "  <tbody>\n",
       "    <tr>\n",
       "      <th>0</th>\n",
       "      <td>0</td>\n",
       "      <td>0.591548</td>\n",
       "    </tr>\n",
       "    <tr>\n",
       "      <th>1</th>\n",
       "      <td>1</td>\n",
       "      <td>0.903608</td>\n",
       "    </tr>\n",
       "    <tr>\n",
       "      <th>2</th>\n",
       "      <td>2</td>\n",
       "      <td>0.481670</td>\n",
       "    </tr>\n",
       "    <tr>\n",
       "      <th>3</th>\n",
       "      <td>3</td>\n",
       "      <td>0.181750</td>\n",
       "    </tr>\n",
       "    <tr>\n",
       "      <th>4</th>\n",
       "      <td>4</td>\n",
       "      <td>0.800976</td>\n",
       "    </tr>\n",
       "  </tbody>\n",
       "</table>\n",
       "</div>"
      ],
      "text/plain": [
       "   index     voted\n",
       "0      0  0.591548\n",
       "1      1  0.903608\n",
       "2      2  0.481670\n",
       "3      3  0.181750\n",
       "4      4  0.800976"
      ]
     },
     "execution_count": 121,
     "metadata": {},
     "output_type": "execute_result"
    }
   ],
   "source": [
    "submission.head()"
   ]
  },
  {
   "cell_type": "markdown",
   "id": "13b70873",
   "metadata": {},
   "source": [
    "# F1 score"
   ]
  },
  {
   "cell_type": "code",
   "execution_count": 122,
   "id": "52b240e8",
   "metadata": {},
   "outputs": [
    {
     "name": "stdout",
     "output_type": "stream",
     "text": [
      "F1 score :0.6980\n"
     ]
    }
   ],
   "source": [
    "print('F1 score :{:.4f}'.format(f1_score(y_test, preds)))"
   ]
  },
  {
   "cell_type": "markdown",
   "id": "f3c8dd82",
   "metadata": {},
   "source": [
    "# 파라미터 별 결과\n",
    "\n",
    "### public / private / F1 : 0.779141352 / 0.770271404 / 0.6980 (최고점 160등)\n",
    "- n_estimators=400\n",
    "\n",
    "### public / private  F1 : 0.7773849453 / 0.7699346405 / 0.6959\n",
    "- n_estimators=1000,\n",
    "- learning_rate=0.01,\n",
    "- max_depth=16,\n",
    "- boosting='gbdt',\n",
    "- objective='binary',\n",
    "- metric='mse',\n",
    "- is_training_metric=True,\n",
    "- num_leaves=144,\n",
    "- feature_fraction=0.9,\n",
    "- bagging_fraction=0.7,\n",
    "- bagging_freq=5,\n",
    "- seed=2020\n",
    "\n",
    "### public / private / F1 : 0.7783070588 / 0.7706610222 / 0.7013\n",
    "- n_estimators=1000,\n",
    "- learning_rate=0.01,\n",
    "- boosting='gbdt',\n",
    "- objective= 'binary',\n",
    "- metric= 'auc',\n",
    "- is_training_metric= True,\n",
    "- seed=2020\n",
    "\n",
    "### public / private / F1 : 0.7783070588 / 0.7706610222 / 0.7013\n",
    "- n_estimators=1000,\n",
    "- learning_rate=0.01,\n",
    "- boosting='gbdt',\n",
    "- objective= 'binary',\n",
    "- metric= 'binary_logloss',\n",
    "- is_training_metric= True,\n",
    "- seed=2020\n",
    "\n",
    "### public / private / F1 : 0.7770950256 / 0.7685265013 / 0.7043\n",
    "- n_estimators=1000,\n",
    "- learning_rate=0.01,\n",
    "- boosting='dart',\n",
    "- objective= 'binary',\n",
    "- metric= 'binary_logloss',\n",
    "- is_training_metric= True,\n",
    "- seed=2020\n",
    "\n",
    "### public / private / F1 :\n",
    "- n_estimators=1000,\n",
    "- learning_rate=0.01,\n",
    "- boosting='rf',\n",
    "- objective= 'binary',\n",
    "- metric= 'binary_logloss',\n",
    "- bagging_freq =1,\n",
    "- bagging_fraction = 0.5,\n",
    "- is_training_metric= True,\n",
    "- seed=2020"
   ]
  }
 ],
 "metadata": {
  "kernelspec": {
   "display_name": "Python 3 (ipykernel)",
   "language": "python",
   "name": "python3"
  },
  "language_info": {
   "codemirror_mode": {
    "name": "ipython",
    "version": 3
   },
   "file_extension": ".py",
   "mimetype": "text/x-python",
   "name": "python",
   "nbconvert_exporter": "python",
   "pygments_lexer": "ipython3",
   "version": "3.9.12"
  }
 },
 "nbformat": 4,
 "nbformat_minor": 5
}
