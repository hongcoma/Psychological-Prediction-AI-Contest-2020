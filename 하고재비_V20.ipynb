{
 "cells": [
  {
   "cell_type": "markdown",
   "id": "1ca40348",
   "metadata": {},
   "source": [
    "# V13코드를 기반으로 lightGBM 을 사용한 버전\n",
    "# V17코드를 기반으로 lightGBM 을 사용한 다른 버전"
   ]
  },
  {
   "cell_type": "markdown",
   "id": "d6c0a76c",
   "metadata": {},
   "source": [
    "# 시각화"
   ]
  },
  {
   "cell_type": "code",
   "execution_count": 53,
   "id": "951f1aa8",
   "metadata": {},
   "outputs": [],
   "source": [
    "import matplotlib.pyplot as plt\n",
    "%matplotlib inline\n",
    "import seaborn as sns\n",
    "sns.set() # setting seaborn default for plots\n",
    "\n",
    "def bar_chart(feature):\n",
    "    yes = train[train['voted']==1][feature].value_counts()\n",
    "    no = train[train['voted']==2][feature].value_counts()\n",
    "    df = pd.DataFrame([yes,no])\n",
    "    df.index = ['Yes','No']\n",
    "    df.plot(kind='bar',stacked=True, figsize=(10,5))"
   ]
  },
  {
   "cell_type": "code",
   "execution_count": 54,
   "id": "57b1a445",
   "metadata": {},
   "outputs": [],
   "source": [
    "import pandas as pd\n",
    "\n",
    "train=pd.read_csv('./train.csv')\n",
    "test=pd.read_csv('./test_x.csv')"
   ]
  },
  {
   "cell_type": "markdown",
   "id": "d5d66bbb",
   "metadata": {},
   "source": [
    "# 데이터 전처리"
   ]
  },
  {
   "cell_type": "code",
   "execution_count": 55,
   "id": "5132a1e5",
   "metadata": {},
   "outputs": [],
   "source": [
    "import numpy as np\n",
    "family_drop_score=10\n",
    "\n",
    "train['familysize']=np.where(train['familysize'] >= family_drop_score, family_drop_score, train['familysize'])\n",
    "test['familysize']=np.where(test['familysize'] >= family_drop_score, family_drop_score, test['familysize'])\n",
    "\n",
    "train['education']=np.where(train['education'] == 0, 2, train['education'])\n",
    "test['education']=np.where(test['education'] == 0, 2, test['education'])\n",
    "\n",
    "train['urban']=train['urban'].astype('str')\n",
    "test['urban']=test['urban'].astype('str')\n",
    "\n",
    "train['education']=train['education'].astype('str')\n",
    "test['education']=test['education'].astype('str')\n"
   ]
  },
  {
   "cell_type": "markdown",
   "id": "f829ef3e",
   "metadata": {},
   "source": [
    "# 원핫 인코딩 (gender, race, religion)"
   ]
  },
  {
   "cell_type": "code",
   "execution_count": 56,
   "id": "741c771b",
   "metadata": {},
   "outputs": [],
   "source": [
    "train=pd.get_dummies(train, columns=['race'])\n",
    "train=pd.get_dummies(train, columns=['religion'])\n",
    "train=pd.get_dummies(train, columns=['urban'])\n",
    "train=pd.get_dummies(train, columns=['hand'])\n",
    "train=pd.get_dummies(train, columns=['gender'])\n",
    "\n",
    "test=pd.get_dummies(test, columns=['race'])\n",
    "test=pd.get_dummies(test, columns=['religion'])\n",
    "test=pd.get_dummies(test, columns=['urban'])\n",
    "test=pd.get_dummies(test, columns=['hand'])\n",
    "test=pd.get_dummies(test, columns=['gender'])"
   ]
  },
  {
   "cell_type": "code",
   "execution_count": 57,
   "id": "232028a9",
   "metadata": {},
   "outputs": [],
   "source": [
    "from sklearn.preprocessing import LabelEncoder\n",
    "label = LabelEncoder()\n",
    "train['age_group_code'] = label.fit_transform(train['age_group'])\n",
    "train['education_code'] = label.fit_transform(train['education'])\n",
    "\n",
    "test['age_group_code'] = label.fit_transform(test['age_group'])\n",
    "test['education_code'] = label.fit_transform(test['education'])"
   ]
  },
  {
   "cell_type": "markdown",
   "id": "1d4cb1a4",
   "metadata": {},
   "source": [
    "# Feature : Mach_score (마키아벨리니즘 스코어)"
   ]
  },
  {
   "cell_type": "code",
   "execution_count": 58,
   "id": "5f73d7a8",
   "metadata": {
    "scrolled": false
   },
   "outputs": [],
   "source": [
    "Answers = ['QaA', 'QbA', 'QcA', 'QdA', 'QeA',\n",
    "             'QfA', 'QgA', 'QhA', 'QiA', 'QjA', \n",
    "             'QkA', 'QlA', 'QmA', 'QnA', 'QoA', \n",
    "             'QpA', 'QqA', 'QrA', 'QsA', 'QtA']"
   ]
  },
  {
   "cell_type": "code",
   "execution_count": 59,
   "id": "f031affe",
   "metadata": {},
   "outputs": [],
   "source": [
    "reverse = [\"QeA\", \"QfA\", \"QkA\", \"QqA\", \"QrA\"]\n",
    "for r in reverse: \n",
    "        train[r] = 6 - train[r]\n",
    "        test[r] = 6 - test[r]"
   ]
  },
  {
   "cell_type": "code",
   "execution_count": 60,
   "id": "329ca96b",
   "metadata": {},
   "outputs": [],
   "source": [
    "reverse = [\"QaA\", \"QdA\", \"QgA\", \"QiA\", \"QnA\"]\n",
    "for r in reverse: \n",
    "        train[r] = 6 - train[r]\n",
    "        test[r] = 6 - test[r]"
   ]
  },
  {
   "cell_type": "code",
   "execution_count": 61,
   "id": "c589c845",
   "metadata": {},
   "outputs": [],
   "source": [
    "train['Mach_score'] = train[Answers].mean(axis = 1)\n",
    "test['Mach_score'] = test[Answers].mean(axis = 1)"
   ]
  },
  {
   "cell_type": "markdown",
   "id": "d3acad36",
   "metadata": {},
   "source": [
    "# TIPI\n",
    "## 성실성 (Conscientiousness)\n",
    "## 우호성 (Agreeableness)\n",
    "## 신경성 (Neuroticism) - 정서적 안정감\n",
    "## 개방성 (Openness to experience)\n",
    "## 외향성 (Extroversion)\n",
    "\n",
    "- 성실성 : {3번 점수 + (8 - '8번 점수')} ÷ 2\n",
    "- 우호성 : {7번 점수 + (8 - '2번 점수')} ÷ 2\n",
    "- 정서적 안정성(점수가 낮으면 신경성과 관련) : {9번 점수 + (8 - '4번 점수')} ÷ 2\n",
    "- 개방성 : {5번 점수 + (8 - '10번 점수')} ÷ 2\n",
    "- 외향성 : {1번 점수 + (8 - '6번 점수')} ÷ 2"
   ]
  },
  {
   "cell_type": "code",
   "execution_count": 62,
   "id": "f5c66c11",
   "metadata": {
    "scrolled": true
   },
   "outputs": [],
   "source": [
    "train['TIPT_C']=(train['tp03']+(8-train['tp08']))/2\n",
    "train['TIPT_A']=(train['tp07']+(8-train['tp02']))/2\n",
    "train['TIPT_N']=(train['tp09']+(8-train['tp04']))/2\n",
    "train['TIPT_O']=(train['tp05']+(8-train['tp10']))/2\n",
    "train['TIPT_E']=(train['tp01']+(8-train['tp06']))/2\n",
    "\n",
    "test['TIPT_C']=(test['tp03']+(8-test['tp08']))/2\n",
    "test['TIPT_A']=(test['tp07']+(8-test['tp02']))/2\n",
    "test['TIPT_N']=(test['tp09']+(8-test['tp04']))/2\n",
    "test['TIPT_O']=(test['tp05']+(8-test['tp10']))/2\n",
    "test['TIPT_E']=(test['tp01']+(8-test['tp06']))/2"
   ]
  },
  {
   "cell_type": "markdown",
   "id": "65e01335",
   "metadata": {},
   "source": [
    "# wf_(1~3) : 설문자의 어휘 능력 (허구인 단어의 정의를 앎)"
   ]
  },
  {
   "cell_type": "code",
   "execution_count": 63,
   "id": "ae88ab68",
   "metadata": {
    "scrolled": true
   },
   "outputs": [],
   "source": [
    "wf=['wf_01', 'wf_02', 'wf_03']\n",
    "\n",
    "train['wf']=train[wf].mean(axis=1)\n",
    "test['wf']=test[wf].mean(axis=1)"
   ]
  },
  {
   "cell_type": "markdown",
   "id": "ab06e14f",
   "metadata": {},
   "source": [
    "# drop 할 feature들"
   ]
  },
  {
   "cell_type": "code",
   "execution_count": 64,
   "id": "a0686027",
   "metadata": {},
   "outputs": [],
   "source": [
    "drop_feature=[\n",
    "#                 'engnat',\n",
    "    \n",
    "#                 'familysize',\n",
    "    \n",
    "#                 'married',\n",
    "    \n",
    "#                 'race_Arab', 'race_Asian','race_Black','race_Indigenous Australian','race_Native American','race_Other','race_White',               \n",
    "    \n",
    "#                 'religion_Agnostic','religion_Atheist', 'religion_Buddhist','religion_Christian_Catholic','religion_Christian_Mormon', \n",
    "#                 'religion_Christian_Other', 'religion_Christian_Protestant', 'religion_Hindu','religion_Jewish','religion_Muslim', \n",
    "#                 'religion_Other','religion_Sikh',\n",
    "    \n",
    "#                 'gender_Female','gender_Male',\n",
    "                \n",
    "#                 'urban_0','urban_1','urban_2','urban_3',\n",
    "    \n",
    "                'education',\n",
    "                \n",
    "                'age_group',\n",
    "                \n",
    "                'QaA', 'QbA', 'QcA', 'QdA', 'QeA','QfA', 'QgA', 'QhA', 'QiA', 'QjA', 'QkA', 'QlA', 'QmA', 'QnA', 'QoA','QpA', \n",
    "                'QqA', 'QrA', 'QsA', 'QtA',\n",
    "                \n",
    "                'QaE', 'QbE', 'QcE', 'QdE', 'QeE', 'QfE', 'QgE', 'QhE', 'QiE', 'QjE', 'QkE', 'QlE','QmE', 'QnE', 'QoE', 'QpE', \n",
    "                'QqE', 'QrE', 'QsE', 'QtE',\n",
    "    \n",
    "#                 'p_time' , \n",
    "\n",
    "#                 'n_time',\n",
    "              \n",
    "                'tp01', 'tp02', 'tp03', 'tp04', 'tp05','tp06','tp07', 'tp08', 'tp09', 'tp10',\n",
    "              \n",
    "#                 'wr_01', 'wr_02', 'wr_03', 'wr_04', 'wr_05', 'wr_06', 'wr_07', 'wr_08', 'wr_09','wr_10','wr_11', 'wr_12', 'wr_13', \n",
    "                'wr_02',  'wr_04', 'wr_07', 'wr_08', 'wr_10', 'wr_12', 'wr_13', \n",
    "                'wf_01', 'wf_02', 'wf_03', 'wf',\n",
    "              \n",
    "                'hand_0','hand_1','hand_2','hand_3',\n",
    "              \n",
    "              ]\n",
    "\n",
    "train = train.drop(drop_feature, axis = 1)\n",
    "test = test.drop(drop_feature, axis = 1)"
   ]
  },
  {
   "cell_type": "markdown",
   "id": "b90b6eae",
   "metadata": {},
   "source": [
    "# Model 생성"
   ]
  },
  {
   "cell_type": "code",
   "execution_count": 65,
   "id": "ddc2ea46",
   "metadata": {},
   "outputs": [],
   "source": [
    "from sklearn.neighbors import KNeighborsClassifier\n",
    "from sklearn.tree import DecisionTreeClassifier\n",
    "from sklearn.ensemble import RandomForestClassifier\n",
    "from sklearn.naive_bayes import GaussianNB\n",
    "from sklearn.svm import SVC\n",
    "import lightgbm as lgb"
   ]
  },
  {
   "cell_type": "markdown",
   "id": "93c8e33a",
   "metadata": {},
   "source": [
    "# 사용한 feature 목록"
   ]
  },
  {
   "cell_type": "code",
   "execution_count": 66,
   "id": "65fb6275",
   "metadata": {
    "scrolled": false
   },
   "outputs": [
    {
     "name": "stdout",
     "output_type": "stream",
     "text": [
      "index\n",
      "engnat\n",
      "familysize\n",
      "married\n",
      "voted\n",
      "wr_01\n",
      "wr_03\n",
      "wr_05\n",
      "wr_06\n",
      "wr_09\n",
      "wr_11\n",
      "race_Arab\n",
      "race_Asian\n",
      "race_Black\n",
      "race_Indigenous Australian\n",
      "race_Native American\n",
      "race_Other\n",
      "race_White\n",
      "religion_Agnostic\n",
      "religion_Atheist\n",
      "religion_Buddhist\n",
      "religion_Christian_Catholic\n",
      "religion_Christian_Mormon\n",
      "religion_Christian_Other\n",
      "religion_Christian_Protestant\n",
      "religion_Hindu\n",
      "religion_Jewish\n",
      "religion_Muslim\n",
      "religion_Other\n",
      "religion_Sikh\n",
      "urban_0\n",
      "urban_1\n",
      "urban_2\n",
      "urban_3\n",
      "gender_Female\n",
      "gender_Male\n",
      "age_group_code\n",
      "education_code\n",
      "Mach_score\n",
      "TIPT_C\n",
      "TIPT_A\n",
      "TIPT_N\n",
      "TIPT_O\n",
      "TIPT_E\n"
     ]
    }
   ],
   "source": [
    "for i in train:\n",
    "    print(i)\n"
   ]
  },
  {
   "cell_type": "markdown",
   "id": "19e092ef",
   "metadata": {},
   "source": [
    "# 모델 전처리"
   ]
  },
  {
   "cell_type": "code",
   "execution_count": 71,
   "id": "2b2db252",
   "metadata": {},
   "outputs": [],
   "source": [
    "import pandas as pd\n",
    "import numpy as np\n",
    "from sklearn.model_selection import train_test_split\n",
    "from sklearn.metrics import *\n",
    "from lightgbm import LGBMClassifier\n",
    "\n",
    "import warnings\n",
    "import gc\n",
    "warnings.filterwarnings(\"ignore\")\n",
    "\n",
    "X = train.copy()\n",
    "X.drop('voted', axis=1, inplace = True)\n",
    "Y = train['voted']\n",
    "\n",
    "x_train, x_test, y_train, y_test = train_test_split(X, Y, test_size=0.3, random_state=0)"
   ]
  },
  {
   "cell_type": "code",
   "execution_count": 72,
   "id": "f705b886",
   "metadata": {
    "scrolled": true
   },
   "outputs": [
    {
     "name": "stdout",
     "output_type": "stream",
     "text": [
      "[1]\tvalid_0's auc: 0.758352\tvalid_0's binary_logloss: 0.668553\n",
      "[2]\tvalid_0's auc: 0.759454\tvalid_0's binary_logloss: 0.651548\n",
      "[3]\tvalid_0's auc: 0.759731\tvalid_0's binary_logloss: 0.637381\n",
      "[4]\tvalid_0's auc: 0.760145\tvalid_0's binary_logloss: 0.625689\n",
      "[5]\tvalid_0's auc: 0.761448\tvalid_0's binary_logloss: 0.615765\n",
      "[6]\tvalid_0's auc: 0.761788\tvalid_0's binary_logloss: 0.607471\n",
      "[7]\tvalid_0's auc: 0.763108\tvalid_0's binary_logloss: 0.600341\n",
      "[8]\tvalid_0's auc: 0.763672\tvalid_0's binary_logloss: 0.594339\n",
      "[9]\tvalid_0's auc: 0.763734\tvalid_0's binary_logloss: 0.58925\n",
      "[10]\tvalid_0's auc: 0.764497\tvalid_0's binary_logloss: 0.5847\n",
      "[11]\tvalid_0's auc: 0.765235\tvalid_0's binary_logloss: 0.58096\n",
      "[12]\tvalid_0's auc: 0.765984\tvalid_0's binary_logloss: 0.577502\n",
      "[13]\tvalid_0's auc: 0.766252\tvalid_0's binary_logloss: 0.574548\n",
      "[14]\tvalid_0's auc: 0.766567\tvalid_0's binary_logloss: 0.572126\n",
      "[15]\tvalid_0's auc: 0.766779\tvalid_0's binary_logloss: 0.570066\n",
      "[16]\tvalid_0's auc: 0.766877\tvalid_0's binary_logloss: 0.568253\n",
      "[17]\tvalid_0's auc: 0.767292\tvalid_0's binary_logloss: 0.566483\n",
      "[18]\tvalid_0's auc: 0.767397\tvalid_0's binary_logloss: 0.565126\n",
      "[19]\tvalid_0's auc: 0.76762\tvalid_0's binary_logloss: 0.563945\n",
      "[20]\tvalid_0's auc: 0.767863\tvalid_0's binary_logloss: 0.562914\n",
      "[21]\tvalid_0's auc: 0.767981\tvalid_0's binary_logloss: 0.562045\n",
      "[22]\tvalid_0's auc: 0.768161\tvalid_0's binary_logloss: 0.561159\n",
      "[23]\tvalid_0's auc: 0.768259\tvalid_0's binary_logloss: 0.560435\n",
      "[24]\tvalid_0's auc: 0.768441\tvalid_0's binary_logloss: 0.55976\n",
      "[25]\tvalid_0's auc: 0.76865\tvalid_0's binary_logloss: 0.559105\n",
      "[26]\tvalid_0's auc: 0.768683\tvalid_0's binary_logloss: 0.558661\n",
      "[27]\tvalid_0's auc: 0.768715\tvalid_0's binary_logloss: 0.558249\n",
      "[28]\tvalid_0's auc: 0.76869\tvalid_0's binary_logloss: 0.557967\n",
      "[29]\tvalid_0's auc: 0.768867\tvalid_0's binary_logloss: 0.557594\n",
      "[30]\tvalid_0's auc: 0.768913\tvalid_0's binary_logloss: 0.557342\n",
      "[31]\tvalid_0's auc: 0.768905\tvalid_0's binary_logloss: 0.557206\n",
      "[32]\tvalid_0's auc: 0.769038\tvalid_0's binary_logloss: 0.556957\n",
      "[33]\tvalid_0's auc: 0.769086\tvalid_0's binary_logloss: 0.556781\n",
      "[34]\tvalid_0's auc: 0.769351\tvalid_0's binary_logloss: 0.556488\n",
      "[35]\tvalid_0's auc: 0.769469\tvalid_0's binary_logloss: 0.556347\n",
      "[36]\tvalid_0's auc: 0.769429\tvalid_0's binary_logloss: 0.556281\n",
      "[37]\tvalid_0's auc: 0.769531\tvalid_0's binary_logloss: 0.556067\n",
      "[38]\tvalid_0's auc: 0.769569\tvalid_0's binary_logloss: 0.555968\n",
      "[39]\tvalid_0's auc: 0.769579\tvalid_0's binary_logloss: 0.555921\n",
      "[40]\tvalid_0's auc: 0.769536\tvalid_0's binary_logloss: 0.555862\n",
      "[41]\tvalid_0's auc: 0.769383\tvalid_0's binary_logloss: 0.555949\n",
      "[42]\tvalid_0's auc: 0.769628\tvalid_0's binary_logloss: 0.555769\n",
      "[43]\tvalid_0's auc: 0.769752\tvalid_0's binary_logloss: 0.55568\n",
      "[44]\tvalid_0's auc: 0.769933\tvalid_0's binary_logloss: 0.555448\n",
      "[45]\tvalid_0's auc: 0.770005\tvalid_0's binary_logloss: 0.555385\n",
      "[46]\tvalid_0's auc: 0.770007\tvalid_0's binary_logloss: 0.555369\n",
      "[47]\tvalid_0's auc: 0.77008\tvalid_0's binary_logloss: 0.555338\n",
      "[48]\tvalid_0's auc: 0.769997\tvalid_0's binary_logloss: 0.555354\n",
      "[49]\tvalid_0's auc: 0.769939\tvalid_0's binary_logloss: 0.555395\n",
      "[50]\tvalid_0's auc: 0.769827\tvalid_0's binary_logloss: 0.555505\n",
      "[51]\tvalid_0's auc: 0.76986\tvalid_0's binary_logloss: 0.55548\n",
      "[52]\tvalid_0's auc: 0.769937\tvalid_0's binary_logloss: 0.55549\n",
      "[53]\tvalid_0's auc: 0.769823\tvalid_0's binary_logloss: 0.555523\n",
      "[54]\tvalid_0's auc: 0.769979\tvalid_0's binary_logloss: 0.555452\n",
      "[55]\tvalid_0's auc: 0.769985\tvalid_0's binary_logloss: 0.555439\n",
      "[56]\tvalid_0's auc: 0.770104\tvalid_0's binary_logloss: 0.555357\n",
      "[57]\tvalid_0's auc: 0.770173\tvalid_0's binary_logloss: 0.555349\n",
      "[58]\tvalid_0's auc: 0.770152\tvalid_0's binary_logloss: 0.555389\n",
      "[59]\tvalid_0's auc: 0.770164\tvalid_0's binary_logloss: 0.555363\n",
      "[60]\tvalid_0's auc: 0.770154\tvalid_0's binary_logloss: 0.555376\n",
      "[61]\tvalid_0's auc: 0.76998\tvalid_0's binary_logloss: 0.555535\n",
      "[62]\tvalid_0's auc: 0.769863\tvalid_0's binary_logloss: 0.555607\n",
      "[63]\tvalid_0's auc: 0.770003\tvalid_0's binary_logloss: 0.55557\n",
      "[64]\tvalid_0's auc: 0.770021\tvalid_0's binary_logloss: 0.555542\n",
      "[65]\tvalid_0's auc: 0.76997\tvalid_0's binary_logloss: 0.555575\n",
      "[66]\tvalid_0's auc: 0.769901\tvalid_0's binary_logloss: 0.555622\n",
      "[67]\tvalid_0's auc: 0.769897\tvalid_0's binary_logloss: 0.555647\n",
      "[68]\tvalid_0's auc: 0.769855\tvalid_0's binary_logloss: 0.555681\n",
      "[69]\tvalid_0's auc: 0.769882\tvalid_0's binary_logloss: 0.555698\n",
      "[70]\tvalid_0's auc: 0.769963\tvalid_0's binary_logloss: 0.555693\n",
      "[71]\tvalid_0's auc: 0.769969\tvalid_0's binary_logloss: 0.555655\n",
      "[72]\tvalid_0's auc: 0.769884\tvalid_0's binary_logloss: 0.555695\n",
      "[73]\tvalid_0's auc: 0.76994\tvalid_0's binary_logloss: 0.555628\n",
      "[74]\tvalid_0's auc: 0.769966\tvalid_0's binary_logloss: 0.555632\n",
      "[75]\tvalid_0's auc: 0.769853\tvalid_0's binary_logloss: 0.555678\n",
      "[76]\tvalid_0's auc: 0.769891\tvalid_0's binary_logloss: 0.555668\n",
      "[77]\tvalid_0's auc: 0.769868\tvalid_0's binary_logloss: 0.555702\n",
      "[78]\tvalid_0's auc: 0.769841\tvalid_0's binary_logloss: 0.555729\n",
      "[79]\tvalid_0's auc: 0.769817\tvalid_0's binary_logloss: 0.555755\n",
      "[80]\tvalid_0's auc: 0.769704\tvalid_0's binary_logloss: 0.555818\n",
      "[81]\tvalid_0's auc: 0.769576\tvalid_0's binary_logloss: 0.555939\n",
      "[82]\tvalid_0's auc: 0.769415\tvalid_0's binary_logloss: 0.556057\n",
      "[83]\tvalid_0's auc: 0.769311\tvalid_0's binary_logloss: 0.5561\n",
      "[84]\tvalid_0's auc: 0.769291\tvalid_0's binary_logloss: 0.556142\n",
      "[85]\tvalid_0's auc: 0.76913\tvalid_0's binary_logloss: 0.556271\n",
      "[86]\tvalid_0's auc: 0.768898\tvalid_0's binary_logloss: 0.55642\n",
      "[87]\tvalid_0's auc: 0.768884\tvalid_0's binary_logloss: 0.556421\n",
      "[88]\tvalid_0's auc: 0.768904\tvalid_0's binary_logloss: 0.556453\n",
      "[89]\tvalid_0's auc: 0.768892\tvalid_0's binary_logloss: 0.556469\n",
      "[90]\tvalid_0's auc: 0.768812\tvalid_0's binary_logloss: 0.556507\n",
      "[91]\tvalid_0's auc: 0.768809\tvalid_0's binary_logloss: 0.556549\n",
      "[92]\tvalid_0's auc: 0.768729\tvalid_0's binary_logloss: 0.556612\n",
      "[93]\tvalid_0's auc: 0.768698\tvalid_0's binary_logloss: 0.556645\n",
      "[94]\tvalid_0's auc: 0.768656\tvalid_0's binary_logloss: 0.556672\n",
      "[95]\tvalid_0's auc: 0.768588\tvalid_0's binary_logloss: 0.556745\n",
      "[96]\tvalid_0's auc: 0.768515\tvalid_0's binary_logloss: 0.556777\n",
      "[97]\tvalid_0's auc: 0.76872\tvalid_0's binary_logloss: 0.556684\n",
      "[98]\tvalid_0's auc: 0.768806\tvalid_0's binary_logloss: 0.556681\n",
      "[99]\tvalid_0's auc: 0.76877\tvalid_0's binary_logloss: 0.556731\n",
      "[100]\tvalid_0's auc: 0.76864\tvalid_0's binary_logloss: 0.556846\n",
      "[101]\tvalid_0's auc: 0.768606\tvalid_0's binary_logloss: 0.556847\n",
      "[102]\tvalid_0's auc: 0.768425\tvalid_0's binary_logloss: 0.556945\n",
      "[103]\tvalid_0's auc: 0.768472\tvalid_0's binary_logloss: 0.556907\n",
      "[104]\tvalid_0's auc: 0.768557\tvalid_0's binary_logloss: 0.55685\n",
      "[105]\tvalid_0's auc: 0.768636\tvalid_0's binary_logloss: 0.556779\n",
      "[106]\tvalid_0's auc: 0.768605\tvalid_0's binary_logloss: 0.556746\n",
      "[107]\tvalid_0's auc: 0.768619\tvalid_0's binary_logloss: 0.556766\n",
      "[108]\tvalid_0's auc: 0.768628\tvalid_0's binary_logloss: 0.556769\n",
      "[109]\tvalid_0's auc: 0.768668\tvalid_0's binary_logloss: 0.556721\n",
      "[110]\tvalid_0's auc: 0.768563\tvalid_0's binary_logloss: 0.556801\n",
      "[111]\tvalid_0's auc: 0.768656\tvalid_0's binary_logloss: 0.55675\n",
      "[112]\tvalid_0's auc: 0.768549\tvalid_0's binary_logloss: 0.556855\n",
      "[113]\tvalid_0's auc: 0.768507\tvalid_0's binary_logloss: 0.556847\n",
      "[114]\tvalid_0's auc: 0.76842\tvalid_0's binary_logloss: 0.556921\n",
      "[115]\tvalid_0's auc: 0.768369\tvalid_0's binary_logloss: 0.556925\n",
      "[116]\tvalid_0's auc: 0.768418\tvalid_0's binary_logloss: 0.556904\n",
      "[117]\tvalid_0's auc: 0.768292\tvalid_0's binary_logloss: 0.557034\n",
      "[118]\tvalid_0's auc: 0.768299\tvalid_0's binary_logloss: 0.557049\n",
      "[119]\tvalid_0's auc: 0.768209\tvalid_0's binary_logloss: 0.557142\n",
      "[120]\tvalid_0's auc: 0.768167\tvalid_0's binary_logloss: 0.557165\n",
      "[121]\tvalid_0's auc: 0.76804\tvalid_0's binary_logloss: 0.557275\n",
      "[122]\tvalid_0's auc: 0.76793\tvalid_0's binary_logloss: 0.557341\n",
      "[123]\tvalid_0's auc: 0.767976\tvalid_0's binary_logloss: 0.557356\n",
      "[124]\tvalid_0's auc: 0.767941\tvalid_0's binary_logloss: 0.557403\n",
      "[125]\tvalid_0's auc: 0.767933\tvalid_0's binary_logloss: 0.557454\n",
      "[126]\tvalid_0's auc: 0.767766\tvalid_0's binary_logloss: 0.557614\n",
      "[127]\tvalid_0's auc: 0.767783\tvalid_0's binary_logloss: 0.557627\n",
      "[128]\tvalid_0's auc: 0.767777\tvalid_0's binary_logloss: 0.557622\n",
      "[129]\tvalid_0's auc: 0.767767\tvalid_0's binary_logloss: 0.557618\n",
      "[130]\tvalid_0's auc: 0.767728\tvalid_0's binary_logloss: 0.557677\n",
      "[131]\tvalid_0's auc: 0.767626\tvalid_0's binary_logloss: 0.55779\n",
      "[132]\tvalid_0's auc: 0.767487\tvalid_0's binary_logloss: 0.557927\n",
      "[133]\tvalid_0's auc: 0.767368\tvalid_0's binary_logloss: 0.558052\n",
      "[134]\tvalid_0's auc: 0.767332\tvalid_0's binary_logloss: 0.558112\n",
      "[135]\tvalid_0's auc: 0.767277\tvalid_0's binary_logloss: 0.558138\n",
      "[136]\tvalid_0's auc: 0.767266\tvalid_0's binary_logloss: 0.558161\n",
      "[137]\tvalid_0's auc: 0.76733\tvalid_0's binary_logloss: 0.558123\n",
      "[138]\tvalid_0's auc: 0.767446\tvalid_0's binary_logloss: 0.558062\n",
      "[139]\tvalid_0's auc: 0.767376\tvalid_0's binary_logloss: 0.558127\n",
      "[140]\tvalid_0's auc: 0.76741\tvalid_0's binary_logloss: 0.558133\n",
      "[141]\tvalid_0's auc: 0.767312\tvalid_0's binary_logloss: 0.558228\n",
      "[142]\tvalid_0's auc: 0.767266\tvalid_0's binary_logloss: 0.55831\n",
      "[143]\tvalid_0's auc: 0.767275\tvalid_0's binary_logloss: 0.55836\n",
      "[144]\tvalid_0's auc: 0.767281\tvalid_0's binary_logloss: 0.558378\n",
      "[145]\tvalid_0's auc: 0.767069\tvalid_0's binary_logloss: 0.558498\n",
      "[146]\tvalid_0's auc: 0.76707\tvalid_0's binary_logloss: 0.558564\n",
      "[147]\tvalid_0's auc: 0.767167\tvalid_0's binary_logloss: 0.558517\n"
     ]
    },
    {
     "data": {
      "text/html": [
       "<style>#sk-container-id-4 {color: black;background-color: white;}#sk-container-id-4 pre{padding: 0;}#sk-container-id-4 div.sk-toggleable {background-color: white;}#sk-container-id-4 label.sk-toggleable__label {cursor: pointer;display: block;width: 100%;margin-bottom: 0;padding: 0.3em;box-sizing: border-box;text-align: center;}#sk-container-id-4 label.sk-toggleable__label-arrow:before {content: \"▸\";float: left;margin-right: 0.25em;color: #696969;}#sk-container-id-4 label.sk-toggleable__label-arrow:hover:before {color: black;}#sk-container-id-4 div.sk-estimator:hover label.sk-toggleable__label-arrow:before {color: black;}#sk-container-id-4 div.sk-toggleable__content {max-height: 0;max-width: 0;overflow: hidden;text-align: left;background-color: #f0f8ff;}#sk-container-id-4 div.sk-toggleable__content pre {margin: 0.2em;color: black;border-radius: 0.25em;background-color: #f0f8ff;}#sk-container-id-4 input.sk-toggleable__control:checked~div.sk-toggleable__content {max-height: 200px;max-width: 100%;overflow: auto;}#sk-container-id-4 input.sk-toggleable__control:checked~label.sk-toggleable__label-arrow:before {content: \"▾\";}#sk-container-id-4 div.sk-estimator input.sk-toggleable__control:checked~label.sk-toggleable__label {background-color: #d4ebff;}#sk-container-id-4 div.sk-label input.sk-toggleable__control:checked~label.sk-toggleable__label {background-color: #d4ebff;}#sk-container-id-4 input.sk-hidden--visually {border: 0;clip: rect(1px 1px 1px 1px);clip: rect(1px, 1px, 1px, 1px);height: 1px;margin: -1px;overflow: hidden;padding: 0;position: absolute;width: 1px;}#sk-container-id-4 div.sk-estimator {font-family: monospace;background-color: #f0f8ff;border: 1px dotted black;border-radius: 0.25em;box-sizing: border-box;margin-bottom: 0.5em;}#sk-container-id-4 div.sk-estimator:hover {background-color: #d4ebff;}#sk-container-id-4 div.sk-parallel-item::after {content: \"\";width: 100%;border-bottom: 1px solid gray;flex-grow: 1;}#sk-container-id-4 div.sk-label:hover label.sk-toggleable__label {background-color: #d4ebff;}#sk-container-id-4 div.sk-serial::before {content: \"\";position: absolute;border-left: 1px solid gray;box-sizing: border-box;top: 0;bottom: 0;left: 50%;z-index: 0;}#sk-container-id-4 div.sk-serial {display: flex;flex-direction: column;align-items: center;background-color: white;padding-right: 0.2em;padding-left: 0.2em;position: relative;}#sk-container-id-4 div.sk-item {position: relative;z-index: 1;}#sk-container-id-4 div.sk-parallel {display: flex;align-items: stretch;justify-content: center;background-color: white;position: relative;}#sk-container-id-4 div.sk-item::before, #sk-container-id-4 div.sk-parallel-item::before {content: \"\";position: absolute;border-left: 1px solid gray;box-sizing: border-box;top: 0;bottom: 0;left: 50%;z-index: -1;}#sk-container-id-4 div.sk-parallel-item {display: flex;flex-direction: column;z-index: 1;position: relative;background-color: white;}#sk-container-id-4 div.sk-parallel-item:first-child::after {align-self: flex-end;width: 50%;}#sk-container-id-4 div.sk-parallel-item:last-child::after {align-self: flex-start;width: 50%;}#sk-container-id-4 div.sk-parallel-item:only-child::after {width: 0;}#sk-container-id-4 div.sk-dashed-wrapped {border: 1px dashed gray;margin: 0 0.4em 0.5em 0.4em;box-sizing: border-box;padding-bottom: 0.4em;background-color: white;}#sk-container-id-4 div.sk-label label {font-family: monospace;font-weight: bold;display: inline-block;line-height: 1.2em;}#sk-container-id-4 div.sk-label-container {text-align: center;}#sk-container-id-4 div.sk-container {/* jupyter's `normalize.less` sets `[hidden] { display: none; }` but bootstrap.min.css set `[hidden] { display: none !important; }` so we also need the `!important` here to be able to override the default hidden behavior on the sphinx rendered scikit-learn.org. See: https://github.com/scikit-learn/scikit-learn/issues/21755 */display: inline-block !important;position: relative;}#sk-container-id-4 div.sk-text-repr-fallback {display: none;}</style><div id=\"sk-container-id-4\" class=\"sk-top-container\"><div class=\"sk-text-repr-fallback\"><pre>LGBMClassifier(n_estimators=400)</pre><b>In a Jupyter environment, please rerun this cell to show the HTML representation or trust the notebook. <br />On GitHub, the HTML representation is unable to render, please try loading this page with nbviewer.org.</b></div><div class=\"sk-container\" hidden><div class=\"sk-item\"><div class=\"sk-estimator sk-toggleable\"><input class=\"sk-toggleable__control sk-hidden--visually\" id=\"sk-estimator-id-4\" type=\"checkbox\" checked><label for=\"sk-estimator-id-4\" class=\"sk-toggleable__label sk-toggleable__label-arrow\">LGBMClassifier</label><div class=\"sk-toggleable__content\"><pre>LGBMClassifier(n_estimators=400)</pre></div></div></div></div></div>"
      ],
      "text/plain": [
       "LGBMClassifier(n_estimators=400)"
      ]
     },
     "execution_count": 72,
     "metadata": {},
     "output_type": "execute_result"
    }
   ],
   "source": [
    "import lightgbm as lgb\n",
    "\n",
    "model=LGBMClassifier(n_estimators=400)\n",
    "evals=[(x_test, y_test)]\n",
    "model.fit(x_train, y_train, early_stopping_rounds=100, eval_metric=\"AUC\",eval_set=evals, verbose=True)"
   ]
  },
  {
   "cell_type": "code",
   "execution_count": 95,
   "id": "685fcbd5",
   "metadata": {},
   "outputs": [],
   "source": [
    "preds=model.predict(x_test)"
   ]
  },
  {
   "cell_type": "code",
   "execution_count": 96,
   "id": "620b530d",
   "metadata": {},
   "outputs": [],
   "source": [
    "pred_proba=model.predict_proba(test)"
   ]
  },
  {
   "cell_type": "code",
   "execution_count": 97,
   "id": "6e59a29f",
   "metadata": {},
   "outputs": [
    {
     "data": {
      "text/plain": [
       "(11383, 2)"
      ]
     },
     "execution_count": 97,
     "metadata": {},
     "output_type": "execute_result"
    }
   ],
   "source": [
    "pred_proba.shape"
   ]
  },
  {
   "cell_type": "code",
   "execution_count": 98,
   "id": "96e41566",
   "metadata": {},
   "outputs": [],
   "source": [
    "submission= pd.read_csv('./sample_submission.csv')\n",
    "submission['voted'] = pred_proba[:,1]\n",
    "submission.to_csv('submission_proba.csv', index = False)"
   ]
  },
  {
   "cell_type": "code",
   "execution_count": 99,
   "id": "0e6e1f25",
   "metadata": {},
   "outputs": [
    {
     "data": {
      "text/html": [
       "<div>\n",
       "<style scoped>\n",
       "    .dataframe tbody tr th:only-of-type {\n",
       "        vertical-align: middle;\n",
       "    }\n",
       "\n",
       "    .dataframe tbody tr th {\n",
       "        vertical-align: top;\n",
       "    }\n",
       "\n",
       "    .dataframe thead th {\n",
       "        text-align: right;\n",
       "    }\n",
       "</style>\n",
       "<table border=\"1\" class=\"dataframe\">\n",
       "  <thead>\n",
       "    <tr style=\"text-align: right;\">\n",
       "      <th></th>\n",
       "      <th>index</th>\n",
       "      <th>voted</th>\n",
       "    </tr>\n",
       "  </thead>\n",
       "  <tbody>\n",
       "    <tr>\n",
       "      <th>0</th>\n",
       "      <td>0</td>\n",
       "      <td>0.591548</td>\n",
       "    </tr>\n",
       "    <tr>\n",
       "      <th>1</th>\n",
       "      <td>1</td>\n",
       "      <td>0.903608</td>\n",
       "    </tr>\n",
       "    <tr>\n",
       "      <th>2</th>\n",
       "      <td>2</td>\n",
       "      <td>0.481670</td>\n",
       "    </tr>\n",
       "    <tr>\n",
       "      <th>3</th>\n",
       "      <td>3</td>\n",
       "      <td>0.181750</td>\n",
       "    </tr>\n",
       "    <tr>\n",
       "      <th>4</th>\n",
       "      <td>4</td>\n",
       "      <td>0.800976</td>\n",
       "    </tr>\n",
       "  </tbody>\n",
       "</table>\n",
       "</div>"
      ],
      "text/plain": [
       "   index     voted\n",
       "0      0  0.591548\n",
       "1      1  0.903608\n",
       "2      2  0.481670\n",
       "3      3  0.181750\n",
       "4      4  0.800976"
      ]
     },
     "execution_count": 99,
     "metadata": {},
     "output_type": "execute_result"
    }
   ],
   "source": [
    "submission.head()"
   ]
  }
 ],
 "metadata": {
  "kernelspec": {
   "display_name": "Python 3 (ipykernel)",
   "language": "python",
   "name": "python3"
  },
  "language_info": {
   "codemirror_mode": {
    "name": "ipython",
    "version": 3
   },
   "file_extension": ".py",
   "mimetype": "text/x-python",
   "name": "python",
   "nbconvert_exporter": "python",
   "pygments_lexer": "ipython3",
   "version": "3.9.12"
  }
 },
 "nbformat": 4,
 "nbformat_minor": 5
}
