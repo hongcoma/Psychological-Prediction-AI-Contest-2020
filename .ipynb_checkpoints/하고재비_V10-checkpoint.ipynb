{
 "cells": [
  {
   "cell_type": "markdown",
   "id": "d6c0a76c",
   "metadata": {},
   "source": [
    "# 시각화"
   ]
  },
  {
   "cell_type": "code",
   "execution_count": 515,
   "id": "951f1aa8",
   "metadata": {},
   "outputs": [],
   "source": [
    "import matplotlib.pyplot as plt\n",
    "%matplotlib inline\n",
    "import seaborn as sns\n",
    "sns.set() # setting seaborn default for plots\n",
    "\n",
    "def bar_chart(feature):\n",
    "    yes = train[train['voted']==1][feature].value_counts()\n",
    "    no = train[train['voted']==2][feature].value_counts()\n",
    "    df = pd.DataFrame([yes,no])\n",
    "    df.index = ['Yes','No']\n",
    "    df.plot(kind='bar',stacked=True, figsize=(10,5))"
   ]
  },
  {
   "cell_type": "code",
   "execution_count": 516,
   "id": "57b1a445",
   "metadata": {},
   "outputs": [],
   "source": [
    "import pandas as pd\n",
    "\n",
    "train=pd.read_csv('./train.csv')\n",
    "test=pd.read_csv('./test_x.csv')"
   ]
  },
  {
   "cell_type": "markdown",
   "id": "d5d66bbb",
   "metadata": {},
   "source": [
    "# 데이터 전처리"
   ]
  },
  {
   "cell_type": "code",
   "execution_count": 517,
   "id": "5132a1e5",
   "metadata": {},
   "outputs": [],
   "source": [
    "import numpy as np\n",
    "train['trust']=1\n",
    "test['trust']=1\n",
    "\n",
    "family_drop_score=10\n",
    "\n",
    "train['trust']=np.where(train['familysize'] >= family_drop_score, 0, train['trust'])\n",
    "test['trust']=np.where(test['familysize'] >= family_drop_score, 0, test['trust'])\n",
    "\n",
    "train['trust']=np.where(train['education'] == 0, 0, train['trust'])\n",
    "train['education']=np.where(train['education'] == 0, 2, train['education'])\n",
    "test['trust']=np.where(test['education'] == 0, 0, test['trust'])\n",
    "test['education']=np.where(test['education'] == 0, 2, test['education'])\n",
    "\n",
    "train['urban']=train['urban'].astype('str')\n",
    "test['urban']=test['urban'].astype('str')\n",
    "\n",
    "train['education']=train['education'].astype('str')\n",
    "test['education']=test['education'].astype('str')\n"
   ]
  },
  {
   "cell_type": "code",
   "execution_count": 518,
   "id": "cc005109",
   "metadata": {},
   "outputs": [
    {
     "data": {
      "text/plain": [
       "0        17874\n",
       "1        49565\n",
       "2        29661\n",
       "3        58846\n",
       "4        18487\n",
       "         ...  \n",
       "45527    13080\n",
       "45528    26033\n",
       "45529    25427\n",
       "45530    23673\n",
       "45531    27352\n",
       "Name: time, Length: 45532, dtype: int64"
      ]
     },
     "execution_count": 518,
     "metadata": {},
     "output_type": "execute_result"
    }
   ],
   "source": [
    "time = ['QaE', 'QbE', 'QcE', 'QdE', 'QeE','QfE', 'QgE', 'QhE', 'QiE', 'QjE', 'QkE', 'QlE', 'QmE', 'QnE', 'QoE', 'QpE', 'QqE', 'QrE', 'QsE', 'QtE']\n",
    "\n",
    "train[time] = np.where(train[time] > 10000, 10000, train[time])\n",
    "test[time] = np.where(test[time] > 10000, 10000, test[time])\n",
    "\n",
    "train['time']=train[time].sum(axis=1)\n",
    "test['time']=test[time].sum(axis=1)\n",
    "train['time']"
   ]
  },
  {
   "cell_type": "markdown",
   "id": "f829ef3e",
   "metadata": {},
   "source": [
    "# 원핫 인코딩 (gender, race, religion)"
   ]
  },
  {
   "cell_type": "code",
   "execution_count": 519,
   "id": "741c771b",
   "metadata": {},
   "outputs": [],
   "source": [
    "train=pd.get_dummies(train, columns=['race'])\n",
    "train=pd.get_dummies(train, columns=['religion'])\n",
    "train=pd.get_dummies(train, columns=['gender'])\n",
    "train=pd.get_dummies(train, columns=['urban'])\n",
    "train=pd.get_dummies(train, columns=['education'])\n",
    "train=pd.get_dummies(train, columns=['age_group'])\n",
    "train=pd.get_dummies(train, columns=['hand'])\n",
    "\n",
    "test=pd.get_dummies(test, columns=['race'])\n",
    "test=pd.get_dummies(test, columns=['religion'])\n",
    "test=pd.get_dummies(test, columns=['gender'])\n",
    "test=pd.get_dummies(test, columns=['urban'])\n",
    "test=pd.get_dummies(test, columns=['education'])\n",
    "test=pd.get_dummies(test, columns=['age_group'])\n",
    "test=pd.get_dummies(test, columns=['hand'])"
   ]
  },
  {
   "cell_type": "markdown",
   "id": "1d4cb1a4",
   "metadata": {},
   "source": [
    "# Feature : Mach_score (마키아벨리니즘 스코어)"
   ]
  },
  {
   "cell_type": "code",
   "execution_count": 520,
   "id": "5f73d7a8",
   "metadata": {
    "scrolled": false
   },
   "outputs": [],
   "source": [
    "Answers = ['QaA', 'QbA', 'QcA', 'QdA', 'QeA',\n",
    "             'QfA', 'QgA', 'QhA', 'QiA', 'QjA', \n",
    "             'QkA', 'QlA', 'QmA', 'QnA', 'QoA', \n",
    "             'QpA', 'QqA', 'QrA', 'QsA', 'QtA']"
   ]
  },
  {
   "cell_type": "code",
   "execution_count": 521,
   "id": "f031affe",
   "metadata": {},
   "outputs": [],
   "source": [
    "reverse = [\"QeA\", \"QfA\", \"QkA\", \"QqA\", \"QrA\"]\n",
    "for r in reverse: \n",
    "        train[r] = 6 - train[r]\n",
    "        test[r] = 6 - test[r]"
   ]
  },
  {
   "cell_type": "code",
   "execution_count": 522,
   "id": "329ca96b",
   "metadata": {},
   "outputs": [],
   "source": [
    "reverse = [\"QaA\", \"QdA\", \"QgA\", \"QiA\", \"QnA\"]\n",
    "for r in reverse: \n",
    "        train[r] = 6 - train[r]\n",
    "        test[r] = 6 - test[r]"
   ]
  },
  {
   "cell_type": "code",
   "execution_count": 523,
   "id": "c589c845",
   "metadata": {},
   "outputs": [],
   "source": [
    "train['Mach_score'] = train[Answers].mean(axis = 1)\n",
    "test['Mach_score'] = test[Answers].mean(axis = 1)"
   ]
  },
  {
   "cell_type": "markdown",
   "id": "d3acad36",
   "metadata": {},
   "source": [
    "# Feature : tp0106, tp0207, tp0308, tp0409, tp0510 (관련있는 tp 끼리 묶음)"
   ]
  },
  {
   "cell_type": "code",
   "execution_count": 524,
   "id": "3d213727",
   "metadata": {},
   "outputs": [],
   "source": [
    "Tp = ['tp01', 'tp02', 'tp03', 'tp04', 'tp05',\n",
    "             'tp06', 'tp07', 'tp08', 'tp09', 'tp10']"
   ]
  },
  {
   "cell_type": "code",
   "execution_count": 525,
   "id": "f5c66c11",
   "metadata": {
    "scrolled": true
   },
   "outputs": [
    {
     "data": {
      "text/html": [
       "<div>\n",
       "<style scoped>\n",
       "    .dataframe tbody tr th:only-of-type {\n",
       "        vertical-align: middle;\n",
       "    }\n",
       "\n",
       "    .dataframe tbody tr th {\n",
       "        vertical-align: top;\n",
       "    }\n",
       "\n",
       "    .dataframe thead th {\n",
       "        text-align: right;\n",
       "    }\n",
       "</style>\n",
       "<table border=\"1\" class=\"dataframe\">\n",
       "  <thead>\n",
       "    <tr style=\"text-align: right;\">\n",
       "      <th></th>\n",
       "      <th>tp0106</th>\n",
       "      <th>tp0207</th>\n",
       "      <th>tp0308</th>\n",
       "      <th>tp0409</th>\n",
       "      <th>tp0510</th>\n",
       "    </tr>\n",
       "  </thead>\n",
       "  <tbody>\n",
       "    <tr>\n",
       "      <th>tp0106</th>\n",
       "      <td>1.000000</td>\n",
       "      <td>-0.074353</td>\n",
       "      <td>0.046224</td>\n",
       "      <td>-0.089011</td>\n",
       "      <td>0.233300</td>\n",
       "    </tr>\n",
       "    <tr>\n",
       "      <th>tp0207</th>\n",
       "      <td>-0.074353</td>\n",
       "      <td>1.000000</td>\n",
       "      <td>-0.099263</td>\n",
       "      <td>0.078964</td>\n",
       "      <td>-0.089960</td>\n",
       "    </tr>\n",
       "    <tr>\n",
       "      <th>tp0308</th>\n",
       "      <td>0.046224</td>\n",
       "      <td>-0.099263</td>\n",
       "      <td>1.000000</td>\n",
       "      <td>-0.287484</td>\n",
       "      <td>0.039089</td>\n",
       "    </tr>\n",
       "    <tr>\n",
       "      <th>tp0409</th>\n",
       "      <td>-0.089011</td>\n",
       "      <td>0.078964</td>\n",
       "      <td>-0.287484</td>\n",
       "      <td>1.000000</td>\n",
       "      <td>-0.102691</td>\n",
       "    </tr>\n",
       "    <tr>\n",
       "      <th>tp0510</th>\n",
       "      <td>0.233300</td>\n",
       "      <td>-0.089960</td>\n",
       "      <td>0.039089</td>\n",
       "      <td>-0.102691</td>\n",
       "      <td>1.000000</td>\n",
       "    </tr>\n",
       "  </tbody>\n",
       "</table>\n",
       "</div>"
      ],
      "text/plain": [
       "          tp0106    tp0207    tp0308    tp0409    tp0510\n",
       "tp0106  1.000000 -0.074353  0.046224 -0.089011  0.233300\n",
       "tp0207 -0.074353  1.000000 -0.099263  0.078964 -0.089960\n",
       "tp0308  0.046224 -0.099263  1.000000 -0.287484  0.039089\n",
       "tp0409 -0.089011  0.078964 -0.287484  1.000000 -0.102691\n",
       "tp0510  0.233300 -0.089960  0.039089 -0.102691  1.000000"
      ]
     },
     "execution_count": 525,
     "metadata": {},
     "output_type": "execute_result"
    }
   ],
   "source": [
    "reverse = [\"tp06\", \"tp07\", \"tp08\", \"tp09\", \"tp10\"]\n",
    "for r in reverse: \n",
    "        train[r] = 7 - train[r]\n",
    "        test[r] = 7 - test[r]\n",
    "        \n",
    "tp0106=['tp01', 'tp06']\n",
    "tp0207=['tp02', 'tp07']\n",
    "tp0308=['tp03', 'tp08']\n",
    "tp0409=['tp04', 'tp09']\n",
    "tp0510=['tp05', 'tp10']\n",
    "train['tp0106'] = train[tp0106].sum(axis = 1)\n",
    "train['tp0207'] = train[tp0207].sum(axis = 1)\n",
    "train['tp0308'] = train[tp0308].sum(axis = 1)\n",
    "train['tp0409'] = train[tp0409].sum(axis = 1)\n",
    "train['tp0510'] = train[tp0510].sum(axis = 1)\n",
    "temp=['tp0106', 'tp0207', 'tp0308','tp0409', 'tp0510']\n",
    "\n",
    "test['tp0106'] = test[tp0106].sum(axis = 1)\n",
    "test['tp0207'] = test[tp0207].sum(axis = 1)\n",
    "test['tp0308'] = test[tp0308].sum(axis = 1)\n",
    "test['tp0409'] = test[tp0409].sum(axis = 1)\n",
    "test['tp0510'] = test[tp0510].sum(axis = 1)\n",
    "train[temp].corr()"
   ]
  },
  {
   "cell_type": "code",
   "execution_count": 526,
   "id": "82b7ce3e",
   "metadata": {},
   "outputs": [],
   "source": [
    "tp_drop_score=11\n",
    "\n",
    "train['trust']=np.where(train['tp0106'] >= tp_drop_score, 0, train['trust'])\n",
    "train['trust']=np.where(train['tp0207'] >= tp_drop_score, 0, train['trust'])\n",
    "train['trust']=np.where(train['tp0308'] >= tp_drop_score, 0, train['trust'])\n",
    "train['trust']=np.where(train['tp0409'] >= tp_drop_score, 0, train['trust'])\n",
    "train['trust']=np.where(train['tp0510'] >= tp_drop_score, 0, train['trust'])\n",
    "\n",
    "test['trust']=np.where(test['tp0106'] >= tp_drop_score, 0, test['trust'])\n",
    "test['trust']=np.where(test['tp0207'] >= tp_drop_score, 0, test['trust'])\n",
    "test['trust']=np.where(test['tp0308'] >= tp_drop_score, 0, test['trust'])\n",
    "test['trust']=np.where(test['tp0409'] >= tp_drop_score, 0, test['trust'])\n",
    "test['trust']=np.where(test['tp0510'] >= tp_drop_score, 0, test['trust'])\n",
    "\n",
    "train['tp0106']=np.where(train['tp0106'] >= tp_drop_score, 11, train['tp0106'])\n",
    "train['tp0207']=np.where(train['tp0207'] >= tp_drop_score, 11, train['tp0207'])\n",
    "train['tp0308']=np.where(train['tp0308'] >= tp_drop_score, 11, train['tp0308'])\n",
    "train['tp0409']=np.where(train['tp0409'] >= tp_drop_score, 11, train['tp0409'])\n",
    "train['tp0510']=np.where(train['tp0510'] >= tp_drop_score, 11, train['tp0510'])\n",
    "\n",
    "test['tp0106']=np.where(test['tp0106'] >= tp_drop_score, 11, test['tp0106'])\n",
    "test['tp0207']=np.where(test['tp0207'] >= tp_drop_score, 11, test['tp0207'])\n",
    "test['tp0308']=np.where(test['tp0308'] >= tp_drop_score, 11, test['tp0308'])\n",
    "test['tp0409']=np.where(test['tp0409'] >= tp_drop_score, 11, test['tp0409'])\n",
    "test['tp0510']=np.where(test['tp0510'] >= tp_drop_score, 11, test['tp0510'])"
   ]
  },
  {
   "cell_type": "markdown",
   "id": "65e01335",
   "metadata": {},
   "source": [
    "# wf_(1~3) : 설문자의 어휘 능력 (허구인 단어의 정의를 앎)"
   ]
  },
  {
   "cell_type": "code",
   "execution_count": 527,
   "id": "ae88ab68",
   "metadata": {
    "scrolled": true
   },
   "outputs": [],
   "source": [
    "wf=['wf_01', 'wf_02', 'wf_03']\n",
    "\n",
    "train['wf']=train[wf].mean(axis=1)\n",
    "train['trust']= np.where(train['wf'] >= 0.0, 0, train['trust'])\n",
    "\n",
    "test['wf']=test[wf].mean(axis=1)\n",
    "test['trust']= np.where(test['wf'] >= 0.0, 0, test['trust'])"
   ]
  },
  {
   "cell_type": "markdown",
   "id": "ab06e14f",
   "metadata": {},
   "source": [
    "# drop 할 feature들"
   ]
  },
  {
   "cell_type": "code",
   "execution_count": 528,
   "id": "a0686027",
   "metadata": {},
   "outputs": [],
   "source": [
    "left_feature=[\n",
    "#                 'engnat',\n",
    "    \n",
    "#                 'familysize',\n",
    "    \n",
    "#                 'married',\n",
    "    \n",
    "#                 'race_Arab', 'race_Asian','race_Black','race_Indigenous Australian','race_Native American','race_Other','race_White',               \n",
    "    \n",
    "                'religion_Agnostic','religion_Atheist', 'religion_Buddhist','religion_Christian_Catholic','religion_Christian_Mormon', \n",
    "                'religion_Christian_Other', 'religion_Christian_Protestant', 'religion_Hindu','religion_Jewish','religion_Muslim', \n",
    "                'religion_Other','religion_Sikh',\n",
    "    \n",
    "#                 'gender_Female','gender_Male',\n",
    "                \n",
    "#                 'urban_0','urban_1','urban_2','urban_3',\n",
    "    \n",
    "#                 'education_1', 'education_2', 'education_3', 'education_4'\n",
    "                \n",
    "#                 'age_group_+70s','age_group_10s','age_group_20s','age_group_30s','age_group_40s','age_group_50s','age_group_60s'\n",
    "                \n",
    "                'QaA', 'QbA', 'QcA', 'QdA', 'QeA','QfA', 'QgA', 'QhA', 'QiA', 'QjA', 'QkA', 'QlA', 'QmA', 'QnA', 'QoA','QpA', \n",
    "                'QqA', 'QrA', 'QsA', 'QtA',\n",
    "                \n",
    "                'QaE', 'QbE', 'QcE', 'QdE', 'QeE', 'QfE', 'QgE', 'QhE', 'QiE', 'QjE', 'QkE', 'QlE','QmE', 'QnE', 'QoE', 'QpE', \n",
    "                'QqE', 'QrE', 'QsE', 'QtE',\n",
    "    \n",
    "                'time',        \n",
    "              \n",
    "                'tp01', 'tp02', 'tp03', 'tp04', 'tp05','tp06','tp07', 'tp08', 'tp09', 'tp10',\n",
    "              \n",
    "                'wr_01', 'wr_02', 'wr_03', 'wr_04', 'wr_05', 'wr_06', 'wr_07', 'wr_08', 'wr_09','wr_10','wr_11', 'wr_12', 'wr_13', \n",
    "                'wf_01', 'wf_02', 'wf_03', 'wf',\n",
    "              \n",
    "                'hand_0','hand_1','hand_2','hand_3',\n",
    "              \n",
    "              ]\n",
    "\n",
    "train = train.drop(left_feature, axis = 1)\n",
    "test = test.drop(left_feature, axis = 1)"
   ]
  },
  {
   "cell_type": "markdown",
   "id": "b90b6eae",
   "metadata": {},
   "source": [
    "# Model 생성"
   ]
  },
  {
   "cell_type": "code",
   "execution_count": 529,
   "id": "ddc2ea46",
   "metadata": {},
   "outputs": [],
   "source": [
    "from sklearn.neighbors import KNeighborsClassifier\n",
    "from sklearn.tree import DecisionTreeClassifier\n",
    "from sklearn.ensemble import RandomForestClassifier\n",
    "from sklearn.naive_bayes import GaussianNB\n",
    "from sklearn.svm import SVC"
   ]
  },
  {
   "cell_type": "markdown",
   "id": "93c8e33a",
   "metadata": {},
   "source": [
    "# 사용한 feature 목록"
   ]
  },
  {
   "cell_type": "code",
   "execution_count": 530,
   "id": "65fb6275",
   "metadata": {
    "scrolled": false
   },
   "outputs": [
    {
     "name": "stdout",
     "output_type": "stream",
     "text": [
      "index\n",
      "engnat\n",
      "familysize\n",
      "married\n",
      "voted\n",
      "trust\n",
      "race_Arab\n",
      "race_Asian\n",
      "race_Black\n",
      "race_Indigenous Australian\n",
      "race_Native American\n",
      "race_Other\n",
      "race_White\n",
      "gender_Female\n",
      "gender_Male\n",
      "urban_0\n",
      "urban_1\n",
      "urban_2\n",
      "urban_3\n",
      "education_1\n",
      "education_2\n",
      "education_3\n",
      "education_4\n",
      "age_group_+70s\n",
      "age_group_10s\n",
      "age_group_20s\n",
      "age_group_30s\n",
      "age_group_40s\n",
      "age_group_50s\n",
      "age_group_60s\n",
      "Mach_score\n",
      "tp0106\n",
      "tp0207\n",
      "tp0308\n",
      "tp0409\n",
      "tp0510\n"
     ]
    }
   ],
   "source": [
    "for i in train:\n",
    "    print(i)\n"
   ]
  },
  {
   "cell_type": "markdown",
   "id": "19e092ef",
   "metadata": {},
   "source": [
    "# Auto ML"
   ]
  },
  {
   "cell_type": "code",
   "execution_count": 531,
   "id": "b3c58672",
   "metadata": {
    "scrolled": false
   },
   "outputs": [
    {
     "data": {
      "text/html": [
       "<style type=\"text/css\">\n",
       "#T_15846_row10_col1 {\n",
       "  background-color: lightgreen;\n",
       "}\n",
       "</style>\n",
       "<table id=\"T_15846\">\n",
       "  <thead>\n",
       "    <tr>\n",
       "      <th class=\"blank level0\" >&nbsp;</th>\n",
       "      <th id=\"T_15846_level0_col0\" class=\"col_heading level0 col0\" >Description</th>\n",
       "      <th id=\"T_15846_level0_col1\" class=\"col_heading level0 col1\" >Value</th>\n",
       "    </tr>\n",
       "  </thead>\n",
       "  <tbody>\n",
       "    <tr>\n",
       "      <th id=\"T_15846_level0_row0\" class=\"row_heading level0 row0\" >0</th>\n",
       "      <td id=\"T_15846_row0_col0\" class=\"data row0 col0\" >Session id</td>\n",
       "      <td id=\"T_15846_row0_col1\" class=\"data row0 col1\" >1395</td>\n",
       "    </tr>\n",
       "    <tr>\n",
       "      <th id=\"T_15846_level0_row1\" class=\"row_heading level0 row1\" >1</th>\n",
       "      <td id=\"T_15846_row1_col0\" class=\"data row1 col0\" >Target</td>\n",
       "      <td id=\"T_15846_row1_col1\" class=\"data row1 col1\" >voted</td>\n",
       "    </tr>\n",
       "    <tr>\n",
       "      <th id=\"T_15846_level0_row2\" class=\"row_heading level0 row2\" >2</th>\n",
       "      <td id=\"T_15846_row2_col0\" class=\"data row2 col0\" >Target type</td>\n",
       "      <td id=\"T_15846_row2_col1\" class=\"data row2 col1\" >Binary</td>\n",
       "    </tr>\n",
       "    <tr>\n",
       "      <th id=\"T_15846_level0_row3\" class=\"row_heading level0 row3\" >3</th>\n",
       "      <td id=\"T_15846_row3_col0\" class=\"data row3 col0\" >Target mapping</td>\n",
       "      <td id=\"T_15846_row3_col1\" class=\"data row3 col1\" >1: 0, 2: 1</td>\n",
       "    </tr>\n",
       "    <tr>\n",
       "      <th id=\"T_15846_level0_row4\" class=\"row_heading level0 row4\" >4</th>\n",
       "      <td id=\"T_15846_row4_col0\" class=\"data row4 col0\" >Original data shape</td>\n",
       "      <td id=\"T_15846_row4_col1\" class=\"data row4 col1\" >(45532, 35)</td>\n",
       "    </tr>\n",
       "    <tr>\n",
       "      <th id=\"T_15846_level0_row5\" class=\"row_heading level0 row5\" >5</th>\n",
       "      <td id=\"T_15846_row5_col0\" class=\"data row5 col0\" >Transformed data shape</td>\n",
       "      <td id=\"T_15846_row5_col1\" class=\"data row5 col1\" >(45532, 34)</td>\n",
       "    </tr>\n",
       "    <tr>\n",
       "      <th id=\"T_15846_level0_row6\" class=\"row_heading level0 row6\" >6</th>\n",
       "      <td id=\"T_15846_row6_col0\" class=\"data row6 col0\" >Transformed train set shape</td>\n",
       "      <td id=\"T_15846_row6_col1\" class=\"data row6 col1\" >(31872, 34)</td>\n",
       "    </tr>\n",
       "    <tr>\n",
       "      <th id=\"T_15846_level0_row7\" class=\"row_heading level0 row7\" >7</th>\n",
       "      <td id=\"T_15846_row7_col0\" class=\"data row7 col0\" >Transformed test set shape</td>\n",
       "      <td id=\"T_15846_row7_col1\" class=\"data row7 col1\" >(13660, 34)</td>\n",
       "    </tr>\n",
       "    <tr>\n",
       "      <th id=\"T_15846_level0_row8\" class=\"row_heading level0 row8\" >8</th>\n",
       "      <td id=\"T_15846_row8_col0\" class=\"data row8 col0\" >Ignore features</td>\n",
       "      <td id=\"T_15846_row8_col1\" class=\"data row8 col1\" >1</td>\n",
       "    </tr>\n",
       "    <tr>\n",
       "      <th id=\"T_15846_level0_row9\" class=\"row_heading level0 row9\" >9</th>\n",
       "      <td id=\"T_15846_row9_col0\" class=\"data row9 col0\" >Numeric features</td>\n",
       "      <td id=\"T_15846_row9_col1\" class=\"data row9 col1\" >34</td>\n",
       "    </tr>\n",
       "    <tr>\n",
       "      <th id=\"T_15846_level0_row10\" class=\"row_heading level0 row10\" >10</th>\n",
       "      <td id=\"T_15846_row10_col0\" class=\"data row10 col0\" >Preprocess</td>\n",
       "      <td id=\"T_15846_row10_col1\" class=\"data row10 col1\" >True</td>\n",
       "    </tr>\n",
       "    <tr>\n",
       "      <th id=\"T_15846_level0_row11\" class=\"row_heading level0 row11\" >11</th>\n",
       "      <td id=\"T_15846_row11_col0\" class=\"data row11 col0\" >Imputation type</td>\n",
       "      <td id=\"T_15846_row11_col1\" class=\"data row11 col1\" >simple</td>\n",
       "    </tr>\n",
       "    <tr>\n",
       "      <th id=\"T_15846_level0_row12\" class=\"row_heading level0 row12\" >12</th>\n",
       "      <td id=\"T_15846_row12_col0\" class=\"data row12 col0\" >Numeric imputation</td>\n",
       "      <td id=\"T_15846_row12_col1\" class=\"data row12 col1\" >mean</td>\n",
       "    </tr>\n",
       "    <tr>\n",
       "      <th id=\"T_15846_level0_row13\" class=\"row_heading level0 row13\" >13</th>\n",
       "      <td id=\"T_15846_row13_col0\" class=\"data row13 col0\" >Categorical imputation</td>\n",
       "      <td id=\"T_15846_row13_col1\" class=\"data row13 col1\" >constant</td>\n",
       "    </tr>\n",
       "    <tr>\n",
       "      <th id=\"T_15846_level0_row14\" class=\"row_heading level0 row14\" >14</th>\n",
       "      <td id=\"T_15846_row14_col0\" class=\"data row14 col0\" >Low variance threshold</td>\n",
       "      <td id=\"T_15846_row14_col1\" class=\"data row14 col1\" >0</td>\n",
       "    </tr>\n",
       "    <tr>\n",
       "      <th id=\"T_15846_level0_row15\" class=\"row_heading level0 row15\" >15</th>\n",
       "      <td id=\"T_15846_row15_col0\" class=\"data row15 col0\" >Fold Generator</td>\n",
       "      <td id=\"T_15846_row15_col1\" class=\"data row15 col1\" >StratifiedKFold</td>\n",
       "    </tr>\n",
       "    <tr>\n",
       "      <th id=\"T_15846_level0_row16\" class=\"row_heading level0 row16\" >16</th>\n",
       "      <td id=\"T_15846_row16_col0\" class=\"data row16 col0\" >Fold Number</td>\n",
       "      <td id=\"T_15846_row16_col1\" class=\"data row16 col1\" >10</td>\n",
       "    </tr>\n",
       "    <tr>\n",
       "      <th id=\"T_15846_level0_row17\" class=\"row_heading level0 row17\" >17</th>\n",
       "      <td id=\"T_15846_row17_col0\" class=\"data row17 col0\" >CPU Jobs</td>\n",
       "      <td id=\"T_15846_row17_col1\" class=\"data row17 col1\" >-1</td>\n",
       "    </tr>\n",
       "    <tr>\n",
       "      <th id=\"T_15846_level0_row18\" class=\"row_heading level0 row18\" >18</th>\n",
       "      <td id=\"T_15846_row18_col0\" class=\"data row18 col0\" >Use GPU</td>\n",
       "      <td id=\"T_15846_row18_col1\" class=\"data row18 col1\" >False</td>\n",
       "    </tr>\n",
       "    <tr>\n",
       "      <th id=\"T_15846_level0_row19\" class=\"row_heading level0 row19\" >19</th>\n",
       "      <td id=\"T_15846_row19_col0\" class=\"data row19 col0\" >Log Experiment</td>\n",
       "      <td id=\"T_15846_row19_col1\" class=\"data row19 col1\" >False</td>\n",
       "    </tr>\n",
       "    <tr>\n",
       "      <th id=\"T_15846_level0_row20\" class=\"row_heading level0 row20\" >20</th>\n",
       "      <td id=\"T_15846_row20_col0\" class=\"data row20 col0\" >Experiment Name</td>\n",
       "      <td id=\"T_15846_row20_col1\" class=\"data row20 col1\" >clf-default-name</td>\n",
       "    </tr>\n",
       "    <tr>\n",
       "      <th id=\"T_15846_level0_row21\" class=\"row_heading level0 row21\" >21</th>\n",
       "      <td id=\"T_15846_row21_col0\" class=\"data row21 col0\" >USI</td>\n",
       "      <td id=\"T_15846_row21_col1\" class=\"data row21 col1\" >8116</td>\n",
       "    </tr>\n",
       "  </tbody>\n",
       "</table>\n"
      ],
      "text/plain": [
       "<pandas.io.formats.style.Styler at 0x1ff11115f10>"
      ]
     },
     "metadata": {},
     "output_type": "display_data"
    }
   ],
   "source": [
    "from pycaret.classification import *\n",
    "clf = setup(data = train, target = 'voted',ignore_features=['index'])"
   ]
  },
  {
   "cell_type": "markdown",
   "id": "b047a4ac",
   "metadata": {},
   "source": [
    "# 모델 학습 및 비교 (Train models and compare)"
   ]
  },
  {
   "cell_type": "code",
   "execution_count": 532,
   "id": "58e678c3",
   "metadata": {
    "scrolled": false
   },
   "outputs": [
    {
     "data": {
      "text/html": [],
      "text/plain": [
       "<IPython.core.display.HTML object>"
      ]
     },
     "metadata": {},
     "output_type": "display_data"
    },
    {
     "data": {
      "text/html": [
       "<style type=\"text/css\">\n",
       "#T_1fe88 th {\n",
       "  text-align: left;\n",
       "}\n",
       "#T_1fe88_row0_col0, #T_1fe88_row0_col1, #T_1fe88_row0_col3, #T_1fe88_row0_col4, #T_1fe88_row0_col5, #T_1fe88_row0_col6, #T_1fe88_row0_col7, #T_1fe88_row1_col0, #T_1fe88_row1_col2, #T_1fe88_row1_col3, #T_1fe88_row1_col4, #T_1fe88_row1_col5, #T_1fe88_row2_col0, #T_1fe88_row2_col1, #T_1fe88_row2_col2, #T_1fe88_row2_col3, #T_1fe88_row2_col4, #T_1fe88_row2_col5, #T_1fe88_row2_col6, #T_1fe88_row2_col7, #T_1fe88_row3_col0, #T_1fe88_row3_col1, #T_1fe88_row3_col2, #T_1fe88_row3_col3, #T_1fe88_row3_col4, #T_1fe88_row3_col5, #T_1fe88_row3_col6, #T_1fe88_row3_col7, #T_1fe88_row4_col0, #T_1fe88_row4_col1, #T_1fe88_row4_col2, #T_1fe88_row4_col3, #T_1fe88_row4_col4, #T_1fe88_row4_col5, #T_1fe88_row4_col6, #T_1fe88_row4_col7, #T_1fe88_row5_col0, #T_1fe88_row5_col1, #T_1fe88_row5_col2, #T_1fe88_row5_col3, #T_1fe88_row5_col4, #T_1fe88_row5_col5, #T_1fe88_row5_col6, #T_1fe88_row5_col7, #T_1fe88_row6_col0, #T_1fe88_row6_col1, #T_1fe88_row6_col2, #T_1fe88_row6_col3, #T_1fe88_row6_col4, #T_1fe88_row6_col5, #T_1fe88_row6_col6, #T_1fe88_row6_col7, #T_1fe88_row7_col0, #T_1fe88_row7_col1, #T_1fe88_row7_col2, #T_1fe88_row7_col3, #T_1fe88_row7_col5, #T_1fe88_row7_col6, #T_1fe88_row7_col7, #T_1fe88_row8_col0, #T_1fe88_row8_col1, #T_1fe88_row8_col2, #T_1fe88_row8_col3, #T_1fe88_row8_col4, #T_1fe88_row8_col5, #T_1fe88_row8_col6, #T_1fe88_row8_col7, #T_1fe88_row9_col0, #T_1fe88_row9_col1, #T_1fe88_row9_col2, #T_1fe88_row9_col3, #T_1fe88_row9_col4, #T_1fe88_row9_col5, #T_1fe88_row9_col6, #T_1fe88_row9_col7, #T_1fe88_row10_col0, #T_1fe88_row10_col1, #T_1fe88_row10_col2, #T_1fe88_row10_col3, #T_1fe88_row10_col4, #T_1fe88_row10_col5, #T_1fe88_row10_col6, #T_1fe88_row10_col7, #T_1fe88_row11_col0, #T_1fe88_row11_col1, #T_1fe88_row11_col2, #T_1fe88_row11_col4, #T_1fe88_row11_col6, #T_1fe88_row11_col7, #T_1fe88_row12_col0, #T_1fe88_row12_col1, #T_1fe88_row12_col2, #T_1fe88_row12_col3, #T_1fe88_row12_col4, #T_1fe88_row12_col5, #T_1fe88_row12_col6, #T_1fe88_row12_col7, #T_1fe88_row13_col0, #T_1fe88_row13_col1, #T_1fe88_row13_col2, #T_1fe88_row13_col3, #T_1fe88_row13_col4, #T_1fe88_row13_col5, #T_1fe88_row13_col6, #T_1fe88_row13_col7 {\n",
       "  text-align: left;\n",
       "}\n",
       "#T_1fe88_row0_col2, #T_1fe88_row1_col1, #T_1fe88_row1_col6, #T_1fe88_row1_col7, #T_1fe88_row7_col4, #T_1fe88_row11_col3, #T_1fe88_row11_col5 {\n",
       "  text-align: left;\n",
       "  background-color: yellow;\n",
       "}\n",
       "#T_1fe88_row0_col8, #T_1fe88_row1_col8, #T_1fe88_row2_col8, #T_1fe88_row3_col8, #T_1fe88_row4_col8, #T_1fe88_row5_col8, #T_1fe88_row6_col8, #T_1fe88_row7_col8, #T_1fe88_row8_col8, #T_1fe88_row9_col8, #T_1fe88_row10_col8, #T_1fe88_row12_col8, #T_1fe88_row13_col8 {\n",
       "  text-align: left;\n",
       "  background-color: lightgrey;\n",
       "}\n",
       "#T_1fe88_row11_col8 {\n",
       "  text-align: left;\n",
       "  background-color: yellow;\n",
       "  background-color: lightgrey;\n",
       "}\n",
       "</style>\n",
       "<table id=\"T_1fe88\">\n",
       "  <thead>\n",
       "    <tr>\n",
       "      <th class=\"blank level0\" >&nbsp;</th>\n",
       "      <th id=\"T_1fe88_level0_col0\" class=\"col_heading level0 col0\" >Model</th>\n",
       "      <th id=\"T_1fe88_level0_col1\" class=\"col_heading level0 col1\" >Accuracy</th>\n",
       "      <th id=\"T_1fe88_level0_col2\" class=\"col_heading level0 col2\" >AUC</th>\n",
       "      <th id=\"T_1fe88_level0_col3\" class=\"col_heading level0 col3\" >Recall</th>\n",
       "      <th id=\"T_1fe88_level0_col4\" class=\"col_heading level0 col4\" >Prec.</th>\n",
       "      <th id=\"T_1fe88_level0_col5\" class=\"col_heading level0 col5\" >F1</th>\n",
       "      <th id=\"T_1fe88_level0_col6\" class=\"col_heading level0 col6\" >Kappa</th>\n",
       "      <th id=\"T_1fe88_level0_col7\" class=\"col_heading level0 col7\" >MCC</th>\n",
       "      <th id=\"T_1fe88_level0_col8\" class=\"col_heading level0 col8\" >TT (Sec)</th>\n",
       "    </tr>\n",
       "  </thead>\n",
       "  <tbody>\n",
       "    <tr>\n",
       "      <th id=\"T_1fe88_level0_row0\" class=\"row_heading level0 row0\" >lightgbm</th>\n",
       "      <td id=\"T_1fe88_row0_col0\" class=\"data row0 col0\" >Light Gradient Boosting Machine</td>\n",
       "      <td id=\"T_1fe88_row0_col1\" class=\"data row0 col1\" >0.6938</td>\n",
       "      <td id=\"T_1fe88_row0_col2\" class=\"data row0 col2\" >0.7625</td>\n",
       "      <td id=\"T_1fe88_row0_col3\" class=\"data row0 col3\" >0.6412</td>\n",
       "      <td id=\"T_1fe88_row0_col4\" class=\"data row0 col4\" >0.7613</td>\n",
       "      <td id=\"T_1fe88_row0_col5\" class=\"data row0 col5\" >0.6960</td>\n",
       "      <td id=\"T_1fe88_row0_col6\" class=\"data row0 col6\" >0.3920</td>\n",
       "      <td id=\"T_1fe88_row0_col7\" class=\"data row0 col7\" >0.3980</td>\n",
       "      <td id=\"T_1fe88_row0_col8\" class=\"data row0 col8\" >0.0600</td>\n",
       "    </tr>\n",
       "    <tr>\n",
       "      <th id=\"T_1fe88_level0_row1\" class=\"row_heading level0 row1\" >gbc</th>\n",
       "      <td id=\"T_1fe88_row1_col0\" class=\"data row1 col0\" >Gradient Boosting Classifier</td>\n",
       "      <td id=\"T_1fe88_row1_col1\" class=\"data row1 col1\" >0.6940</td>\n",
       "      <td id=\"T_1fe88_row1_col2\" class=\"data row1 col2\" >0.7620</td>\n",
       "      <td id=\"T_1fe88_row1_col3\" class=\"data row1 col3\" >0.6319</td>\n",
       "      <td id=\"T_1fe88_row1_col4\" class=\"data row1 col4\" >0.7675</td>\n",
       "      <td id=\"T_1fe88_row1_col5\" class=\"data row1 col5\" >0.6930</td>\n",
       "      <td id=\"T_1fe88_row1_col6\" class=\"data row1 col6\" >0.3937</td>\n",
       "      <td id=\"T_1fe88_row1_col7\" class=\"data row1 col7\" >0.4012</td>\n",
       "      <td id=\"T_1fe88_row1_col8\" class=\"data row1 col8\" >0.3710</td>\n",
       "    </tr>\n",
       "    <tr>\n",
       "      <th id=\"T_1fe88_level0_row2\" class=\"row_heading level0 row2\" >ada</th>\n",
       "      <td id=\"T_1fe88_row2_col0\" class=\"data row2 col0\" >Ada Boost Classifier</td>\n",
       "      <td id=\"T_1fe88_row2_col1\" class=\"data row2 col1\" >0.6860</td>\n",
       "      <td id=\"T_1fe88_row2_col2\" class=\"data row2 col2\" >0.7558</td>\n",
       "      <td id=\"T_1fe88_row2_col3\" class=\"data row2 col3\" >0.6480</td>\n",
       "      <td id=\"T_1fe88_row2_col4\" class=\"data row2 col4\" >0.7446</td>\n",
       "      <td id=\"T_1fe88_row2_col5\" class=\"data row2 col5\" >0.6929</td>\n",
       "      <td id=\"T_1fe88_row2_col6\" class=\"data row2 col6\" >0.3748</td>\n",
       "      <td id=\"T_1fe88_row2_col7\" class=\"data row2 col7\" >0.3787</td>\n",
       "      <td id=\"T_1fe88_row2_col8\" class=\"data row2 col8\" >0.1790</td>\n",
       "    </tr>\n",
       "    <tr>\n",
       "      <th id=\"T_1fe88_level0_row3\" class=\"row_heading level0 row3\" >lda</th>\n",
       "      <td id=\"T_1fe88_row3_col0\" class=\"data row3 col0\" >Linear Discriminant Analysis</td>\n",
       "      <td id=\"T_1fe88_row3_col1\" class=\"data row3 col1\" >0.6845</td>\n",
       "      <td id=\"T_1fe88_row3_col2\" class=\"data row3 col2\" >0.7548</td>\n",
       "      <td id=\"T_1fe88_row3_col3\" class=\"data row3 col3\" >0.6472</td>\n",
       "      <td id=\"T_1fe88_row3_col4\" class=\"data row3 col4\" >0.7428</td>\n",
       "      <td id=\"T_1fe88_row3_col5\" class=\"data row3 col5\" >0.6916</td>\n",
       "      <td id=\"T_1fe88_row3_col6\" class=\"data row3 col6\" >0.3718</td>\n",
       "      <td id=\"T_1fe88_row3_col7\" class=\"data row3 col7\" >0.3755</td>\n",
       "      <td id=\"T_1fe88_row3_col8\" class=\"data row3 col8\" >0.0420</td>\n",
       "    </tr>\n",
       "    <tr>\n",
       "      <th id=\"T_1fe88_level0_row4\" class=\"row_heading level0 row4\" >lr</th>\n",
       "      <td id=\"T_1fe88_row4_col0\" class=\"data row4 col0\" >Logistic Regression</td>\n",
       "      <td id=\"T_1fe88_row4_col1\" class=\"data row4 col1\" >0.6838</td>\n",
       "      <td id=\"T_1fe88_row4_col2\" class=\"data row4 col2\" >0.7492</td>\n",
       "      <td id=\"T_1fe88_row4_col3\" class=\"data row4 col3\" >0.6425</td>\n",
       "      <td id=\"T_1fe88_row4_col4\" class=\"data row4 col4\" >0.7447</td>\n",
       "      <td id=\"T_1fe88_row4_col5\" class=\"data row4 col5\" >0.6895</td>\n",
       "      <td id=\"T_1fe88_row4_col6\" class=\"data row4 col6\" >0.3709</td>\n",
       "      <td id=\"T_1fe88_row4_col7\" class=\"data row4 col7\" >0.3754</td>\n",
       "      <td id=\"T_1fe88_row4_col8\" class=\"data row4 col8\" >0.2530</td>\n",
       "    </tr>\n",
       "    <tr>\n",
       "      <th id=\"T_1fe88_level0_row5\" class=\"row_heading level0 row5\" >rf</th>\n",
       "      <td id=\"T_1fe88_row5_col0\" class=\"data row5 col0\" >Random Forest Classifier</td>\n",
       "      <td id=\"T_1fe88_row5_col1\" class=\"data row5 col1\" >0.6816</td>\n",
       "      <td id=\"T_1fe88_row5_col2\" class=\"data row5 col2\" >0.7475</td>\n",
       "      <td id=\"T_1fe88_row5_col3\" class=\"data row5 col3\" >0.6455</td>\n",
       "      <td id=\"T_1fe88_row5_col4\" class=\"data row5 col4\" >0.7393</td>\n",
       "      <td id=\"T_1fe88_row5_col5\" class=\"data row5 col5\" >0.6891</td>\n",
       "      <td id=\"T_1fe88_row5_col6\" class=\"data row5 col6\" >0.3659</td>\n",
       "      <td id=\"T_1fe88_row5_col7\" class=\"data row5 col7\" >0.3696</td>\n",
       "      <td id=\"T_1fe88_row5_col8\" class=\"data row5 col8\" >0.2580</td>\n",
       "    </tr>\n",
       "    <tr>\n",
       "      <th id=\"T_1fe88_level0_row6\" class=\"row_heading level0 row6\" >et</th>\n",
       "      <td id=\"T_1fe88_row6_col0\" class=\"data row6 col0\" >Extra Trees Classifier</td>\n",
       "      <td id=\"T_1fe88_row6_col1\" class=\"data row6 col1\" >0.6724</td>\n",
       "      <td id=\"T_1fe88_row6_col2\" class=\"data row6 col2\" >0.7394</td>\n",
       "      <td id=\"T_1fe88_row6_col3\" class=\"data row6 col3\" >0.6503</td>\n",
       "      <td id=\"T_1fe88_row6_col4\" class=\"data row6 col4\" >0.7230</td>\n",
       "      <td id=\"T_1fe88_row6_col5\" class=\"data row6 col5\" >0.6846</td>\n",
       "      <td id=\"T_1fe88_row6_col6\" class=\"data row6 col6\" >0.3459</td>\n",
       "      <td id=\"T_1fe88_row6_col7\" class=\"data row6 col7\" >0.3480</td>\n",
       "      <td id=\"T_1fe88_row6_col8\" class=\"data row6 col8\" >0.3100</td>\n",
       "    </tr>\n",
       "    <tr>\n",
       "      <th id=\"T_1fe88_level0_row7\" class=\"row_heading level0 row7\" >qda</th>\n",
       "      <td id=\"T_1fe88_row7_col0\" class=\"data row7 col0\" >Quadratic Discriminant Analysis</td>\n",
       "      <td id=\"T_1fe88_row7_col1\" class=\"data row7 col1\" >0.4805</td>\n",
       "      <td id=\"T_1fe88_row7_col2\" class=\"data row7 col2\" >0.7180</td>\n",
       "      <td id=\"T_1fe88_row7_col3\" class=\"data row7 col3\" >0.0667</td>\n",
       "      <td id=\"T_1fe88_row7_col4\" class=\"data row7 col4\" >0.7802</td>\n",
       "      <td id=\"T_1fe88_row7_col5\" class=\"data row7 col5\" >0.0939</td>\n",
       "      <td id=\"T_1fe88_row7_col6\" class=\"data row7 col6\" >0.0440</td>\n",
       "      <td id=\"T_1fe88_row7_col7\" class=\"data row7 col7\" >0.0750</td>\n",
       "      <td id=\"T_1fe88_row7_col8\" class=\"data row7 col8\" >0.0280</td>\n",
       "    </tr>\n",
       "    <tr>\n",
       "      <th id=\"T_1fe88_level0_row8\" class=\"row_heading level0 row8\" >knn</th>\n",
       "      <td id=\"T_1fe88_row8_col0\" class=\"data row8 col0\" >K Neighbors Classifier</td>\n",
       "      <td id=\"T_1fe88_row8_col1\" class=\"data row8 col1\" >0.6306</td>\n",
       "      <td id=\"T_1fe88_row8_col2\" class=\"data row8 col2\" >0.6700</td>\n",
       "      <td id=\"T_1fe88_row8_col3\" class=\"data row8 col3\" >0.6750</td>\n",
       "      <td id=\"T_1fe88_row8_col4\" class=\"data row8 col4\" >0.6582</td>\n",
       "      <td id=\"T_1fe88_row8_col5\" class=\"data row8 col5\" >0.6664</td>\n",
       "      <td id=\"T_1fe88_row8_col6\" class=\"data row8 col6\" >0.2526</td>\n",
       "      <td id=\"T_1fe88_row8_col7\" class=\"data row8 col7\" >0.2527</td>\n",
       "      <td id=\"T_1fe88_row8_col8\" class=\"data row8 col8\" >0.1450</td>\n",
       "    </tr>\n",
       "    <tr>\n",
       "      <th id=\"T_1fe88_level0_row9\" class=\"row_heading level0 row9\" >nb</th>\n",
       "      <td id=\"T_1fe88_row9_col0\" class=\"data row9 col0\" >Naive Bayes</td>\n",
       "      <td id=\"T_1fe88_row9_col1\" class=\"data row9 col1\" >0.4743</td>\n",
       "      <td id=\"T_1fe88_row9_col2\" class=\"data row9 col2\" >0.6176</td>\n",
       "      <td id=\"T_1fe88_row9_col3\" class=\"data row9 col3\" >0.0634</td>\n",
       "      <td id=\"T_1fe88_row9_col4\" class=\"data row9 col4\" >0.0719</td>\n",
       "      <td id=\"T_1fe88_row9_col5\" class=\"data row9 col5\" >0.0674</td>\n",
       "      <td id=\"T_1fe88_row9_col6\" class=\"data row9 col6\" >0.0331</td>\n",
       "      <td id=\"T_1fe88_row9_col7\" class=\"data row9 col7\" >0.0334</td>\n",
       "      <td id=\"T_1fe88_row9_col8\" class=\"data row9 col8\" >0.0250</td>\n",
       "    </tr>\n",
       "    <tr>\n",
       "      <th id=\"T_1fe88_level0_row10\" class=\"row_heading level0 row10\" >dt</th>\n",
       "      <td id=\"T_1fe88_row10_col0\" class=\"data row10 col0\" >Decision Tree Classifier</td>\n",
       "      <td id=\"T_1fe88_row10_col1\" class=\"data row10 col1\" >0.6095</td>\n",
       "      <td id=\"T_1fe88_row10_col2\" class=\"data row10 col2\" >0.6056</td>\n",
       "      <td id=\"T_1fe88_row10_col3\" class=\"data row10 col3\" >0.6465</td>\n",
       "      <td id=\"T_1fe88_row10_col4\" class=\"data row10 col4\" >0.6419</td>\n",
       "      <td id=\"T_1fe88_row10_col5\" class=\"data row10 col5\" >0.6442</td>\n",
       "      <td id=\"T_1fe88_row10_col6\" class=\"data row10 col6\" >0.2114</td>\n",
       "      <td id=\"T_1fe88_row10_col7\" class=\"data row10 col7\" >0.2115</td>\n",
       "      <td id=\"T_1fe88_row10_col8\" class=\"data row10 col8\" >0.0370</td>\n",
       "    </tr>\n",
       "    <tr>\n",
       "      <th id=\"T_1fe88_level0_row11\" class=\"row_heading level0 row11\" >dummy</th>\n",
       "      <td id=\"T_1fe88_row11_col0\" class=\"data row11 col0\" >Dummy Classifier</td>\n",
       "      <td id=\"T_1fe88_row11_col1\" class=\"data row11 col1\" >0.5468</td>\n",
       "      <td id=\"T_1fe88_row11_col2\" class=\"data row11 col2\" >0.5000</td>\n",
       "      <td id=\"T_1fe88_row11_col3\" class=\"data row11 col3\" >1.0000</td>\n",
       "      <td id=\"T_1fe88_row11_col4\" class=\"data row11 col4\" >0.5468</td>\n",
       "      <td id=\"T_1fe88_row11_col5\" class=\"data row11 col5\" >0.7070</td>\n",
       "      <td id=\"T_1fe88_row11_col6\" class=\"data row11 col6\" >0.0000</td>\n",
       "      <td id=\"T_1fe88_row11_col7\" class=\"data row11 col7\" >0.0000</td>\n",
       "      <td id=\"T_1fe88_row11_col8\" class=\"data row11 col8\" >0.0210</td>\n",
       "    </tr>\n",
       "    <tr>\n",
       "      <th id=\"T_1fe88_level0_row12\" class=\"row_heading level0 row12\" >svm</th>\n",
       "      <td id=\"T_1fe88_row12_col0\" class=\"data row12 col0\" >SVM - Linear Kernel</td>\n",
       "      <td id=\"T_1fe88_row12_col1\" class=\"data row12 col1\" >0.5402</td>\n",
       "      <td id=\"T_1fe88_row12_col2\" class=\"data row12 col2\" >0.0000</td>\n",
       "      <td id=\"T_1fe88_row12_col3\" class=\"data row12 col3\" >0.8433</td>\n",
       "      <td id=\"T_1fe88_row12_col4\" class=\"data row12 col4\" >0.5757</td>\n",
       "      <td id=\"T_1fe88_row12_col5\" class=\"data row12 col5\" >0.6582</td>\n",
       "      <td id=\"T_1fe88_row12_col6\" class=\"data row12 col6\" >0.0154</td>\n",
       "      <td id=\"T_1fe88_row12_col7\" class=\"data row12 col7\" >0.0145</td>\n",
       "      <td id=\"T_1fe88_row12_col8\" class=\"data row12 col8\" >0.4650</td>\n",
       "    </tr>\n",
       "    <tr>\n",
       "      <th id=\"T_1fe88_level0_row13\" class=\"row_heading level0 row13\" >ridge</th>\n",
       "      <td id=\"T_1fe88_row13_col0\" class=\"data row13 col0\" >Ridge Classifier</td>\n",
       "      <td id=\"T_1fe88_row13_col1\" class=\"data row13 col1\" >0.6845</td>\n",
       "      <td id=\"T_1fe88_row13_col2\" class=\"data row13 col2\" >0.0000</td>\n",
       "      <td id=\"T_1fe88_row13_col3\" class=\"data row13 col3\" >0.6476</td>\n",
       "      <td id=\"T_1fe88_row13_col4\" class=\"data row13 col4\" >0.7426</td>\n",
       "      <td id=\"T_1fe88_row13_col5\" class=\"data row13 col5\" >0.6917</td>\n",
       "      <td id=\"T_1fe88_row13_col6\" class=\"data row13 col6\" >0.3717</td>\n",
       "      <td id=\"T_1fe88_row13_col7\" class=\"data row13 col7\" >0.3754</td>\n",
       "      <td id=\"T_1fe88_row13_col8\" class=\"data row13 col8\" >0.0230</td>\n",
       "    </tr>\n",
       "  </tbody>\n",
       "</table>\n"
      ],
      "text/plain": [
       "<pandas.io.formats.style.Styler at 0x1ff779f2ee0>"
      ]
     },
     "metadata": {},
     "output_type": "display_data"
    },
    {
     "data": {
      "text/html": [],
      "text/plain": [
       "<IPython.core.display.HTML object>"
      ]
     },
     "metadata": {},
     "output_type": "display_data"
    }
   ],
   "source": [
    "best_3 = compare_models(sort = 'AUC', n_select = 3)"
   ]
  },
  {
   "cell_type": "code",
   "execution_count": 533,
   "id": "4039d76e",
   "metadata": {},
   "outputs": [],
   "source": [
    "tuned_best_3=[tune_model(i, fold=10, round=4, n_iter=10, custom_grid = None, optimize = 'AUC', choose_better = True, verbose = False) for i in best_3]"
   ]
  },
  {
   "cell_type": "markdown",
   "id": "59000eb8",
   "metadata": {},
   "source": [
    "# 모델 앙상블 (Model Ensemble)"
   ]
  },
  {
   "cell_type": "code",
   "execution_count": 534,
   "id": "6fc19285",
   "metadata": {
    "scrolled": false
   },
   "outputs": [
    {
     "data": {
      "text/html": [],
      "text/plain": [
       "<IPython.core.display.HTML object>"
      ]
     },
     "metadata": {},
     "output_type": "display_data"
    },
    {
     "data": {
      "text/html": [
       "<style type=\"text/css\">\n",
       "#T_6d607_row5_col0, #T_6d607_row5_col1, #T_6d607_row5_col2, #T_6d607_row5_col3, #T_6d607_row5_col4, #T_6d607_row5_col5, #T_6d607_row5_col6 {\n",
       "  background: yellow;\n",
       "}\n",
       "</style>\n",
       "<table id=\"T_6d607\">\n",
       "  <thead>\n",
       "    <tr>\n",
       "      <th class=\"blank level0\" >&nbsp;</th>\n",
       "      <th id=\"T_6d607_level0_col0\" class=\"col_heading level0 col0\" >Accuracy</th>\n",
       "      <th id=\"T_6d607_level0_col1\" class=\"col_heading level0 col1\" >AUC</th>\n",
       "      <th id=\"T_6d607_level0_col2\" class=\"col_heading level0 col2\" >Recall</th>\n",
       "      <th id=\"T_6d607_level0_col3\" class=\"col_heading level0 col3\" >Prec.</th>\n",
       "      <th id=\"T_6d607_level0_col4\" class=\"col_heading level0 col4\" >F1</th>\n",
       "      <th id=\"T_6d607_level0_col5\" class=\"col_heading level0 col5\" >Kappa</th>\n",
       "      <th id=\"T_6d607_level0_col6\" class=\"col_heading level0 col6\" >MCC</th>\n",
       "    </tr>\n",
       "    <tr>\n",
       "      <th class=\"index_name level0\" >Fold</th>\n",
       "      <th class=\"blank col0\" >&nbsp;</th>\n",
       "      <th class=\"blank col1\" >&nbsp;</th>\n",
       "      <th class=\"blank col2\" >&nbsp;</th>\n",
       "      <th class=\"blank col3\" >&nbsp;</th>\n",
       "      <th class=\"blank col4\" >&nbsp;</th>\n",
       "      <th class=\"blank col5\" >&nbsp;</th>\n",
       "      <th class=\"blank col6\" >&nbsp;</th>\n",
       "    </tr>\n",
       "  </thead>\n",
       "  <tbody>\n",
       "    <tr>\n",
       "      <th id=\"T_6d607_level0_row0\" class=\"row_heading level0 row0\" >0</th>\n",
       "      <td id=\"T_6d607_row0_col0\" class=\"data row0 col0\" >0.6850</td>\n",
       "      <td id=\"T_6d607_row0_col1\" class=\"data row0 col1\" >0.7598</td>\n",
       "      <td id=\"T_6d607_row0_col2\" class=\"data row0 col2\" >0.7014</td>\n",
       "      <td id=\"T_6d607_row0_col3\" class=\"data row0 col3\" >0.7166</td>\n",
       "      <td id=\"T_6d607_row0_col4\" class=\"data row0 col4\" >0.7089</td>\n",
       "      <td id=\"T_6d607_row0_col5\" class=\"data row0 col5\" >0.3659</td>\n",
       "      <td id=\"T_6d607_row0_col6\" class=\"data row0 col6\" >0.3660</td>\n",
       "    </tr>\n",
       "    <tr>\n",
       "      <th id=\"T_6d607_level0_row1\" class=\"row_heading level0 row1\" >1</th>\n",
       "      <td id=\"T_6d607_row1_col0\" class=\"data row1 col0\" >0.6838</td>\n",
       "      <td id=\"T_6d607_row1_col1\" class=\"data row1 col1\" >0.7601</td>\n",
       "      <td id=\"T_6d607_row1_col2\" class=\"data row1 col2\" >0.6873</td>\n",
       "      <td id=\"T_6d607_row1_col3\" class=\"data row1 col3\" >0.7213</td>\n",
       "      <td id=\"T_6d607_row1_col4\" class=\"data row1 col4\" >0.7039</td>\n",
       "      <td id=\"T_6d607_row1_col5\" class=\"data row1 col5\" >0.3650</td>\n",
       "      <td id=\"T_6d607_row1_col6\" class=\"data row1 col6\" >0.3655</td>\n",
       "    </tr>\n",
       "    <tr>\n",
       "      <th id=\"T_6d607_level0_row2\" class=\"row_heading level0 row2\" >2</th>\n",
       "      <td id=\"T_6d607_row2_col0\" class=\"data row2 col0\" >0.6832</td>\n",
       "      <td id=\"T_6d607_row2_col1\" class=\"data row2 col1\" >0.7524</td>\n",
       "      <td id=\"T_6d607_row2_col2\" class=\"data row2 col2\" >0.7004</td>\n",
       "      <td id=\"T_6d607_row2_col3\" class=\"data row2 col3\" >0.7146</td>\n",
       "      <td id=\"T_6d607_row2_col4\" class=\"data row2 col4\" >0.7074</td>\n",
       "      <td id=\"T_6d607_row2_col5\" class=\"data row2 col5\" >0.3622</td>\n",
       "      <td id=\"T_6d607_row2_col6\" class=\"data row2 col6\" >0.3623</td>\n",
       "    </tr>\n",
       "    <tr>\n",
       "      <th id=\"T_6d607_level0_row3\" class=\"row_heading level0 row3\" >3</th>\n",
       "      <td id=\"T_6d607_row3_col0\" class=\"data row3 col0\" >0.7007</td>\n",
       "      <td id=\"T_6d607_row3_col1\" class=\"data row3 col1\" >0.7679</td>\n",
       "      <td id=\"T_6d607_row3_col2\" class=\"data row3 col2\" >0.7162</td>\n",
       "      <td id=\"T_6d607_row3_col3\" class=\"data row3 col3\" >0.7309</td>\n",
       "      <td id=\"T_6d607_row3_col4\" class=\"data row3 col4\" >0.7235</td>\n",
       "      <td id=\"T_6d607_row3_col5\" class=\"data row3 col5\" >0.3973</td>\n",
       "      <td id=\"T_6d607_row3_col6\" class=\"data row3 col6\" >0.3974</td>\n",
       "    </tr>\n",
       "    <tr>\n",
       "      <th id=\"T_6d607_level0_row4\" class=\"row_heading level0 row4\" >4</th>\n",
       "      <td id=\"T_6d607_row4_col0\" class=\"data row4 col0\" >0.6980</td>\n",
       "      <td id=\"T_6d607_row4_col1\" class=\"data row4 col1\" >0.7725</td>\n",
       "      <td id=\"T_6d607_row4_col2\" class=\"data row4 col2\" >0.6988</td>\n",
       "      <td id=\"T_6d607_row4_col3\" class=\"data row4 col3\" >0.7357</td>\n",
       "      <td id=\"T_6d607_row4_col4\" class=\"data row4 col4\" >0.7168</td>\n",
       "      <td id=\"T_6d607_row4_col5\" class=\"data row4 col5\" >0.3938</td>\n",
       "      <td id=\"T_6d607_row4_col6\" class=\"data row4 col6\" >0.3944</td>\n",
       "    </tr>\n",
       "    <tr>\n",
       "      <th id=\"T_6d607_level0_row5\" class=\"row_heading level0 row5\" >Mean</th>\n",
       "      <td id=\"T_6d607_row5_col0\" class=\"data row5 col0\" >0.6901</td>\n",
       "      <td id=\"T_6d607_row5_col1\" class=\"data row5 col1\" >0.7626</td>\n",
       "      <td id=\"T_6d607_row5_col2\" class=\"data row5 col2\" >0.7008</td>\n",
       "      <td id=\"T_6d607_row5_col3\" class=\"data row5 col3\" >0.7238</td>\n",
       "      <td id=\"T_6d607_row5_col4\" class=\"data row5 col4\" >0.7121</td>\n",
       "      <td id=\"T_6d607_row5_col5\" class=\"data row5 col5\" >0.3768</td>\n",
       "      <td id=\"T_6d607_row5_col6\" class=\"data row5 col6\" >0.3771</td>\n",
       "    </tr>\n",
       "    <tr>\n",
       "      <th id=\"T_6d607_level0_row6\" class=\"row_heading level0 row6\" >Std</th>\n",
       "      <td id=\"T_6d607_row6_col0\" class=\"data row6 col0\" >0.0076</td>\n",
       "      <td id=\"T_6d607_row6_col1\" class=\"data row6 col1\" >0.0070</td>\n",
       "      <td id=\"T_6d607_row6_col2\" class=\"data row6 col2\" >0.0092</td>\n",
       "      <td id=\"T_6d607_row6_col3\" class=\"data row6 col3\" >0.0082</td>\n",
       "      <td id=\"T_6d607_row6_col4\" class=\"data row6 col4\" >0.0071</td>\n",
       "      <td id=\"T_6d607_row6_col5\" class=\"data row6 col5\" >0.0154</td>\n",
       "      <td id=\"T_6d607_row6_col6\" class=\"data row6 col6\" >0.0154</td>\n",
       "    </tr>\n",
       "  </tbody>\n",
       "</table>\n"
      ],
      "text/plain": [
       "<pandas.io.formats.style.Styler at 0x1ff00858f70>"
      ]
     },
     "metadata": {},
     "output_type": "display_data"
    },
    {
     "data": {
      "text/html": [],
      "text/plain": [
       "<IPython.core.display.HTML object>"
      ]
     },
     "metadata": {},
     "output_type": "display_data"
    }
   ],
   "source": [
    "blender_best3 = blend_models(estimator_list = tuned_best_3, fold = 5, method = 'soft')"
   ]
  },
  {
   "cell_type": "markdown",
   "id": "bdd4eaf0",
   "metadata": {},
   "source": [
    "# 모델 예측 (Prediction)"
   ]
  },
  {
   "cell_type": "code",
   "execution_count": 535,
   "id": "dcdbf28f",
   "metadata": {},
   "outputs": [
    {
     "data": {
      "text/html": [
       "<style type=\"text/css\">\n",
       "</style>\n",
       "<table id=\"T_9bb95\">\n",
       "  <thead>\n",
       "    <tr>\n",
       "      <th class=\"blank level0\" >&nbsp;</th>\n",
       "      <th id=\"T_9bb95_level0_col0\" class=\"col_heading level0 col0\" >Model</th>\n",
       "      <th id=\"T_9bb95_level0_col1\" class=\"col_heading level0 col1\" >Accuracy</th>\n",
       "      <th id=\"T_9bb95_level0_col2\" class=\"col_heading level0 col2\" >AUC</th>\n",
       "      <th id=\"T_9bb95_level0_col3\" class=\"col_heading level0 col3\" >Recall</th>\n",
       "      <th id=\"T_9bb95_level0_col4\" class=\"col_heading level0 col4\" >Prec.</th>\n",
       "      <th id=\"T_9bb95_level0_col5\" class=\"col_heading level0 col5\" >F1</th>\n",
       "      <th id=\"T_9bb95_level0_col6\" class=\"col_heading level0 col6\" >Kappa</th>\n",
       "      <th id=\"T_9bb95_level0_col7\" class=\"col_heading level0 col7\" >MCC</th>\n",
       "    </tr>\n",
       "  </thead>\n",
       "  <tbody>\n",
       "    <tr>\n",
       "      <th id=\"T_9bb95_level0_row0\" class=\"row_heading level0 row0\" >0</th>\n",
       "      <td id=\"T_9bb95_row0_col0\" class=\"data row0 col0\" >Voting Classifier</td>\n",
       "      <td id=\"T_9bb95_row0_col1\" class=\"data row0 col1\" >0.6865</td>\n",
       "      <td id=\"T_9bb95_row0_col2\" class=\"data row0 col2\" >0.7618</td>\n",
       "      <td id=\"T_9bb95_row0_col3\" class=\"data row0 col3\" >0</td>\n",
       "      <td id=\"T_9bb95_row0_col4\" class=\"data row0 col4\" >0</td>\n",
       "      <td id=\"T_9bb95_row0_col5\" class=\"data row0 col5\" >0</td>\n",
       "      <td id=\"T_9bb95_row0_col6\" class=\"data row0 col6\" >0.3694</td>\n",
       "      <td id=\"T_9bb95_row0_col7\" class=\"data row0 col7\" >0.3696</td>\n",
       "    </tr>\n",
       "  </tbody>\n",
       "</table>\n"
      ],
      "text/plain": [
       "<pandas.io.formats.style.Styler at 0x1ff777104f0>"
      ]
     },
     "metadata": {},
     "output_type": "display_data"
    }
   ],
   "source": [
    "pred_holdout = predict_model(blender_best3)"
   ]
  },
  {
   "cell_type": "markdown",
   "id": "63e0eb80",
   "metadata": {},
   "source": [
    "# 전체 데이터에 대한 재학습 (Re-training the model on whole data)"
   ]
  },
  {
   "cell_type": "code",
   "execution_count": 536,
   "id": "1baef9de",
   "metadata": {},
   "outputs": [],
   "source": [
    "final_model = finalize_model(blender_best3)"
   ]
  },
  {
   "cell_type": "code",
   "execution_count": 537,
   "id": "dc174b95",
   "metadata": {
    "scrolled": true
   },
   "outputs": [
    {
     "data": {
      "text/html": [
       "<style type=\"text/css\">\n",
       "</style>\n",
       "<table id=\"T_2f4bf\">\n",
       "  <thead>\n",
       "    <tr>\n",
       "      <th class=\"blank level0\" >&nbsp;</th>\n",
       "      <th id=\"T_2f4bf_level0_col0\" class=\"col_heading level0 col0\" >Model</th>\n",
       "      <th id=\"T_2f4bf_level0_col1\" class=\"col_heading level0 col1\" >Accuracy</th>\n",
       "      <th id=\"T_2f4bf_level0_col2\" class=\"col_heading level0 col2\" >AUC</th>\n",
       "      <th id=\"T_2f4bf_level0_col3\" class=\"col_heading level0 col3\" >Recall</th>\n",
       "      <th id=\"T_2f4bf_level0_col4\" class=\"col_heading level0 col4\" >Prec.</th>\n",
       "      <th id=\"T_2f4bf_level0_col5\" class=\"col_heading level0 col5\" >F1</th>\n",
       "      <th id=\"T_2f4bf_level0_col6\" class=\"col_heading level0 col6\" >Kappa</th>\n",
       "      <th id=\"T_2f4bf_level0_col7\" class=\"col_heading level0 col7\" >MCC</th>\n",
       "    </tr>\n",
       "  </thead>\n",
       "  <tbody>\n",
       "    <tr>\n",
       "      <th id=\"T_2f4bf_level0_row0\" class=\"row_heading level0 row0\" >0</th>\n",
       "      <td id=\"T_2f4bf_row0_col0\" class=\"data row0 col0\" >Voting Classifier</td>\n",
       "      <td id=\"T_2f4bf_row0_col1\" class=\"data row0 col1\" >0.7020</td>\n",
       "      <td id=\"T_2f4bf_row0_col2\" class=\"data row0 col2\" >0.7807</td>\n",
       "      <td id=\"T_2f4bf_row0_col3\" class=\"data row0 col3\" >0</td>\n",
       "      <td id=\"T_2f4bf_row0_col4\" class=\"data row0 col4\" >0</td>\n",
       "      <td id=\"T_2f4bf_row0_col5\" class=\"data row0 col5\" >0</td>\n",
       "      <td id=\"T_2f4bf_row0_col6\" class=\"data row0 col6\" >0.4002</td>\n",
       "      <td id=\"T_2f4bf_row0_col7\" class=\"data row0 col7\" >0.4003</td>\n",
       "    </tr>\n",
       "  </tbody>\n",
       "</table>\n"
      ],
      "text/plain": [
       "<pandas.io.formats.style.Styler at 0x1ff0456b400>"
      ]
     },
     "metadata": {},
     "output_type": "display_data"
    }
   ],
   "source": [
    "pred_holdout = predict_model(final_model)"
   ]
  },
  {
   "cell_type": "markdown",
   "id": "9f77f484",
   "metadata": {},
   "source": [
    "# 대회용 test set에 대한 예측 (Predicting on test set for the competition)"
   ]
  },
  {
   "cell_type": "code",
   "execution_count": 538,
   "id": "087eee5b",
   "metadata": {},
   "outputs": [
    {
     "name": "stdout",
     "output_type": "stream",
     "text": [
      "train : (45532, 36)\n",
      "test : (11383, 35)\n"
     ]
    }
   ],
   "source": [
    "print(\"train :\",train.shape)\n",
    "print(\"test :\",test.shape)"
   ]
  },
  {
   "cell_type": "code",
   "execution_count": 539,
   "id": "790ead68",
   "metadata": {
    "scrolled": false
   },
   "outputs": [
    {
     "data": {
      "text/html": [],
      "text/plain": [
       "<IPython.core.display.HTML object>"
      ]
     },
     "metadata": {},
     "output_type": "display_data"
    },
    {
     "data": {
      "text/html": [
       "<div>\n",
       "<style scoped>\n",
       "    .dataframe tbody tr th:only-of-type {\n",
       "        vertical-align: middle;\n",
       "    }\n",
       "\n",
       "    .dataframe tbody tr th {\n",
       "        vertical-align: top;\n",
       "    }\n",
       "\n",
       "    .dataframe thead th {\n",
       "        text-align: right;\n",
       "    }\n",
       "</style>\n",
       "<table border=\"1\" class=\"dataframe\">\n",
       "  <thead>\n",
       "    <tr style=\"text-align: right;\">\n",
       "      <th></th>\n",
       "      <th>engnat</th>\n",
       "      <th>familysize</th>\n",
       "      <th>married</th>\n",
       "      <th>race_Arab</th>\n",
       "      <th>race_Asian</th>\n",
       "      <th>race_Black</th>\n",
       "      <th>race_Indigenous Australian</th>\n",
       "      <th>race_Native American</th>\n",
       "      <th>race_Other</th>\n",
       "      <th>race_White</th>\n",
       "      <th>...</th>\n",
       "      <th>age_group_50s</th>\n",
       "      <th>age_group_60s</th>\n",
       "      <th>Mach_score</th>\n",
       "      <th>tp0106</th>\n",
       "      <th>tp0207</th>\n",
       "      <th>tp0308</th>\n",
       "      <th>tp0409</th>\n",
       "      <th>tp0510</th>\n",
       "      <th>Label</th>\n",
       "      <th>Score</th>\n",
       "    </tr>\n",
       "  </thead>\n",
       "  <tbody>\n",
       "    <tr>\n",
       "      <th>0</th>\n",
       "      <td>2.0</td>\n",
       "      <td>3.0</td>\n",
       "      <td>1.0</td>\n",
       "      <td>0.0</td>\n",
       "      <td>0.0</td>\n",
       "      <td>0.0</td>\n",
       "      <td>0.0</td>\n",
       "      <td>0.0</td>\n",
       "      <td>0.0</td>\n",
       "      <td>1.0</td>\n",
       "      <td>...</td>\n",
       "      <td>0.0</td>\n",
       "      <td>0.0</td>\n",
       "      <td>2.45</td>\n",
       "      <td>7.0</td>\n",
       "      <td>6.0</td>\n",
       "      <td>5.0</td>\n",
       "      <td>7.0</td>\n",
       "      <td>4.0</td>\n",
       "      <td>2</td>\n",
       "      <td>0.5789</td>\n",
       "    </tr>\n",
       "    <tr>\n",
       "      <th>1</th>\n",
       "      <td>2.0</td>\n",
       "      <td>2.0</td>\n",
       "      <td>1.0</td>\n",
       "      <td>0.0</td>\n",
       "      <td>0.0</td>\n",
       "      <td>0.0</td>\n",
       "      <td>0.0</td>\n",
       "      <td>0.0</td>\n",
       "      <td>1.0</td>\n",
       "      <td>0.0</td>\n",
       "      <td>...</td>\n",
       "      <td>0.0</td>\n",
       "      <td>0.0</td>\n",
       "      <td>2.80</td>\n",
       "      <td>7.0</td>\n",
       "      <td>7.0</td>\n",
       "      <td>7.0</td>\n",
       "      <td>7.0</td>\n",
       "      <td>7.0</td>\n",
       "      <td>2</td>\n",
       "      <td>0.6406</td>\n",
       "    </tr>\n",
       "    <tr>\n",
       "      <th>2</th>\n",
       "      <td>2.0</td>\n",
       "      <td>7.0</td>\n",
       "      <td>2.0</td>\n",
       "      <td>0.0</td>\n",
       "      <td>0.0</td>\n",
       "      <td>0.0</td>\n",
       "      <td>0.0</td>\n",
       "      <td>0.0</td>\n",
       "      <td>1.0</td>\n",
       "      <td>0.0</td>\n",
       "      <td>...</td>\n",
       "      <td>0.0</td>\n",
       "      <td>0.0</td>\n",
       "      <td>3.55</td>\n",
       "      <td>11.0</td>\n",
       "      <td>7.0</td>\n",
       "      <td>8.0</td>\n",
       "      <td>3.0</td>\n",
       "      <td>11.0</td>\n",
       "      <td>2</td>\n",
       "      <td>0.5283</td>\n",
       "    </tr>\n",
       "    <tr>\n",
       "      <th>3</th>\n",
       "      <td>1.0</td>\n",
       "      <td>4.0</td>\n",
       "      <td>2.0</td>\n",
       "      <td>0.0</td>\n",
       "      <td>0.0</td>\n",
       "      <td>0.0</td>\n",
       "      <td>0.0</td>\n",
       "      <td>0.0</td>\n",
       "      <td>0.0</td>\n",
       "      <td>1.0</td>\n",
       "      <td>...</td>\n",
       "      <td>0.0</td>\n",
       "      <td>1.0</td>\n",
       "      <td>3.35</td>\n",
       "      <td>1.0</td>\n",
       "      <td>11.0</td>\n",
       "      <td>3.0</td>\n",
       "      <td>11.0</td>\n",
       "      <td>1.0</td>\n",
       "      <td>1</td>\n",
       "      <td>0.5977</td>\n",
       "    </tr>\n",
       "    <tr>\n",
       "      <th>4</th>\n",
       "      <td>1.0</td>\n",
       "      <td>3.0</td>\n",
       "      <td>1.0</td>\n",
       "      <td>0.0</td>\n",
       "      <td>0.0</td>\n",
       "      <td>0.0</td>\n",
       "      <td>0.0</td>\n",
       "      <td>0.0</td>\n",
       "      <td>0.0</td>\n",
       "      <td>1.0</td>\n",
       "      <td>...</td>\n",
       "      <td>0.0</td>\n",
       "      <td>0.0</td>\n",
       "      <td>2.90</td>\n",
       "      <td>11.0</td>\n",
       "      <td>3.0</td>\n",
       "      <td>7.0</td>\n",
       "      <td>5.0</td>\n",
       "      <td>7.0</td>\n",
       "      <td>2</td>\n",
       "      <td>0.6156</td>\n",
       "    </tr>\n",
       "    <tr>\n",
       "      <th>...</th>\n",
       "      <td>...</td>\n",
       "      <td>...</td>\n",
       "      <td>...</td>\n",
       "      <td>...</td>\n",
       "      <td>...</td>\n",
       "      <td>...</td>\n",
       "      <td>...</td>\n",
       "      <td>...</td>\n",
       "      <td>...</td>\n",
       "      <td>...</td>\n",
       "      <td>...</td>\n",
       "      <td>...</td>\n",
       "      <td>...</td>\n",
       "      <td>...</td>\n",
       "      <td>...</td>\n",
       "      <td>...</td>\n",
       "      <td>...</td>\n",
       "      <td>...</td>\n",
       "      <td>...</td>\n",
       "      <td>...</td>\n",
       "      <td>...</td>\n",
       "    </tr>\n",
       "    <tr>\n",
       "      <th>11378</th>\n",
       "      <td>2.0</td>\n",
       "      <td>3.0</td>\n",
       "      <td>1.0</td>\n",
       "      <td>0.0</td>\n",
       "      <td>0.0</td>\n",
       "      <td>0.0</td>\n",
       "      <td>0.0</td>\n",
       "      <td>0.0</td>\n",
       "      <td>1.0</td>\n",
       "      <td>0.0</td>\n",
       "      <td>...</td>\n",
       "      <td>0.0</td>\n",
       "      <td>0.0</td>\n",
       "      <td>3.20</td>\n",
       "      <td>4.0</td>\n",
       "      <td>6.0</td>\n",
       "      <td>7.0</td>\n",
       "      <td>6.0</td>\n",
       "      <td>2.0</td>\n",
       "      <td>2</td>\n",
       "      <td>0.5309</td>\n",
       "    </tr>\n",
       "    <tr>\n",
       "      <th>11379</th>\n",
       "      <td>2.0</td>\n",
       "      <td>1.0</td>\n",
       "      <td>1.0</td>\n",
       "      <td>0.0</td>\n",
       "      <td>1.0</td>\n",
       "      <td>0.0</td>\n",
       "      <td>0.0</td>\n",
       "      <td>0.0</td>\n",
       "      <td>0.0</td>\n",
       "      <td>0.0</td>\n",
       "      <td>...</td>\n",
       "      <td>0.0</td>\n",
       "      <td>0.0</td>\n",
       "      <td>4.55</td>\n",
       "      <td>3.0</td>\n",
       "      <td>7.0</td>\n",
       "      <td>9.0</td>\n",
       "      <td>1.0</td>\n",
       "      <td>3.0</td>\n",
       "      <td>2</td>\n",
       "      <td>0.6534</td>\n",
       "    </tr>\n",
       "    <tr>\n",
       "      <th>11380</th>\n",
       "      <td>1.0</td>\n",
       "      <td>4.0</td>\n",
       "      <td>2.0</td>\n",
       "      <td>0.0</td>\n",
       "      <td>0.0</td>\n",
       "      <td>0.0</td>\n",
       "      <td>0.0</td>\n",
       "      <td>0.0</td>\n",
       "      <td>0.0</td>\n",
       "      <td>1.0</td>\n",
       "      <td>...</td>\n",
       "      <td>0.0</td>\n",
       "      <td>0.0</td>\n",
       "      <td>3.15</td>\n",
       "      <td>9.0</td>\n",
       "      <td>8.0</td>\n",
       "      <td>2.0</td>\n",
       "      <td>11.0</td>\n",
       "      <td>3.0</td>\n",
       "      <td>1</td>\n",
       "      <td>0.5724</td>\n",
       "    </tr>\n",
       "    <tr>\n",
       "      <th>11381</th>\n",
       "      <td>1.0</td>\n",
       "      <td>3.0</td>\n",
       "      <td>2.0</td>\n",
       "      <td>0.0</td>\n",
       "      <td>0.0</td>\n",
       "      <td>0.0</td>\n",
       "      <td>0.0</td>\n",
       "      <td>0.0</td>\n",
       "      <td>0.0</td>\n",
       "      <td>1.0</td>\n",
       "      <td>...</td>\n",
       "      <td>0.0</td>\n",
       "      <td>0.0</td>\n",
       "      <td>3.05</td>\n",
       "      <td>9.0</td>\n",
       "      <td>11.0</td>\n",
       "      <td>2.0</td>\n",
       "      <td>11.0</td>\n",
       "      <td>2.0</td>\n",
       "      <td>1</td>\n",
       "      <td>0.5439</td>\n",
       "    </tr>\n",
       "    <tr>\n",
       "      <th>11382</th>\n",
       "      <td>2.0</td>\n",
       "      <td>2.0</td>\n",
       "      <td>1.0</td>\n",
       "      <td>0.0</td>\n",
       "      <td>1.0</td>\n",
       "      <td>0.0</td>\n",
       "      <td>0.0</td>\n",
       "      <td>0.0</td>\n",
       "      <td>0.0</td>\n",
       "      <td>0.0</td>\n",
       "      <td>...</td>\n",
       "      <td>0.0</td>\n",
       "      <td>0.0</td>\n",
       "      <td>3.40</td>\n",
       "      <td>8.0</td>\n",
       "      <td>9.0</td>\n",
       "      <td>4.0</td>\n",
       "      <td>2.0</td>\n",
       "      <td>1.0</td>\n",
       "      <td>2</td>\n",
       "      <td>0.5589</td>\n",
       "    </tr>\n",
       "  </tbody>\n",
       "</table>\n",
       "<p>11383 rows × 35 columns</p>\n",
       "</div>"
      ],
      "text/plain": [
       "       engnat  familysize  married  race_Arab  race_Asian  race_Black  \\\n",
       "0         2.0         3.0      1.0        0.0         0.0         0.0   \n",
       "1         2.0         2.0      1.0        0.0         0.0         0.0   \n",
       "2         2.0         7.0      2.0        0.0         0.0         0.0   \n",
       "3         1.0         4.0      2.0        0.0         0.0         0.0   \n",
       "4         1.0         3.0      1.0        0.0         0.0         0.0   \n",
       "...       ...         ...      ...        ...         ...         ...   \n",
       "11378     2.0         3.0      1.0        0.0         0.0         0.0   \n",
       "11379     2.0         1.0      1.0        0.0         1.0         0.0   \n",
       "11380     1.0         4.0      2.0        0.0         0.0         0.0   \n",
       "11381     1.0         3.0      2.0        0.0         0.0         0.0   \n",
       "11382     2.0         2.0      1.0        0.0         1.0         0.0   \n",
       "\n",
       "       race_Indigenous Australian  race_Native American  race_Other  \\\n",
       "0                             0.0                   0.0         0.0   \n",
       "1                             0.0                   0.0         1.0   \n",
       "2                             0.0                   0.0         1.0   \n",
       "3                             0.0                   0.0         0.0   \n",
       "4                             0.0                   0.0         0.0   \n",
       "...                           ...                   ...         ...   \n",
       "11378                         0.0                   0.0         1.0   \n",
       "11379                         0.0                   0.0         0.0   \n",
       "11380                         0.0                   0.0         0.0   \n",
       "11381                         0.0                   0.0         0.0   \n",
       "11382                         0.0                   0.0         0.0   \n",
       "\n",
       "       race_White  ...  age_group_50s  age_group_60s  Mach_score  tp0106  \\\n",
       "0             1.0  ...            0.0            0.0        2.45     7.0   \n",
       "1             0.0  ...            0.0            0.0        2.80     7.0   \n",
       "2             0.0  ...            0.0            0.0        3.55    11.0   \n",
       "3             1.0  ...            0.0            1.0        3.35     1.0   \n",
       "4             1.0  ...            0.0            0.0        2.90    11.0   \n",
       "...           ...  ...            ...            ...         ...     ...   \n",
       "11378         0.0  ...            0.0            0.0        3.20     4.0   \n",
       "11379         0.0  ...            0.0            0.0        4.55     3.0   \n",
       "11380         1.0  ...            0.0            0.0        3.15     9.0   \n",
       "11381         1.0  ...            0.0            0.0        3.05     9.0   \n",
       "11382         0.0  ...            0.0            0.0        3.40     8.0   \n",
       "\n",
       "       tp0207  tp0308  tp0409  tp0510  Label   Score  \n",
       "0         6.0     5.0     7.0     4.0      2  0.5789  \n",
       "1         7.0     7.0     7.0     7.0      2  0.6406  \n",
       "2         7.0     8.0     3.0    11.0      2  0.5283  \n",
       "3        11.0     3.0    11.0     1.0      1  0.5977  \n",
       "4         3.0     7.0     5.0     7.0      2  0.6156  \n",
       "...       ...     ...     ...     ...    ...     ...  \n",
       "11378     6.0     7.0     6.0     2.0      2  0.5309  \n",
       "11379     7.0     9.0     1.0     3.0      2  0.6534  \n",
       "11380     8.0     2.0    11.0     3.0      1  0.5724  \n",
       "11381    11.0     2.0    11.0     2.0      1  0.5439  \n",
       "11382     9.0     4.0     2.0     1.0      2  0.5589  \n",
       "\n",
       "[11383 rows x 35 columns]"
      ]
     },
     "execution_count": 539,
     "metadata": {},
     "output_type": "execute_result"
    }
   ],
   "source": [
    "predictions = predict_model(final_model, data = test)\n",
    "predictions"
   ]
  },
  {
   "cell_type": "code",
   "execution_count": 540,
   "id": "718f12ee",
   "metadata": {},
   "outputs": [],
   "source": [
    "submission= pd.read_csv('./sample_submission.csv')"
   ]
  },
  {
   "cell_type": "code",
   "execution_count": 541,
   "id": "97beb3d5",
   "metadata": {},
   "outputs": [],
   "source": [
    "submission['voted'] = predictions['Label']"
   ]
  },
  {
   "cell_type": "code",
   "execution_count": 542,
   "id": "523c1844",
   "metadata": {},
   "outputs": [],
   "source": [
    "submission.to_csv('submission_proba.csv', index = False)"
   ]
  },
  {
   "cell_type": "code",
   "execution_count": 543,
   "id": "0caea7d1",
   "metadata": {},
   "outputs": [
    {
     "data": {
      "text/plain": [
       "count    11383.000000\n",
       "mean         1.532021\n",
       "std          0.498995\n",
       "min          1.000000\n",
       "25%          1.000000\n",
       "50%          2.000000\n",
       "75%          2.000000\n",
       "max          2.000000\n",
       "Name: voted, dtype: float64"
      ]
     },
     "execution_count": 543,
     "metadata": {},
     "output_type": "execute_result"
    }
   ],
   "source": [
    "submission['voted'].describe()"
   ]
  },
  {
   "cell_type": "code",
   "execution_count": 544,
   "id": "a898450f",
   "metadata": {
    "scrolled": true
   },
   "outputs": [
    {
     "data": {
      "text/plain": [
       "0        2\n",
       "1        2\n",
       "2        2\n",
       "3        1\n",
       "4        2\n",
       "        ..\n",
       "11378    2\n",
       "11379    2\n",
       "11380    1\n",
       "11381    1\n",
       "11382    2\n",
       "Name: voted, Length: 11383, dtype: int8"
      ]
     },
     "execution_count": 544,
     "metadata": {},
     "output_type": "execute_result"
    }
   ],
   "source": [
    "submission['voted']"
   ]
  },
  {
   "cell_type": "code",
   "execution_count": 545,
   "id": "e87185df",
   "metadata": {
    "scrolled": true
   },
   "outputs": [
    {
     "data": {
      "text/plain": [
       "2    6056\n",
       "1    5327\n",
       "Name: voted, dtype: int64"
      ]
     },
     "execution_count": 545,
     "metadata": {},
     "output_type": "execute_result"
    }
   ],
   "source": [
    "submission['voted'].value_counts()"
   ]
  },
  {
   "cell_type": "markdown",
   "id": "a03bcd30",
   "metadata": {},
   "source": [
    "# TEST Set에 대한 AUC"
   ]
  },
  {
   "cell_type": "code",
   "execution_count": 546,
   "id": "392e9e6f",
   "metadata": {},
   "outputs": [
    {
     "data": {
      "text/plain": [
       "0.7006"
      ]
     },
     "execution_count": 546,
     "metadata": {},
     "output_type": "execute_result"
    }
   ],
   "source": [
    "from pycaret.utils import check_metric\n",
    "check_metric(pred_holdout['voted'], pred_holdout['Label'], metric='AUC')"
   ]
  }
 ],
 "metadata": {
  "kernelspec": {
   "display_name": "Python 3 (ipykernel)",
   "language": "python",
   "name": "python3"
  },
  "language_info": {
   "codemirror_mode": {
    "name": "ipython",
    "version": 3
   },
   "file_extension": ".py",
   "mimetype": "text/x-python",
   "name": "python",
   "nbconvert_exporter": "python",
   "pygments_lexer": "ipython3",
   "version": "3.9.12"
  }
 },
 "nbformat": 4,
 "nbformat_minor": 5
}
