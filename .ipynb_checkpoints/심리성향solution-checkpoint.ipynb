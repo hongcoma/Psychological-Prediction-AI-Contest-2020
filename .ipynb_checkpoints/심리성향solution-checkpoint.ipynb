{
 "cells": [
  {
   "cell_type": "markdown",
   "metadata": {},
   "source": [
    "# 1. 데이터 추가"
   ]
  },
  {
   "cell_type": "code",
   "execution_count": 60,
   "metadata": {
    "_cell_guid": "e58a3f06-4c2a-4b87-90de-f8b09039fd4e",
    "_uuid": "46f0b12d7bf66712642e9a9b807f5ef398426b83"
   },
   "outputs": [],
   "source": [
    "import pandas as pd\n",
    "\n",
    "train=pd.read_csv('./train-Grid view.csv', index_col=0)\n",
    "test=pd.read_csv('./test_x-Grid view.csv', index_col=0)"
   ]
  },
  {
   "cell_type": "code",
   "execution_count": 61,
   "metadata": {
    "_cell_guid": "749a3d70-394c-4d2c-999a-4d0567e39232",
    "_uuid": "b9fdb3b19d7a8f30cd0bb69ae434e04121ecba93"
   },
   "outputs": [
    {
     "data": {
      "text/html": [
       "<div>\n",
       "<style scoped>\n",
       "    .dataframe tbody tr th:only-of-type {\n",
       "        vertical-align: middle;\n",
       "    }\n",
       "\n",
       "    .dataframe tbody tr th {\n",
       "        vertical-align: top;\n",
       "    }\n",
       "\n",
       "    .dataframe thead th {\n",
       "        text-align: right;\n",
       "    }\n",
       "</style>\n",
       "<table border=\"1\" class=\"dataframe\">\n",
       "  <thead>\n",
       "    <tr style=\"text-align: right;\">\n",
       "      <th></th>\n",
       "      <th>QaA</th>\n",
       "      <th>QaE</th>\n",
       "      <th>QbA</th>\n",
       "      <th>QbE</th>\n",
       "      <th>QcA</th>\n",
       "      <th>QcE</th>\n",
       "      <th>QdA</th>\n",
       "      <th>QdE</th>\n",
       "      <th>QeA</th>\n",
       "      <th>QeE</th>\n",
       "      <th>...</th>\n",
       "      <th>wr_04</th>\n",
       "      <th>wr_05</th>\n",
       "      <th>wr_06</th>\n",
       "      <th>wr_07</th>\n",
       "      <th>wr_08</th>\n",
       "      <th>wr_09</th>\n",
       "      <th>wr_10</th>\n",
       "      <th>wr_11</th>\n",
       "      <th>wr_12</th>\n",
       "      <th>wr_13</th>\n",
       "    </tr>\n",
       "    <tr>\n",
       "      <th>index</th>\n",
       "      <th></th>\n",
       "      <th></th>\n",
       "      <th></th>\n",
       "      <th></th>\n",
       "      <th></th>\n",
       "      <th></th>\n",
       "      <th></th>\n",
       "      <th></th>\n",
       "      <th></th>\n",
       "      <th></th>\n",
       "      <th></th>\n",
       "      <th></th>\n",
       "      <th></th>\n",
       "      <th></th>\n",
       "      <th></th>\n",
       "      <th></th>\n",
       "      <th></th>\n",
       "      <th></th>\n",
       "      <th></th>\n",
       "      <th></th>\n",
       "      <th></th>\n",
       "    </tr>\n",
       "  </thead>\n",
       "  <tbody>\n",
       "    <tr>\n",
       "      <th>0</th>\n",
       "      <td>3</td>\n",
       "      <td>363</td>\n",
       "      <td>4</td>\n",
       "      <td>1370</td>\n",
       "      <td>5</td>\n",
       "      <td>997</td>\n",
       "      <td>1</td>\n",
       "      <td>1024</td>\n",
       "      <td>2</td>\n",
       "      <td>1577</td>\n",
       "      <td>...</td>\n",
       "      <td>0</td>\n",
       "      <td>1</td>\n",
       "      <td>0</td>\n",
       "      <td>1</td>\n",
       "      <td>1</td>\n",
       "      <td>0</td>\n",
       "      <td>1</td>\n",
       "      <td>0</td>\n",
       "      <td>1</td>\n",
       "      <td>1</td>\n",
       "    </tr>\n",
       "    <tr>\n",
       "      <th>1</th>\n",
       "      <td>5</td>\n",
       "      <td>647</td>\n",
       "      <td>5</td>\n",
       "      <td>1313</td>\n",
       "      <td>3</td>\n",
       "      <td>3387</td>\n",
       "      <td>5</td>\n",
       "      <td>2969</td>\n",
       "      <td>1</td>\n",
       "      <td>4320</td>\n",
       "      <td>...</td>\n",
       "      <td>1</td>\n",
       "      <td>1</td>\n",
       "      <td>0</td>\n",
       "      <td>1</td>\n",
       "      <td>1</td>\n",
       "      <td>0</td>\n",
       "      <td>1</td>\n",
       "      <td>0</td>\n",
       "      <td>1</td>\n",
       "      <td>1</td>\n",
       "    </tr>\n",
       "    <tr>\n",
       "      <th>2</th>\n",
       "      <td>4</td>\n",
       "      <td>1623</td>\n",
       "      <td>1</td>\n",
       "      <td>1480</td>\n",
       "      <td>1</td>\n",
       "      <td>1021</td>\n",
       "      <td>4</td>\n",
       "      <td>3374</td>\n",
       "      <td>5</td>\n",
       "      <td>1333</td>\n",
       "      <td>...</td>\n",
       "      <td>1</td>\n",
       "      <td>1</td>\n",
       "      <td>0</td>\n",
       "      <td>1</td>\n",
       "      <td>1</td>\n",
       "      <td>1</td>\n",
       "      <td>1</td>\n",
       "      <td>0</td>\n",
       "      <td>1</td>\n",
       "      <td>1</td>\n",
       "    </tr>\n",
       "    <tr>\n",
       "      <th>3</th>\n",
       "      <td>3</td>\n",
       "      <td>504</td>\n",
       "      <td>3</td>\n",
       "      <td>2311</td>\n",
       "      <td>4</td>\n",
       "      <td>992</td>\n",
       "      <td>3</td>\n",
       "      <td>3245</td>\n",
       "      <td>1</td>\n",
       "      <td>357</td>\n",
       "      <td>...</td>\n",
       "      <td>0</td>\n",
       "      <td>0</td>\n",
       "      <td>0</td>\n",
       "      <td>0</td>\n",
       "      <td>1</td>\n",
       "      <td>0</td>\n",
       "      <td>1</td>\n",
       "      <td>0</td>\n",
       "      <td>1</td>\n",
       "      <td>1</td>\n",
       "    </tr>\n",
       "    <tr>\n",
       "      <th>4</th>\n",
       "      <td>1</td>\n",
       "      <td>927</td>\n",
       "      <td>1</td>\n",
       "      <td>707</td>\n",
       "      <td>5</td>\n",
       "      <td>556</td>\n",
       "      <td>2</td>\n",
       "      <td>1062</td>\n",
       "      <td>1</td>\n",
       "      <td>1014</td>\n",
       "      <td>...</td>\n",
       "      <td>1</td>\n",
       "      <td>1</td>\n",
       "      <td>1</td>\n",
       "      <td>1</td>\n",
       "      <td>1</td>\n",
       "      <td>0</td>\n",
       "      <td>1</td>\n",
       "      <td>1</td>\n",
       "      <td>1</td>\n",
       "      <td>1</td>\n",
       "    </tr>\n",
       "    <tr>\n",
       "      <th>5</th>\n",
       "      <td>2</td>\n",
       "      <td>834</td>\n",
       "      <td>1</td>\n",
       "      <td>1769</td>\n",
       "      <td>4</td>\n",
       "      <td>2105</td>\n",
       "      <td>1</td>\n",
       "      <td>1070</td>\n",
       "      <td>5</td>\n",
       "      <td>1930</td>\n",
       "      <td>...</td>\n",
       "      <td>0</td>\n",
       "      <td>0</td>\n",
       "      <td>0</td>\n",
       "      <td>0</td>\n",
       "      <td>1</td>\n",
       "      <td>0</td>\n",
       "      <td>0</td>\n",
       "      <td>0</td>\n",
       "      <td>0</td>\n",
       "      <td>0</td>\n",
       "    </tr>\n",
       "    <tr>\n",
       "      <th>6</th>\n",
       "      <td>1</td>\n",
       "      <td>1382</td>\n",
       "      <td>1</td>\n",
       "      <td>1473</td>\n",
       "      <td>5</td>\n",
       "      <td>1479</td>\n",
       "      <td>4</td>\n",
       "      <td>2403</td>\n",
       "      <td>1</td>\n",
       "      <td>616</td>\n",
       "      <td>...</td>\n",
       "      <td>1</td>\n",
       "      <td>1</td>\n",
       "      <td>1</td>\n",
       "      <td>1</td>\n",
       "      <td>1</td>\n",
       "      <td>0</td>\n",
       "      <td>1</td>\n",
       "      <td>0</td>\n",
       "      <td>1</td>\n",
       "      <td>1</td>\n",
       "    </tr>\n",
       "    <tr>\n",
       "      <th>7</th>\n",
       "      <td>1</td>\n",
       "      <td>384</td>\n",
       "      <td>1</td>\n",
       "      <td>908</td>\n",
       "      <td>5</td>\n",
       "      <td>870</td>\n",
       "      <td>1</td>\n",
       "      <td>1059</td>\n",
       "      <td>1</td>\n",
       "      <td>1266</td>\n",
       "      <td>...</td>\n",
       "      <td>1</td>\n",
       "      <td>1</td>\n",
       "      <td>1</td>\n",
       "      <td>1</td>\n",
       "      <td>1</td>\n",
       "      <td>1</td>\n",
       "      <td>1</td>\n",
       "      <td>0</td>\n",
       "      <td>1</td>\n",
       "      <td>1</td>\n",
       "    </tr>\n",
       "    <tr>\n",
       "      <th>8</th>\n",
       "      <td>5</td>\n",
       "      <td>795</td>\n",
       "      <td>2</td>\n",
       "      <td>3469</td>\n",
       "      <td>4</td>\n",
       "      <td>1693</td>\n",
       "      <td>3</td>\n",
       "      <td>1991</td>\n",
       "      <td>4</td>\n",
       "      <td>5922</td>\n",
       "      <td>...</td>\n",
       "      <td>0</td>\n",
       "      <td>0</td>\n",
       "      <td>0</td>\n",
       "      <td>0</td>\n",
       "      <td>1</td>\n",
       "      <td>0</td>\n",
       "      <td>0</td>\n",
       "      <td>0</td>\n",
       "      <td>1</td>\n",
       "      <td>1</td>\n",
       "    </tr>\n",
       "    <tr>\n",
       "      <th>9</th>\n",
       "      <td>2</td>\n",
       "      <td>1668</td>\n",
       "      <td>1</td>\n",
       "      <td>866</td>\n",
       "      <td>1</td>\n",
       "      <td>895</td>\n",
       "      <td>1</td>\n",
       "      <td>1308</td>\n",
       "      <td>2</td>\n",
       "      <td>1715</td>\n",
       "      <td>...</td>\n",
       "      <td>1</td>\n",
       "      <td>1</td>\n",
       "      <td>0</td>\n",
       "      <td>1</td>\n",
       "      <td>1</td>\n",
       "      <td>0</td>\n",
       "      <td>1</td>\n",
       "      <td>1</td>\n",
       "      <td>1</td>\n",
       "      <td>1</td>\n",
       "    </tr>\n",
       "    <tr>\n",
       "      <th>10</th>\n",
       "      <td>1</td>\n",
       "      <td>1465</td>\n",
       "      <td>1</td>\n",
       "      <td>7581</td>\n",
       "      <td>4</td>\n",
       "      <td>1345</td>\n",
       "      <td>1</td>\n",
       "      <td>350</td>\n",
       "      <td>3</td>\n",
       "      <td>1747</td>\n",
       "      <td>...</td>\n",
       "      <td>0</td>\n",
       "      <td>1</td>\n",
       "      <td>0</td>\n",
       "      <td>1</td>\n",
       "      <td>1</td>\n",
       "      <td>0</td>\n",
       "      <td>1</td>\n",
       "      <td>1</td>\n",
       "      <td>1</td>\n",
       "      <td>1</td>\n",
       "    </tr>\n",
       "    <tr>\n",
       "      <th>11</th>\n",
       "      <td>3</td>\n",
       "      <td>1086</td>\n",
       "      <td>2</td>\n",
       "      <td>3020</td>\n",
       "      <td>5</td>\n",
       "      <td>1997</td>\n",
       "      <td>1</td>\n",
       "      <td>1358</td>\n",
       "      <td>1</td>\n",
       "      <td>1318</td>\n",
       "      <td>...</td>\n",
       "      <td>1</td>\n",
       "      <td>1</td>\n",
       "      <td>0</td>\n",
       "      <td>1</td>\n",
       "      <td>1</td>\n",
       "      <td>0</td>\n",
       "      <td>1</td>\n",
       "      <td>0</td>\n",
       "      <td>1</td>\n",
       "      <td>1</td>\n",
       "    </tr>\n",
       "    <tr>\n",
       "      <th>12</th>\n",
       "      <td>2</td>\n",
       "      <td>466</td>\n",
       "      <td>4</td>\n",
       "      <td>1650</td>\n",
       "      <td>4</td>\n",
       "      <td>655</td>\n",
       "      <td>3</td>\n",
       "      <td>1241</td>\n",
       "      <td>5</td>\n",
       "      <td>1339</td>\n",
       "      <td>...</td>\n",
       "      <td>1</td>\n",
       "      <td>1</td>\n",
       "      <td>0</td>\n",
       "      <td>1</td>\n",
       "      <td>1</td>\n",
       "      <td>0</td>\n",
       "      <td>1</td>\n",
       "      <td>1</td>\n",
       "      <td>1</td>\n",
       "      <td>1</td>\n",
       "    </tr>\n",
       "    <tr>\n",
       "      <th>13</th>\n",
       "      <td>4</td>\n",
       "      <td>342</td>\n",
       "      <td>3</td>\n",
       "      <td>2676</td>\n",
       "      <td>4</td>\n",
       "      <td>854</td>\n",
       "      <td>4</td>\n",
       "      <td>7971</td>\n",
       "      <td>3</td>\n",
       "      <td>981</td>\n",
       "      <td>...</td>\n",
       "      <td>1</td>\n",
       "      <td>1</td>\n",
       "      <td>0</td>\n",
       "      <td>1</td>\n",
       "      <td>1</td>\n",
       "      <td>0</td>\n",
       "      <td>1</td>\n",
       "      <td>0</td>\n",
       "      <td>1</td>\n",
       "      <td>1</td>\n",
       "    </tr>\n",
       "    <tr>\n",
       "      <th>14</th>\n",
       "      <td>1</td>\n",
       "      <td>739</td>\n",
       "      <td>4</td>\n",
       "      <td>2544</td>\n",
       "      <td>5</td>\n",
       "      <td>880</td>\n",
       "      <td>1</td>\n",
       "      <td>1425</td>\n",
       "      <td>1</td>\n",
       "      <td>1424</td>\n",
       "      <td>...</td>\n",
       "      <td>1</td>\n",
       "      <td>1</td>\n",
       "      <td>0</td>\n",
       "      <td>1</td>\n",
       "      <td>1</td>\n",
       "      <td>0</td>\n",
       "      <td>1</td>\n",
       "      <td>0</td>\n",
       "      <td>1</td>\n",
       "      <td>1</td>\n",
       "    </tr>\n",
       "    <tr>\n",
       "      <th>15</th>\n",
       "      <td>2</td>\n",
       "      <td>447</td>\n",
       "      <td>4</td>\n",
       "      <td>1316</td>\n",
       "      <td>4</td>\n",
       "      <td>745</td>\n",
       "      <td>1</td>\n",
       "      <td>526</td>\n",
       "      <td>3</td>\n",
       "      <td>1121</td>\n",
       "      <td>...</td>\n",
       "      <td>1</td>\n",
       "      <td>1</td>\n",
       "      <td>0</td>\n",
       "      <td>1</td>\n",
       "      <td>1</td>\n",
       "      <td>0</td>\n",
       "      <td>1</td>\n",
       "      <td>0</td>\n",
       "      <td>1</td>\n",
       "      <td>1</td>\n",
       "    </tr>\n",
       "    <tr>\n",
       "      <th>16</th>\n",
       "      <td>1</td>\n",
       "      <td>390</td>\n",
       "      <td>5</td>\n",
       "      <td>1322</td>\n",
       "      <td>5</td>\n",
       "      <td>1947</td>\n",
       "      <td>1</td>\n",
       "      <td>887</td>\n",
       "      <td>1</td>\n",
       "      <td>1127</td>\n",
       "      <td>...</td>\n",
       "      <td>1</td>\n",
       "      <td>1</td>\n",
       "      <td>0</td>\n",
       "      <td>1</td>\n",
       "      <td>1</td>\n",
       "      <td>0</td>\n",
       "      <td>1</td>\n",
       "      <td>0</td>\n",
       "      <td>1</td>\n",
       "      <td>1</td>\n",
       "    </tr>\n",
       "    <tr>\n",
       "      <th>17</th>\n",
       "      <td>2</td>\n",
       "      <td>247</td>\n",
       "      <td>4</td>\n",
       "      <td>1097</td>\n",
       "      <td>3</td>\n",
       "      <td>2135</td>\n",
       "      <td>1</td>\n",
       "      <td>451</td>\n",
       "      <td>4</td>\n",
       "      <td>1756</td>\n",
       "      <td>...</td>\n",
       "      <td>1</td>\n",
       "      <td>1</td>\n",
       "      <td>0</td>\n",
       "      <td>1</td>\n",
       "      <td>1</td>\n",
       "      <td>0</td>\n",
       "      <td>1</td>\n",
       "      <td>1</td>\n",
       "      <td>1</td>\n",
       "      <td>1</td>\n",
       "    </tr>\n",
       "    <tr>\n",
       "      <th>18</th>\n",
       "      <td>3</td>\n",
       "      <td>359</td>\n",
       "      <td>5</td>\n",
       "      <td>603</td>\n",
       "      <td>4</td>\n",
       "      <td>483</td>\n",
       "      <td>1</td>\n",
       "      <td>555</td>\n",
       "      <td>2</td>\n",
       "      <td>379</td>\n",
       "      <td>...</td>\n",
       "      <td>1</td>\n",
       "      <td>1</td>\n",
       "      <td>1</td>\n",
       "      <td>1</td>\n",
       "      <td>1</td>\n",
       "      <td>1</td>\n",
       "      <td>1</td>\n",
       "      <td>1</td>\n",
       "      <td>1</td>\n",
       "      <td>1</td>\n",
       "    </tr>\n",
       "    <tr>\n",
       "      <th>19</th>\n",
       "      <td>2</td>\n",
       "      <td>989</td>\n",
       "      <td>5</td>\n",
       "      <td>5602</td>\n",
       "      <td>5</td>\n",
       "      <td>542</td>\n",
       "      <td>2</td>\n",
       "      <td>2067</td>\n",
       "      <td>2</td>\n",
       "      <td>1004</td>\n",
       "      <td>...</td>\n",
       "      <td>1</td>\n",
       "      <td>1</td>\n",
       "      <td>0</td>\n",
       "      <td>1</td>\n",
       "      <td>1</td>\n",
       "      <td>0</td>\n",
       "      <td>1</td>\n",
       "      <td>1</td>\n",
       "      <td>1</td>\n",
       "      <td>1</td>\n",
       "    </tr>\n",
       "    <tr>\n",
       "      <th>20</th>\n",
       "      <td>3</td>\n",
       "      <td>309</td>\n",
       "      <td>4</td>\n",
       "      <td>877</td>\n",
       "      <td>5</td>\n",
       "      <td>628</td>\n",
       "      <td>3</td>\n",
       "      <td>427</td>\n",
       "      <td>5</td>\n",
       "      <td>726</td>\n",
       "      <td>...</td>\n",
       "      <td>1</td>\n",
       "      <td>1</td>\n",
       "      <td>0</td>\n",
       "      <td>1</td>\n",
       "      <td>1</td>\n",
       "      <td>0</td>\n",
       "      <td>1</td>\n",
       "      <td>0</td>\n",
       "      <td>1</td>\n",
       "      <td>1</td>\n",
       "    </tr>\n",
       "  </tbody>\n",
       "</table>\n",
       "<p>21 rows × 77 columns</p>\n",
       "</div>"
      ],
      "text/plain": [
       "       QaA   QaE  QbA   QbE  QcA   QcE  QdA   QdE  QeA   QeE  ...  wr_04  \\\n",
       "index                                                         ...          \n",
       "0        3   363    4  1370    5   997    1  1024    2  1577  ...      0   \n",
       "1        5   647    5  1313    3  3387    5  2969    1  4320  ...      1   \n",
       "2        4  1623    1  1480    1  1021    4  3374    5  1333  ...      1   \n",
       "3        3   504    3  2311    4   992    3  3245    1   357  ...      0   \n",
       "4        1   927    1   707    5   556    2  1062    1  1014  ...      1   \n",
       "5        2   834    1  1769    4  2105    1  1070    5  1930  ...      0   \n",
       "6        1  1382    1  1473    5  1479    4  2403    1   616  ...      1   \n",
       "7        1   384    1   908    5   870    1  1059    1  1266  ...      1   \n",
       "8        5   795    2  3469    4  1693    3  1991    4  5922  ...      0   \n",
       "9        2  1668    1   866    1   895    1  1308    2  1715  ...      1   \n",
       "10       1  1465    1  7581    4  1345    1   350    3  1747  ...      0   \n",
       "11       3  1086    2  3020    5  1997    1  1358    1  1318  ...      1   \n",
       "12       2   466    4  1650    4   655    3  1241    5  1339  ...      1   \n",
       "13       4   342    3  2676    4   854    4  7971    3   981  ...      1   \n",
       "14       1   739    4  2544    5   880    1  1425    1  1424  ...      1   \n",
       "15       2   447    4  1316    4   745    1   526    3  1121  ...      1   \n",
       "16       1   390    5  1322    5  1947    1   887    1  1127  ...      1   \n",
       "17       2   247    4  1097    3  2135    1   451    4  1756  ...      1   \n",
       "18       3   359    5   603    4   483    1   555    2   379  ...      1   \n",
       "19       2   989    5  5602    5   542    2  2067    2  1004  ...      1   \n",
       "20       3   309    4   877    5   628    3   427    5   726  ...      1   \n",
       "\n",
       "       wr_05  wr_06  wr_07  wr_08  wr_09  wr_10  wr_11  wr_12  wr_13  \n",
       "index                                                                 \n",
       "0          1      0      1      1      0      1      0      1      1  \n",
       "1          1      0      1      1      0      1      0      1      1  \n",
       "2          1      0      1      1      1      1      0      1      1  \n",
       "3          0      0      0      1      0      1      0      1      1  \n",
       "4          1      1      1      1      0      1      1      1      1  \n",
       "5          0      0      0      1      0      0      0      0      0  \n",
       "6          1      1      1      1      0      1      0      1      1  \n",
       "7          1      1      1      1      1      1      0      1      1  \n",
       "8          0      0      0      1      0      0      0      1      1  \n",
       "9          1      0      1      1      0      1      1      1      1  \n",
       "10         1      0      1      1      0      1      1      1      1  \n",
       "11         1      0      1      1      0      1      0      1      1  \n",
       "12         1      0      1      1      0      1      1      1      1  \n",
       "13         1      0      1      1      0      1      0      1      1  \n",
       "14         1      0      1      1      0      1      0      1      1  \n",
       "15         1      0      1      1      0      1      0      1      1  \n",
       "16         1      0      1      1      0      1      0      1      1  \n",
       "17         1      0      1      1      0      1      1      1      1  \n",
       "18         1      1      1      1      1      1      1      1      1  \n",
       "19         1      0      1      1      0      1      1      1      1  \n",
       "20         1      0      1      1      0      1      0      1      1  \n",
       "\n",
       "[21 rows x 77 columns]"
      ]
     },
     "execution_count": 61,
     "metadata": {},
     "output_type": "execute_result"
    }
   ],
   "source": [
    "train.head(80)"
   ]
  },
  {
   "cell_type": "code",
   "execution_count": 62,
   "metadata": {},
   "outputs": [
    {
     "name": "stderr",
     "output_type": "stream",
     "text": [
      "C:\\Users\\HJH\\AppData\\Local\\Temp/ipykernel_12540/2127106683.py:4: SettingWithCopyWarning: \n",
      "A value is trying to be set on a copy of a slice from a DataFrame\n",
      "\n",
      "See the caveats in the documentation: https://pandas.pydata.org/pandas-docs/stable/user_guide/indexing.html#returning-a-view-versus-a-copy\n",
      "  train['num'][i]=i\n",
      "C:\\Users\\HJH\\AppData\\Local\\Temp/ipykernel_12540/2127106683.py:6: SettingWithCopyWarning: \n",
      "A value is trying to be set on a copy of a slice from a DataFrame\n",
      "\n",
      "See the caveats in the documentation: https://pandas.pydata.org/pandas-docs/stable/user_guide/indexing.html#returning-a-view-versus-a-copy\n",
      "  test['num'][i]=i\n"
     ]
    },
    {
     "data": {
      "text/html": [
       "<div>\n",
       "<style scoped>\n",
       "    .dataframe tbody tr th:only-of-type {\n",
       "        vertical-align: middle;\n",
       "    }\n",
       "\n",
       "    .dataframe tbody tr th {\n",
       "        vertical-align: top;\n",
       "    }\n",
       "\n",
       "    .dataframe thead th {\n",
       "        text-align: right;\n",
       "    }\n",
       "</style>\n",
       "<table border=\"1\" class=\"dataframe\">\n",
       "  <thead>\n",
       "    <tr style=\"text-align: right;\">\n",
       "      <th></th>\n",
       "      <th>QaA</th>\n",
       "      <th>QaE</th>\n",
       "      <th>QbA</th>\n",
       "      <th>QbE</th>\n",
       "      <th>QcA</th>\n",
       "      <th>QcE</th>\n",
       "      <th>QdA</th>\n",
       "      <th>QdE</th>\n",
       "      <th>QeA</th>\n",
       "      <th>QeE</th>\n",
       "      <th>...</th>\n",
       "      <th>wr_05</th>\n",
       "      <th>wr_06</th>\n",
       "      <th>wr_07</th>\n",
       "      <th>wr_08</th>\n",
       "      <th>wr_09</th>\n",
       "      <th>wr_10</th>\n",
       "      <th>wr_11</th>\n",
       "      <th>wr_12</th>\n",
       "      <th>wr_13</th>\n",
       "      <th>num</th>\n",
       "    </tr>\n",
       "    <tr>\n",
       "      <th>index</th>\n",
       "      <th></th>\n",
       "      <th></th>\n",
       "      <th></th>\n",
       "      <th></th>\n",
       "      <th></th>\n",
       "      <th></th>\n",
       "      <th></th>\n",
       "      <th></th>\n",
       "      <th></th>\n",
       "      <th></th>\n",
       "      <th></th>\n",
       "      <th></th>\n",
       "      <th></th>\n",
       "      <th></th>\n",
       "      <th></th>\n",
       "      <th></th>\n",
       "      <th></th>\n",
       "      <th></th>\n",
       "      <th></th>\n",
       "      <th></th>\n",
       "      <th></th>\n",
       "    </tr>\n",
       "  </thead>\n",
       "  <tbody>\n",
       "    <tr>\n",
       "      <th>0</th>\n",
       "      <td>3</td>\n",
       "      <td>363</td>\n",
       "      <td>4</td>\n",
       "      <td>1370</td>\n",
       "      <td>5</td>\n",
       "      <td>997</td>\n",
       "      <td>1</td>\n",
       "      <td>1024</td>\n",
       "      <td>2</td>\n",
       "      <td>1577</td>\n",
       "      <td>...</td>\n",
       "      <td>1</td>\n",
       "      <td>0</td>\n",
       "      <td>1</td>\n",
       "      <td>1</td>\n",
       "      <td>0</td>\n",
       "      <td>1</td>\n",
       "      <td>0</td>\n",
       "      <td>1</td>\n",
       "      <td>1</td>\n",
       "      <td>0</td>\n",
       "    </tr>\n",
       "    <tr>\n",
       "      <th>1</th>\n",
       "      <td>5</td>\n",
       "      <td>647</td>\n",
       "      <td>5</td>\n",
       "      <td>1313</td>\n",
       "      <td>3</td>\n",
       "      <td>3387</td>\n",
       "      <td>5</td>\n",
       "      <td>2969</td>\n",
       "      <td>1</td>\n",
       "      <td>4320</td>\n",
       "      <td>...</td>\n",
       "      <td>1</td>\n",
       "      <td>0</td>\n",
       "      <td>1</td>\n",
       "      <td>1</td>\n",
       "      <td>0</td>\n",
       "      <td>1</td>\n",
       "      <td>0</td>\n",
       "      <td>1</td>\n",
       "      <td>1</td>\n",
       "      <td>1</td>\n",
       "    </tr>\n",
       "    <tr>\n",
       "      <th>2</th>\n",
       "      <td>4</td>\n",
       "      <td>1623</td>\n",
       "      <td>1</td>\n",
       "      <td>1480</td>\n",
       "      <td>1</td>\n",
       "      <td>1021</td>\n",
       "      <td>4</td>\n",
       "      <td>3374</td>\n",
       "      <td>5</td>\n",
       "      <td>1333</td>\n",
       "      <td>...</td>\n",
       "      <td>1</td>\n",
       "      <td>0</td>\n",
       "      <td>1</td>\n",
       "      <td>1</td>\n",
       "      <td>1</td>\n",
       "      <td>1</td>\n",
       "      <td>0</td>\n",
       "      <td>1</td>\n",
       "      <td>1</td>\n",
       "      <td>2</td>\n",
       "    </tr>\n",
       "    <tr>\n",
       "      <th>3</th>\n",
       "      <td>3</td>\n",
       "      <td>504</td>\n",
       "      <td>3</td>\n",
       "      <td>2311</td>\n",
       "      <td>4</td>\n",
       "      <td>992</td>\n",
       "      <td>3</td>\n",
       "      <td>3245</td>\n",
       "      <td>1</td>\n",
       "      <td>357</td>\n",
       "      <td>...</td>\n",
       "      <td>0</td>\n",
       "      <td>0</td>\n",
       "      <td>0</td>\n",
       "      <td>1</td>\n",
       "      <td>0</td>\n",
       "      <td>1</td>\n",
       "      <td>0</td>\n",
       "      <td>1</td>\n",
       "      <td>1</td>\n",
       "      <td>3</td>\n",
       "    </tr>\n",
       "    <tr>\n",
       "      <th>4</th>\n",
       "      <td>1</td>\n",
       "      <td>927</td>\n",
       "      <td>1</td>\n",
       "      <td>707</td>\n",
       "      <td>5</td>\n",
       "      <td>556</td>\n",
       "      <td>2</td>\n",
       "      <td>1062</td>\n",
       "      <td>1</td>\n",
       "      <td>1014</td>\n",
       "      <td>...</td>\n",
       "      <td>1</td>\n",
       "      <td>1</td>\n",
       "      <td>1</td>\n",
       "      <td>1</td>\n",
       "      <td>0</td>\n",
       "      <td>1</td>\n",
       "      <td>1</td>\n",
       "      <td>1</td>\n",
       "      <td>1</td>\n",
       "      <td>4</td>\n",
       "    </tr>\n",
       "  </tbody>\n",
       "</table>\n",
       "<p>5 rows × 78 columns</p>\n",
       "</div>"
      ],
      "text/plain": [
       "       QaA   QaE  QbA   QbE  QcA   QcE  QdA   QdE  QeA   QeE  ...  wr_05  \\\n",
       "index                                                         ...          \n",
       "0        3   363    4  1370    5   997    1  1024    2  1577  ...      1   \n",
       "1        5   647    5  1313    3  3387    5  2969    1  4320  ...      1   \n",
       "2        4  1623    1  1480    1  1021    4  3374    5  1333  ...      1   \n",
       "3        3   504    3  2311    4   992    3  3245    1   357  ...      0   \n",
       "4        1   927    1   707    5   556    2  1062    1  1014  ...      1   \n",
       "\n",
       "       wr_06  wr_07  wr_08  wr_09  wr_10  wr_11  wr_12  wr_13  num  \n",
       "index                                                               \n",
       "0          0      1      1      0      1      0      1      1    0  \n",
       "1          0      1      1      0      1      0      1      1    1  \n",
       "2          0      1      1      1      1      0      1      1    2  \n",
       "3          0      0      1      0      1      0      1      1    3  \n",
       "4          1      1      1      0      1      1      1      1    4  \n",
       "\n",
       "[5 rows x 78 columns]"
      ]
     },
     "execution_count": 62,
     "metadata": {},
     "output_type": "execute_result"
    }
   ],
   "source": [
    "train['num']=100\n",
    "test['num']=100\n",
    "for i in range(21):\n",
    "    train['num'][i]=i\n",
    "for i in range(19):\n",
    "    test['num'][i]=i\n",
    "train.head()"
   ]
  },
  {
   "cell_type": "code",
   "execution_count": 63,
   "metadata": {},
   "outputs": [
    {
     "data": {
      "text/html": [
       "<div>\n",
       "<style scoped>\n",
       "    .dataframe tbody tr th:only-of-type {\n",
       "        vertical-align: middle;\n",
       "    }\n",
       "\n",
       "    .dataframe tbody tr th {\n",
       "        vertical-align: top;\n",
       "    }\n",
       "\n",
       "    .dataframe thead th {\n",
       "        text-align: right;\n",
       "    }\n",
       "</style>\n",
       "<table border=\"1\" class=\"dataframe\">\n",
       "  <thead>\n",
       "    <tr style=\"text-align: right;\">\n",
       "      <th></th>\n",
       "      <th>QaA</th>\n",
       "      <th>QaE</th>\n",
       "      <th>QbA</th>\n",
       "      <th>QbE</th>\n",
       "      <th>QcA</th>\n",
       "      <th>QcE</th>\n",
       "      <th>QdA</th>\n",
       "      <th>QdE</th>\n",
       "      <th>QeA</th>\n",
       "      <th>QeE</th>\n",
       "      <th>...</th>\n",
       "      <th>wr_05</th>\n",
       "      <th>wr_06</th>\n",
       "      <th>wr_07</th>\n",
       "      <th>wr_08</th>\n",
       "      <th>wr_09</th>\n",
       "      <th>wr_10</th>\n",
       "      <th>wr_11</th>\n",
       "      <th>wr_12</th>\n",
       "      <th>wr_13</th>\n",
       "      <th>num</th>\n",
       "    </tr>\n",
       "    <tr>\n",
       "      <th>index</th>\n",
       "      <th></th>\n",
       "      <th></th>\n",
       "      <th></th>\n",
       "      <th></th>\n",
       "      <th></th>\n",
       "      <th></th>\n",
       "      <th></th>\n",
       "      <th></th>\n",
       "      <th></th>\n",
       "      <th></th>\n",
       "      <th></th>\n",
       "      <th></th>\n",
       "      <th></th>\n",
       "      <th></th>\n",
       "      <th></th>\n",
       "      <th></th>\n",
       "      <th></th>\n",
       "      <th></th>\n",
       "      <th></th>\n",
       "      <th></th>\n",
       "      <th></th>\n",
       "    </tr>\n",
       "  </thead>\n",
       "  <tbody>\n",
       "    <tr>\n",
       "      <th>0</th>\n",
       "      <td>3</td>\n",
       "      <td>736</td>\n",
       "      <td>2</td>\n",
       "      <td>2941</td>\n",
       "      <td>3</td>\n",
       "      <td>4621</td>\n",
       "      <td>1</td>\n",
       "      <td>4857</td>\n",
       "      <td>2</td>\n",
       "      <td>2550</td>\n",
       "      <td>...</td>\n",
       "      <td>1</td>\n",
       "      <td>0</td>\n",
       "      <td>0</td>\n",
       "      <td>1</td>\n",
       "      <td>0</td>\n",
       "      <td>1</td>\n",
       "      <td>0</td>\n",
       "      <td>1</td>\n",
       "      <td>1</td>\n",
       "      <td>0</td>\n",
       "    </tr>\n",
       "    <tr>\n",
       "      <th>1</th>\n",
       "      <td>3</td>\n",
       "      <td>514</td>\n",
       "      <td>2</td>\n",
       "      <td>1952</td>\n",
       "      <td>3</td>\n",
       "      <td>1552</td>\n",
       "      <td>3</td>\n",
       "      <td>821</td>\n",
       "      <td>4</td>\n",
       "      <td>1150</td>\n",
       "      <td>...</td>\n",
       "      <td>0</td>\n",
       "      <td>0</td>\n",
       "      <td>0</td>\n",
       "      <td>0</td>\n",
       "      <td>0</td>\n",
       "      <td>0</td>\n",
       "      <td>0</td>\n",
       "      <td>0</td>\n",
       "      <td>0</td>\n",
       "      <td>1</td>\n",
       "    </tr>\n",
       "    <tr>\n",
       "      <th>2</th>\n",
       "      <td>3</td>\n",
       "      <td>500</td>\n",
       "      <td>2</td>\n",
       "      <td>2507</td>\n",
       "      <td>4</td>\n",
       "      <td>480</td>\n",
       "      <td>2</td>\n",
       "      <td>614</td>\n",
       "      <td>2</td>\n",
       "      <td>1326</td>\n",
       "      <td>...</td>\n",
       "      <td>1</td>\n",
       "      <td>0</td>\n",
       "      <td>1</td>\n",
       "      <td>1</td>\n",
       "      <td>0</td>\n",
       "      <td>1</td>\n",
       "      <td>0</td>\n",
       "      <td>1</td>\n",
       "      <td>1</td>\n",
       "      <td>2</td>\n",
       "    </tr>\n",
       "    <tr>\n",
       "      <th>3</th>\n",
       "      <td>1</td>\n",
       "      <td>669</td>\n",
       "      <td>1</td>\n",
       "      <td>1050</td>\n",
       "      <td>5</td>\n",
       "      <td>1435</td>\n",
       "      <td>2</td>\n",
       "      <td>2252</td>\n",
       "      <td>5</td>\n",
       "      <td>2533</td>\n",
       "      <td>...</td>\n",
       "      <td>1</td>\n",
       "      <td>1</td>\n",
       "      <td>1</td>\n",
       "      <td>1</td>\n",
       "      <td>1</td>\n",
       "      <td>1</td>\n",
       "      <td>1</td>\n",
       "      <td>1</td>\n",
       "      <td>1</td>\n",
       "      <td>3</td>\n",
       "    </tr>\n",
       "    <tr>\n",
       "      <th>4</th>\n",
       "      <td>2</td>\n",
       "      <td>499</td>\n",
       "      <td>1</td>\n",
       "      <td>1243</td>\n",
       "      <td>5</td>\n",
       "      <td>845</td>\n",
       "      <td>2</td>\n",
       "      <td>1666</td>\n",
       "      <td>2</td>\n",
       "      <td>925</td>\n",
       "      <td>...</td>\n",
       "      <td>1</td>\n",
       "      <td>0</td>\n",
       "      <td>1</td>\n",
       "      <td>1</td>\n",
       "      <td>0</td>\n",
       "      <td>1</td>\n",
       "      <td>1</td>\n",
       "      <td>1</td>\n",
       "      <td>1</td>\n",
       "      <td>4</td>\n",
       "    </tr>\n",
       "  </tbody>\n",
       "</table>\n",
       "<p>5 rows × 77 columns</p>\n",
       "</div>"
      ],
      "text/plain": [
       "       QaA  QaE  QbA   QbE  QcA   QcE  QdA   QdE  QeA   QeE  ...  wr_05  \\\n",
       "index                                                        ...          \n",
       "0        3  736    2  2941    3  4621    1  4857    2  2550  ...      1   \n",
       "1        3  514    2  1952    3  1552    3   821    4  1150  ...      0   \n",
       "2        3  500    2  2507    4   480    2   614    2  1326  ...      1   \n",
       "3        1  669    1  1050    5  1435    2  2252    5  2533  ...      1   \n",
       "4        2  499    1  1243    5   845    2  1666    2   925  ...      1   \n",
       "\n",
       "       wr_06  wr_07  wr_08  wr_09  wr_10  wr_11  wr_12  wr_13  num  \n",
       "index                                                               \n",
       "0          0      0      1      0      1      0      1      1    0  \n",
       "1          0      0      0      0      0      0      0      0    1  \n",
       "2          0      1      1      0      1      0      1      1    2  \n",
       "3          1      1      1      1      1      1      1      1    3  \n",
       "4          0      1      1      0      1      1      1      1    4  \n",
       "\n",
       "[5 rows x 77 columns]"
      ]
     },
     "execution_count": 63,
     "metadata": {},
     "output_type": "execute_result"
    }
   ],
   "source": [
    "test.head()"
   ]
  },
  {
   "cell_type": "code",
   "execution_count": 64,
   "metadata": {
    "_cell_guid": "ed1e7849-d1b6-490d-b86b-9ca71dfafc7d",
    "_uuid": "5a641beccf0e555dfd7b9a53a17188ea6edef95b",
    "scrolled": true
   },
   "outputs": [
    {
     "data": {
      "text/plain": [
       "(21, 78)"
      ]
     },
     "execution_count": 64,
     "metadata": {},
     "output_type": "execute_result"
    }
   ],
   "source": [
    "train.shape"
   ]
  },
  {
   "cell_type": "code",
   "execution_count": 65,
   "metadata": {},
   "outputs": [
    {
     "data": {
      "text/plain": [
       "(19, 77)"
      ]
     },
     "execution_count": 65,
     "metadata": {},
     "output_type": "execute_result"
    }
   ],
   "source": [
    "test.shape"
   ]
  },
  {
   "cell_type": "code",
   "execution_count": 66,
   "metadata": {
    "_cell_guid": "418b8a69-f2aa-442d-8f45-fa8887190938",
    "_uuid": "4ee2591110660a4a16b3da7a7530f0945e121b46"
   },
   "outputs": [
    {
     "name": "stdout",
     "output_type": "stream",
     "text": [
      "<class 'pandas.core.frame.DataFrame'>\n",
      "Int64Index: 21 entries, 0 to 20\n",
      "Data columns (total 78 columns):\n",
      " #   Column      Non-Null Count  Dtype \n",
      "---  ------      --------------  ----- \n",
      " 0   QaA         21 non-null     int64 \n",
      " 1   QaE         21 non-null     int64 \n",
      " 2   QbA         21 non-null     int64 \n",
      " 3   QbE         21 non-null     int64 \n",
      " 4   QcA         21 non-null     int64 \n",
      " 5   QcE         21 non-null     int64 \n",
      " 6   QdA         21 non-null     int64 \n",
      " 7   QdE         21 non-null     int64 \n",
      " 8   QeA         21 non-null     int64 \n",
      " 9   QeE         21 non-null     int64 \n",
      " 10  QfA         21 non-null     int64 \n",
      " 11  QfE         21 non-null     int64 \n",
      " 12  QgA         21 non-null     int64 \n",
      " 13  QgE         21 non-null     int64 \n",
      " 14  QhA         21 non-null     int64 \n",
      " 15  QhE         21 non-null     int64 \n",
      " 16  QiA         21 non-null     int64 \n",
      " 17  QiE         21 non-null     int64 \n",
      " 18  QjA         21 non-null     int64 \n",
      " 19  QjE         21 non-null     int64 \n",
      " 20  QkA         21 non-null     int64 \n",
      " 21  QkE         21 non-null     int64 \n",
      " 22  QlA         21 non-null     int64 \n",
      " 23  QlE         21 non-null     int64 \n",
      " 24  QmA         21 non-null     int64 \n",
      " 25  QmE         21 non-null     int64 \n",
      " 26  QnA         21 non-null     int64 \n",
      " 27  QnE         21 non-null     int64 \n",
      " 28  QoA         21 non-null     int64 \n",
      " 29  QoE         21 non-null     int64 \n",
      " 30  QpA         21 non-null     int64 \n",
      " 31  QpE         21 non-null     int64 \n",
      " 32  QqA         21 non-null     int64 \n",
      " 33  QqE         21 non-null     int64 \n",
      " 34  QrA         21 non-null     int64 \n",
      " 35  QrE         21 non-null     int64 \n",
      " 36  QsA         21 non-null     int64 \n",
      " 37  QsE         21 non-null     int64 \n",
      " 38  QtA         21 non-null     int64 \n",
      " 39  QtE         21 non-null     int64 \n",
      " 40  age_group   21 non-null     object\n",
      " 41  education   21 non-null     int64 \n",
      " 42  engnat      21 non-null     int64 \n",
      " 43  familysize  21 non-null     int64 \n",
      " 44  gender      21 non-null     object\n",
      " 45  hand        21 non-null     int64 \n",
      " 46  married     21 non-null     int64 \n",
      " 47  race        21 non-null     object\n",
      " 48  religion    21 non-null     object\n",
      " 49  tp01        21 non-null     int64 \n",
      " 50  tp02        21 non-null     int64 \n",
      " 51  tp03        21 non-null     int64 \n",
      " 52  tp04        21 non-null     int64 \n",
      " 53  tp05        21 non-null     int64 \n",
      " 54  tp06        21 non-null     int64 \n",
      " 55  tp07        21 non-null     int64 \n",
      " 56  tp08        21 non-null     int64 \n",
      " 57  tp09        21 non-null     int64 \n",
      " 58  tp10        21 non-null     int64 \n",
      " 59  urban       21 non-null     int64 \n",
      " 60  voted       21 non-null     int64 \n",
      " 61  wf_01       21 non-null     int64 \n",
      " 62  wf_02       21 non-null     int64 \n",
      " 63  wf_03       21 non-null     int64 \n",
      " 64  wr_01       21 non-null     int64 \n",
      " 65  wr_02       21 non-null     int64 \n",
      " 66  wr_03       21 non-null     int64 \n",
      " 67  wr_04       21 non-null     int64 \n",
      " 68  wr_05       21 non-null     int64 \n",
      " 69  wr_06       21 non-null     int64 \n",
      " 70  wr_07       21 non-null     int64 \n",
      " 71  wr_08       21 non-null     int64 \n",
      " 72  wr_09       21 non-null     int64 \n",
      " 73  wr_10       21 non-null     int64 \n",
      " 74  wr_11       21 non-null     int64 \n",
      " 75  wr_12       21 non-null     int64 \n",
      " 76  wr_13       21 non-null     int64 \n",
      " 77  num         21 non-null     int64 \n",
      "dtypes: int64(74), object(4)\n",
      "memory usage: 13.5+ KB\n"
     ]
    }
   ],
   "source": [
    "train.info()"
   ]
  },
  {
   "cell_type": "code",
   "execution_count": 67,
   "metadata": {},
   "outputs": [
    {
     "name": "stdout",
     "output_type": "stream",
     "text": [
      "<class 'pandas.core.frame.DataFrame'>\n",
      "Int64Index: 19 entries, 0 to 18\n",
      "Data columns (total 77 columns):\n",
      " #   Column      Non-Null Count  Dtype \n",
      "---  ------      --------------  ----- \n",
      " 0   QaA         19 non-null     int64 \n",
      " 1   QaE         19 non-null     int64 \n",
      " 2   QbA         19 non-null     int64 \n",
      " 3   QbE         19 non-null     int64 \n",
      " 4   QcA         19 non-null     int64 \n",
      " 5   QcE         19 non-null     int64 \n",
      " 6   QdA         19 non-null     int64 \n",
      " 7   QdE         19 non-null     int64 \n",
      " 8   QeA         19 non-null     int64 \n",
      " 9   QeE         19 non-null     int64 \n",
      " 10  QfA         19 non-null     int64 \n",
      " 11  QfE         19 non-null     int64 \n",
      " 12  QgA         19 non-null     int64 \n",
      " 13  QgE         19 non-null     int64 \n",
      " 14  QhA         19 non-null     int64 \n",
      " 15  QhE         19 non-null     int64 \n",
      " 16  QiA         19 non-null     int64 \n",
      " 17  QiE         19 non-null     int64 \n",
      " 18  QjA         19 non-null     int64 \n",
      " 19  QjE         19 non-null     int64 \n",
      " 20  QkA         19 non-null     int64 \n",
      " 21  QkE         19 non-null     int64 \n",
      " 22  QlA         19 non-null     int64 \n",
      " 23  QlE         19 non-null     int64 \n",
      " 24  QmA         19 non-null     int64 \n",
      " 25  QmE         19 non-null     int64 \n",
      " 26  QnA         19 non-null     int64 \n",
      " 27  QnE         19 non-null     int64 \n",
      " 28  QoA         19 non-null     int64 \n",
      " 29  QoE         19 non-null     int64 \n",
      " 30  QpA         19 non-null     int64 \n",
      " 31  QpE         19 non-null     int64 \n",
      " 32  QqA         19 non-null     int64 \n",
      " 33  QqE         19 non-null     int64 \n",
      " 34  QrA         19 non-null     int64 \n",
      " 35  QrE         19 non-null     int64 \n",
      " 36  QsA         19 non-null     int64 \n",
      " 37  QsE         19 non-null     int64 \n",
      " 38  QtA         19 non-null     int64 \n",
      " 39  QtE         19 non-null     int64 \n",
      " 40  age_group   19 non-null     object\n",
      " 41  education   19 non-null     int64 \n",
      " 42  engnat      19 non-null     int64 \n",
      " 43  familysize  19 non-null     int64 \n",
      " 44  gender      19 non-null     object\n",
      " 45  hand        19 non-null     int64 \n",
      " 46  married     19 non-null     int64 \n",
      " 47  race        19 non-null     object\n",
      " 48  religion    19 non-null     object\n",
      " 49  tp01        19 non-null     int64 \n",
      " 50  tp02        19 non-null     int64 \n",
      " 51  tp03        19 non-null     int64 \n",
      " 52  tp04        19 non-null     int64 \n",
      " 53  tp05        19 non-null     int64 \n",
      " 54  tp06        19 non-null     int64 \n",
      " 55  tp07        19 non-null     int64 \n",
      " 56  tp08        19 non-null     int64 \n",
      " 57  tp09        19 non-null     int64 \n",
      " 58  tp10        19 non-null     int64 \n",
      " 59  urban       19 non-null     int64 \n",
      " 60  wf_01       19 non-null     int64 \n",
      " 61  wf_02       19 non-null     int64 \n",
      " 62  wf_03       19 non-null     int64 \n",
      " 63  wr_01       19 non-null     int64 \n",
      " 64  wr_02       19 non-null     int64 \n",
      " 65  wr_03       19 non-null     int64 \n",
      " 66  wr_04       19 non-null     int64 \n",
      " 67  wr_05       19 non-null     int64 \n",
      " 68  wr_06       19 non-null     int64 \n",
      " 69  wr_07       19 non-null     int64 \n",
      " 70  wr_08       19 non-null     int64 \n",
      " 71  wr_09       19 non-null     int64 \n",
      " 72  wr_10       19 non-null     int64 \n",
      " 73  wr_11       19 non-null     int64 \n",
      " 74  wr_12       19 non-null     int64 \n",
      " 75  wr_13       19 non-null     int64 \n",
      " 76  num         19 non-null     int64 \n",
      "dtypes: int64(73), object(4)\n",
      "memory usage: 12.1+ KB\n"
     ]
    }
   ],
   "source": [
    "test.info()"
   ]
  },
  {
   "cell_type": "code",
   "execution_count": 68,
   "metadata": {
    "_cell_guid": "0663e2bb-dc27-4187-94b1-ff4ff78b68bc",
    "_uuid": "3bf74de7f2483d622e41608f6017f2945639e4df"
   },
   "outputs": [
    {
     "data": {
      "text/plain": [
       "QaA      0\n",
       "QaE      0\n",
       "QbA      0\n",
       "QbE      0\n",
       "QcA      0\n",
       "        ..\n",
       "wr_10    0\n",
       "wr_11    0\n",
       "wr_12    0\n",
       "wr_13    0\n",
       "num      0\n",
       "Length: 78, dtype: int64"
      ]
     },
     "execution_count": 68,
     "metadata": {},
     "output_type": "execute_result"
    }
   ],
   "source": [
    "train.isnull().sum()"
   ]
  },
  {
   "cell_type": "code",
   "execution_count": 69,
   "metadata": {},
   "outputs": [
    {
     "data": {
      "text/plain": [
       "QaA      0\n",
       "QaE      0\n",
       "QbA      0\n",
       "QbE      0\n",
       "QcA      0\n",
       "        ..\n",
       "wr_10    0\n",
       "wr_11    0\n",
       "wr_12    0\n",
       "wr_13    0\n",
       "num      0\n",
       "Length: 77, dtype: int64"
      ]
     },
     "execution_count": 69,
     "metadata": {},
     "output_type": "execute_result"
    }
   ],
   "source": [
    "test.isnull().sum()"
   ]
  },
  {
   "cell_type": "markdown",
   "metadata": {
    "_cell_guid": "c8553d48-c5e0-4947-bd13-1b38509c850c",
    "_uuid": "1a28e607e9ed63cefe0f35a4e4d72f2f36299323"
   },
   "source": [
    "# 2. 시각화"
   ]
  },
  {
   "cell_type": "markdown",
   "metadata": {},
   "source": [
    "### 밑에 bar_chart함수 안에 원하는 feature를 넣으면 그 피쳐 기준으로 투표여부 파악 가능"
   ]
  },
  {
   "cell_type": "code",
   "execution_count": 70,
   "metadata": {
    "_cell_guid": "b1d8a6d2-c22d-435c-8c98-973e8f41b138",
    "_uuid": "26411c710f69b29939c815d5f5ab01d9177df7d0"
   },
   "outputs": [],
   "source": [
    "import matplotlib.pyplot as plt\n",
    "%matplotlib inline\n",
    "import seaborn as sns\n",
    "sns.set() # setting seaborn default for plots"
   ]
  },
  {
   "cell_type": "code",
   "execution_count": 71,
   "metadata": {},
   "outputs": [],
   "source": [
    "def bar_chart(feature):\n",
    "    yes = train[train['voted']==1][feature].value_counts()\n",
    "    no = train[train['voted']==2][feature].value_counts()\n",
    "    df = pd.DataFrame([yes,no])\n",
    "    df.index = ['Yes','No']\n",
    "    df.plot(kind='bar',stacked=True, figsize=(10,5))"
   ]
  },
  {
   "cell_type": "markdown",
   "metadata": {},
   "source": [
    "### 4.1 QaA (Qa에 대한 응답), QaE (Qa에 답할 때까지의 시간)"
   ]
  },
  {
   "cell_type": "code",
   "execution_count": 72,
   "metadata": {},
   "outputs": [
    {
     "data": {
      "image/png": "[encoded data removed]",
      "text/plain": [
       "<Figure size 720x360 with 1 Axes>"
      ]
     },
     "metadata": {},
     "output_type": "display_data"
    }
   ],
   "source": [
    "bar_chart('QaA')"
   ]
  },
  {
   "cell_type": "markdown",
   "metadata": {},
   "source": [
    "### 4.2 age_group : 연령"
   ]
  },
  {
   "cell_type": "code",
   "execution_count": 73,
   "metadata": {
    "scrolled": true
   },
   "outputs": [
    {
     "data": {
      "image/png": "[encoded data removed]",
      "text/plain": [
       "<Figure size 720x360 with 1 Axes>"
      ]
     },
     "metadata": {},
     "output_type": "display_data"
    }
   ],
   "source": [
    "train['age_group']=train['age_group'].apply(lambda x : float(x[:2]))\n",
    "bar_chart('age_group')"
   ]
  },
  {
   "cell_type": "markdown",
   "metadata": {},
   "source": [
    "### 4.3 education : 교육 수준\n",
    "#### 1 : Less than high school : 중학교\n",
    "#### 2 : High school : 고등학교\n",
    "#### 3 : University degree : 대학교 졸업\n",
    "#### 4 : Graduate degree : 대학원 졸업"
   ]
  },
  {
   "cell_type": "code",
   "execution_count": 74,
   "metadata": {
    "scrolled": true
   },
   "outputs": [
    {
     "data": {
      "image/png": "[encoded data removed]",
      "text/plain": [
       "<Figure size 720x360 with 1 Axes>"
      ]
     },
     "metadata": {},
     "output_type": "display_data"
    }
   ],
   "source": [
    "bar_chart('education')"
   ]
  },
  {
   "cell_type": "markdown",
   "metadata": {},
   "source": [
    "### 4.4 engnat : 모국어가 영어 (1 = Yes, 2 = No, 3 = 무응답)"
   ]
  },
  {
   "cell_type": "code",
   "execution_count": 75,
   "metadata": {},
   "outputs": [],
   "source": [
    "# train_test_data = [train, test] # combining train and test dataset\n",
    "# gender_mapping = {\"Male\": 0, \"Female\": 1}\n",
    "# for dataset in train_test_data:\n",
    "#     dataset['gender'] = dataset['gender'].map(gender_mapping)"
   ]
  },
  {
   "cell_type": "code",
   "execution_count": 76,
   "metadata": {
    "scrolled": true
   },
   "outputs": [
    {
     "data": {
      "image/png": "[encoded data removed]",
      "text/plain": [
       "<Figure size 720x360 with 1 Axes>"
      ]
     },
     "metadata": {},
     "output_type": "display_data"
    }
   ],
   "source": [
    "bar_chart('engnat')"
   ]
  },
  {
   "cell_type": "markdown",
   "metadata": {},
   "source": [
    "### 4.5 familsize : 형재자매 수"
   ]
  },
  {
   "cell_type": "code",
   "execution_count": 77,
   "metadata": {},
   "outputs": [
    {
     "data": {
      "image/png": "[encoded data removed]",
      "text/plain": [
       "<Figure size 720x360 with 1 Axes>"
      ]
     },
     "metadata": {},
     "output_type": "display_data"
    }
   ],
   "source": [
    "bar_chart('familysize')"
   ]
  },
  {
   "cell_type": "markdown",
   "metadata": {},
   "source": [
    "### 4.6 gender :  성별 (Male, Female)"
   ]
  },
  {
   "cell_type": "code",
   "execution_count": 78,
   "metadata": {},
   "outputs": [
    {
     "data": {
      "image/png": "[encoded data removed]",
      "text/plain": [
       "<Figure size 720x360 with 1 Axes>"
      ]
     },
     "metadata": {},
     "output_type": "display_data"
    }
   ],
   "source": [
    "bar_chart('gender')"
   ]
  },
  {
   "cell_type": "markdown",
   "metadata": {},
   "source": [
    "### 4.7 hand : 필기하는 손 (1 = Right, 2 = Left, 3 = Both, 0 = 무응답)"
   ]
  },
  {
   "cell_type": "code",
   "execution_count": 79,
   "metadata": {},
   "outputs": [
    {
     "data": {
      "image/png": "[encoded data removed]",
      "text/plain": [
       "<Figure size 720x360 with 1 Axes>"
      ]
     },
     "metadata": {},
     "output_type": "display_data"
    }
   ],
   "source": [
    "bar_chart('hand')"
   ]
  },
  {
   "cell_type": "markdown",
   "metadata": {},
   "source": [
    "### 4.8 married : 혼인 상태 (1 = Never married, 2 = Curently married, 3 = Previously married, 0 = Other)"
   ]
  },
  {
   "cell_type": "code",
   "execution_count": 80,
   "metadata": {},
   "outputs": [
    {
     "data": {
      "image/png": "[encoded data removed]",
      "text/plain": [
       "<Figure size 720x360 with 1 Axes>"
      ]
     },
     "metadata": {},
     "output_type": "display_data"
    }
   ],
   "source": [
    "bar_chart('married')"
   ]
  },
  {
   "cell_type": "markdown",
   "metadata": {},
   "source": [
    "### 4.9 race : 인종 (Asian, Arab, Black, Indigenous australian, Native American, White, Ohter)"
   ]
  },
  {
   "cell_type": "code",
   "execution_count": 81,
   "metadata": {},
   "outputs": [
    {
     "data": {
      "image/png": "[encoded data removed]",
      "text/plain": [
       "<Figure size 720x360 with 1 Axes>"
      ]
     },
     "metadata": {},
     "output_type": "display_data"
    }
   ],
   "source": [
    "bar_chart('race')"
   ]
  },
  {
   "cell_type": "markdown",
   "metadata": {},
   "source": [
    "### 4.10 religion : 종교"
   ]
  },
  {
   "cell_type": "code",
   "execution_count": 82,
   "metadata": {},
   "outputs": [
    {
     "data": {
      "image/png": "[encoded data removed]",
      "text/plain": [
       "<Figure size 720x360 with 1 Axes>"
      ]
     },
     "metadata": {},
     "output_type": "display_data"
    }
   ],
   "source": [
    "bar_chart('religion')"
   ]
  },
  {
   "cell_type": "markdown",
   "metadata": {},
   "source": [
    "### 4.11 tp__ () : 나 자신을 평가 (tp01 ~ tp 07)"
   ]
  },
  {
   "cell_type": "code",
   "execution_count": 83,
   "metadata": {},
   "outputs": [
    {
     "data": {
      "image/png": "[encoded data removed]",
      "text/plain": [
       "<Figure size 720x360 with 1 Axes>"
      ]
     },
     "metadata": {},
     "output_type": "display_data"
    }
   ],
   "source": [
    "bar_chart('tp01')"
   ]
  },
  {
   "cell_type": "markdown",
   "metadata": {},
   "source": [
    "### 4.12 urban  : 유년기의 거주 구역 (1 = Rural(country side), 2 = Suburban, 3 = Urban (town, city), 0 = 무응답)"
   ]
  },
  {
   "cell_type": "code",
   "execution_count": 84,
   "metadata": {},
   "outputs": [
    {
     "data": {
      "image/png": "[encoded data removed]",
      "text/plain": [
       "<Figure size 720x360 with 1 Axes>"
      ]
     },
     "metadata": {},
     "output_type": "display_data"
    }
   ],
   "source": [
    "bar_chart('urban')"
   ]
  },
  {
   "cell_type": "markdown",
   "metadata": {},
   "source": [
    "### 4.13 wr__(01~13), wf__(01~13)은 생략"
   ]
  },
  {
   "cell_type": "code",
   "execution_count": 85,
   "metadata": {
    "scrolled": true
   },
   "outputs": [
    {
     "data": {
      "text/plain": [
       "index\n",
       "0    30.0\n",
       "1    20.0\n",
       "2    30.0\n",
       "3    20.0\n",
       "4    20.0\n",
       "5    40.0\n",
       "6    20.0\n",
       "7    30.0\n",
       "8    20.0\n",
       "9    50.0\n",
       "Name: age_group, dtype: float64"
      ]
     },
     "execution_count": 85,
     "metadata": {},
     "output_type": "execute_result"
    }
   ],
   "source": [
    "train['age_group'].head(10)"
   ]
  },
  {
   "cell_type": "code",
   "execution_count": 86,
   "metadata": {},
   "outputs": [
    {
     "data": {
      "image/png": "[encoded data removed]",
      "text/plain": [
       "<Figure size 909.725x216 with 1 Axes>"
      ]
     },
     "metadata": {},
     "output_type": "display_data"
    }
   ],
   "source": [
    "facet = sns.FacetGrid(train, hue=\"voted\",aspect=4)\n",
    "facet.map(sns.kdeplot,'age_group',shade= True)\n",
    "facet.set(xlim=(0, train['age_group'].max()))\n",
    "facet.add_legend()\n",
    " \n",
    "plt.show() "
   ]
  },
  {
   "cell_type": "code",
   "execution_count": 87,
   "metadata": {},
   "outputs": [
    {
     "data": {
      "image/png": "[encoded data removed]",
      "text/plain": [
       "<Figure size 909.725x216 with 1 Axes>"
      ]
     },
     "metadata": {},
     "output_type": "display_data"
    }
   ],
   "source": [
    "facet = sns.FacetGrid(train, hue=\"voted\",aspect=4)\n",
    "facet.map(sns.kdeplot,'age_group',shade= True)\n",
    "facet.set(xlim=(0, train['age_group'].max()))\n",
    "facet.add_legend()\n",
    " \n",
    "plt.show() "
   ]
  },
  {
   "cell_type": "code",
   "execution_count": 88,
   "metadata": {},
   "outputs": [
    {
     "name": "stdout",
     "output_type": "stream",
     "text": [
      "<class 'pandas.core.frame.DataFrame'>\n",
      "Int64Index: 21 entries, 0 to 20\n",
      "Data columns (total 78 columns):\n",
      " #   Column      Non-Null Count  Dtype  \n",
      "---  ------      --------------  -----  \n",
      " 0   QaA         21 non-null     int64  \n",
      " 1   QaE         21 non-null     int64  \n",
      " 2   QbA         21 non-null     int64  \n",
      " 3   QbE         21 non-null     int64  \n",
      " 4   QcA         21 non-null     int64  \n",
      " 5   QcE         21 non-null     int64  \n",
      " 6   QdA         21 non-null     int64  \n",
      " 7   QdE         21 non-null     int64  \n",
      " 8   QeA         21 non-null     int64  \n",
      " 9   QeE         21 non-null     int64  \n",
      " 10  QfA         21 non-null     int64  \n",
      " 11  QfE         21 non-null     int64  \n",
      " 12  QgA         21 non-null     int64  \n",
      " 13  QgE         21 non-null     int64  \n",
      " 14  QhA         21 non-null     int64  \n",
      " 15  QhE         21 non-null     int64  \n",
      " 16  QiA         21 non-null     int64  \n",
      " 17  QiE         21 non-null     int64  \n",
      " 18  QjA         21 non-null     int64  \n",
      " 19  QjE         21 non-null     int64  \n",
      " 20  QkA         21 non-null     int64  \n",
      " 21  QkE         21 non-null     int64  \n",
      " 22  QlA         21 non-null     int64  \n",
      " 23  QlE         21 non-null     int64  \n",
      " 24  QmA         21 non-null     int64  \n",
      " 25  QmE         21 non-null     int64  \n",
      " 26  QnA         21 non-null     int64  \n",
      " 27  QnE         21 non-null     int64  \n",
      " 28  QoA         21 non-null     int64  \n",
      " 29  QoE         21 non-null     int64  \n",
      " 30  QpA         21 non-null     int64  \n",
      " 31  QpE         21 non-null     int64  \n",
      " 32  QqA         21 non-null     int64  \n",
      " 33  QqE         21 non-null     int64  \n",
      " 34  QrA         21 non-null     int64  \n",
      " 35  QrE         21 non-null     int64  \n",
      " 36  QsA         21 non-null     int64  \n",
      " 37  QsE         21 non-null     int64  \n",
      " 38  QtA         21 non-null     int64  \n",
      " 39  QtE         21 non-null     int64  \n",
      " 40  age_group   21 non-null     float64\n",
      " 41  education   21 non-null     int64  \n",
      " 42  engnat      21 non-null     int64  \n",
      " 43  familysize  21 non-null     int64  \n",
      " 44  gender      21 non-null     object \n",
      " 45  hand        21 non-null     int64  \n",
      " 46  married     21 non-null     int64  \n",
      " 47  race        21 non-null     object \n",
      " 48  religion    21 non-null     object \n",
      " 49  tp01        21 non-null     int64  \n",
      " 50  tp02        21 non-null     int64  \n",
      " 51  tp03        21 non-null     int64  \n",
      " 52  tp04        21 non-null     int64  \n",
      " 53  tp05        21 non-null     int64  \n",
      " 54  tp06        21 non-null     int64  \n",
      " 55  tp07        21 non-null     int64  \n",
      " 56  tp08        21 non-null     int64  \n",
      " 57  tp09        21 non-null     int64  \n",
      " 58  tp10        21 non-null     int64  \n",
      " 59  urban       21 non-null     int64  \n",
      " 60  voted       21 non-null     int64  \n",
      " 61  wf_01       21 non-null     int64  \n",
      " 62  wf_02       21 non-null     int64  \n",
      " 63  wf_03       21 non-null     int64  \n",
      " 64  wr_01       21 non-null     int64  \n",
      " 65  wr_02       21 non-null     int64  \n",
      " 66  wr_03       21 non-null     int64  \n",
      " 67  wr_04       21 non-null     int64  \n",
      " 68  wr_05       21 non-null     int64  \n",
      " 69  wr_06       21 non-null     int64  \n",
      " 70  wr_07       21 non-null     int64  \n",
      " 71  wr_08       21 non-null     int64  \n",
      " 72  wr_09       21 non-null     int64  \n",
      " 73  wr_10       21 non-null     int64  \n",
      " 74  wr_11       21 non-null     int64  \n",
      " 75  wr_12       21 non-null     int64  \n",
      " 76  wr_13       21 non-null     int64  \n",
      " 77  num         21 non-null     int64  \n",
      "dtypes: float64(1), int64(74), object(3)\n",
      "memory usage: 13.5+ KB\n"
     ]
    }
   ],
   "source": [
    "train.info()"
   ]
  },
  {
   "cell_type": "code",
   "execution_count": 89,
   "metadata": {},
   "outputs": [
    {
     "data": {
      "text/plain": [
       "(20.0, 40.0)"
      ]
     },
     "execution_count": 89,
     "metadata": {},
     "output_type": "execute_result"
    },
    {
     "data": {
      "image/png": "[encoded data removed]",
      "text/plain": [
       "<Figure size 909.725x216 with 1 Axes>"
      ]
     },
     "metadata": {},
     "output_type": "display_data"
    }
   ],
   "source": [
    "facet = sns.FacetGrid(train, hue=\"voted\",aspect=4)\n",
    "facet.map(sns.kdeplot,'age_group',shade= True)\n",
    "facet.set(xlim=(0, train['age_group'].max()))\n",
    "facet.add_legend()\n",
    " \n",
    "plt.xlim(20,40) "
   ]
  },
  {
   "cell_type": "code",
   "execution_count": 90,
   "metadata": {},
   "outputs": [],
   "source": [
    "features_drop = ['age_group', 'gender','engnat' ,'familysize', 'hand', 'married', 'race', 'religion','education' ,'urban','wf_01','wf_02','wf_03',\n",
    "                 'wr_01','wr_02','wr_03','wr_04','wr_05','wr_06','wr_07','wr_08','wr_09','wr_10','wr_11','wr_12','wr_13']\n",
    "train = train.drop(features_drop, axis=1)\n",
    "test = test.drop(features_drop, axis=1)\n",
    "train = train.drop(['num'], axis=1)"
   ]
  },
  {
   "cell_type": "code",
   "execution_count": 91,
   "metadata": {},
   "outputs": [
    {
     "data": {
      "text/plain": [
       "((21, 50), (21,))"
      ]
     },
     "execution_count": 91,
     "metadata": {},
     "output_type": "execute_result"
    }
   ],
   "source": [
    "train_data = train.drop('voted', axis=1)\n",
    "target = train['voted']\n",
    "\n",
    "train_data.shape, target.shape"
   ]
  },
  {
   "cell_type": "code",
   "execution_count": 92,
   "metadata": {},
   "outputs": [
    {
     "data": {
      "text/html": [
       "<div>\n",
       "<style scoped>\n",
       "    .dataframe tbody tr th:only-of-type {\n",
       "        vertical-align: middle;\n",
       "    }\n",
       "\n",
       "    .dataframe tbody tr th {\n",
       "        vertical-align: top;\n",
       "    }\n",
       "\n",
       "    .dataframe thead th {\n",
       "        text-align: right;\n",
       "    }\n",
       "</style>\n",
       "<table border=\"1\" class=\"dataframe\">\n",
       "  <thead>\n",
       "    <tr style=\"text-align: right;\">\n",
       "      <th></th>\n",
       "      <th>QaA</th>\n",
       "      <th>QaE</th>\n",
       "      <th>QbA</th>\n",
       "      <th>QbE</th>\n",
       "      <th>QcA</th>\n",
       "      <th>QcE</th>\n",
       "      <th>QdA</th>\n",
       "      <th>QdE</th>\n",
       "      <th>QeA</th>\n",
       "      <th>QeE</th>\n",
       "      <th>...</th>\n",
       "      <th>tp01</th>\n",
       "      <th>tp02</th>\n",
       "      <th>tp03</th>\n",
       "      <th>tp04</th>\n",
       "      <th>tp05</th>\n",
       "      <th>tp06</th>\n",
       "      <th>tp07</th>\n",
       "      <th>tp08</th>\n",
       "      <th>tp09</th>\n",
       "      <th>tp10</th>\n",
       "    </tr>\n",
       "    <tr>\n",
       "      <th>index</th>\n",
       "      <th></th>\n",
       "      <th></th>\n",
       "      <th></th>\n",
       "      <th></th>\n",
       "      <th></th>\n",
       "      <th></th>\n",
       "      <th></th>\n",
       "      <th></th>\n",
       "      <th></th>\n",
       "      <th></th>\n",
       "      <th></th>\n",
       "      <th></th>\n",
       "      <th></th>\n",
       "      <th></th>\n",
       "      <th></th>\n",
       "      <th></th>\n",
       "      <th></th>\n",
       "      <th></th>\n",
       "      <th></th>\n",
       "      <th></th>\n",
       "      <th></th>\n",
       "    </tr>\n",
       "  </thead>\n",
       "  <tbody>\n",
       "    <tr>\n",
       "      <th>0</th>\n",
       "      <td>3</td>\n",
       "      <td>363</td>\n",
       "      <td>4</td>\n",
       "      <td>1370</td>\n",
       "      <td>5</td>\n",
       "      <td>997</td>\n",
       "      <td>1</td>\n",
       "      <td>1024</td>\n",
       "      <td>2</td>\n",
       "      <td>1577</td>\n",
       "      <td>...</td>\n",
       "      <td>2</td>\n",
       "      <td>2</td>\n",
       "      <td>2</td>\n",
       "      <td>1</td>\n",
       "      <td>2</td>\n",
       "      <td>1</td>\n",
       "      <td>7</td>\n",
       "      <td>4</td>\n",
       "      <td>4</td>\n",
       "      <td>3</td>\n",
       "    </tr>\n",
       "    <tr>\n",
       "      <th>1</th>\n",
       "      <td>5</td>\n",
       "      <td>647</td>\n",
       "      <td>5</td>\n",
       "      <td>1313</td>\n",
       "      <td>3</td>\n",
       "      <td>3387</td>\n",
       "      <td>5</td>\n",
       "      <td>2969</td>\n",
       "      <td>1</td>\n",
       "      <td>4320</td>\n",
       "      <td>...</td>\n",
       "      <td>1</td>\n",
       "      <td>1</td>\n",
       "      <td>0</td>\n",
       "      <td>0</td>\n",
       "      <td>1</td>\n",
       "      <td>2</td>\n",
       "      <td>3</td>\n",
       "      <td>4</td>\n",
       "      <td>0</td>\n",
       "      <td>4</td>\n",
       "    </tr>\n",
       "    <tr>\n",
       "      <th>2</th>\n",
       "      <td>4</td>\n",
       "      <td>1623</td>\n",
       "      <td>1</td>\n",
       "      <td>1480</td>\n",
       "      <td>1</td>\n",
       "      <td>1021</td>\n",
       "      <td>4</td>\n",
       "      <td>3374</td>\n",
       "      <td>5</td>\n",
       "      <td>1333</td>\n",
       "      <td>...</td>\n",
       "      <td>2</td>\n",
       "      <td>3</td>\n",
       "      <td>1</td>\n",
       "      <td>5</td>\n",
       "      <td>3</td>\n",
       "      <td>4</td>\n",
       "      <td>2</td>\n",
       "      <td>6</td>\n",
       "      <td>1</td>\n",
       "      <td>3</td>\n",
       "    </tr>\n",
       "    <tr>\n",
       "      <th>3</th>\n",
       "      <td>3</td>\n",
       "      <td>504</td>\n",
       "      <td>3</td>\n",
       "      <td>2311</td>\n",
       "      <td>4</td>\n",
       "      <td>992</td>\n",
       "      <td>3</td>\n",
       "      <td>3245</td>\n",
       "      <td>1</td>\n",
       "      <td>357</td>\n",
       "      <td>...</td>\n",
       "      <td>2</td>\n",
       "      <td>4</td>\n",
       "      <td>1</td>\n",
       "      <td>1</td>\n",
       "      <td>1</td>\n",
       "      <td>3</td>\n",
       "      <td>1</td>\n",
       "      <td>3</td>\n",
       "      <td>1</td>\n",
       "      <td>3</td>\n",
       "    </tr>\n",
       "    <tr>\n",
       "      <th>4</th>\n",
       "      <td>1</td>\n",
       "      <td>927</td>\n",
       "      <td>1</td>\n",
       "      <td>707</td>\n",
       "      <td>5</td>\n",
       "      <td>556</td>\n",
       "      <td>2</td>\n",
       "      <td>1062</td>\n",
       "      <td>1</td>\n",
       "      <td>1014</td>\n",
       "      <td>...</td>\n",
       "      <td>1</td>\n",
       "      <td>1</td>\n",
       "      <td>1</td>\n",
       "      <td>6</td>\n",
       "      <td>0</td>\n",
       "      <td>2</td>\n",
       "      <td>0</td>\n",
       "      <td>6</td>\n",
       "      <td>2</td>\n",
       "      <td>6</td>\n",
       "    </tr>\n",
       "    <tr>\n",
       "      <th>5</th>\n",
       "      <td>2</td>\n",
       "      <td>834</td>\n",
       "      <td>1</td>\n",
       "      <td>1769</td>\n",
       "      <td>4</td>\n",
       "      <td>2105</td>\n",
       "      <td>1</td>\n",
       "      <td>1070</td>\n",
       "      <td>5</td>\n",
       "      <td>1930</td>\n",
       "      <td>...</td>\n",
       "      <td>5</td>\n",
       "      <td>5</td>\n",
       "      <td>5</td>\n",
       "      <td>4</td>\n",
       "      <td>5</td>\n",
       "      <td>3</td>\n",
       "      <td>3</td>\n",
       "      <td>7</td>\n",
       "      <td>5</td>\n",
       "      <td>3</td>\n",
       "    </tr>\n",
       "    <tr>\n",
       "      <th>6</th>\n",
       "      <td>1</td>\n",
       "      <td>1382</td>\n",
       "      <td>1</td>\n",
       "      <td>1473</td>\n",
       "      <td>5</td>\n",
       "      <td>1479</td>\n",
       "      <td>4</td>\n",
       "      <td>2403</td>\n",
       "      <td>1</td>\n",
       "      <td>616</td>\n",
       "      <td>...</td>\n",
       "      <td>2</td>\n",
       "      <td>4</td>\n",
       "      <td>3</td>\n",
       "      <td>5</td>\n",
       "      <td>1</td>\n",
       "      <td>1</td>\n",
       "      <td>3</td>\n",
       "      <td>2</td>\n",
       "      <td>1</td>\n",
       "      <td>5</td>\n",
       "    </tr>\n",
       "    <tr>\n",
       "      <th>7</th>\n",
       "      <td>1</td>\n",
       "      <td>384</td>\n",
       "      <td>1</td>\n",
       "      <td>908</td>\n",
       "      <td>5</td>\n",
       "      <td>870</td>\n",
       "      <td>1</td>\n",
       "      <td>1059</td>\n",
       "      <td>1</td>\n",
       "      <td>1266</td>\n",
       "      <td>...</td>\n",
       "      <td>3</td>\n",
       "      <td>6</td>\n",
       "      <td>0</td>\n",
       "      <td>0</td>\n",
       "      <td>0</td>\n",
       "      <td>0</td>\n",
       "      <td>0</td>\n",
       "      <td>1</td>\n",
       "      <td>2</td>\n",
       "      <td>6</td>\n",
       "    </tr>\n",
       "    <tr>\n",
       "      <th>8</th>\n",
       "      <td>5</td>\n",
       "      <td>795</td>\n",
       "      <td>2</td>\n",
       "      <td>3469</td>\n",
       "      <td>4</td>\n",
       "      <td>1693</td>\n",
       "      <td>3</td>\n",
       "      <td>1991</td>\n",
       "      <td>4</td>\n",
       "      <td>5922</td>\n",
       "      <td>...</td>\n",
       "      <td>1</td>\n",
       "      <td>1</td>\n",
       "      <td>2</td>\n",
       "      <td>1</td>\n",
       "      <td>2</td>\n",
       "      <td>2</td>\n",
       "      <td>2</td>\n",
       "      <td>2</td>\n",
       "      <td>2</td>\n",
       "      <td>3</td>\n",
       "    </tr>\n",
       "    <tr>\n",
       "      <th>9</th>\n",
       "      <td>2</td>\n",
       "      <td>1668</td>\n",
       "      <td>1</td>\n",
       "      <td>866</td>\n",
       "      <td>1</td>\n",
       "      <td>895</td>\n",
       "      <td>1</td>\n",
       "      <td>1308</td>\n",
       "      <td>2</td>\n",
       "      <td>1715</td>\n",
       "      <td>...</td>\n",
       "      <td>0</td>\n",
       "      <td>1</td>\n",
       "      <td>1</td>\n",
       "      <td>2</td>\n",
       "      <td>0</td>\n",
       "      <td>3</td>\n",
       "      <td>0</td>\n",
       "      <td>4</td>\n",
       "      <td>1</td>\n",
       "      <td>5</td>\n",
       "    </tr>\n",
       "  </tbody>\n",
       "</table>\n",
       "<p>10 rows × 50 columns</p>\n",
       "</div>"
      ],
      "text/plain": [
       "       QaA   QaE  QbA   QbE  QcA   QcE  QdA   QdE  QeA   QeE  ...  tp01  tp02  \\\n",
       "index                                                         ...               \n",
       "0        3   363    4  1370    5   997    1  1024    2  1577  ...     2     2   \n",
       "1        5   647    5  1313    3  3387    5  2969    1  4320  ...     1     1   \n",
       "2        4  1623    1  1480    1  1021    4  3374    5  1333  ...     2     3   \n",
       "3        3   504    3  2311    4   992    3  3245    1   357  ...     2     4   \n",
       "4        1   927    1   707    5   556    2  1062    1  1014  ...     1     1   \n",
       "5        2   834    1  1769    4  2105    1  1070    5  1930  ...     5     5   \n",
       "6        1  1382    1  1473    5  1479    4  2403    1   616  ...     2     4   \n",
       "7        1   384    1   908    5   870    1  1059    1  1266  ...     3     6   \n",
       "8        5   795    2  3469    4  1693    3  1991    4  5922  ...     1     1   \n",
       "9        2  1668    1   866    1   895    1  1308    2  1715  ...     0     1   \n",
       "\n",
       "       tp03  tp04  tp05  tp06  tp07  tp08  tp09  tp10  \n",
       "index                                                  \n",
       "0         2     1     2     1     7     4     4     3  \n",
       "1         0     0     1     2     3     4     0     4  \n",
       "2         1     5     3     4     2     6     1     3  \n",
       "3         1     1     1     3     1     3     1     3  \n",
       "4         1     6     0     2     0     6     2     6  \n",
       "5         5     4     5     3     3     7     5     3  \n",
       "6         3     5     1     1     3     2     1     5  \n",
       "7         0     0     0     0     0     1     2     6  \n",
       "8         2     1     2     2     2     2     2     3  \n",
       "9         1     2     0     3     0     4     1     5  \n",
       "\n",
       "[10 rows x 50 columns]"
      ]
     },
     "execution_count": 92,
     "metadata": {},
     "output_type": "execute_result"
    }
   ],
   "source": [
    "train_data.head(10)"
   ]
  },
  {
   "cell_type": "markdown",
   "metadata": {},
   "source": [
    "# 5. 모델링"
   ]
  },
  {
   "cell_type": "code",
   "execution_count": 93,
   "metadata": {},
   "outputs": [],
   "source": [
    "# Importing Classifier Modules\n",
    "from sklearn.neighbors import KNeighborsClassifier\n",
    "from sklearn.tree import DecisionTreeClassifier\n",
    "from sklearn.ensemble import RandomForestClassifier\n",
    "from sklearn.naive_bayes import GaussianNB\n",
    "from sklearn.svm import SVC\n",
    "\n",
    "import numpy as np"
   ]
  },
  {
   "cell_type": "code",
   "execution_count": 94,
   "metadata": {},
   "outputs": [
    {
     "name": "stdout",
     "output_type": "stream",
     "text": [
      "<class 'pandas.core.frame.DataFrame'>\n",
      "Int64Index: 21 entries, 0 to 20\n",
      "Data columns (total 51 columns):\n",
      " #   Column  Non-Null Count  Dtype\n",
      "---  ------  --------------  -----\n",
      " 0   QaA     21 non-null     int64\n",
      " 1   QaE     21 non-null     int64\n",
      " 2   QbA     21 non-null     int64\n",
      " 3   QbE     21 non-null     int64\n",
      " 4   QcA     21 non-null     int64\n",
      " 5   QcE     21 non-null     int64\n",
      " 6   QdA     21 non-null     int64\n",
      " 7   QdE     21 non-null     int64\n",
      " 8   QeA     21 non-null     int64\n",
      " 9   QeE     21 non-null     int64\n",
      " 10  QfA     21 non-null     int64\n",
      " 11  QfE     21 non-null     int64\n",
      " 12  QgA     21 non-null     int64\n",
      " 13  QgE     21 non-null     int64\n",
      " 14  QhA     21 non-null     int64\n",
      " 15  QhE     21 non-null     int64\n",
      " 16  QiA     21 non-null     int64\n",
      " 17  QiE     21 non-null     int64\n",
      " 18  QjA     21 non-null     int64\n",
      " 19  QjE     21 non-null     int64\n",
      " 20  QkA     21 non-null     int64\n",
      " 21  QkE     21 non-null     int64\n",
      " 22  QlA     21 non-null     int64\n",
      " 23  QlE     21 non-null     int64\n",
      " 24  QmA     21 non-null     int64\n",
      " 25  QmE     21 non-null     int64\n",
      " 26  QnA     21 non-null     int64\n",
      " 27  QnE     21 non-null     int64\n",
      " 28  QoA     21 non-null     int64\n",
      " 29  QoE     21 non-null     int64\n",
      " 30  QpA     21 non-null     int64\n",
      " 31  QpE     21 non-null     int64\n",
      " 32  QqA     21 non-null     int64\n",
      " 33  QqE     21 non-null     int64\n",
      " 34  QrA     21 non-null     int64\n",
      " 35  QrE     21 non-null     int64\n",
      " 36  QsA     21 non-null     int64\n",
      " 37  QsE     21 non-null     int64\n",
      " 38  QtA     21 non-null     int64\n",
      " 39  QtE     21 non-null     int64\n",
      " 40  tp01    21 non-null     int64\n",
      " 41  tp02    21 non-null     int64\n",
      " 42  tp03    21 non-null     int64\n",
      " 43  tp04    21 non-null     int64\n",
      " 44  tp05    21 non-null     int64\n",
      " 45  tp06    21 non-null     int64\n",
      " 46  tp07    21 non-null     int64\n",
      " 47  tp08    21 non-null     int64\n",
      " 48  tp09    21 non-null     int64\n",
      " 49  tp10    21 non-null     int64\n",
      " 50  voted   21 non-null     int64\n",
      "dtypes: int64(51)\n",
      "memory usage: 9.1 KB\n"
     ]
    }
   ],
   "source": [
    "train.info()"
   ]
  },
  {
   "cell_type": "markdown",
   "metadata": {},
   "source": [
    "# 6 Cross Validation (K-fold)"
   ]
  },
  {
   "cell_type": "code",
   "execution_count": 95,
   "metadata": {},
   "outputs": [],
   "source": [
    "from sklearn.model_selection import KFold\n",
    "from sklearn.model_selection import cross_val_score\n",
    "k_fold = KFold(n_splits=10, shuffle=True, random_state=0)"
   ]
  },
  {
   "cell_type": "markdown",
   "metadata": {},
   "source": [
    "# 6.2.1 kNN"
   ]
  },
  {
   "cell_type": "code",
   "execution_count": 96,
   "metadata": {},
   "outputs": [
    {
     "name": "stdout",
     "output_type": "stream",
     "text": [
      "[0.66666667 0.5        0.5        1.         0.         1.\n",
      " 1.         1.         1.         0.5       ]\n"
     ]
    }
   ],
   "source": [
    "clf = KNeighborsClassifier(n_neighbors = 5)\n",
    "scoring = 'accuracy'\n",
    "score = cross_val_score(clf, train_data, target, cv=k_fold, n_jobs=1, scoring=scoring)\n",
    "print(score)"
   ]
  },
  {
   "cell_type": "code",
   "execution_count": 97,
   "metadata": {},
   "outputs": [
    {
     "data": {
      "text/plain": [
       "71.67"
      ]
     },
     "execution_count": 97,
     "metadata": {},
     "output_type": "execute_result"
    }
   ],
   "source": [
    "# kNN Score\n",
    "round(np.mean(score)*100, 2)"
   ]
  },
  {
   "cell_type": "markdown",
   "metadata": {},
   "source": [
    "# 6.2.2 Decision Tree"
   ]
  },
  {
   "cell_type": "code",
   "execution_count": 98,
   "metadata": {},
   "outputs": [
    {
     "name": "stdout",
     "output_type": "stream",
     "text": [
      "[0.33333333 0.         0.         1.         0.         0.5\n",
      " 0.5        0.5        0.5        0.        ]\n"
     ]
    }
   ],
   "source": [
    "clf = DecisionTreeClassifier()\n",
    "scoring = 'accuracy'\n",
    "score = cross_val_score(clf, train_data, target, cv=k_fold, n_jobs=1, scoring=scoring)\n",
    "print(score)"
   ]
  },
  {
   "cell_type": "code",
   "execution_count": 99,
   "metadata": {},
   "outputs": [
    {
     "data": {
      "text/plain": [
       "33.33"
      ]
     },
     "execution_count": 99,
     "metadata": {},
     "output_type": "execute_result"
    }
   ],
   "source": [
    "# decision tree Score\n",
    "round(np.mean(score)*100, 2)"
   ]
  },
  {
   "cell_type": "markdown",
   "metadata": {},
   "source": [
    "# 6.2.3 Ramdom Forest"
   ]
  },
  {
   "cell_type": "code",
   "execution_count": 100,
   "metadata": {},
   "outputs": [
    {
     "name": "stdout",
     "output_type": "stream",
     "text": [
      "[0.66666667 0.5        0.         1.         0.5        0.5\n",
      " 1.         0.5        1.         0.        ]\n"
     ]
    }
   ],
   "source": [
    "clf = RandomForestClassifier(n_estimators=13)\n",
    "scoring = 'accuracy'\n",
    "score = cross_val_score(clf, train_data, target, cv=k_fold, n_jobs=1, scoring=scoring)\n",
    "print(score)"
   ]
  },
  {
   "cell_type": "code",
   "execution_count": 101,
   "metadata": {},
   "outputs": [
    {
     "data": {
      "text/plain": [
       "56.67"
      ]
     },
     "execution_count": 101,
     "metadata": {},
     "output_type": "execute_result"
    }
   ],
   "source": [
    "# Random Forest Score\n",
    "round(np.mean(score)*100, 2)"
   ]
  },
  {
   "cell_type": "markdown",
   "metadata": {},
   "source": [
    "# 6.2.4 Naive Bayes"
   ]
  },
  {
   "cell_type": "code",
   "execution_count": 102,
   "metadata": {},
   "outputs": [
    {
     "name": "stdout",
     "output_type": "stream",
     "text": [
      "[0.66666667 0.5        0.5        0.5        0.5        0.\n",
      " 0.5        0.5        0.5        0.5       ]\n"
     ]
    }
   ],
   "source": [
    "clf = GaussianNB()\n",
    "scoring = 'accuracy'\n",
    "score = cross_val_score(clf, train_data, target, cv=k_fold, n_jobs=1, scoring=scoring)\n",
    "print(score)"
   ]
  },
  {
   "cell_type": "code",
   "execution_count": 103,
   "metadata": {},
   "outputs": [
    {
     "data": {
      "text/plain": [
       "46.67"
      ]
     },
     "execution_count": 103,
     "metadata": {},
     "output_type": "execute_result"
    }
   ],
   "source": [
    "# Naive Bayes Score\n",
    "round(np.mean(score)*100, 2)"
   ]
  },
  {
   "cell_type": "markdown",
   "metadata": {},
   "source": [
    "# 6.2.5 SVM"
   ]
  },
  {
   "cell_type": "code",
   "execution_count": 104,
   "metadata": {},
   "outputs": [
    {
     "name": "stdout",
     "output_type": "stream",
     "text": [
      "[0.66666667 0.         0.         1.         0.         1.\n",
      " 0.5        1.         0.5        0.5       ]\n"
     ]
    }
   ],
   "source": [
    "clf = SVC()\n",
    "scoring = 'accuracy'\n",
    "score = cross_val_score(clf, train_data, target, cv=k_fold, n_jobs=1, scoring=scoring)\n",
    "print(score)"
   ]
  },
  {
   "cell_type": "code",
   "execution_count": 105,
   "metadata": {},
   "outputs": [
    {
     "data": {
      "text/plain": [
       "51.67"
      ]
     },
     "execution_count": 105,
     "metadata": {},
     "output_type": "execute_result"
    }
   ],
   "source": [
    "round(np.mean(score)*100,2)"
   ]
  },
  {
   "cell_type": "markdown",
   "metadata": {},
   "source": [
    "# 7. Testing"
   ]
  },
  {
   "cell_type": "code",
   "execution_count": 106,
   "metadata": {},
   "outputs": [],
   "source": [
    "clf = KNeighborsClassifier(n_neighbors = 5)\n",
    "clf.fit(train_data, target)\n",
    "#index에 따른 num 부여\n",
    "test_data = test.drop(\"num\", axis=1).copy()\n",
    "prediction = clf.predict(test_data)"
   ]
  },
  {
   "cell_type": "code",
   "execution_count": 107,
   "metadata": {},
   "outputs": [],
   "source": [
    "submission = pd.DataFrame({\n",
    "        \"num\": test[\"num\"],\n",
    "        \"voted\": prediction\n",
    "    })\n",
    "\n",
    "submission.to_csv('sample_submission-Grid view.csv', index=False)"
   ]
  },
  {
   "cell_type": "code",
   "execution_count": 146,
   "metadata": {
    "scrolled": true
   },
   "outputs": [
    {
     "name": "stdout",
     "output_type": "stream",
     "text": [
      "    num  voted\n",
      "0     0      2\n",
      "1     1      2\n",
      "2     2      2\n",
      "3     3      1\n",
      "4     4      1\n",
      "5     5      2\n",
      "6     6      2\n",
      "7     7      1\n",
      "8     8      2\n",
      "9     9      2\n",
      "10   10      2\n",
      "11   11      2\n",
      "12   12      1\n",
      "13   13      2\n",
      "14   14      2\n",
      "15   15      2\n",
      "16   16      1\n",
      "17   17      2\n",
      "18   18      1\n"
     ]
    }
   ],
   "source": [
    "submission = pd.read_csv('sample_submission-Grid view.csv')\n",
    "print(submission)"
   ]
  },
  {
   "cell_type": "markdown",
   "metadata": {},
   "source": [
    "# 수치 확인"
   ]
  },
  {
   "cell_type": "code",
   "execution_count": 109,
   "metadata": {},
   "outputs": [],
   "source": [
    "from sklearn.model_selection import KFold\n",
    "from sklearn.model_selection import cross_val_score\n",
    "k_fold = KFold(n_splits=10, shuffle=True, random_state=0)\n",
    "from sklearn import datasets\n",
    "from sklearn.model_selection import train_test_split\n",
    "from sklearn.metrics import accuracy_score\n",
    "from sklearn.metrics import confusion_matrix\n",
    "from sklearn.metrics import roc_curve\n",
    "from sklearn.metrics import auc\n",
    "from sklearn.tree import DecisionTreeClassifier\n",
    "import matplotlib.pyplot as plt\n",
    "import pandas as pd\n",
    "import numpy as np\n",
    "from sklearn.metrics import accuracy_score, precision_score, recall_score, f1_score"
   ]
  },
  {
   "cell_type": "code",
   "execution_count": 110,
   "metadata": {},
   "outputs": [],
   "source": [
    "def plot_roc_curve(fpr, tpr):\n",
    "    plt.plot(fpr, tpr, color='red', label='ROC')\n",
    "    plt.plot([0, 1], [0, 1], color='green', linestyle='--')\n",
    "    plt.xlabel('False Positive Rate')\n",
    "    plt.ylabel('True Positive Rate')\n",
    "    plt.title('Receiver Operating Characteristic Curve')\n",
    "    plt.legend()\n",
    "    plt.show()\n",
    "    \n",
    "X=train_data\n",
    "Y=target\n",
    "X_train, X_test, Y_train, Y_test = train_test_split(X,Y, test_size=0.2,random_state=1)\n",
    "\n",
    "kfold = KFold(n_splits=10, shuffle=True)\n",
    "dt = DecisionTreeClassifier()\n",
    "score = cross_val_score(dt, X, Y, cv=kfold, scoring=\"accuracy\")"
   ]
  },
  {
   "cell_type": "markdown",
   "metadata": {},
   "source": [
    "# SVM 사용 (AUC : 0.16666666666666669)"
   ]
  },
  {
   "cell_type": "code",
   "execution_count": 150,
   "metadata": {},
   "outputs": [],
   "source": [
    "from sklearn.pipeline import make_pipeline\n",
    "from sklearn.preprocessing import StandardScaler\n",
    "from sklearn.svm import SVC\n",
    "\n",
    "model = make_pipeline(StandardScaler(), SVC(gamma='auto'))\n",
    "title='SVM 사용시'"
   ]
  },
  {
   "cell_type": "markdown",
   "metadata": {},
   "source": [
    "# KNN 사용 (K=5 AUC : 0.41666666666666663)"
   ]
  },
  {
   "cell_type": "code",
   "execution_count": 151,
   "metadata": {},
   "outputs": [],
   "source": [
    "from sklearn.neighbors import KNeighborsClassifier\n",
    "model = KNeighborsClassifier(n_neighbors=5)\n",
    "title='KNN 사용시'"
   ]
  },
  {
   "cell_type": "markdown",
   "metadata": {},
   "source": [
    "# Naive Bayes 사용 (AUC : 0.25)"
   ]
  },
  {
   "cell_type": "code",
   "execution_count": 152,
   "metadata": {},
   "outputs": [],
   "source": [
    "from sklearn.naive_bayes import GaussianNB\n",
    "model = GaussianNB()\n",
    "title='Naive Bayes 사용시'"
   ]
  },
  {
   "cell_type": "markdown",
   "metadata": {},
   "source": [
    "#  Randomforest 사용 (AUC : 0.41666666666666663)"
   ]
  },
  {
   "cell_type": "code",
   "execution_count": 153,
   "metadata": {},
   "outputs": [],
   "source": [
    "from sklearn.ensemble import RandomForestClassifier\n",
    "model = RandomForestClassifier(max_depth=2, random_state=0)\n",
    "title='Randomforest 사용시'"
   ]
  },
  {
   "cell_type": "markdown",
   "metadata": {},
   "source": [
    "# LightGBM 사용 - X"
   ]
  },
  {
   "cell_type": "code",
   "execution_count": 154,
   "metadata": {},
   "outputs": [],
   "source": [
    "from lightgbm import LGBMClassifier\n",
    "model = LGBMClassifier(random_state=5)\n",
    "title='LightGBM 사용시'"
   ]
  },
  {
   "cell_type": "markdown",
   "metadata": {},
   "source": [
    "# Neural Network 사용 - X"
   ]
  },
  {
   "cell_type": "code",
   "execution_count": 155,
   "metadata": {},
   "outputs": [],
   "source": [
    "from sklearn.neural_network import MLPClassifier\n",
    "from sklearn.preprocessing import StandardScaler  \n",
    "model = MLPClassifier(solver='lbfgs', alpha=1e-5,hidden_layer_sizes=(10, 2), random_state=1)\n",
    "title='Neural Network 사용시'"
   ]
  },
  {
   "cell_type": "markdown",
   "metadata": {},
   "source": [
    "# DecisionTree 사용 (AUC : 0.0)"
   ]
  },
  {
   "cell_type": "code",
   "execution_count": 156,
   "metadata": {},
   "outputs": [],
   "source": [
    "from sklearn import tree\n",
    "\n",
    "model = tree.DecisionTreeClassifier()\n",
    "title='Decision Tree 사용시'"
   ]
  },
  {
   "cell_type": "markdown",
   "metadata": {},
   "source": [
    "# 결과확인"
   ]
  },
  {
   "cell_type": "code",
   "execution_count": 163,
   "metadata": {},
   "outputs": [
    {
     "name": "stdout",
     "output_type": "stream",
     "text": [
      "Decision Tree 사용시 \n",
      "\n",
      "accuracy_score (정확도): 0.6\n",
      "precision_score (정밀도) : 0.6666666666666666\n",
      "recall_score (재현율): 0.6666666666666666\n",
      "sensitivity_score (민감도(거짓탐색)): 0.6666666666666666\n",
      "specificity_score (특이도(참탐색)): 0.5\n",
      "auc score : 0.41666666666666663\n",
      "F1 score : 0.5\n"
     ]
    },
    {
     "data": {
      "image/png": "[encoded data removed]",
      "text/plain": [
       "<Figure size 432x288 with 1 Axes>"
      ]
     },
     "metadata": {},
     "output_type": "display_data"
    }
   ],
   "source": [
    "model.fit(X_train, Y_train)\n",
    "predicted = model.predict(X_test)\n",
    "TN, FP, FN, TP = confusion_matrix(Y_test, predicted).ravel()\n",
    "print(title,\"\\n\")\n",
    "print('accuracy_score (정확도):',accuracy_score(Y_test, predicted))\n",
    "print('precision_score (정밀도) :',TP/(TP+FP))\n",
    "print('recall_score (재현율):',TP/(TP+FN))\n",
    "print('sensitivity_score (민감도(거짓탐색)):',TP/(TP+FN))\n",
    "print('specificity_score (특이도(참탐색)):',TN/(FP+TN))\n",
    "FPR, TPR, thresholds = roc_curve(Y_test, predicted, pos_label=1)\n",
    "print('auc score :',auc(FPR, TPR))\n",
    "print('F1 score :',f1_score(Y_test, predicted))\n",
    "plot_roc_curve(FPR, TPR)\n",
    "    "
   ]
  }
 ],
 "metadata": {
  "kernelspec": {
   "display_name": "Python 3 (ipykernel)",
   "language": "python",
   "name": "python3"
  },
  "language_info": {
   "codemirror_mode": {
    "name": "ipython",
    "version": 3
   },
   "file_extension": ".py",
   "mimetype": "text/x-python",
   "name": "python",
   "nbconvert_exporter": "python",
   "pygments_lexer": "ipython3",
   "version": "3.9.7"
  }
 },
 "nbformat": 4,
 "nbformat_minor": 1
}
