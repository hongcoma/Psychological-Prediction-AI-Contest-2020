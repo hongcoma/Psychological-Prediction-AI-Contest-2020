{
 "cells": [
  {
   "cell_type": "markdown",
   "id": "d6c0a76c",
   "metadata": {},
   "source": [
    "# 시각화"
   ]
  },
  {
   "cell_type": "code",
   "execution_count": 302,
   "id": "951f1aa8",
   "metadata": {},
   "outputs": [],
   "source": [
    "import matplotlib.pyplot as plt\n",
    "%matplotlib inline\n",
    "import seaborn as sns\n",
    "sns.set() # setting seaborn default for plots\n",
    "\n",
    "def bar_chart(feature):\n",
    "    yes = train[train['voted']==1][feature].value_counts()\n",
    "    no = train[train['voted']==2][feature].value_counts()\n",
    "    df = pd.DataFrame([yes,no])\n",
    "    df.index = ['Yes','No']\n",
    "    df.plot(kind='bar',stacked=True, figsize=(10,5))"
   ]
  },
  {
   "cell_type": "code",
   "execution_count": 303,
   "id": "57b1a445",
   "metadata": {},
   "outputs": [],
   "source": [
    "import pandas as pd\n",
    "\n",
    "train=pd.read_csv('./train.csv')\n",
    "test=pd.read_csv('./test_x.csv')"
   ]
  },
  {
   "cell_type": "markdown",
   "id": "d5d66bbb",
   "metadata": {},
   "source": [
    "# 데이터 전처리"
   ]
  },
  {
   "cell_type": "code",
   "execution_count": 304,
   "id": "5132a1e5",
   "metadata": {},
   "outputs": [],
   "source": [
    "import numpy as np\n",
    "train['trust']=1\n",
    "test['trust']=1\n",
    "family_drop_score=10\n",
    "\n",
    "train['trust']=np.where(train['familysize'] >= family_drop_score, 0, train['trust'])\n",
    "test['trust']=np.where(test['familysize'] >= family_drop_score, 0, test['trust'])"
   ]
  },
  {
   "cell_type": "markdown",
   "id": "f829ef3e",
   "metadata": {},
   "source": [
    "# 원핫 인코딩 (gender, race, religion)"
   ]
  },
  {
   "cell_type": "code",
   "execution_count": 305,
   "id": "741c771b",
   "metadata": {},
   "outputs": [],
   "source": [
    "train=pd.get_dummies(train, columns=['race'])\n",
    "train=pd.get_dummies(train, columns=['religion'])\n",
    "train=pd.get_dummies(train, columns=['gender'])\n",
    "test=pd.get_dummies(test, columns=['race'])\n",
    "test=pd.get_dummies(test, columns=['religion'])\n",
    "test=pd.get_dummies(test, columns=['gender'])"
   ]
  },
  {
   "cell_type": "markdown",
   "id": "1d4cb1a4",
   "metadata": {},
   "source": [
    "# Feature : Mach_score (마키아벨리니즘 스코어)"
   ]
  },
  {
   "cell_type": "code",
   "execution_count": 306,
   "id": "5f73d7a8",
   "metadata": {
    "scrolled": false
   },
   "outputs": [],
   "source": [
    "Answers = ['QaA', 'QbA', 'QcA', 'QdA', 'QeA',\n",
    "             'QfA', 'QgA', 'QhA', 'QiA', 'QjA', \n",
    "             'QkA', 'QlA', 'QmA', 'QnA', 'QoA', \n",
    "             'QpA', 'QqA', 'QrA', 'QsA', 'QtA']"
   ]
  },
  {
   "cell_type": "code",
   "execution_count": 307,
   "id": "f031affe",
   "metadata": {},
   "outputs": [],
   "source": [
    "reverse = [\"QeA\", \"QfA\", \"QkA\", \"QqA\", \"QrA\"]\n",
    "for r in reverse: \n",
    "        train[r] = 6 - train[r]\n",
    "        test[r] = 6 - test[r]"
   ]
  },
  {
   "cell_type": "code",
   "execution_count": 308,
   "id": "329ca96b",
   "metadata": {},
   "outputs": [],
   "source": [
    "reverse = [\"QaA\", \"QdA\", \"QgA\", \"QiA\", \"QnA\"]\n",
    "for r in reverse: \n",
    "        train[r] = 6 - train[r]\n",
    "        test[r] = 6 - test[r]"
   ]
  },
  {
   "cell_type": "code",
   "execution_count": 309,
   "id": "c589c845",
   "metadata": {},
   "outputs": [],
   "source": [
    "train['Mach_score'] = train[Answers].mean(axis = 1)\n",
    "test['Mach_score'] = test[Answers].mean(axis = 1)"
   ]
  },
  {
   "cell_type": "markdown",
   "id": "d3acad36",
   "metadata": {},
   "source": [
    "# Feature : tp0106, tp0207, tp0308, tp0409, tp0510 (관련있는 tp 끼리 묶음)"
   ]
  },
  {
   "cell_type": "code",
   "execution_count": 310,
   "id": "3d213727",
   "metadata": {},
   "outputs": [],
   "source": [
    "Tp = ['tp01', 'tp02', 'tp03', 'tp04', 'tp05',\n",
    "             'tp06', 'tp07', 'tp08', 'tp09', 'tp10']"
   ]
  },
  {
   "cell_type": "code",
   "execution_count": 311,
   "id": "f5c66c11",
   "metadata": {},
   "outputs": [
    {
     "data": {
      "text/html": [
       "<div>\n",
       "<style scoped>\n",
       "    .dataframe tbody tr th:only-of-type {\n",
       "        vertical-align: middle;\n",
       "    }\n",
       "\n",
       "    .dataframe tbody tr th {\n",
       "        vertical-align: top;\n",
       "    }\n",
       "\n",
       "    .dataframe thead th {\n",
       "        text-align: right;\n",
       "    }\n",
       "</style>\n",
       "<table border=\"1\" class=\"dataframe\">\n",
       "  <thead>\n",
       "    <tr style=\"text-align: right;\">\n",
       "      <th></th>\n",
       "      <th>tp0106</th>\n",
       "      <th>tp0207</th>\n",
       "      <th>tp0308</th>\n",
       "      <th>tp0409</th>\n",
       "      <th>tp0510</th>\n",
       "    </tr>\n",
       "  </thead>\n",
       "  <tbody>\n",
       "    <tr>\n",
       "      <th>tp0106</th>\n",
       "      <td>1.000000</td>\n",
       "      <td>-0.074353</td>\n",
       "      <td>0.046224</td>\n",
       "      <td>-0.089011</td>\n",
       "      <td>0.233300</td>\n",
       "    </tr>\n",
       "    <tr>\n",
       "      <th>tp0207</th>\n",
       "      <td>-0.074353</td>\n",
       "      <td>1.000000</td>\n",
       "      <td>-0.099263</td>\n",
       "      <td>0.078964</td>\n",
       "      <td>-0.089960</td>\n",
       "    </tr>\n",
       "    <tr>\n",
       "      <th>tp0308</th>\n",
       "      <td>0.046224</td>\n",
       "      <td>-0.099263</td>\n",
       "      <td>1.000000</td>\n",
       "      <td>-0.287484</td>\n",
       "      <td>0.039089</td>\n",
       "    </tr>\n",
       "    <tr>\n",
       "      <th>tp0409</th>\n",
       "      <td>-0.089011</td>\n",
       "      <td>0.078964</td>\n",
       "      <td>-0.287484</td>\n",
       "      <td>1.000000</td>\n",
       "      <td>-0.102691</td>\n",
       "    </tr>\n",
       "    <tr>\n",
       "      <th>tp0510</th>\n",
       "      <td>0.233300</td>\n",
       "      <td>-0.089960</td>\n",
       "      <td>0.039089</td>\n",
       "      <td>-0.102691</td>\n",
       "      <td>1.000000</td>\n",
       "    </tr>\n",
       "  </tbody>\n",
       "</table>\n",
       "</div>"
      ],
      "text/plain": [
       "          tp0106    tp0207    tp0308    tp0409    tp0510\n",
       "tp0106  1.000000 -0.074353  0.046224 -0.089011  0.233300\n",
       "tp0207 -0.074353  1.000000 -0.099263  0.078964 -0.089960\n",
       "tp0308  0.046224 -0.099263  1.000000 -0.287484  0.039089\n",
       "tp0409 -0.089011  0.078964 -0.287484  1.000000 -0.102691\n",
       "tp0510  0.233300 -0.089960  0.039089 -0.102691  1.000000"
      ]
     },
     "execution_count": 311,
     "metadata": {},
     "output_type": "execute_result"
    }
   ],
   "source": [
    "reverse = [\"tp06\", \"tp07\", \"tp08\", \"tp09\", \"tp10\"]\n",
    "for r in reverse: \n",
    "        train[r] = 7 - train[r]\n",
    "        test[r] = 7 - test[r]\n",
    "        \n",
    "tp0106=['tp01', 'tp06']\n",
    "tp0207=['tp02', 'tp07']\n",
    "tp0308=['tp03', 'tp08']\n",
    "tp0409=['tp04', 'tp09']\n",
    "tp0510=['tp05', 'tp10']\n",
    "train['tp0106'] = train[tp0106].sum(axis = 1)\n",
    "train['tp0207'] = train[tp0207].sum(axis = 1)\n",
    "train['tp0308'] = train[tp0308].sum(axis = 1)\n",
    "train['tp0409'] = train[tp0409].sum(axis = 1)\n",
    "train['tp0510'] = train[tp0510].sum(axis = 1)\n",
    "temp=['tp0106', 'tp0207', 'tp0308','tp0409', 'tp0510']\n",
    "\n",
    "test['tp0106'] = test[tp0106].sum(axis = 1)\n",
    "test['tp0207'] = test[tp0207].sum(axis = 1)\n",
    "test['tp0308'] = test[tp0308].sum(axis = 1)\n",
    "test['tp0409'] = test[tp0409].sum(axis = 1)\n",
    "test['tp0510'] = test[tp0510].sum(axis = 1)\n",
    "train[temp].corr()"
   ]
  },
  {
   "cell_type": "code",
   "execution_count": 312,
   "id": "a5f9d749",
   "metadata": {},
   "outputs": [
    {
     "data": {
      "text/plain": [
       "count    45532.000000\n",
       "mean         7.545023\n",
       "std          3.509913\n",
       "min          0.000000\n",
       "25%          5.000000\n",
       "50%          8.000000\n",
       "75%         11.000000\n",
       "max         14.000000\n",
       "Name: tp0106, dtype: float64"
      ]
     },
     "execution_count": 312,
     "metadata": {},
     "output_type": "execute_result"
    }
   ],
   "source": [
    "train['tp0106'].describe()"
   ]
  },
  {
   "cell_type": "code",
   "execution_count": 313,
   "id": "82b7ce3e",
   "metadata": {},
   "outputs": [],
   "source": [
    "tp_drop_score=11\n",
    "\n",
    "train['trust']=np.where(train['tp0106'] >= tp_drop_score, 0, train['trust'])\n",
    "train['trust']=np.where(train['tp0207'] >= tp_drop_score, 0, train['trust'])\n",
    "train['trust']=np.where(train['tp0308'] >= tp_drop_score, 0, train['trust'])\n",
    "train['trust']=np.where(train['tp0409'] >= tp_drop_score, 0, train['trust'])\n",
    "train['trust']=np.where(train['tp0510'] >= tp_drop_score, 0, train['trust'])\n",
    "\n",
    "test['trust']=np.where(test['tp0106'] >= tp_drop_score, 0, test['trust'])\n",
    "test['trust']=np.where(test['tp0207'] >= tp_drop_score, 0, test['trust'])\n",
    "test['trust']=np.where(test['tp0308'] >= tp_drop_score, 0, test['trust'])\n",
    "test['trust']=np.where(test['tp0409'] >= tp_drop_score, 0, test['trust'])\n",
    "test['trust']=np.where(test['tp0510'] >= tp_drop_score, 0, test['trust'])\n",
    "\n",
    "train['trust']=np.where(train['education'] == 0, 0, train['trust'])\n",
    "train['education']=np.where(train['education'] == 0, 2, train['education'])\n",
    "test['trust']=np.where(test['education'] == 0, 0, test['trust'])\n",
    "test['education']=np.where(test['education'] == 0, 2, test['education'])"
   ]
  },
  {
   "cell_type": "code",
   "execution_count": 314,
   "id": "bc2ca67d",
   "metadata": {},
   "outputs": [
    {
     "data": {
      "text/plain": [
       "2    17363\n",
       "3    15227\n",
       "4     7854\n",
       "1     5088\n",
       "Name: education, dtype: int64"
      ]
     },
     "execution_count": 314,
     "metadata": {},
     "output_type": "execute_result"
    }
   ],
   "source": [
    "train['education'].value_counts()"
   ]
  },
  {
   "cell_type": "code",
   "execution_count": 315,
   "id": "d68adc48",
   "metadata": {},
   "outputs": [],
   "source": [
    "train['urban']=train['urban'].astype('str')\n",
    "test['urban']=test['urban'].astype('str')\n",
    "\n",
    "train['education']=train['education'].astype('str')\n",
    "test['education']=test['education'].astype('str')"
   ]
  },
  {
   "cell_type": "code",
   "execution_count": 316,
   "id": "0dc35f28",
   "metadata": {},
   "outputs": [],
   "source": [
    "train=pd.get_dummies(train, columns=['urban'])\n",
    "train=pd.get_dummies(train, columns=['education'])\n",
    "train=pd.get_dummies(train, columns=['age_group'])\n",
    "\n",
    "test=pd.get_dummies(test, columns=['urban'])\n",
    "test=pd.get_dummies(test, columns=['education'])\n",
    "test=pd.get_dummies(test, columns=['age_group'])"
   ]
  },
  {
   "cell_type": "markdown",
   "id": "65e01335",
   "metadata": {},
   "source": [
    "# wf_(1~3) : 설문자의 어휘 능력 (허구인 단어의 정의를 앎)"
   ]
  },
  {
   "cell_type": "code",
   "execution_count": 317,
   "id": "ae88ab68",
   "metadata": {
    "scrolled": true
   },
   "outputs": [],
   "source": [
    "wf=['wf_01', 'wf_02', 'wf_03']\n",
    "\n",
    "train['wf']=train[wf].mean(axis=1)\n",
    "train['trust']= np.where(train['wf'] >= 0.0, 0, train['trust'])\n",
    "\n",
    "test['wf']=test[wf].mean(axis=1)\n",
    "test['trust']= np.where(test['wf'] >= 0.0, 0, test['trust'])"
   ]
  },
  {
   "cell_type": "markdown",
   "id": "b1a7c8aa",
   "metadata": {},
   "source": [
    "# Feature : Word_score (설문자의 어휘 능력 스코어)"
   ]
  },
  {
   "cell_type": "code",
   "execution_count": 318,
   "id": "ab2688a4",
   "metadata": {},
   "outputs": [],
   "source": [
    "# Word=['wr', 'wf']\n",
    "# train['Word_score']=train[Word].mean(axis=1)\n",
    "# train['Word_score']= np.where(train['Word_score'] == 1.0, 1, 0)\n",
    "\n",
    "# test['Word_score']=test[Word].mean(axis=1)\n",
    "# test['Word_score']= np.where(test['Word_score'] == 1.0, 1, 0)"
   ]
  },
  {
   "cell_type": "markdown",
   "id": "ab06e14f",
   "metadata": {},
   "source": [
    "# 나머지 feature들 drop"
   ]
  },
  {
   "cell_type": "code",
   "execution_count": 319,
   "id": "a0686027",
   "metadata": {},
   "outputs": [],
   "source": [
    "left_feature=['QaA', 'QbA', 'QcA', 'QdA', 'QeA','QfA', 'QgA', 'QhA', 'QiA', 'QjA', 'QkA', 'QlA', 'QmA', 'QnA', 'QoA','QpA', \n",
    "              'QqA', 'QrA', 'QsA', 'QtA','QaE', 'QbE', 'QcE', 'QdE', 'QeE', 'QfE', 'QgE', 'QhE', 'QiE', 'QjE', 'QkE', 'QlE',\n",
    "              'tp0106', 'tp0207', 'tp0308','tp0409', 'tp0510','familysize',\n",
    "              'QmE', 'QnE', 'QoE', 'QpE', 'QqE', 'QrE', 'QsE', 'QtE','engnat','tp01', 'tp02', 'tp03', 'tp04', 'tp05','tp06',\n",
    "              'tp07', 'tp08', 'tp09', 'tp10','gender_Male', 'gender_Female','hand','race_Arab', 'race_Asian','race_Black','married',\n",
    "              'race_Indigenous Australian','race_Native American','race_Other','race_White','religion_Agnostic','religion_Atheist', \n",
    "              'religion_Buddhist','religion_Christian_Catholic','religion_Christian_Mormon', 'religion_Christian_Other', \n",
    "              'religion_Christian_Protestant', 'religion_Hindu','religion_Jewish','religion_Muslim', 'religion_Other','religion_Sikh',\n",
    "              'wr_01', 'wr_02', 'wr_03', 'wr_04', 'wr_05', 'wr_06', 'wr_07', 'wr_08', 'wr_09', 'wf_01', 'wf_02', 'wf_03','wr_10', \n",
    "              'wr_11', 'wr_12', 'wr_13', 'wf']\n",
    "\n",
    "train = train.drop(left_feature, axis = 1)\n",
    "test = test.drop(left_feature, axis = 1)"
   ]
  },
  {
   "cell_type": "markdown",
   "id": "b90b6eae",
   "metadata": {},
   "source": [
    "# Model 생성"
   ]
  },
  {
   "cell_type": "code",
   "execution_count": 320,
   "id": "ddc2ea46",
   "metadata": {},
   "outputs": [],
   "source": [
    "from sklearn.neighbors import KNeighborsClassifier\n",
    "from sklearn.tree import DecisionTreeClassifier\n",
    "from sklearn.ensemble import RandomForestClassifier\n",
    "from sklearn.naive_bayes import GaussianNB\n",
    "from sklearn.svm import SVC"
   ]
  },
  {
   "cell_type": "code",
   "execution_count": 321,
   "id": "17e0b81b",
   "metadata": {},
   "outputs": [],
   "source": [
    "train = train.drop('index', axis = 1)\n",
    "test = test.drop('index', axis = 1)"
   ]
  },
  {
   "cell_type": "markdown",
   "id": "93c8e33a",
   "metadata": {},
   "source": [
    "# 사용한 feature 목록"
   ]
  },
  {
   "cell_type": "code",
   "execution_count": 322,
   "id": "65fb6275",
   "metadata": {
    "scrolled": false
   },
   "outputs": [
    {
     "name": "stdout",
     "output_type": "stream",
     "text": [
      "voted\n",
      "trust\n",
      "Mach_score\n",
      "urban_0\n",
      "urban_1\n",
      "urban_2\n",
      "urban_3\n",
      "education_1\n",
      "education_2\n",
      "education_3\n",
      "education_4\n",
      "age_group_+70s\n",
      "age_group_10s\n",
      "age_group_20s\n",
      "age_group_30s\n",
      "age_group_40s\n",
      "age_group_50s\n",
      "age_group_60s\n"
     ]
    }
   ],
   "source": [
    "for i in train:\n",
    "    print(i)"
   ]
  },
  {
   "cell_type": "markdown",
   "id": "19e092ef",
   "metadata": {},
   "source": [
    "# Auto ML"
   ]
  },
  {
   "cell_type": "code",
   "execution_count": 323,
   "id": "b3c58672",
   "metadata": {},
   "outputs": [
    {
     "data": {
      "text/html": [
       "<style type=\"text/css\">\n",
       "#T_19856_row9_col1 {\n",
       "  background-color: lightgreen;\n",
       "}\n",
       "</style>\n",
       "<table id=\"T_19856\">\n",
       "  <thead>\n",
       "    <tr>\n",
       "      <th class=\"blank level0\" >&nbsp;</th>\n",
       "      <th id=\"T_19856_level0_col0\" class=\"col_heading level0 col0\" >Description</th>\n",
       "      <th id=\"T_19856_level0_col1\" class=\"col_heading level0 col1\" >Value</th>\n",
       "    </tr>\n",
       "  </thead>\n",
       "  <tbody>\n",
       "    <tr>\n",
       "      <th id=\"T_19856_level0_row0\" class=\"row_heading level0 row0\" >0</th>\n",
       "      <td id=\"T_19856_row0_col0\" class=\"data row0 col0\" >Session id</td>\n",
       "      <td id=\"T_19856_row0_col1\" class=\"data row0 col1\" >3806</td>\n",
       "    </tr>\n",
       "    <tr>\n",
       "      <th id=\"T_19856_level0_row1\" class=\"row_heading level0 row1\" >1</th>\n",
       "      <td id=\"T_19856_row1_col0\" class=\"data row1 col0\" >Target</td>\n",
       "      <td id=\"T_19856_row1_col1\" class=\"data row1 col1\" >voted</td>\n",
       "    </tr>\n",
       "    <tr>\n",
       "      <th id=\"T_19856_level0_row2\" class=\"row_heading level0 row2\" >2</th>\n",
       "      <td id=\"T_19856_row2_col0\" class=\"data row2 col0\" >Target type</td>\n",
       "      <td id=\"T_19856_row2_col1\" class=\"data row2 col1\" >Binary</td>\n",
       "    </tr>\n",
       "    <tr>\n",
       "      <th id=\"T_19856_level0_row3\" class=\"row_heading level0 row3\" >3</th>\n",
       "      <td id=\"T_19856_row3_col0\" class=\"data row3 col0\" >Target mapping</td>\n",
       "      <td id=\"T_19856_row3_col1\" class=\"data row3 col1\" >1: 0, 2: 1</td>\n",
       "    </tr>\n",
       "    <tr>\n",
       "      <th id=\"T_19856_level0_row4\" class=\"row_heading level0 row4\" >4</th>\n",
       "      <td id=\"T_19856_row4_col0\" class=\"data row4 col0\" >Original data shape</td>\n",
       "      <td id=\"T_19856_row4_col1\" class=\"data row4 col1\" >(45532, 18)</td>\n",
       "    </tr>\n",
       "    <tr>\n",
       "      <th id=\"T_19856_level0_row5\" class=\"row_heading level0 row5\" >5</th>\n",
       "      <td id=\"T_19856_row5_col0\" class=\"data row5 col0\" >Transformed data shape</td>\n",
       "      <td id=\"T_19856_row5_col1\" class=\"data row5 col1\" >(45532, 17)</td>\n",
       "    </tr>\n",
       "    <tr>\n",
       "      <th id=\"T_19856_level0_row6\" class=\"row_heading level0 row6\" >6</th>\n",
       "      <td id=\"T_19856_row6_col0\" class=\"data row6 col0\" >Transformed train set shape</td>\n",
       "      <td id=\"T_19856_row6_col1\" class=\"data row6 col1\" >(31872, 17)</td>\n",
       "    </tr>\n",
       "    <tr>\n",
       "      <th id=\"T_19856_level0_row7\" class=\"row_heading level0 row7\" >7</th>\n",
       "      <td id=\"T_19856_row7_col0\" class=\"data row7 col0\" >Transformed test set shape</td>\n",
       "      <td id=\"T_19856_row7_col1\" class=\"data row7 col1\" >(13660, 17)</td>\n",
       "    </tr>\n",
       "    <tr>\n",
       "      <th id=\"T_19856_level0_row8\" class=\"row_heading level0 row8\" >8</th>\n",
       "      <td id=\"T_19856_row8_col0\" class=\"data row8 col0\" >Numeric features</td>\n",
       "      <td id=\"T_19856_row8_col1\" class=\"data row8 col1\" >17</td>\n",
       "    </tr>\n",
       "    <tr>\n",
       "      <th id=\"T_19856_level0_row9\" class=\"row_heading level0 row9\" >9</th>\n",
       "      <td id=\"T_19856_row9_col0\" class=\"data row9 col0\" >Preprocess</td>\n",
       "      <td id=\"T_19856_row9_col1\" class=\"data row9 col1\" >True</td>\n",
       "    </tr>\n",
       "    <tr>\n",
       "      <th id=\"T_19856_level0_row10\" class=\"row_heading level0 row10\" >10</th>\n",
       "      <td id=\"T_19856_row10_col0\" class=\"data row10 col0\" >Imputation type</td>\n",
       "      <td id=\"T_19856_row10_col1\" class=\"data row10 col1\" >simple</td>\n",
       "    </tr>\n",
       "    <tr>\n",
       "      <th id=\"T_19856_level0_row11\" class=\"row_heading level0 row11\" >11</th>\n",
       "      <td id=\"T_19856_row11_col0\" class=\"data row11 col0\" >Numeric imputation</td>\n",
       "      <td id=\"T_19856_row11_col1\" class=\"data row11 col1\" >mean</td>\n",
       "    </tr>\n",
       "    <tr>\n",
       "      <th id=\"T_19856_level0_row12\" class=\"row_heading level0 row12\" >12</th>\n",
       "      <td id=\"T_19856_row12_col0\" class=\"data row12 col0\" >Categorical imputation</td>\n",
       "      <td id=\"T_19856_row12_col1\" class=\"data row12 col1\" >constant</td>\n",
       "    </tr>\n",
       "    <tr>\n",
       "      <th id=\"T_19856_level0_row13\" class=\"row_heading level0 row13\" >13</th>\n",
       "      <td id=\"T_19856_row13_col0\" class=\"data row13 col0\" >Low variance threshold</td>\n",
       "      <td id=\"T_19856_row13_col1\" class=\"data row13 col1\" >0</td>\n",
       "    </tr>\n",
       "    <tr>\n",
       "      <th id=\"T_19856_level0_row14\" class=\"row_heading level0 row14\" >14</th>\n",
       "      <td id=\"T_19856_row14_col0\" class=\"data row14 col0\" >Fold Generator</td>\n",
       "      <td id=\"T_19856_row14_col1\" class=\"data row14 col1\" >StratifiedKFold</td>\n",
       "    </tr>\n",
       "    <tr>\n",
       "      <th id=\"T_19856_level0_row15\" class=\"row_heading level0 row15\" >15</th>\n",
       "      <td id=\"T_19856_row15_col0\" class=\"data row15 col0\" >Fold Number</td>\n",
       "      <td id=\"T_19856_row15_col1\" class=\"data row15 col1\" >10</td>\n",
       "    </tr>\n",
       "    <tr>\n",
       "      <th id=\"T_19856_level0_row16\" class=\"row_heading level0 row16\" >16</th>\n",
       "      <td id=\"T_19856_row16_col0\" class=\"data row16 col0\" >CPU Jobs</td>\n",
       "      <td id=\"T_19856_row16_col1\" class=\"data row16 col1\" >-1</td>\n",
       "    </tr>\n",
       "    <tr>\n",
       "      <th id=\"T_19856_level0_row17\" class=\"row_heading level0 row17\" >17</th>\n",
       "      <td id=\"T_19856_row17_col0\" class=\"data row17 col0\" >Use GPU</td>\n",
       "      <td id=\"T_19856_row17_col1\" class=\"data row17 col1\" >False</td>\n",
       "    </tr>\n",
       "    <tr>\n",
       "      <th id=\"T_19856_level0_row18\" class=\"row_heading level0 row18\" >18</th>\n",
       "      <td id=\"T_19856_row18_col0\" class=\"data row18 col0\" >Log Experiment</td>\n",
       "      <td id=\"T_19856_row18_col1\" class=\"data row18 col1\" >False</td>\n",
       "    </tr>\n",
       "    <tr>\n",
       "      <th id=\"T_19856_level0_row19\" class=\"row_heading level0 row19\" >19</th>\n",
       "      <td id=\"T_19856_row19_col0\" class=\"data row19 col0\" >Experiment Name</td>\n",
       "      <td id=\"T_19856_row19_col1\" class=\"data row19 col1\" >clf-default-name</td>\n",
       "    </tr>\n",
       "    <tr>\n",
       "      <th id=\"T_19856_level0_row20\" class=\"row_heading level0 row20\" >20</th>\n",
       "      <td id=\"T_19856_row20_col0\" class=\"data row20 col0\" >USI</td>\n",
       "      <td id=\"T_19856_row20_col1\" class=\"data row20 col1\" >10e7</td>\n",
       "    </tr>\n",
       "  </tbody>\n",
       "</table>\n"
      ],
      "text/plain": [
       "<pandas.io.formats.style.Styler at 0x1d4ae095c40>"
      ]
     },
     "metadata": {},
     "output_type": "display_data"
    }
   ],
   "source": [
    "from pycaret.classification import *\n",
    "clf = setup(data = train, target = 'voted')"
   ]
  },
  {
   "cell_type": "markdown",
   "id": "b047a4ac",
   "metadata": {},
   "source": [
    "# 모델 학습 및 비교 (Train models and compare)"
   ]
  },
  {
   "cell_type": "code",
   "execution_count": 324,
   "id": "58e678c3",
   "metadata": {},
   "outputs": [
    {
     "data": {
      "text/html": [],
      "text/plain": [
       "<IPython.core.display.HTML object>"
      ]
     },
     "metadata": {},
     "output_type": "display_data"
    },
    {
     "data": {
      "text/html": [
       "<style type=\"text/css\">\n",
       "#T_53562 th {\n",
       "  text-align: left;\n",
       "}\n",
       "#T_53562_row0_col0, #T_53562_row0_col3, #T_53562_row0_col4, #T_53562_row0_col5, #T_53562_row0_col7, #T_53562_row1_col0, #T_53562_row1_col1, #T_53562_row1_col2, #T_53562_row1_col3, #T_53562_row1_col4, #T_53562_row1_col5, #T_53562_row1_col6, #T_53562_row1_col7, #T_53562_row2_col0, #T_53562_row2_col1, #T_53562_row2_col2, #T_53562_row2_col3, #T_53562_row2_col4, #T_53562_row2_col5, #T_53562_row2_col6, #T_53562_row2_col7, #T_53562_row3_col0, #T_53562_row3_col1, #T_53562_row3_col2, #T_53562_row3_col3, #T_53562_row3_col4, #T_53562_row3_col5, #T_53562_row3_col6, #T_53562_row3_col7, #T_53562_row4_col0, #T_53562_row4_col1, #T_53562_row4_col2, #T_53562_row4_col3, #T_53562_row4_col4, #T_53562_row4_col5, #T_53562_row4_col6, #T_53562_row4_col7, #T_53562_row5_col0, #T_53562_row5_col1, #T_53562_row5_col2, #T_53562_row5_col3, #T_53562_row5_col4, #T_53562_row5_col5, #T_53562_row5_col6, #T_53562_row5_col7, #T_53562_row6_col0, #T_53562_row6_col1, #T_53562_row6_col2, #T_53562_row6_col3, #T_53562_row6_col4, #T_53562_row6_col5, #T_53562_row6_col6, #T_53562_row6_col7, #T_53562_row7_col0, #T_53562_row7_col1, #T_53562_row7_col2, #T_53562_row7_col3, #T_53562_row7_col4, #T_53562_row7_col5, #T_53562_row7_col6, #T_53562_row7_col7, #T_53562_row8_col0, #T_53562_row8_col1, #T_53562_row8_col2, #T_53562_row8_col3, #T_53562_row8_col4, #T_53562_row8_col5, #T_53562_row8_col6, #T_53562_row8_col7, #T_53562_row9_col0, #T_53562_row9_col1, #T_53562_row9_col2, #T_53562_row9_col3, #T_53562_row9_col4, #T_53562_row9_col5, #T_53562_row9_col6, #T_53562_row9_col7, #T_53562_row10_col0, #T_53562_row10_col1, #T_53562_row10_col2, #T_53562_row10_col3, #T_53562_row10_col4, #T_53562_row10_col5, #T_53562_row10_col6, #T_53562_row10_col7, #T_53562_row11_col0, #T_53562_row11_col1, #T_53562_row11_col2, #T_53562_row11_col4, #T_53562_row11_col6, #T_53562_row11_col7, #T_53562_row12_col0, #T_53562_row12_col1, #T_53562_row12_col2, #T_53562_row12_col3, #T_53562_row12_col5, #T_53562_row12_col6, #T_53562_row13_col0, #T_53562_row13_col1, #T_53562_row13_col2, #T_53562_row13_col3, #T_53562_row13_col4, #T_53562_row13_col5, #T_53562_row13_col6, #T_53562_row13_col7 {\n",
       "  text-align: left;\n",
       "}\n",
       "#T_53562_row0_col1, #T_53562_row0_col2, #T_53562_row0_col6, #T_53562_row11_col3, #T_53562_row11_col5, #T_53562_row12_col4, #T_53562_row12_col7 {\n",
       "  text-align: left;\n",
       "  background-color: yellow;\n",
       "}\n",
       "#T_53562_row0_col8, #T_53562_row1_col8, #T_53562_row2_col8, #T_53562_row3_col8, #T_53562_row4_col8, #T_53562_row5_col8, #T_53562_row6_col8, #T_53562_row7_col8, #T_53562_row8_col8, #T_53562_row9_col8, #T_53562_row10_col8, #T_53562_row12_col8, #T_53562_row13_col8 {\n",
       "  text-align: left;\n",
       "  background-color: lightgrey;\n",
       "}\n",
       "#T_53562_row11_col8 {\n",
       "  text-align: left;\n",
       "  background-color: yellow;\n",
       "  background-color: lightgrey;\n",
       "}\n",
       "</style>\n",
       "<table id=\"T_53562\">\n",
       "  <thead>\n",
       "    <tr>\n",
       "      <th class=\"blank level0\" >&nbsp;</th>\n",
       "      <th id=\"T_53562_level0_col0\" class=\"col_heading level0 col0\" >Model</th>\n",
       "      <th id=\"T_53562_level0_col1\" class=\"col_heading level0 col1\" >Accuracy</th>\n",
       "      <th id=\"T_53562_level0_col2\" class=\"col_heading level0 col2\" >AUC</th>\n",
       "      <th id=\"T_53562_level0_col3\" class=\"col_heading level0 col3\" >Recall</th>\n",
       "      <th id=\"T_53562_level0_col4\" class=\"col_heading level0 col4\" >Prec.</th>\n",
       "      <th id=\"T_53562_level0_col5\" class=\"col_heading level0 col5\" >F1</th>\n",
       "      <th id=\"T_53562_level0_col6\" class=\"col_heading level0 col6\" >Kappa</th>\n",
       "      <th id=\"T_53562_level0_col7\" class=\"col_heading level0 col7\" >MCC</th>\n",
       "      <th id=\"T_53562_level0_col8\" class=\"col_heading level0 col8\" >TT (Sec)</th>\n",
       "    </tr>\n",
       "  </thead>\n",
       "  <tbody>\n",
       "    <tr>\n",
       "      <th id=\"T_53562_level0_row0\" class=\"row_heading level0 row0\" >gbc</th>\n",
       "      <td id=\"T_53562_row0_col0\" class=\"data row0 col0\" >Gradient Boosting Classifier</td>\n",
       "      <td id=\"T_53562_row0_col1\" class=\"data row0 col1\" >0.6721</td>\n",
       "      <td id=\"T_53562_row0_col2\" class=\"data row0 col2\" >0.7404</td>\n",
       "      <td id=\"T_53562_row0_col3\" class=\"data row0 col3\" >0.5513</td>\n",
       "      <td id=\"T_53562_row0_col4\" class=\"data row0 col4\" >0.7849</td>\n",
       "      <td id=\"T_53562_row0_col5\" class=\"data row0 col5\" >0.6476</td>\n",
       "      <td id=\"T_53562_row0_col6\" class=\"data row0 col6\" >0.3581</td>\n",
       "      <td id=\"T_53562_row0_col7\" class=\"data row0 col7\" >0.3778</td>\n",
       "      <td id=\"T_53562_row0_col8\" class=\"data row0 col8\" >0.1730</td>\n",
       "    </tr>\n",
       "    <tr>\n",
       "      <th id=\"T_53562_level0_row1\" class=\"row_heading level0 row1\" >lda</th>\n",
       "      <td id=\"T_53562_row1_col0\" class=\"data row1 col0\" >Linear Discriminant Analysis</td>\n",
       "      <td id=\"T_53562_row1_col1\" class=\"data row1 col1\" >0.6707</td>\n",
       "      <td id=\"T_53562_row1_col2\" class=\"data row1 col2\" >0.7397</td>\n",
       "      <td id=\"T_53562_row1_col3\" class=\"data row1 col3\" >0.5913</td>\n",
       "      <td id=\"T_53562_row1_col4\" class=\"data row1 col4\" >0.7536</td>\n",
       "      <td id=\"T_53562_row1_col5\" class=\"data row1 col5\" >0.6626</td>\n",
       "      <td id=\"T_53562_row1_col6\" class=\"data row1 col6\" >0.3501</td>\n",
       "      <td id=\"T_53562_row1_col7\" class=\"data row1 col7\" >0.3600</td>\n",
       "      <td id=\"T_53562_row1_col8\" class=\"data row1 col8\" >0.0210</td>\n",
       "    </tr>\n",
       "    <tr>\n",
       "      <th id=\"T_53562_level0_row2\" class=\"row_heading level0 row2\" >lr</th>\n",
       "      <td id=\"T_53562_row2_col0\" class=\"data row2 col0\" >Logistic Regression</td>\n",
       "      <td id=\"T_53562_row2_col1\" class=\"data row2 col1\" >0.6707</td>\n",
       "      <td id=\"T_53562_row2_col2\" class=\"data row2 col2\" >0.7385</td>\n",
       "      <td id=\"T_53562_row2_col3\" class=\"data row2 col3\" >0.5859</td>\n",
       "      <td id=\"T_53562_row2_col4\" class=\"data row2 col4\" >0.7570</td>\n",
       "      <td id=\"T_53562_row2_col5\" class=\"data row2 col5\" >0.6604</td>\n",
       "      <td id=\"T_53562_row2_col6\" class=\"data row2 col6\" >0.3506</td>\n",
       "      <td id=\"T_53562_row2_col7\" class=\"data row2 col7\" >0.3616</td>\n",
       "      <td id=\"T_53562_row2_col8\" class=\"data row2 col8\" >0.4480</td>\n",
       "    </tr>\n",
       "    <tr>\n",
       "      <th id=\"T_53562_level0_row3\" class=\"row_heading level0 row3\" >ada</th>\n",
       "      <td id=\"T_53562_row3_col0\" class=\"data row3 col0\" >Ada Boost Classifier</td>\n",
       "      <td id=\"T_53562_row3_col1\" class=\"data row3 col1\" >0.6700</td>\n",
       "      <td id=\"T_53562_row3_col2\" class=\"data row3 col2\" >0.7377</td>\n",
       "      <td id=\"T_53562_row3_col3\" class=\"data row3 col3\" >0.5709</td>\n",
       "      <td id=\"T_53562_row3_col4\" class=\"data row3 col4\" >0.7661</td>\n",
       "      <td id=\"T_53562_row3_col5\" class=\"data row3 col5\" >0.6540</td>\n",
       "      <td id=\"T_53562_row3_col6\" class=\"data row3 col6\" >0.3512</td>\n",
       "      <td id=\"T_53562_row3_col7\" class=\"data row3 col7\" >0.3653</td>\n",
       "      <td id=\"T_53562_row3_col8\" class=\"data row3 col8\" >0.0760</td>\n",
       "    </tr>\n",
       "    <tr>\n",
       "      <th id=\"T_53562_level0_row4\" class=\"row_heading level0 row4\" >lightgbm</th>\n",
       "      <td id=\"T_53562_row4_col0\" class=\"data row4 col0\" >Light Gradient Boosting Machine</td>\n",
       "      <td id=\"T_53562_row4_col1\" class=\"data row4 col1\" >0.6689</td>\n",
       "      <td id=\"T_53562_row4_col2\" class=\"data row4 col2\" >0.7360</td>\n",
       "      <td id=\"T_53562_row4_col3\" class=\"data row4 col3\" >0.5820</td>\n",
       "      <td id=\"T_53562_row4_col4\" class=\"data row4 col4\" >0.7567</td>\n",
       "      <td id=\"T_53562_row4_col5\" class=\"data row4 col5\" >0.6577</td>\n",
       "      <td id=\"T_53562_row4_col6\" class=\"data row4 col6\" >0.3475</td>\n",
       "      <td id=\"T_53562_row4_col7\" class=\"data row4 col7\" >0.3590</td>\n",
       "      <td id=\"T_53562_row4_col8\" class=\"data row4 col8\" >0.0370</td>\n",
       "    </tr>\n",
       "    <tr>\n",
       "      <th id=\"T_53562_level0_row5\" class=\"row_heading level0 row5\" >nb</th>\n",
       "      <td id=\"T_53562_row5_col0\" class=\"data row5 col0\" >Naive Bayes</td>\n",
       "      <td id=\"T_53562_row5_col1\" class=\"data row5 col1\" >0.6703</td>\n",
       "      <td id=\"T_53562_row5_col2\" class=\"data row5 col2\" >0.7356</td>\n",
       "      <td id=\"T_53562_row5_col3\" class=\"data row5 col3\" >0.5945</td>\n",
       "      <td id=\"T_53562_row5_col4\" class=\"data row5 col4\" >0.7509</td>\n",
       "      <td id=\"T_53562_row5_col5\" class=\"data row5 col5\" >0.6635</td>\n",
       "      <td id=\"T_53562_row5_col6\" class=\"data row5 col6\" >0.3488</td>\n",
       "      <td id=\"T_53562_row5_col7\" class=\"data row5 col7\" >0.3581</td>\n",
       "      <td id=\"T_53562_row5_col8\" class=\"data row5 col8\" >0.0160</td>\n",
       "    </tr>\n",
       "    <tr>\n",
       "      <th id=\"T_53562_level0_row6\" class=\"row_heading level0 row6\" >rf</th>\n",
       "      <td id=\"T_53562_row6_col0\" class=\"data row6 col0\" >Random Forest Classifier</td>\n",
       "      <td id=\"T_53562_row6_col1\" class=\"data row6 col1\" >0.6434</td>\n",
       "      <td id=\"T_53562_row6_col2\" class=\"data row6 col2\" >0.7054</td>\n",
       "      <td id=\"T_53562_row6_col3\" class=\"data row6 col3\" >0.6501</td>\n",
       "      <td id=\"T_53562_row6_col4\" class=\"data row6 col4\" >0.6827</td>\n",
       "      <td id=\"T_53562_row6_col5\" class=\"data row6 col5\" >0.6659</td>\n",
       "      <td id=\"T_53562_row6_col6\" class=\"data row6 col6\" >0.2840</td>\n",
       "      <td id=\"T_53562_row6_col7\" class=\"data row6 col7\" >0.2844</td>\n",
       "      <td id=\"T_53562_row6_col8\" class=\"data row6 col8\" >0.1640</td>\n",
       "    </tr>\n",
       "    <tr>\n",
       "      <th id=\"T_53562_level0_row7\" class=\"row_heading level0 row7\" >et</th>\n",
       "      <td id=\"T_53562_row7_col0\" class=\"data row7 col0\" >Extra Trees Classifier</td>\n",
       "      <td id=\"T_53562_row7_col1\" class=\"data row7 col1\" >0.6480</td>\n",
       "      <td id=\"T_53562_row7_col2\" class=\"data row7 col2\" >0.6988</td>\n",
       "      <td id=\"T_53562_row7_col3\" class=\"data row7 col3\" >0.6220</td>\n",
       "      <td id=\"T_53562_row7_col4\" class=\"data row7 col4\" >0.7007</td>\n",
       "      <td id=\"T_53562_row7_col5\" class=\"data row7 col5\" >0.6589</td>\n",
       "      <td id=\"T_53562_row7_col6\" class=\"data row7 col6\" >0.2978</td>\n",
       "      <td id=\"T_53562_row7_col7\" class=\"data row7 col7\" >0.3001</td>\n",
       "      <td id=\"T_53562_row7_col8\" class=\"data row7 col8\" >0.1400</td>\n",
       "    </tr>\n",
       "    <tr>\n",
       "      <th id=\"T_53562_level0_row8\" class=\"row_heading level0 row8\" >dt</th>\n",
       "      <td id=\"T_53562_row8_col0\" class=\"data row8 col0\" >Decision Tree Classifier</td>\n",
       "      <td id=\"T_53562_row8_col1\" class=\"data row8 col1\" >0.6478</td>\n",
       "      <td id=\"T_53562_row8_col2\" class=\"data row8 col2\" >0.6955</td>\n",
       "      <td id=\"T_53562_row8_col3\" class=\"data row8 col3\" >0.6211</td>\n",
       "      <td id=\"T_53562_row8_col4\" class=\"data row8 col4\" >0.7008</td>\n",
       "      <td id=\"T_53562_row8_col5\" class=\"data row8 col5\" >0.6585</td>\n",
       "      <td id=\"T_53562_row8_col6\" class=\"data row8 col6\" >0.2976</td>\n",
       "      <td id=\"T_53562_row8_col7\" class=\"data row8 col7\" >0.2999</td>\n",
       "      <td id=\"T_53562_row8_col8\" class=\"data row8 col8\" >0.0200</td>\n",
       "    </tr>\n",
       "    <tr>\n",
       "      <th id=\"T_53562_level0_row9\" class=\"row_heading level0 row9\" >knn</th>\n",
       "      <td id=\"T_53562_row9_col0\" class=\"data row9 col0\" >K Neighbors Classifier</td>\n",
       "      <td id=\"T_53562_row9_col1\" class=\"data row9 col1\" >0.6374</td>\n",
       "      <td id=\"T_53562_row9_col2\" class=\"data row9 col2\" >0.6884</td>\n",
       "      <td id=\"T_53562_row9_col3\" class=\"data row9 col3\" >0.6575</td>\n",
       "      <td id=\"T_53562_row9_col4\" class=\"data row9 col4\" >0.6722</td>\n",
       "      <td id=\"T_53562_row9_col5\" class=\"data row9 col5\" >0.6647</td>\n",
       "      <td id=\"T_53562_row9_col6\" class=\"data row9 col6\" >0.2700</td>\n",
       "      <td id=\"T_53562_row9_col7\" class=\"data row9 col7\" >0.2701</td>\n",
       "      <td id=\"T_53562_row9_col8\" class=\"data row9 col8\" >2.2450</td>\n",
       "    </tr>\n",
       "    <tr>\n",
       "      <th id=\"T_53562_level0_row10\" class=\"row_heading level0 row10\" >qda</th>\n",
       "      <td id=\"T_53562_row10_col0\" class=\"data row10 col0\" >Quadratic Discriminant Analysis</td>\n",
       "      <td id=\"T_53562_row10_col1\" class=\"data row10 col1\" >0.5331</td>\n",
       "      <td id=\"T_53562_row10_col2\" class=\"data row10 col2\" >0.5219</td>\n",
       "      <td id=\"T_53562_row10_col3\" class=\"data row10 col3\" >0.6289</td>\n",
       "      <td id=\"T_53562_row10_col4\" class=\"data row10 col4\" >0.5643</td>\n",
       "      <td id=\"T_53562_row10_col5\" class=\"data row10 col5\" >0.5837</td>\n",
       "      <td id=\"T_53562_row10_col6\" class=\"data row10 col6\" >0.0480</td>\n",
       "      <td id=\"T_53562_row10_col7\" class=\"data row10 col7\" >0.0548</td>\n",
       "      <td id=\"T_53562_row10_col8\" class=\"data row10 col8\" >0.0160</td>\n",
       "    </tr>\n",
       "    <tr>\n",
       "      <th id=\"T_53562_level0_row11\" class=\"row_heading level0 row11\" >dummy</th>\n",
       "      <td id=\"T_53562_row11_col0\" class=\"data row11 col0\" >Dummy Classifier</td>\n",
       "      <td id=\"T_53562_row11_col1\" class=\"data row11 col1\" >0.5468</td>\n",
       "      <td id=\"T_53562_row11_col2\" class=\"data row11 col2\" >0.5000</td>\n",
       "      <td id=\"T_53562_row11_col3\" class=\"data row11 col3\" >1.0000</td>\n",
       "      <td id=\"T_53562_row11_col4\" class=\"data row11 col4\" >0.5468</td>\n",
       "      <td id=\"T_53562_row11_col5\" class=\"data row11 col5\" >0.7070</td>\n",
       "      <td id=\"T_53562_row11_col6\" class=\"data row11 col6\" >0.0000</td>\n",
       "      <td id=\"T_53562_row11_col7\" class=\"data row11 col7\" >0.0000</td>\n",
       "      <td id=\"T_53562_row11_col8\" class=\"data row11 col8\" >0.0120</td>\n",
       "    </tr>\n",
       "    <tr>\n",
       "      <th id=\"T_53562_level0_row12\" class=\"row_heading level0 row12\" >svm</th>\n",
       "      <td id=\"T_53562_row12_col0\" class=\"data row12 col0\" >SVM - Linear Kernel</td>\n",
       "      <td id=\"T_53562_row12_col1\" class=\"data row12 col1\" >0.6683</td>\n",
       "      <td id=\"T_53562_row12_col2\" class=\"data row12 col2\" >0.0000</td>\n",
       "      <td id=\"T_53562_row12_col3\" class=\"data row12 col3\" >0.4931</td>\n",
       "      <td id=\"T_53562_row12_col4\" class=\"data row12 col4\" >0.8318</td>\n",
       "      <td id=\"T_53562_row12_col5\" class=\"data row12 col5\" >0.6190</td>\n",
       "      <td id=\"T_53562_row12_col6\" class=\"data row12 col6\" >0.3577</td>\n",
       "      <td id=\"T_53562_row12_col7\" class=\"data row12 col7\" >0.3964</td>\n",
       "      <td id=\"T_53562_row12_col8\" class=\"data row12 col8\" >0.0450</td>\n",
       "    </tr>\n",
       "    <tr>\n",
       "      <th id=\"T_53562_level0_row13\" class=\"row_heading level0 row13\" >ridge</th>\n",
       "      <td id=\"T_53562_row13_col0\" class=\"data row13 col0\" >Ridge Classifier</td>\n",
       "      <td id=\"T_53562_row13_col1\" class=\"data row13 col1\" >0.6707</td>\n",
       "      <td id=\"T_53562_row13_col2\" class=\"data row13 col2\" >0.0000</td>\n",
       "      <td id=\"T_53562_row13_col3\" class=\"data row13 col3\" >0.5915</td>\n",
       "      <td id=\"T_53562_row13_col4\" class=\"data row13 col4\" >0.7533</td>\n",
       "      <td id=\"T_53562_row13_col5\" class=\"data row13 col5\" >0.6626</td>\n",
       "      <td id=\"T_53562_row13_col6\" class=\"data row13 col6\" >0.3499</td>\n",
       "      <td id=\"T_53562_row13_col7\" class=\"data row13 col7\" >0.3598</td>\n",
       "      <td id=\"T_53562_row13_col8\" class=\"data row13 col8\" >0.0150</td>\n",
       "    </tr>\n",
       "  </tbody>\n",
       "</table>\n"
      ],
      "text/plain": [
       "<pandas.io.formats.style.Styler at 0x1d49e05b340>"
      ]
     },
     "metadata": {},
     "output_type": "display_data"
    },
    {
     "data": {
      "text/html": [],
      "text/plain": [
       "<IPython.core.display.HTML object>"
      ]
     },
     "metadata": {},
     "output_type": "display_data"
    }
   ],
   "source": [
    "best_3 = compare_models(sort = 'AUC', n_select = 3)"
   ]
  },
  {
   "cell_type": "markdown",
   "id": "59000eb8",
   "metadata": {},
   "source": [
    "# 모델 앙상블 (Model Ensemble)"
   ]
  },
  {
   "cell_type": "code",
   "execution_count": 325,
   "id": "6fc19285",
   "metadata": {},
   "outputs": [
    {
     "data": {
      "text/html": [],
      "text/plain": [
       "<IPython.core.display.HTML object>"
      ]
     },
     "metadata": {},
     "output_type": "display_data"
    },
    {
     "data": {
      "text/html": [
       "<style type=\"text/css\">\n",
       "#T_857d9_row5_col0, #T_857d9_row5_col1, #T_857d9_row5_col2, #T_857d9_row5_col3, #T_857d9_row5_col4, #T_857d9_row5_col5, #T_857d9_row5_col6 {\n",
       "  background: yellow;\n",
       "}\n",
       "</style>\n",
       "<table id=\"T_857d9\">\n",
       "  <thead>\n",
       "    <tr>\n",
       "      <th class=\"blank level0\" >&nbsp;</th>\n",
       "      <th id=\"T_857d9_level0_col0\" class=\"col_heading level0 col0\" >Accuracy</th>\n",
       "      <th id=\"T_857d9_level0_col1\" class=\"col_heading level0 col1\" >AUC</th>\n",
       "      <th id=\"T_857d9_level0_col2\" class=\"col_heading level0 col2\" >Recall</th>\n",
       "      <th id=\"T_857d9_level0_col3\" class=\"col_heading level0 col3\" >Prec.</th>\n",
       "      <th id=\"T_857d9_level0_col4\" class=\"col_heading level0 col4\" >F1</th>\n",
       "      <th id=\"T_857d9_level0_col5\" class=\"col_heading level0 col5\" >Kappa</th>\n",
       "      <th id=\"T_857d9_level0_col6\" class=\"col_heading level0 col6\" >MCC</th>\n",
       "    </tr>\n",
       "    <tr>\n",
       "      <th class=\"index_name level0\" >Fold</th>\n",
       "      <th class=\"blank col0\" >&nbsp;</th>\n",
       "      <th class=\"blank col1\" >&nbsp;</th>\n",
       "      <th class=\"blank col2\" >&nbsp;</th>\n",
       "      <th class=\"blank col3\" >&nbsp;</th>\n",
       "      <th class=\"blank col4\" >&nbsp;</th>\n",
       "      <th class=\"blank col5\" >&nbsp;</th>\n",
       "      <th class=\"blank col6\" >&nbsp;</th>\n",
       "    </tr>\n",
       "  </thead>\n",
       "  <tbody>\n",
       "    <tr>\n",
       "      <th id=\"T_857d9_level0_row0\" class=\"row_heading level0 row0\" >0</th>\n",
       "      <td id=\"T_857d9_row0_col0\" class=\"data row0 col0\" >0.6748</td>\n",
       "      <td id=\"T_857d9_row0_col1\" class=\"data row0 col1\" >0.7411</td>\n",
       "      <td id=\"T_857d9_row0_col2\" class=\"data row0 col2\" >0.5881</td>\n",
       "      <td id=\"T_857d9_row0_col3\" class=\"data row0 col3\" >0.7629</td>\n",
       "      <td id=\"T_857d9_row0_col4\" class=\"data row0 col4\" >0.6642</td>\n",
       "      <td id=\"T_857d9_row0_col5\" class=\"data row0 col5\" >0.3591</td>\n",
       "      <td id=\"T_857d9_row0_col6\" class=\"data row0 col6\" >0.3706</td>\n",
       "    </tr>\n",
       "    <tr>\n",
       "      <th id=\"T_857d9_level0_row1\" class=\"row_heading level0 row1\" >1</th>\n",
       "      <td id=\"T_857d9_row1_col0\" class=\"data row1 col0\" >0.6627</td>\n",
       "      <td id=\"T_857d9_row1_col1\" class=\"data row1 col1\" >0.7331</td>\n",
       "      <td id=\"T_857d9_row1_col2\" class=\"data row1 col2\" >0.5754</td>\n",
       "      <td id=\"T_857d9_row1_col3\" class=\"data row1 col3\" >0.7496</td>\n",
       "      <td id=\"T_857d9_row1_col4\" class=\"data row1 col4\" >0.6511</td>\n",
       "      <td id=\"T_857d9_row1_col5\" class=\"data row1 col5\" >0.3355</td>\n",
       "      <td id=\"T_857d9_row1_col6\" class=\"data row1 col6\" >0.3465</td>\n",
       "    </tr>\n",
       "    <tr>\n",
       "      <th id=\"T_857d9_level0_row2\" class=\"row_heading level0 row2\" >2</th>\n",
       "      <td id=\"T_857d9_row2_col0\" class=\"data row2 col0\" >0.6639</td>\n",
       "      <td id=\"T_857d9_row2_col1\" class=\"data row2 col1\" >0.7353</td>\n",
       "      <td id=\"T_857d9_row2_col2\" class=\"data row2 col2\" >0.5700</td>\n",
       "      <td id=\"T_857d9_row2_col3\" class=\"data row2 col3\" >0.7555</td>\n",
       "      <td id=\"T_857d9_row2_col4\" class=\"data row2 col4\" >0.6498</td>\n",
       "      <td id=\"T_857d9_row2_col5\" class=\"data row2 col5\" >0.3387</td>\n",
       "      <td id=\"T_857d9_row2_col6\" class=\"data row2 col6\" >0.3512</td>\n",
       "    </tr>\n",
       "    <tr>\n",
       "      <th id=\"T_857d9_level0_row3\" class=\"row_heading level0 row3\" >3</th>\n",
       "      <td id=\"T_857d9_row3_col0\" class=\"data row3 col0\" >0.6773</td>\n",
       "      <td id=\"T_857d9_row3_col1\" class=\"data row3 col1\" >0.7475</td>\n",
       "      <td id=\"T_857d9_row3_col2\" class=\"data row3 col2\" >0.5851</td>\n",
       "      <td id=\"T_857d9_row3_col3\" class=\"data row3 col3\" >0.7694</td>\n",
       "      <td id=\"T_857d9_row3_col4\" class=\"data row3 col4\" >0.6647</td>\n",
       "      <td id=\"T_857d9_row3_col5\" class=\"data row3 col5\" >0.3646</td>\n",
       "      <td id=\"T_857d9_row3_col6\" class=\"data row3 col6\" >0.3773</td>\n",
       "    </tr>\n",
       "    <tr>\n",
       "      <th id=\"T_857d9_level0_row4\" class=\"row_heading level0 row4\" >4</th>\n",
       "      <td id=\"T_857d9_row4_col0\" class=\"data row4 col0\" >0.6730</td>\n",
       "      <td id=\"T_857d9_row4_col1\" class=\"data row4 col1\" >0.7423</td>\n",
       "      <td id=\"T_857d9_row4_col2\" class=\"data row4 col2\" >0.5578</td>\n",
       "      <td id=\"T_857d9_row4_col3\" class=\"data row4 col3\" >0.7817</td>\n",
       "      <td id=\"T_857d9_row4_col4\" class=\"data row4 col4\" >0.6510</td>\n",
       "      <td id=\"T_857d9_row4_col5\" class=\"data row4 col5\" >0.3593</td>\n",
       "      <td id=\"T_857d9_row4_col6\" class=\"data row4 col6\" >0.3775</td>\n",
       "    </tr>\n",
       "    <tr>\n",
       "      <th id=\"T_857d9_level0_row5\" class=\"row_heading level0 row5\" >Mean</th>\n",
       "      <td id=\"T_857d9_row5_col0\" class=\"data row5 col0\" >0.6704</td>\n",
       "      <td id=\"T_857d9_row5_col1\" class=\"data row5 col1\" >0.7399</td>\n",
       "      <td id=\"T_857d9_row5_col2\" class=\"data row5 col2\" >0.5753</td>\n",
       "      <td id=\"T_857d9_row5_col3\" class=\"data row5 col3\" >0.7638</td>\n",
       "      <td id=\"T_857d9_row5_col4\" class=\"data row5 col4\" >0.6562</td>\n",
       "      <td id=\"T_857d9_row5_col5\" class=\"data row5 col5\" >0.3514</td>\n",
       "      <td id=\"T_857d9_row5_col6\" class=\"data row5 col6\" >0.3646</td>\n",
       "    </tr>\n",
       "    <tr>\n",
       "      <th id=\"T_857d9_level0_row6\" class=\"row_heading level0 row6\" >Std</th>\n",
       "      <td id=\"T_857d9_row6_col0\" class=\"data row6 col0\" >0.0059</td>\n",
       "      <td id=\"T_857d9_row6_col1\" class=\"data row6 col1\" >0.0051</td>\n",
       "      <td id=\"T_857d9_row6_col2\" class=\"data row6 col2\" >0.0109</td>\n",
       "      <td id=\"T_857d9_row6_col3\" class=\"data row6 col3\" >0.0111</td>\n",
       "      <td id=\"T_857d9_row6_col4\" class=\"data row6 col4\" >0.0068</td>\n",
       "      <td id=\"T_857d9_row6_col5\" class=\"data row6 col5\" >0.0119</td>\n",
       "      <td id=\"T_857d9_row6_col6\" class=\"data row6 col6\" >0.0132</td>\n",
       "    </tr>\n",
       "  </tbody>\n",
       "</table>\n"
      ],
      "text/plain": [
       "<pandas.io.formats.style.Styler at 0x1d4a8ae8190>"
      ]
     },
     "metadata": {},
     "output_type": "display_data"
    },
    {
     "data": {
      "text/html": [],
      "text/plain": [
       "<IPython.core.display.HTML object>"
      ]
     },
     "metadata": {},
     "output_type": "display_data"
    }
   ],
   "source": [
    "blended = blend_models(estimator_list = best_3, fold = 5, method = 'soft')"
   ]
  },
  {
   "cell_type": "markdown",
   "id": "bdd4eaf0",
   "metadata": {},
   "source": [
    "# 모델 예측 (Prediction)"
   ]
  },
  {
   "cell_type": "code",
   "execution_count": 326,
   "id": "dcdbf28f",
   "metadata": {},
   "outputs": [
    {
     "data": {
      "text/html": [
       "<style type=\"text/css\">\n",
       "</style>\n",
       "<table id=\"T_d5314\">\n",
       "  <thead>\n",
       "    <tr>\n",
       "      <th class=\"blank level0\" >&nbsp;</th>\n",
       "      <th id=\"T_d5314_level0_col0\" class=\"col_heading level0 col0\" >Model</th>\n",
       "      <th id=\"T_d5314_level0_col1\" class=\"col_heading level0 col1\" >Accuracy</th>\n",
       "      <th id=\"T_d5314_level0_col2\" class=\"col_heading level0 col2\" >AUC</th>\n",
       "      <th id=\"T_d5314_level0_col3\" class=\"col_heading level0 col3\" >Recall</th>\n",
       "      <th id=\"T_d5314_level0_col4\" class=\"col_heading level0 col4\" >Prec.</th>\n",
       "      <th id=\"T_d5314_level0_col5\" class=\"col_heading level0 col5\" >F1</th>\n",
       "      <th id=\"T_d5314_level0_col6\" class=\"col_heading level0 col6\" >Kappa</th>\n",
       "      <th id=\"T_d5314_level0_col7\" class=\"col_heading level0 col7\" >MCC</th>\n",
       "    </tr>\n",
       "  </thead>\n",
       "  <tbody>\n",
       "    <tr>\n",
       "      <th id=\"T_d5314_level0_row0\" class=\"row_heading level0 row0\" >0</th>\n",
       "      <td id=\"T_d5314_row0_col0\" class=\"data row0 col0\" >Voting Classifier</td>\n",
       "      <td id=\"T_d5314_row0_col1\" class=\"data row0 col1\" >0.6685</td>\n",
       "      <td id=\"T_d5314_row0_col2\" class=\"data row0 col2\" >0.7358</td>\n",
       "      <td id=\"T_d5314_row0_col3\" class=\"data row0 col3\" >0</td>\n",
       "      <td id=\"T_d5314_row0_col4\" class=\"data row0 col4\" >0</td>\n",
       "      <td id=\"T_d5314_row0_col5\" class=\"data row0 col5\" >0</td>\n",
       "      <td id=\"T_d5314_row0_col6\" class=\"data row0 col6\" >0.3474</td>\n",
       "      <td id=\"T_d5314_row0_col7\" class=\"data row0 col7\" >0.3597</td>\n",
       "    </tr>\n",
       "  </tbody>\n",
       "</table>\n"
      ],
      "text/plain": [
       "<pandas.io.formats.style.Styler at 0x1d4adae0190>"
      ]
     },
     "metadata": {},
     "output_type": "display_data"
    }
   ],
   "source": [
    "pred_holdout = predict_model(blended)"
   ]
  },
  {
   "cell_type": "markdown",
   "id": "63e0eb80",
   "metadata": {},
   "source": [
    "# 전체 데이터에 대한 재학습 (Re-training the model on whole data)"
   ]
  },
  {
   "cell_type": "code",
   "execution_count": 327,
   "id": "1baef9de",
   "metadata": {},
   "outputs": [],
   "source": [
    "final_model = finalize_model(blended)"
   ]
  },
  {
   "cell_type": "code",
   "execution_count": 328,
   "id": "dc174b95",
   "metadata": {},
   "outputs": [
    {
     "data": {
      "text/html": [
       "<style type=\"text/css\">\n",
       "</style>\n",
       "<table id=\"T_2dbd8\">\n",
       "  <thead>\n",
       "    <tr>\n",
       "      <th class=\"blank level0\" >&nbsp;</th>\n",
       "      <th id=\"T_2dbd8_level0_col0\" class=\"col_heading level0 col0\" >Model</th>\n",
       "      <th id=\"T_2dbd8_level0_col1\" class=\"col_heading level0 col1\" >Accuracy</th>\n",
       "      <th id=\"T_2dbd8_level0_col2\" class=\"col_heading level0 col2\" >AUC</th>\n",
       "      <th id=\"T_2dbd8_level0_col3\" class=\"col_heading level0 col3\" >Recall</th>\n",
       "      <th id=\"T_2dbd8_level0_col4\" class=\"col_heading level0 col4\" >Prec.</th>\n",
       "      <th id=\"T_2dbd8_level0_col5\" class=\"col_heading level0 col5\" >F1</th>\n",
       "      <th id=\"T_2dbd8_level0_col6\" class=\"col_heading level0 col6\" >Kappa</th>\n",
       "      <th id=\"T_2dbd8_level0_col7\" class=\"col_heading level0 col7\" >MCC</th>\n",
       "    </tr>\n",
       "  </thead>\n",
       "  <tbody>\n",
       "    <tr>\n",
       "      <th id=\"T_2dbd8_level0_row0\" class=\"row_heading level0 row0\" >0</th>\n",
       "      <td id=\"T_2dbd8_row0_col0\" class=\"data row0 col0\" >Voting Classifier</td>\n",
       "      <td id=\"T_2dbd8_row0_col1\" class=\"data row0 col1\" >0.6693</td>\n",
       "      <td id=\"T_2dbd8_row0_col2\" class=\"data row0 col2\" >0.7374</td>\n",
       "      <td id=\"T_2dbd8_row0_col3\" class=\"data row0 col3\" >0</td>\n",
       "      <td id=\"T_2dbd8_row0_col4\" class=\"data row0 col4\" >0</td>\n",
       "      <td id=\"T_2dbd8_row0_col5\" class=\"data row0 col5\" >0</td>\n",
       "      <td id=\"T_2dbd8_row0_col6\" class=\"data row0 col6\" >0.3490</td>\n",
       "      <td id=\"T_2dbd8_row0_col7\" class=\"data row0 col7\" >0.3613</td>\n",
       "    </tr>\n",
       "  </tbody>\n",
       "</table>\n"
      ],
      "text/plain": [
       "<pandas.io.formats.style.Styler at 0x1d4ad7d9eb0>"
      ]
     },
     "metadata": {},
     "output_type": "display_data"
    }
   ],
   "source": [
    "pred_holdout = predict_model(final_model)"
   ]
  },
  {
   "cell_type": "markdown",
   "id": "9f77f484",
   "metadata": {},
   "source": [
    "# 대회용 test set에 대한 예측 (Predicting on test set for the competition)"
   ]
  },
  {
   "cell_type": "code",
   "execution_count": 329,
   "id": "087eee5b",
   "metadata": {},
   "outputs": [
    {
     "name": "stdout",
     "output_type": "stream",
     "text": [
      "train : (45532, 18)\n",
      "test : (11383, 17)\n"
     ]
    }
   ],
   "source": [
    "print(\"train :\",train.shape)\n",
    "print(\"test :\",test.shape)"
   ]
  },
  {
   "cell_type": "code",
   "execution_count": 330,
   "id": "790ead68",
   "metadata": {
    "scrolled": false
   },
   "outputs": [
    {
     "data": {
      "text/html": [],
      "text/plain": [
       "<IPython.core.display.HTML object>"
      ]
     },
     "metadata": {},
     "output_type": "display_data"
    },
    {
     "data": {
      "text/html": [
       "<div>\n",
       "<style scoped>\n",
       "    .dataframe tbody tr th:only-of-type {\n",
       "        vertical-align: middle;\n",
       "    }\n",
       "\n",
       "    .dataframe tbody tr th {\n",
       "        vertical-align: top;\n",
       "    }\n",
       "\n",
       "    .dataframe thead th {\n",
       "        text-align: right;\n",
       "    }\n",
       "</style>\n",
       "<table border=\"1\" class=\"dataframe\">\n",
       "  <thead>\n",
       "    <tr style=\"text-align: right;\">\n",
       "      <th></th>\n",
       "      <th>Mach_score</th>\n",
       "      <th>urban_0</th>\n",
       "      <th>urban_1</th>\n",
       "      <th>urban_2</th>\n",
       "      <th>urban_3</th>\n",
       "      <th>education_1</th>\n",
       "      <th>education_2</th>\n",
       "      <th>education_3</th>\n",
       "      <th>education_4</th>\n",
       "      <th>age_group_+70s</th>\n",
       "      <th>age_group_10s</th>\n",
       "      <th>age_group_20s</th>\n",
       "      <th>age_group_30s</th>\n",
       "      <th>age_group_40s</th>\n",
       "      <th>age_group_50s</th>\n",
       "      <th>age_group_60s</th>\n",
       "      <th>Label</th>\n",
       "      <th>Score</th>\n",
       "    </tr>\n",
       "  </thead>\n",
       "  <tbody>\n",
       "    <tr>\n",
       "      <th>0</th>\n",
       "      <td>2.45</td>\n",
       "      <td>0.0</td>\n",
       "      <td>0.0</td>\n",
       "      <td>1.0</td>\n",
       "      <td>0.0</td>\n",
       "      <td>0.0</td>\n",
       "      <td>1.0</td>\n",
       "      <td>0.0</td>\n",
       "      <td>0.0</td>\n",
       "      <td>0.0</td>\n",
       "      <td>1.0</td>\n",
       "      <td>0.0</td>\n",
       "      <td>0.0</td>\n",
       "      <td>0.0</td>\n",
       "      <td>0.0</td>\n",
       "      <td>0.0</td>\n",
       "      <td>2</td>\n",
       "      <td>0.7733</td>\n",
       "    </tr>\n",
       "    <tr>\n",
       "      <th>1</th>\n",
       "      <td>2.80</td>\n",
       "      <td>0.0</td>\n",
       "      <td>0.0</td>\n",
       "      <td>0.0</td>\n",
       "      <td>1.0</td>\n",
       "      <td>0.0</td>\n",
       "      <td>1.0</td>\n",
       "      <td>0.0</td>\n",
       "      <td>0.0</td>\n",
       "      <td>0.0</td>\n",
       "      <td>1.0</td>\n",
       "      <td>0.0</td>\n",
       "      <td>0.0</td>\n",
       "      <td>0.0</td>\n",
       "      <td>0.0</td>\n",
       "      <td>0.0</td>\n",
       "      <td>2</td>\n",
       "      <td>0.8160</td>\n",
       "    </tr>\n",
       "    <tr>\n",
       "      <th>2</th>\n",
       "      <td>3.55</td>\n",
       "      <td>0.0</td>\n",
       "      <td>1.0</td>\n",
       "      <td>0.0</td>\n",
       "      <td>0.0</td>\n",
       "      <td>0.0</td>\n",
       "      <td>0.0</td>\n",
       "      <td>1.0</td>\n",
       "      <td>0.0</td>\n",
       "      <td>0.0</td>\n",
       "      <td>0.0</td>\n",
       "      <td>0.0</td>\n",
       "      <td>1.0</td>\n",
       "      <td>0.0</td>\n",
       "      <td>0.0</td>\n",
       "      <td>0.0</td>\n",
       "      <td>1</td>\n",
       "      <td>0.6434</td>\n",
       "    </tr>\n",
       "    <tr>\n",
       "      <th>3</th>\n",
       "      <td>3.35</td>\n",
       "      <td>0.0</td>\n",
       "      <td>0.0</td>\n",
       "      <td>1.0</td>\n",
       "      <td>0.0</td>\n",
       "      <td>0.0</td>\n",
       "      <td>0.0</td>\n",
       "      <td>0.0</td>\n",
       "      <td>1.0</td>\n",
       "      <td>0.0</td>\n",
       "      <td>0.0</td>\n",
       "      <td>0.0</td>\n",
       "      <td>0.0</td>\n",
       "      <td>0.0</td>\n",
       "      <td>0.0</td>\n",
       "      <td>1.0</td>\n",
       "      <td>1</td>\n",
       "      <td>0.7710</td>\n",
       "    </tr>\n",
       "    <tr>\n",
       "      <th>4</th>\n",
       "      <td>2.90</td>\n",
       "      <td>0.0</td>\n",
       "      <td>0.0</td>\n",
       "      <td>1.0</td>\n",
       "      <td>0.0</td>\n",
       "      <td>0.0</td>\n",
       "      <td>1.0</td>\n",
       "      <td>0.0</td>\n",
       "      <td>0.0</td>\n",
       "      <td>0.0</td>\n",
       "      <td>1.0</td>\n",
       "      <td>0.0</td>\n",
       "      <td>0.0</td>\n",
       "      <td>0.0</td>\n",
       "      <td>0.0</td>\n",
       "      <td>0.0</td>\n",
       "      <td>2</td>\n",
       "      <td>0.7803</td>\n",
       "    </tr>\n",
       "    <tr>\n",
       "      <th>...</th>\n",
       "      <td>...</td>\n",
       "      <td>...</td>\n",
       "      <td>...</td>\n",
       "      <td>...</td>\n",
       "      <td>...</td>\n",
       "      <td>...</td>\n",
       "      <td>...</td>\n",
       "      <td>...</td>\n",
       "      <td>...</td>\n",
       "      <td>...</td>\n",
       "      <td>...</td>\n",
       "      <td>...</td>\n",
       "      <td>...</td>\n",
       "      <td>...</td>\n",
       "      <td>...</td>\n",
       "      <td>...</td>\n",
       "      <td>...</td>\n",
       "      <td>...</td>\n",
       "    </tr>\n",
       "    <tr>\n",
       "      <th>11378</th>\n",
       "      <td>3.20</td>\n",
       "      <td>1.0</td>\n",
       "      <td>0.0</td>\n",
       "      <td>0.0</td>\n",
       "      <td>0.0</td>\n",
       "      <td>0.0</td>\n",
       "      <td>0.0</td>\n",
       "      <td>1.0</td>\n",
       "      <td>0.0</td>\n",
       "      <td>0.0</td>\n",
       "      <td>0.0</td>\n",
       "      <td>1.0</td>\n",
       "      <td>0.0</td>\n",
       "      <td>0.0</td>\n",
       "      <td>0.0</td>\n",
       "      <td>0.0</td>\n",
       "      <td>1</td>\n",
       "      <td>0.6134</td>\n",
       "    </tr>\n",
       "    <tr>\n",
       "      <th>11379</th>\n",
       "      <td>4.55</td>\n",
       "      <td>0.0</td>\n",
       "      <td>0.0</td>\n",
       "      <td>1.0</td>\n",
       "      <td>0.0</td>\n",
       "      <td>0.0</td>\n",
       "      <td>1.0</td>\n",
       "      <td>0.0</td>\n",
       "      <td>0.0</td>\n",
       "      <td>0.0</td>\n",
       "      <td>1.0</td>\n",
       "      <td>0.0</td>\n",
       "      <td>0.0</td>\n",
       "      <td>0.0</td>\n",
       "      <td>0.0</td>\n",
       "      <td>0.0</td>\n",
       "      <td>2</td>\n",
       "      <td>0.7997</td>\n",
       "    </tr>\n",
       "    <tr>\n",
       "      <th>11380</th>\n",
       "      <td>3.15</td>\n",
       "      <td>0.0</td>\n",
       "      <td>1.0</td>\n",
       "      <td>0.0</td>\n",
       "      <td>0.0</td>\n",
       "      <td>0.0</td>\n",
       "      <td>0.0</td>\n",
       "      <td>0.0</td>\n",
       "      <td>1.0</td>\n",
       "      <td>0.0</td>\n",
       "      <td>0.0</td>\n",
       "      <td>0.0</td>\n",
       "      <td>1.0</td>\n",
       "      <td>0.0</td>\n",
       "      <td>0.0</td>\n",
       "      <td>0.0</td>\n",
       "      <td>1</td>\n",
       "      <td>0.6492</td>\n",
       "    </tr>\n",
       "    <tr>\n",
       "      <th>11381</th>\n",
       "      <td>3.05</td>\n",
       "      <td>0.0</td>\n",
       "      <td>0.0</td>\n",
       "      <td>1.0</td>\n",
       "      <td>0.0</td>\n",
       "      <td>0.0</td>\n",
       "      <td>1.0</td>\n",
       "      <td>0.0</td>\n",
       "      <td>0.0</td>\n",
       "      <td>0.0</td>\n",
       "      <td>0.0</td>\n",
       "      <td>0.0</td>\n",
       "      <td>0.0</td>\n",
       "      <td>1.0</td>\n",
       "      <td>0.0</td>\n",
       "      <td>0.0</td>\n",
       "      <td>1</td>\n",
       "      <td>0.5967</td>\n",
       "    </tr>\n",
       "    <tr>\n",
       "      <th>11382</th>\n",
       "      <td>3.40</td>\n",
       "      <td>0.0</td>\n",
       "      <td>0.0</td>\n",
       "      <td>0.0</td>\n",
       "      <td>1.0</td>\n",
       "      <td>0.0</td>\n",
       "      <td>0.0</td>\n",
       "      <td>0.0</td>\n",
       "      <td>1.0</td>\n",
       "      <td>0.0</td>\n",
       "      <td>0.0</td>\n",
       "      <td>1.0</td>\n",
       "      <td>0.0</td>\n",
       "      <td>0.0</td>\n",
       "      <td>0.0</td>\n",
       "      <td>0.0</td>\n",
       "      <td>1</td>\n",
       "      <td>0.5241</td>\n",
       "    </tr>\n",
       "  </tbody>\n",
       "</table>\n",
       "<p>11383 rows × 18 columns</p>\n",
       "</div>"
      ],
      "text/plain": [
       "       Mach_score  urban_0  urban_1  urban_2  urban_3  education_1  \\\n",
       "0            2.45      0.0      0.0      1.0      0.0          0.0   \n",
       "1            2.80      0.0      0.0      0.0      1.0          0.0   \n",
       "2            3.55      0.0      1.0      0.0      0.0          0.0   \n",
       "3            3.35      0.0      0.0      1.0      0.0          0.0   \n",
       "4            2.90      0.0      0.0      1.0      0.0          0.0   \n",
       "...           ...      ...      ...      ...      ...          ...   \n",
       "11378        3.20      1.0      0.0      0.0      0.0          0.0   \n",
       "11379        4.55      0.0      0.0      1.0      0.0          0.0   \n",
       "11380        3.15      0.0      1.0      0.0      0.0          0.0   \n",
       "11381        3.05      0.0      0.0      1.0      0.0          0.0   \n",
       "11382        3.40      0.0      0.0      0.0      1.0          0.0   \n",
       "\n",
       "       education_2  education_3  education_4  age_group_+70s  age_group_10s  \\\n",
       "0              1.0          0.0          0.0             0.0            1.0   \n",
       "1              1.0          0.0          0.0             0.0            1.0   \n",
       "2              0.0          1.0          0.0             0.0            0.0   \n",
       "3              0.0          0.0          1.0             0.0            0.0   \n",
       "4              1.0          0.0          0.0             0.0            1.0   \n",
       "...            ...          ...          ...             ...            ...   \n",
       "11378          0.0          1.0          0.0             0.0            0.0   \n",
       "11379          1.0          0.0          0.0             0.0            1.0   \n",
       "11380          0.0          0.0          1.0             0.0            0.0   \n",
       "11381          1.0          0.0          0.0             0.0            0.0   \n",
       "11382          0.0          0.0          1.0             0.0            0.0   \n",
       "\n",
       "       age_group_20s  age_group_30s  age_group_40s  age_group_50s  \\\n",
       "0                0.0            0.0            0.0            0.0   \n",
       "1                0.0            0.0            0.0            0.0   \n",
       "2                0.0            1.0            0.0            0.0   \n",
       "3                0.0            0.0            0.0            0.0   \n",
       "4                0.0            0.0            0.0            0.0   \n",
       "...              ...            ...            ...            ...   \n",
       "11378            1.0            0.0            0.0            0.0   \n",
       "11379            0.0            0.0            0.0            0.0   \n",
       "11380            0.0            1.0            0.0            0.0   \n",
       "11381            0.0            0.0            1.0            0.0   \n",
       "11382            1.0            0.0            0.0            0.0   \n",
       "\n",
       "       age_group_60s  Label   Score  \n",
       "0                0.0      2  0.7733  \n",
       "1                0.0      2  0.8160  \n",
       "2                0.0      1  0.6434  \n",
       "3                1.0      1  0.7710  \n",
       "4                0.0      2  0.7803  \n",
       "...              ...    ...     ...  \n",
       "11378            0.0      1  0.6134  \n",
       "11379            0.0      2  0.7997  \n",
       "11380            0.0      1  0.6492  \n",
       "11381            0.0      1  0.5967  \n",
       "11382            0.0      1  0.5241  \n",
       "\n",
       "[11383 rows x 18 columns]"
      ]
     },
     "execution_count": 330,
     "metadata": {},
     "output_type": "execute_result"
    }
   ],
   "source": [
    "predictions = predict_model(final_model, data = test)\n",
    "predictions"
   ]
  },
  {
   "cell_type": "code",
   "execution_count": 331,
   "id": "718f12ee",
   "metadata": {},
   "outputs": [],
   "source": [
    "submission= pd.read_csv('./sample_submission.csv')"
   ]
  },
  {
   "cell_type": "code",
   "execution_count": 332,
   "id": "97beb3d5",
   "metadata": {},
   "outputs": [],
   "source": [
    "submission['voted'] = predictions['Score']"
   ]
  },
  {
   "cell_type": "code",
   "execution_count": 333,
   "id": "523c1844",
   "metadata": {},
   "outputs": [],
   "source": [
    "submission.to_csv('submission_proba.csv', index = False)"
   ]
  },
  {
   "cell_type": "code",
   "execution_count": 334,
   "id": "0caea7d1",
   "metadata": {},
   "outputs": [
    {
     "data": {
      "text/plain": [
       "count    11383.000000\n",
       "mean         0.679017\n",
       "std          0.131000\n",
       "min          0.500100\n",
       "25%          0.585100\n",
       "50%          0.644600\n",
       "75%          0.780700\n",
       "max          0.961500\n",
       "Name: voted, dtype: float64"
      ]
     },
     "execution_count": 334,
     "metadata": {},
     "output_type": "execute_result"
    }
   ],
   "source": [
    "submission['voted'].describe()"
   ]
  },
  {
   "cell_type": "code",
   "execution_count": 335,
   "id": "e6baa44c",
   "metadata": {},
   "outputs": [],
   "source": [
    "submission['V']= np.where(submission['voted'] >= 0.699674, 1, 0)"
   ]
  },
  {
   "cell_type": "code",
   "execution_count": 336,
   "id": "a898450f",
   "metadata": {},
   "outputs": [
    {
     "data": {
      "text/plain": [
       "0        1\n",
       "1        1\n",
       "2        0\n",
       "3        1\n",
       "4        1\n",
       "        ..\n",
       "11378    0\n",
       "11379    1\n",
       "11380    0\n",
       "11381    0\n",
       "11382    0\n",
       "Name: V, Length: 11383, dtype: int32"
      ]
     },
     "execution_count": 336,
     "metadata": {},
     "output_type": "execute_result"
    }
   ],
   "source": [
    "submission['V']"
   ]
  },
  {
   "cell_type": "code",
   "execution_count": 337,
   "id": "e87185df",
   "metadata": {},
   "outputs": [
    {
     "data": {
      "text/plain": [
       "0    7063\n",
       "1    4320\n",
       "Name: V, dtype: int64"
      ]
     },
     "execution_count": 337,
     "metadata": {},
     "output_type": "execute_result"
    }
   ],
   "source": [
    "submission['V'].value_counts()"
   ]
  },
  {
   "cell_type": "code",
   "execution_count": null,
   "id": "c1f98761",
   "metadata": {},
   "outputs": [],
   "source": []
  }
 ],
 "metadata": {
  "kernelspec": {
   "display_name": "Python 3 (ipykernel)",
   "language": "python",
   "name": "python3"
  },
  "language_info": {
   "codemirror_mode": {
    "name": "ipython",
    "version": 3
   },
   "file_extension": ".py",
   "mimetype": "text/x-python",
   "name": "python",
   "nbconvert_exporter": "python",
   "pygments_lexer": "ipython3",
   "version": "3.9.12"
  }
 },
 "nbformat": 4,
 "nbformat_minor": 5
}
