{
 "cells": [
  {
   "cell_type": "markdown",
   "id": "d6c0a76c",
   "metadata": {},
   "source": [
    "# 시각화"
   ]
  },
  {
   "cell_type": "code",
   "execution_count": 1,
   "id": "951f1aa8",
   "metadata": {},
   "outputs": [],
   "source": [
    "import matplotlib.pyplot as plt\n",
    "%matplotlib inline\n",
    "import seaborn as sns\n",
    "sns.set() # setting seaborn default for plots\n",
    "\n",
    "def bar_chart(feature):\n",
    "    yes = train[train['voted']==1][feature].value_counts()\n",
    "    no = train[train['voted']==2][feature].value_counts()\n",
    "    df = pd.DataFrame([yes,no])\n",
    "    df.index = ['Yes','No']\n",
    "    df.plot(kind='bar',stacked=True, figsize=(10,5))"
   ]
  },
  {
   "cell_type": "code",
   "execution_count": 2,
   "id": "57b1a445",
   "metadata": {},
   "outputs": [],
   "source": [
    "import pandas as pd\n",
    "\n",
    "train=pd.read_csv('./train.csv')\n",
    "test=pd.read_csv('./test_x.csv')"
   ]
  },
  {
   "cell_type": "markdown",
   "id": "d5d66bbb",
   "metadata": {},
   "source": [
    "# 데이터 전처리"
   ]
  },
  {
   "cell_type": "code",
   "execution_count": 3,
   "id": "5132a1e5",
   "metadata": {},
   "outputs": [],
   "source": [
    "import numpy as np\n",
    "train['trust']=1\n",
    "test['trust']=1\n",
    "\n",
    "family_drop_score=10\n",
    "\n",
    "train['trust']=np.where(train['familysize'] >= family_drop_score, 0, train['trust'])\n",
    "test['trust']=np.where(test['familysize'] >= family_drop_score, 0, test['trust'])\n",
    "\n",
    "train['trust']=np.where(train['education'] == 0, 0, train['trust'])\n",
    "train['education']=np.where(train['education'] == 0, 2, train['education'])\n",
    "test['trust']=np.where(test['education'] == 0, 0, test['trust'])\n",
    "test['education']=np.where(test['education'] == 0, 2, test['education'])\n",
    "\n",
    "train['urban']=train['urban'].astype('str')\n",
    "test['urban']=test['urban'].astype('str')\n",
    "\n",
    "train['education']=train['education'].astype('str')\n",
    "test['education']=test['education'].astype('str')\n"
   ]
  },
  {
   "cell_type": "code",
   "execution_count": 4,
   "id": "cc005109",
   "metadata": {},
   "outputs": [],
   "source": [
    "time = ['QaE', 'QbE', 'QcE', 'QdE', 'QeE','QfE', 'QgE', 'QhE', 'QiE', 'QjE', 'QkE', 'QlE', 'QmE', 'QnE', 'QoE', 'QpE', 'QqE', 'QrE', 'QsE', 'QtE']\n",
    "\n",
    "train[time] = np.where(train[time] > 10000, 10000, train[time])\n",
    "test[time] = np.where(test[time] > 10000, 10000, test[time])\n",
    "\n",
    "# train[time] = np.where(train[time] > 10000, train[time].median(), train[time])\n",
    "# test[time] = np.where(test[time] > 10000, test[time].median(), test[time])\n",
    "\n",
    "P_time=['QbE', 'QcE', 'QhE', 'QjE', 'QmE', 'QoE', 'QpE', 'QsE', 'QtE']\n",
    "N_time=['QaE', 'QdE', 'QeE', 'QfE', 'QgE', 'QiE', 'QkE', 'QlE', 'QnE', 'QqE', 'QrE']\n",
    "\n",
    "train['p_time']=train[P_time].sum(axis=1)\n",
    "test['p_time']=test[P_time].sum(axis=1)\n",
    "train['n_time']=train[N_time].sum(axis=1)\n",
    "test['n_time']=test[N_time].sum(axis=1)"
   ]
  },
  {
   "cell_type": "markdown",
   "id": "f829ef3e",
   "metadata": {},
   "source": [
    "# 원핫 인코딩 (gender, race, religion)"
   ]
  },
  {
   "cell_type": "code",
   "execution_count": 5,
   "id": "741c771b",
   "metadata": {},
   "outputs": [],
   "source": [
    "train=pd.get_dummies(train, columns=['race'])\n",
    "train=pd.get_dummies(train, columns=['religion'])\n",
    "train=pd.get_dummies(train, columns=['gender'])\n",
    "train=pd.get_dummies(train, columns=['urban'])\n",
    "train=pd.get_dummies(train, columns=['education'])\n",
    "# train=pd.get_dummies(train, columns=['age_group'])\n",
    "train=pd.get_dummies(train, columns=['hand'])\n",
    "\n",
    "test=pd.get_dummies(test, columns=['race'])\n",
    "test=pd.get_dummies(test, columns=['religion'])\n",
    "test=pd.get_dummies(test, columns=['gender'])\n",
    "test=pd.get_dummies(test, columns=['urban'])\n",
    "test=pd.get_dummies(test, columns=['education'])\n",
    "# test=pd.get_dummies(test, columns=['age_group'])\n",
    "test=pd.get_dummies(test, columns=['hand'])"
   ]
  },
  {
   "cell_type": "markdown",
   "id": "1d4cb1a4",
   "metadata": {},
   "source": [
    "# Feature : Mach_score (마키아벨리니즘 스코어)"
   ]
  },
  {
   "cell_type": "code",
   "execution_count": 6,
   "id": "5f73d7a8",
   "metadata": {
    "scrolled": false
   },
   "outputs": [],
   "source": [
    "Answers = ['QaA', 'QbA', 'QcA', 'QdA', 'QeA',\n",
    "             'QfA', 'QgA', 'QhA', 'QiA', 'QjA', \n",
    "             'QkA', 'QlA', 'QmA', 'QnA', 'QoA', \n",
    "             'QpA', 'QqA', 'QrA', 'QsA', 'QtA']"
   ]
  },
  {
   "cell_type": "code",
   "execution_count": 7,
   "id": "f031affe",
   "metadata": {},
   "outputs": [],
   "source": [
    "reverse = [\"QeA\", \"QfA\", \"QkA\", \"QqA\", \"QrA\"]\n",
    "for r in reverse: \n",
    "        train[r] = 6 - train[r]\n",
    "        test[r] = 6 - test[r]"
   ]
  },
  {
   "cell_type": "code",
   "execution_count": 8,
   "id": "329ca96b",
   "metadata": {},
   "outputs": [],
   "source": [
    "reverse = [\"QaA\", \"QdA\", \"QgA\", \"QiA\", \"QnA\"]\n",
    "for r in reverse: \n",
    "        train[r] = 6 - train[r]\n",
    "        test[r] = 6 - test[r]"
   ]
  },
  {
   "cell_type": "code",
   "execution_count": 9,
   "id": "c589c845",
   "metadata": {},
   "outputs": [],
   "source": [
    "train['Mach_score'] = train[Answers].mean(axis = 1)\n",
    "test['Mach_score'] = test[Answers].mean(axis = 1)"
   ]
  },
  {
   "cell_type": "markdown",
   "id": "d3acad36",
   "metadata": {},
   "source": [
    "# Feature : tp0106, tp0207, tp0308, tp0409, tp0510 (관련있는 tp 끼리 묶음)"
   ]
  },
  {
   "cell_type": "code",
   "execution_count": 10,
   "id": "3d213727",
   "metadata": {},
   "outputs": [],
   "source": [
    "Tp = ['tp01', 'tp02', 'tp03', 'tp04', 'tp05',\n",
    "             'tp06', 'tp07', 'tp08', 'tp09', 'tp10']"
   ]
  },
  {
   "cell_type": "code",
   "execution_count": 11,
   "id": "f5c66c11",
   "metadata": {
    "scrolled": true
   },
   "outputs": [],
   "source": [
    "reverse = [\"tp06\", \"tp07\", \"tp08\", \"tp09\", \"tp10\"]\n",
    "for r in reverse: \n",
    "        train[r] = 7 - train[r]\n",
    "        test[r] = 7 - test[r]\n",
    "        \n",
    "tp0106=['tp01', 'tp06']\n",
    "tp0207=['tp02', 'tp07']\n",
    "tp0308=['tp03', 'tp08']\n",
    "tp0409=['tp04', 'tp09']\n",
    "tp0510=['tp05', 'tp10']\n",
    "train['tp0106'] = train[tp0106].sum(axis = 1)\n",
    "train['tp0207'] = train[tp0207].sum(axis = 1)\n",
    "train['tp0308'] = train[tp0308].sum(axis = 1)\n",
    "train['tp0409'] = train[tp0409].sum(axis = 1)\n",
    "train['tp0510'] = train[tp0510].sum(axis = 1)\n",
    "temp=['tp0106', 'tp0207', 'tp0308','tp0409', 'tp0510']\n",
    "\n",
    "test['tp0106'] = test[tp0106].sum(axis = 1)\n",
    "test['tp0207'] = test[tp0207].sum(axis = 1)\n",
    "test['tp0308'] = test[tp0308].sum(axis = 1)\n",
    "test['tp0409'] = test[tp0409].sum(axis = 1)\n",
    "test['tp0510'] = test[tp0510].sum(axis = 1)"
   ]
  },
  {
   "cell_type": "code",
   "execution_count": 12,
   "id": "0ee93748",
   "metadata": {},
   "outputs": [
    {
     "data": {
      "text/html": [
       "<div>\n",
       "<style scoped>\n",
       "    .dataframe tbody tr th:only-of-type {\n",
       "        vertical-align: middle;\n",
       "    }\n",
       "\n",
       "    .dataframe tbody tr th {\n",
       "        vertical-align: top;\n",
       "    }\n",
       "\n",
       "    .dataframe thead th {\n",
       "        text-align: right;\n",
       "    }\n",
       "</style>\n",
       "<table border=\"1\" class=\"dataframe\">\n",
       "  <thead>\n",
       "    <tr style=\"text-align: right;\">\n",
       "      <th></th>\n",
       "      <th>tp0106</th>\n",
       "      <th>tp0207</th>\n",
       "      <th>tp0308</th>\n",
       "      <th>tp0409</th>\n",
       "      <th>tp0510</th>\n",
       "    </tr>\n",
       "  </thead>\n",
       "  <tbody>\n",
       "    <tr>\n",
       "      <th>count</th>\n",
       "      <td>45532.000000</td>\n",
       "      <td>45532.000000</td>\n",
       "      <td>45532.000000</td>\n",
       "      <td>45532.000000</td>\n",
       "      <td>45532.000000</td>\n",
       "    </tr>\n",
       "    <tr>\n",
       "      <th>mean</th>\n",
       "      <td>7.545023</td>\n",
       "      <td>7.590090</td>\n",
       "      <td>5.261486</td>\n",
       "      <td>7.763749</td>\n",
       "      <td>4.017921</td>\n",
       "    </tr>\n",
       "    <tr>\n",
       "      <th>std</th>\n",
       "      <td>3.509913</td>\n",
       "      <td>2.916658</td>\n",
       "      <td>3.043976</td>\n",
       "      <td>3.366161</td>\n",
       "      <td>2.473560</td>\n",
       "    </tr>\n",
       "    <tr>\n",
       "      <th>min</th>\n",
       "      <td>0.000000</td>\n",
       "      <td>0.000000</td>\n",
       "      <td>0.000000</td>\n",
       "      <td>0.000000</td>\n",
       "      <td>0.000000</td>\n",
       "    </tr>\n",
       "    <tr>\n",
       "      <th>25%</th>\n",
       "      <td>5.000000</td>\n",
       "      <td>6.000000</td>\n",
       "      <td>3.000000</td>\n",
       "      <td>5.000000</td>\n",
       "      <td>2.000000</td>\n",
       "    </tr>\n",
       "    <tr>\n",
       "      <th>50%</th>\n",
       "      <td>8.000000</td>\n",
       "      <td>8.000000</td>\n",
       "      <td>5.000000</td>\n",
       "      <td>8.000000</td>\n",
       "      <td>4.000000</td>\n",
       "    </tr>\n",
       "    <tr>\n",
       "      <th>75%</th>\n",
       "      <td>11.000000</td>\n",
       "      <td>10.000000</td>\n",
       "      <td>7.000000</td>\n",
       "      <td>11.000000</td>\n",
       "      <td>6.000000</td>\n",
       "    </tr>\n",
       "    <tr>\n",
       "      <th>max</th>\n",
       "      <td>14.000000</td>\n",
       "      <td>14.000000</td>\n",
       "      <td>14.000000</td>\n",
       "      <td>14.000000</td>\n",
       "      <td>14.000000</td>\n",
       "    </tr>\n",
       "  </tbody>\n",
       "</table>\n",
       "</div>"
      ],
      "text/plain": [
       "             tp0106        tp0207        tp0308        tp0409        tp0510\n",
       "count  45532.000000  45532.000000  45532.000000  45532.000000  45532.000000\n",
       "mean       7.545023      7.590090      5.261486      7.763749      4.017921\n",
       "std        3.509913      2.916658      3.043976      3.366161      2.473560\n",
       "min        0.000000      0.000000      0.000000      0.000000      0.000000\n",
       "25%        5.000000      6.000000      3.000000      5.000000      2.000000\n",
       "50%        8.000000      8.000000      5.000000      8.000000      4.000000\n",
       "75%       11.000000     10.000000      7.000000     11.000000      6.000000\n",
       "max       14.000000     14.000000     14.000000     14.000000     14.000000"
      ]
     },
     "execution_count": 12,
     "metadata": {},
     "output_type": "execute_result"
    }
   ],
   "source": [
    "train[temp].describe()"
   ]
  },
  {
   "cell_type": "code",
   "execution_count": 13,
   "id": "82b7ce3e",
   "metadata": {},
   "outputs": [],
   "source": [
    "tp_drop_score=12\n",
    "\n",
    "train['trust']=np.where(train['tp0106'] >= tp_drop_score, 0, train['trust'])\n",
    "train['trust']=np.where(train['tp0207'] >= tp_drop_score, 0, train['trust'])\n",
    "train['trust']=np.where(train['tp0308'] >= tp_drop_score, 0, train['trust'])\n",
    "train['trust']=np.where(train['tp0409'] >= tp_drop_score, 0, train['trust'])\n",
    "train['trust']=np.where(train['tp0510'] >= tp_drop_score, 0, train['trust'])\n",
    "\n",
    "test['trust']=np.where(test['tp0106'] >= tp_drop_score, 0, test['trust'])\n",
    "test['trust']=np.where(test['tp0207'] >= tp_drop_score, 0, test['trust'])\n",
    "test['trust']=np.where(test['tp0308'] >= tp_drop_score, 0, test['trust'])\n",
    "test['trust']=np.where(test['tp0409'] >= tp_drop_score, 0, test['trust'])\n",
    "test['trust']=np.where(test['tp0510'] >= tp_drop_score, 0, test['trust'])\n",
    "\n",
    "train['tp0106']=np.where(train['tp0106'] >= tp_drop_score, tp_drop_score, train['tp0106'])\n",
    "train['tp0207']=np.where(train['tp0207'] >= tp_drop_score, tp_drop_score, train['tp0207'])\n",
    "train['tp0308']=np.where(train['tp0308'] >= tp_drop_score, tp_drop_score, train['tp0308'])\n",
    "train['tp0409']=np.where(train['tp0409'] >= tp_drop_score, tp_drop_score, train['tp0409'])\n",
    "train['tp0510']=np.where(train['tp0510'] >= tp_drop_score, tp_drop_score, train['tp0510'])\n",
    "\n",
    "test['tp0106']=np.where(test['tp0106'] >= tp_drop_score, tp_drop_score, test['tp0106'])\n",
    "test['tp0207']=np.where(test['tp0207'] >= tp_drop_score, tp_drop_score, test['tp0207'])\n",
    "test['tp0308']=np.where(test['tp0308'] >= tp_drop_score, tp_drop_score, test['tp0308'])\n",
    "test['tp0409']=np.where(test['tp0409'] >= tp_drop_score, tp_drop_score, test['tp0409'])\n",
    "test['tp0510']=np.where(test['tp0510'] >= tp_drop_score, tp_drop_score, test['tp0510'])"
   ]
  },
  {
   "cell_type": "code",
   "execution_count": 14,
   "id": "ef51dd9c",
   "metadata": {},
   "outputs": [
    {
     "data": {
      "text/plain": [
       "<AxesSubplot:>"
      ]
     },
     "execution_count": 14,
     "metadata": {},
     "output_type": "execute_result"
    },
    {
     "data": {
      "image/png": "[encoded data removed]",
      "text/plain": [
       "<Figure size 1080x1080 with 2 Axes>"
      ]
     },
     "metadata": {},
     "output_type": "display_data"
    }
   ],
   "source": [
    "wr_voted=['wr_01', 'wr_02', 'wr_03', 'wr_04', 'wr_05', 'wr_06', 'wr_07', 'wr_08', 'wr_09', 'wr_10','wr_11', 'wr_12', 'wr_13',\n",
    "     'wf_01', 'wf_02', 'wf_03', 'voted']\n",
    "plt.figure(figsize=(15,15))\n",
    "sns.heatmap(data = train[wr_voted].corr(), annot=True, \n",
    "fmt = '.2f', linewidths=.5, cmap='seismic')"
   ]
  },
  {
   "cell_type": "markdown",
   "id": "ea7ff505",
   "metadata": {},
   "source": [
    "# wr에서 가져갈 feature : 1, 3, 5, 6, 9, 11"
   ]
  },
  {
   "cell_type": "markdown",
   "id": "65e01335",
   "metadata": {},
   "source": [
    "# wf_(1~3) : 설문자의 어휘 능력 (허구인 단어의 정의를 앎)"
   ]
  },
  {
   "cell_type": "code",
   "execution_count": 15,
   "id": "ae88ab68",
   "metadata": {
    "scrolled": true
   },
   "outputs": [],
   "source": [
    "wf=['wf_01', 'wf_02', 'wf_03']\n",
    "\n",
    "train['wf']=train[wf].mean(axis=1)\n",
    "train['trust']= np.where(train['wf'] >= 0.0, 0, train['trust'])\n",
    "\n",
    "test['wf']=test[wf].mean(axis=1)\n",
    "test['trust']= np.where(test['wf'] >= 0.0, 0, test['trust'])"
   ]
  },
  {
   "cell_type": "code",
   "execution_count": 16,
   "id": "11745081",
   "metadata": {},
   "outputs": [],
   "source": [
    "train['is10s']=(train['age_group']=='10s')\n",
    "test['is10s']=(test['age_group']=='10s')"
   ]
  },
  {
   "cell_type": "markdown",
   "id": "ab06e14f",
   "metadata": {},
   "source": [
    "# drop 할 feature들"
   ]
  },
  {
   "cell_type": "code",
   "execution_count": 17,
   "id": "a0686027",
   "metadata": {},
   "outputs": [],
   "source": [
    "drop_feature=[\n",
    "#                 'engnat',\n",
    "    \n",
    "#                 'familysize',\n",
    "    \n",
    "#                 'married',\n",
    "    \n",
    "#                 'race_Arab', 'race_Asian','race_Black','race_Indigenous Australian','race_Native American','race_Other','race_White',               \n",
    "    \n",
    "#                 'religion_Agnostic','religion_Atheist', 'religion_Buddhist','religion_Christian_Catholic','religion_Christian_Mormon', \n",
    "#                 'religion_Christian_Other', 'religion_Christian_Protestant', 'religion_Hindu','religion_Jewish','religion_Muslim', \n",
    "#                 'religion_Other','religion_Sikh',\n",
    "    \n",
    "#                 'gender_Female','gender_Male',\n",
    "                \n",
    "#                 'urban_0','urban_1','urban_2','urban_3',\n",
    "    \n",
    "#                 'education_1', 'education_2', 'education_3', 'education_4'\n",
    "                \n",
    "                'age_group',\n",
    "                \n",
    "                'QaA', 'QbA', 'QcA', 'QdA', 'QeA','QfA', 'QgA', 'QhA', 'QiA', 'QjA', 'QkA', 'QlA', 'QmA', 'QnA', 'QoA','QpA', \n",
    "                'QqA', 'QrA', 'QsA', 'QtA',\n",
    "                \n",
    "                'QaE', 'QbE', 'QcE', 'QdE', 'QeE', 'QfE', 'QgE', 'QhE', 'QiE', 'QjE', 'QkE', 'QlE','QmE', 'QnE', 'QoE', 'QpE', \n",
    "                'QqE', 'QrE', 'QsE', 'QtE',\n",
    "    \n",
    "#                 'p_time' , \n",
    "\n",
    "#                 'n_time',\n",
    "              \n",
    "                'tp01', 'tp02', 'tp03', 'tp04', 'tp05','tp06','tp07', 'tp08', 'tp09', 'tp10',\n",
    "              \n",
    "#                 'wr_01', 'wr_02', 'wr_03', 'wr_04', 'wr_05', 'wr_06', 'wr_07', 'wr_08', 'wr_09','wr_10','wr_11', 'wr_12', 'wr_13', \n",
    "                'wr_02',  'wr_04', 'wr_07', 'wr_08', 'wr_10', 'wr_12', 'wr_13', \n",
    "                'wf_01', 'wf_02', 'wf_03', 'wf',\n",
    "              \n",
    "                'hand_0','hand_1','hand_2','hand_3',\n",
    "              \n",
    "              ]\n",
    "\n",
    "train = train.drop(drop_feature, axis = 1)\n",
    "test = test.drop(drop_feature, axis = 1)"
   ]
  },
  {
   "cell_type": "markdown",
   "id": "b90b6eae",
   "metadata": {},
   "source": [
    "# Model 생성"
   ]
  },
  {
   "cell_type": "code",
   "execution_count": 18,
   "id": "ddc2ea46",
   "metadata": {},
   "outputs": [],
   "source": [
    "from sklearn.neighbors import KNeighborsClassifier\n",
    "from sklearn.tree import DecisionTreeClassifier\n",
    "from sklearn.ensemble import RandomForestClassifier\n",
    "from sklearn.naive_bayes import GaussianNB\n",
    "from sklearn.svm import SVC"
   ]
  },
  {
   "cell_type": "markdown",
   "id": "93c8e33a",
   "metadata": {},
   "source": [
    "# 사용한 feature 목록"
   ]
  },
  {
   "cell_type": "code",
   "execution_count": 19,
   "id": "65fb6275",
   "metadata": {
    "scrolled": false
   },
   "outputs": [
    {
     "name": "stdout",
     "output_type": "stream",
     "text": [
      "index\n",
      "engnat\n",
      "familysize\n",
      "married\n",
      "voted\n",
      "wr_01\n",
      "wr_03\n",
      "wr_05\n",
      "wr_06\n",
      "wr_09\n",
      "wr_11\n",
      "trust\n",
      "p_time\n",
      "n_time\n",
      "race_Arab\n",
      "race_Asian\n",
      "race_Black\n",
      "race_Indigenous Australian\n",
      "race_Native American\n",
      "race_Other\n",
      "race_White\n",
      "religion_Agnostic\n",
      "religion_Atheist\n",
      "religion_Buddhist\n",
      "religion_Christian_Catholic\n",
      "religion_Christian_Mormon\n",
      "religion_Christian_Other\n",
      "religion_Christian_Protestant\n",
      "religion_Hindu\n",
      "religion_Jewish\n",
      "religion_Muslim\n",
      "religion_Other\n",
      "religion_Sikh\n",
      "gender_Female\n",
      "gender_Male\n",
      "urban_0\n",
      "urban_1\n",
      "urban_2\n",
      "urban_3\n",
      "education_1\n",
      "education_2\n",
      "education_3\n",
      "education_4\n",
      "Mach_score\n",
      "tp0106\n",
      "tp0207\n",
      "tp0308\n",
      "tp0409\n",
      "tp0510\n",
      "is10s\n"
     ]
    }
   ],
   "source": [
    "for i in train:\n",
    "    print(i)\n"
   ]
  },
  {
   "cell_type": "markdown",
   "id": "19e092ef",
   "metadata": {},
   "source": [
    "# Auto ML"
   ]
  },
  {
   "cell_type": "code",
   "execution_count": 20,
   "id": "b3c58672",
   "metadata": {
    "scrolled": false
   },
   "outputs": [
    {
     "data": {
      "text/html": [
       "<style type=\"text/css\">\n",
       "#T_05c9e_row10_col1 {\n",
       "  background-color: lightgreen;\n",
       "}\n",
       "</style>\n",
       "<table id=\"T_05c9e\">\n",
       "  <thead>\n",
       "    <tr>\n",
       "      <th class=\"blank level0\" >&nbsp;</th>\n",
       "      <th id=\"T_05c9e_level0_col0\" class=\"col_heading level0 col0\" >Description</th>\n",
       "      <th id=\"T_05c9e_level0_col1\" class=\"col_heading level0 col1\" >Value</th>\n",
       "    </tr>\n",
       "  </thead>\n",
       "  <tbody>\n",
       "    <tr>\n",
       "      <th id=\"T_05c9e_level0_row0\" class=\"row_heading level0 row0\" >0</th>\n",
       "      <td id=\"T_05c9e_row0_col0\" class=\"data row0 col0\" >Session id</td>\n",
       "      <td id=\"T_05c9e_row0_col1\" class=\"data row0 col1\" >8287</td>\n",
       "    </tr>\n",
       "    <tr>\n",
       "      <th id=\"T_05c9e_level0_row1\" class=\"row_heading level0 row1\" >1</th>\n",
       "      <td id=\"T_05c9e_row1_col0\" class=\"data row1 col0\" >Target</td>\n",
       "      <td id=\"T_05c9e_row1_col1\" class=\"data row1 col1\" >voted</td>\n",
       "    </tr>\n",
       "    <tr>\n",
       "      <th id=\"T_05c9e_level0_row2\" class=\"row_heading level0 row2\" >2</th>\n",
       "      <td id=\"T_05c9e_row2_col0\" class=\"data row2 col0\" >Target type</td>\n",
       "      <td id=\"T_05c9e_row2_col1\" class=\"data row2 col1\" >Binary</td>\n",
       "    </tr>\n",
       "    <tr>\n",
       "      <th id=\"T_05c9e_level0_row3\" class=\"row_heading level0 row3\" >3</th>\n",
       "      <td id=\"T_05c9e_row3_col0\" class=\"data row3 col0\" >Target mapping</td>\n",
       "      <td id=\"T_05c9e_row3_col1\" class=\"data row3 col1\" >1: 0, 2: 1</td>\n",
       "    </tr>\n",
       "    <tr>\n",
       "      <th id=\"T_05c9e_level0_row4\" class=\"row_heading level0 row4\" >4</th>\n",
       "      <td id=\"T_05c9e_row4_col0\" class=\"data row4 col0\" >Original data shape</td>\n",
       "      <td id=\"T_05c9e_row4_col1\" class=\"data row4 col1\" >(45532, 49)</td>\n",
       "    </tr>\n",
       "    <tr>\n",
       "      <th id=\"T_05c9e_level0_row5\" class=\"row_heading level0 row5\" >5</th>\n",
       "      <td id=\"T_05c9e_row5_col0\" class=\"data row5 col0\" >Transformed data shape</td>\n",
       "      <td id=\"T_05c9e_row5_col1\" class=\"data row5 col1\" >(45532, 48)</td>\n",
       "    </tr>\n",
       "    <tr>\n",
       "      <th id=\"T_05c9e_level0_row6\" class=\"row_heading level0 row6\" >6</th>\n",
       "      <td id=\"T_05c9e_row6_col0\" class=\"data row6 col0\" >Transformed train set shape</td>\n",
       "      <td id=\"T_05c9e_row6_col1\" class=\"data row6 col1\" >(31872, 48)</td>\n",
       "    </tr>\n",
       "    <tr>\n",
       "      <th id=\"T_05c9e_level0_row7\" class=\"row_heading level0 row7\" >7</th>\n",
       "      <td id=\"T_05c9e_row7_col0\" class=\"data row7 col0\" >Transformed test set shape</td>\n",
       "      <td id=\"T_05c9e_row7_col1\" class=\"data row7 col1\" >(13660, 48)</td>\n",
       "    </tr>\n",
       "    <tr>\n",
       "      <th id=\"T_05c9e_level0_row8\" class=\"row_heading level0 row8\" >8</th>\n",
       "      <td id=\"T_05c9e_row8_col0\" class=\"data row8 col0\" >Ignore features</td>\n",
       "      <td id=\"T_05c9e_row8_col1\" class=\"data row8 col1\" >1</td>\n",
       "    </tr>\n",
       "    <tr>\n",
       "      <th id=\"T_05c9e_level0_row9\" class=\"row_heading level0 row9\" >9</th>\n",
       "      <td id=\"T_05c9e_row9_col0\" class=\"data row9 col0\" >Numeric features</td>\n",
       "      <td id=\"T_05c9e_row9_col1\" class=\"data row9 col1\" >47</td>\n",
       "    </tr>\n",
       "    <tr>\n",
       "      <th id=\"T_05c9e_level0_row10\" class=\"row_heading level0 row10\" >10</th>\n",
       "      <td id=\"T_05c9e_row10_col0\" class=\"data row10 col0\" >Preprocess</td>\n",
       "      <td id=\"T_05c9e_row10_col1\" class=\"data row10 col1\" >True</td>\n",
       "    </tr>\n",
       "    <tr>\n",
       "      <th id=\"T_05c9e_level0_row11\" class=\"row_heading level0 row11\" >11</th>\n",
       "      <td id=\"T_05c9e_row11_col0\" class=\"data row11 col0\" >Imputation type</td>\n",
       "      <td id=\"T_05c9e_row11_col1\" class=\"data row11 col1\" >simple</td>\n",
       "    </tr>\n",
       "    <tr>\n",
       "      <th id=\"T_05c9e_level0_row12\" class=\"row_heading level0 row12\" >12</th>\n",
       "      <td id=\"T_05c9e_row12_col0\" class=\"data row12 col0\" >Numeric imputation</td>\n",
       "      <td id=\"T_05c9e_row12_col1\" class=\"data row12 col1\" >mean</td>\n",
       "    </tr>\n",
       "    <tr>\n",
       "      <th id=\"T_05c9e_level0_row13\" class=\"row_heading level0 row13\" >13</th>\n",
       "      <td id=\"T_05c9e_row13_col0\" class=\"data row13 col0\" >Categorical imputation</td>\n",
       "      <td id=\"T_05c9e_row13_col1\" class=\"data row13 col1\" >constant</td>\n",
       "    </tr>\n",
       "    <tr>\n",
       "      <th id=\"T_05c9e_level0_row14\" class=\"row_heading level0 row14\" >14</th>\n",
       "      <td id=\"T_05c9e_row14_col0\" class=\"data row14 col0\" >Low variance threshold</td>\n",
       "      <td id=\"T_05c9e_row14_col1\" class=\"data row14 col1\" >0</td>\n",
       "    </tr>\n",
       "    <tr>\n",
       "      <th id=\"T_05c9e_level0_row15\" class=\"row_heading level0 row15\" >15</th>\n",
       "      <td id=\"T_05c9e_row15_col0\" class=\"data row15 col0\" >Fold Generator</td>\n",
       "      <td id=\"T_05c9e_row15_col1\" class=\"data row15 col1\" >StratifiedKFold</td>\n",
       "    </tr>\n",
       "    <tr>\n",
       "      <th id=\"T_05c9e_level0_row16\" class=\"row_heading level0 row16\" >16</th>\n",
       "      <td id=\"T_05c9e_row16_col0\" class=\"data row16 col0\" >Fold Number</td>\n",
       "      <td id=\"T_05c9e_row16_col1\" class=\"data row16 col1\" >10</td>\n",
       "    </tr>\n",
       "    <tr>\n",
       "      <th id=\"T_05c9e_level0_row17\" class=\"row_heading level0 row17\" >17</th>\n",
       "      <td id=\"T_05c9e_row17_col0\" class=\"data row17 col0\" >CPU Jobs</td>\n",
       "      <td id=\"T_05c9e_row17_col1\" class=\"data row17 col1\" >-1</td>\n",
       "    </tr>\n",
       "    <tr>\n",
       "      <th id=\"T_05c9e_level0_row18\" class=\"row_heading level0 row18\" >18</th>\n",
       "      <td id=\"T_05c9e_row18_col0\" class=\"data row18 col0\" >Use GPU</td>\n",
       "      <td id=\"T_05c9e_row18_col1\" class=\"data row18 col1\" >False</td>\n",
       "    </tr>\n",
       "    <tr>\n",
       "      <th id=\"T_05c9e_level0_row19\" class=\"row_heading level0 row19\" >19</th>\n",
       "      <td id=\"T_05c9e_row19_col0\" class=\"data row19 col0\" >Log Experiment</td>\n",
       "      <td id=\"T_05c9e_row19_col1\" class=\"data row19 col1\" >False</td>\n",
       "    </tr>\n",
       "    <tr>\n",
       "      <th id=\"T_05c9e_level0_row20\" class=\"row_heading level0 row20\" >20</th>\n",
       "      <td id=\"T_05c9e_row20_col0\" class=\"data row20 col0\" >Experiment Name</td>\n",
       "      <td id=\"T_05c9e_row20_col1\" class=\"data row20 col1\" >clf-default-name</td>\n",
       "    </tr>\n",
       "    <tr>\n",
       "      <th id=\"T_05c9e_level0_row21\" class=\"row_heading level0 row21\" >21</th>\n",
       "      <td id=\"T_05c9e_row21_col0\" class=\"data row21 col0\" >USI</td>\n",
       "      <td id=\"T_05c9e_row21_col1\" class=\"data row21 col1\" >ca3e</td>\n",
       "    </tr>\n",
       "  </tbody>\n",
       "</table>\n"
      ],
      "text/plain": [
       "<pandas.io.formats.style.Styler at 0x259ccef83d0>"
      ]
     },
     "metadata": {},
     "output_type": "display_data"
    }
   ],
   "source": [
    "from pycaret.classification import *\n",
    "clf = setup(data = train, target = 'voted',ignore_features=['index'])"
   ]
  },
  {
   "cell_type": "markdown",
   "id": "b047a4ac",
   "metadata": {},
   "source": [
    "# 모델 학습 및 비교 (Train models and compare)"
   ]
  },
  {
   "cell_type": "code",
   "execution_count": 21,
   "id": "58e678c3",
   "metadata": {
    "scrolled": false
   },
   "outputs": [
    {
     "data": {
      "text/html": [],
      "text/plain": [
       "<IPython.core.display.HTML object>"
      ]
     },
     "metadata": {},
     "output_type": "display_data"
    },
    {
     "data": {
      "text/html": [
       "<style type=\"text/css\">\n",
       "#T_be8e6 th {\n",
       "  text-align: left;\n",
       "}\n",
       "#T_be8e6_row0_col0, #T_be8e6_row0_col3, #T_be8e6_row0_col5, #T_be8e6_row1_col0, #T_be8e6_row1_col1, #T_be8e6_row1_col2, #T_be8e6_row1_col3, #T_be8e6_row1_col4, #T_be8e6_row1_col5, #T_be8e6_row1_col6, #T_be8e6_row1_col7, #T_be8e6_row2_col0, #T_be8e6_row2_col1, #T_be8e6_row2_col2, #T_be8e6_row2_col3, #T_be8e6_row2_col4, #T_be8e6_row2_col5, #T_be8e6_row2_col6, #T_be8e6_row2_col7, #T_be8e6_row3_col0, #T_be8e6_row3_col1, #T_be8e6_row3_col2, #T_be8e6_row3_col3, #T_be8e6_row3_col4, #T_be8e6_row3_col5, #T_be8e6_row3_col6, #T_be8e6_row3_col7, #T_be8e6_row4_col0, #T_be8e6_row4_col1, #T_be8e6_row4_col2, #T_be8e6_row4_col3, #T_be8e6_row4_col4, #T_be8e6_row4_col5, #T_be8e6_row4_col6, #T_be8e6_row4_col7, #T_be8e6_row5_col0, #T_be8e6_row5_col1, #T_be8e6_row5_col2, #T_be8e6_row5_col3, #T_be8e6_row5_col4, #T_be8e6_row5_col5, #T_be8e6_row5_col6, #T_be8e6_row5_col7, #T_be8e6_row6_col0, #T_be8e6_row6_col1, #T_be8e6_row6_col2, #T_be8e6_row6_col3, #T_be8e6_row6_col4, #T_be8e6_row6_col5, #T_be8e6_row6_col6, #T_be8e6_row6_col7, #T_be8e6_row7_col0, #T_be8e6_row7_col1, #T_be8e6_row7_col2, #T_be8e6_row7_col3, #T_be8e6_row7_col4, #T_be8e6_row7_col5, #T_be8e6_row7_col6, #T_be8e6_row7_col7, #T_be8e6_row8_col0, #T_be8e6_row8_col1, #T_be8e6_row8_col2, #T_be8e6_row8_col3, #T_be8e6_row8_col4, #T_be8e6_row8_col5, #T_be8e6_row8_col6, #T_be8e6_row8_col7, #T_be8e6_row9_col0, #T_be8e6_row9_col1, #T_be8e6_row9_col2, #T_be8e6_row9_col3, #T_be8e6_row9_col4, #T_be8e6_row9_col5, #T_be8e6_row9_col6, #T_be8e6_row9_col7, #T_be8e6_row10_col0, #T_be8e6_row10_col1, #T_be8e6_row10_col2, #T_be8e6_row10_col3, #T_be8e6_row10_col4, #T_be8e6_row10_col5, #T_be8e6_row10_col6, #T_be8e6_row10_col7, #T_be8e6_row11_col0, #T_be8e6_row11_col1, #T_be8e6_row11_col2, #T_be8e6_row11_col4, #T_be8e6_row11_col6, #T_be8e6_row11_col7, #T_be8e6_row12_col0, #T_be8e6_row12_col1, #T_be8e6_row12_col2, #T_be8e6_row12_col3, #T_be8e6_row12_col4, #T_be8e6_row12_col5, #T_be8e6_row12_col6, #T_be8e6_row12_col7, #T_be8e6_row13_col0, #T_be8e6_row13_col1, #T_be8e6_row13_col2, #T_be8e6_row13_col3, #T_be8e6_row13_col4, #T_be8e6_row13_col5, #T_be8e6_row13_col6, #T_be8e6_row13_col7 {\n",
       "  text-align: left;\n",
       "}\n",
       "#T_be8e6_row0_col1, #T_be8e6_row0_col2, #T_be8e6_row0_col4, #T_be8e6_row0_col6, #T_be8e6_row0_col7, #T_be8e6_row11_col3, #T_be8e6_row11_col5 {\n",
       "  text-align: left;\n",
       "  background-color: yellow;\n",
       "}\n",
       "#T_be8e6_row0_col8, #T_be8e6_row1_col8, #T_be8e6_row2_col8, #T_be8e6_row3_col8, #T_be8e6_row4_col8, #T_be8e6_row5_col8, #T_be8e6_row6_col8, #T_be8e6_row7_col8, #T_be8e6_row8_col8, #T_be8e6_row9_col8, #T_be8e6_row10_col8, #T_be8e6_row12_col8, #T_be8e6_row13_col8 {\n",
       "  text-align: left;\n",
       "  background-color: lightgrey;\n",
       "}\n",
       "#T_be8e6_row11_col8 {\n",
       "  text-align: left;\n",
       "  background-color: yellow;\n",
       "  background-color: lightgrey;\n",
       "}\n",
       "</style>\n",
       "<table id=\"T_be8e6\">\n",
       "  <thead>\n",
       "    <tr>\n",
       "      <th class=\"blank level0\" >&nbsp;</th>\n",
       "      <th id=\"T_be8e6_level0_col0\" class=\"col_heading level0 col0\" >Model</th>\n",
       "      <th id=\"T_be8e6_level0_col1\" class=\"col_heading level0 col1\" >Accuracy</th>\n",
       "      <th id=\"T_be8e6_level0_col2\" class=\"col_heading level0 col2\" >AUC</th>\n",
       "      <th id=\"T_be8e6_level0_col3\" class=\"col_heading level0 col3\" >Recall</th>\n",
       "      <th id=\"T_be8e6_level0_col4\" class=\"col_heading level0 col4\" >Prec.</th>\n",
       "      <th id=\"T_be8e6_level0_col5\" class=\"col_heading level0 col5\" >F1</th>\n",
       "      <th id=\"T_be8e6_level0_col6\" class=\"col_heading level0 col6\" >Kappa</th>\n",
       "      <th id=\"T_be8e6_level0_col7\" class=\"col_heading level0 col7\" >MCC</th>\n",
       "      <th id=\"T_be8e6_level0_col8\" class=\"col_heading level0 col8\" >TT (Sec)</th>\n",
       "    </tr>\n",
       "  </thead>\n",
       "  <tbody>\n",
       "    <tr>\n",
       "      <th id=\"T_be8e6_level0_row0\" class=\"row_heading level0 row0\" >gbc</th>\n",
       "      <td id=\"T_be8e6_row0_col0\" class=\"data row0 col0\" >Gradient Boosting Classifier</td>\n",
       "      <td id=\"T_be8e6_row0_col1\" class=\"data row0 col1\" >0.6915</td>\n",
       "      <td id=\"T_be8e6_row0_col2\" class=\"data row0 col2\" >0.7614</td>\n",
       "      <td id=\"T_be8e6_row0_col3\" class=\"data row0 col3\" >0.6359</td>\n",
       "      <td id=\"T_be8e6_row0_col4\" class=\"data row0 col4\" >0.7608</td>\n",
       "      <td id=\"T_be8e6_row0_col5\" class=\"data row0 col5\" >0.6927</td>\n",
       "      <td id=\"T_be8e6_row0_col6\" class=\"data row0 col6\" >0.3880</td>\n",
       "      <td id=\"T_be8e6_row0_col7\" class=\"data row0 col7\" >0.3944</td>\n",
       "      <td id=\"T_be8e6_row0_col8\" class=\"data row0 col8\" >0.6220</td>\n",
       "    </tr>\n",
       "    <tr>\n",
       "      <th id=\"T_be8e6_level0_row1\" class=\"row_heading level0 row1\" >lightgbm</th>\n",
       "      <td id=\"T_be8e6_row1_col0\" class=\"data row1 col0\" >Light Gradient Boosting Machine</td>\n",
       "      <td id=\"T_be8e6_row1_col1\" class=\"data row1 col1\" >0.6910</td>\n",
       "      <td id=\"T_be8e6_row1_col2\" class=\"data row1 col2\" >0.7611</td>\n",
       "      <td id=\"T_be8e6_row1_col3\" class=\"data row1 col3\" >0.6366</td>\n",
       "      <td id=\"T_be8e6_row1_col4\" class=\"data row1 col4\" >0.7594</td>\n",
       "      <td id=\"T_be8e6_row1_col5\" class=\"data row1 col5\" >0.6926</td>\n",
       "      <td id=\"T_be8e6_row1_col6\" class=\"data row1 col6\" >0.3868</td>\n",
       "      <td id=\"T_be8e6_row1_col7\" class=\"data row1 col7\" >0.3929</td>\n",
       "      <td id=\"T_be8e6_row1_col8\" class=\"data row1 col8\" >0.0710</td>\n",
       "    </tr>\n",
       "    <tr>\n",
       "      <th id=\"T_be8e6_level0_row2\" class=\"row_heading level0 row2\" >rf</th>\n",
       "      <td id=\"T_be8e6_row2_col0\" class=\"data row2 col0\" >Random Forest Classifier</td>\n",
       "      <td id=\"T_be8e6_row2_col1\" class=\"data row2 col1\" >0.6889</td>\n",
       "      <td id=\"T_be8e6_row2_col2\" class=\"data row2 col2\" >0.7576</td>\n",
       "      <td id=\"T_be8e6_row2_col3\" class=\"data row2 col3\" >0.6415</td>\n",
       "      <td id=\"T_be8e6_row2_col4\" class=\"data row2 col4\" >0.7531</td>\n",
       "      <td id=\"T_be8e6_row2_col5\" class=\"data row2 col5\" >0.6928</td>\n",
       "      <td id=\"T_be8e6_row2_col6\" class=\"data row2 col6\" >0.3818</td>\n",
       "      <td id=\"T_be8e6_row2_col7\" class=\"data row2 col7\" >0.3869</td>\n",
       "      <td id=\"T_be8e6_row2_col8\" class=\"data row2 col8\" >0.3520</td>\n",
       "    </tr>\n",
       "    <tr>\n",
       "      <th id=\"T_be8e6_level0_row3\" class=\"row_heading level0 row3\" >lda</th>\n",
       "      <td id=\"T_be8e6_row3_col0\" class=\"data row3 col0\" >Linear Discriminant Analysis</td>\n",
       "      <td id=\"T_be8e6_row3_col1\" class=\"data row3 col1\" >0.6866</td>\n",
       "      <td id=\"T_be8e6_row3_col2\" class=\"data row3 col2\" >0.7544</td>\n",
       "      <td id=\"T_be8e6_row3_col3\" class=\"data row3 col3\" >0.6426</td>\n",
       "      <td id=\"T_be8e6_row3_col4\" class=\"data row3 col4\" >0.7488</td>\n",
       "      <td id=\"T_be8e6_row3_col5\" class=\"data row3 col5\" >0.6916</td>\n",
       "      <td id=\"T_be8e6_row3_col6\" class=\"data row3 col6\" >0.3768</td>\n",
       "      <td id=\"T_be8e6_row3_col7\" class=\"data row3 col7\" >0.3814</td>\n",
       "      <td id=\"T_be8e6_row3_col8\" class=\"data row3 col8\" >0.0820</td>\n",
       "    </tr>\n",
       "    <tr>\n",
       "      <th id=\"T_be8e6_level0_row4\" class=\"row_heading level0 row4\" >ada</th>\n",
       "      <td id=\"T_be8e6_row4_col0\" class=\"data row4 col0\" >Ada Boost Classifier</td>\n",
       "      <td id=\"T_be8e6_row4_col1\" class=\"data row4 col1\" >0.6864</td>\n",
       "      <td id=\"T_be8e6_row4_col2\" class=\"data row4 col2\" >0.7542</td>\n",
       "      <td id=\"T_be8e6_row4_col3\" class=\"data row4 col3\" >0.6413</td>\n",
       "      <td id=\"T_be8e6_row4_col4\" class=\"data row4 col4\" >0.7491</td>\n",
       "      <td id=\"T_be8e6_row4_col5\" class=\"data row4 col5\" >0.6910</td>\n",
       "      <td id=\"T_be8e6_row4_col6\" class=\"data row4 col6\" >0.3765</td>\n",
       "      <td id=\"T_be8e6_row4_col7\" class=\"data row4 col7\" >0.3812</td>\n",
       "      <td id=\"T_be8e6_row4_col8\" class=\"data row4 col8\" >0.2380</td>\n",
       "    </tr>\n",
       "    <tr>\n",
       "      <th id=\"T_be8e6_level0_row5\" class=\"row_heading level0 row5\" >et</th>\n",
       "      <td id=\"T_be8e6_row5_col0\" class=\"data row5 col0\" >Extra Trees Classifier</td>\n",
       "      <td id=\"T_be8e6_row5_col1\" class=\"data row5 col1\" >0.6838</td>\n",
       "      <td id=\"T_be8e6_row5_col2\" class=\"data row5 col2\" >0.7516</td>\n",
       "      <td id=\"T_be8e6_row5_col3\" class=\"data row5 col3\" >0.6496</td>\n",
       "      <td id=\"T_be8e6_row5_col4\" class=\"data row5 col4\" >0.7404</td>\n",
       "      <td id=\"T_be8e6_row5_col5\" class=\"data row5 col5\" >0.6920</td>\n",
       "      <td id=\"T_be8e6_row5_col6\" class=\"data row5 col6\" >0.3699</td>\n",
       "      <td id=\"T_be8e6_row5_col7\" class=\"data row5 col7\" >0.3733</td>\n",
       "      <td id=\"T_be8e6_row5_col8\" class=\"data row5 col8\" >0.3710</td>\n",
       "    </tr>\n",
       "    <tr>\n",
       "      <th id=\"T_be8e6_level0_row6\" class=\"row_heading level0 row6\" >qda</th>\n",
       "      <td id=\"T_be8e6_row6_col0\" class=\"data row6 col0\" >Quadratic Discriminant Analysis</td>\n",
       "      <td id=\"T_be8e6_row6_col1\" class=\"data row6 col1\" >0.4785</td>\n",
       "      <td id=\"T_be8e6_row6_col2\" class=\"data row6 col2\" >0.7118</td>\n",
       "      <td id=\"T_be8e6_row6_col3\" class=\"data row6 col3\" >0.0776</td>\n",
       "      <td id=\"T_be8e6_row6_col4\" class=\"data row6 col4\" >0.7603</td>\n",
       "      <td id=\"T_be8e6_row6_col5\" class=\"data row6 col5\" >0.0959</td>\n",
       "      <td id=\"T_be8e6_row6_col6\" class=\"data row6 col6\" >0.0385</td>\n",
       "      <td id=\"T_be8e6_row6_col7\" class=\"data row6 col7\" >0.0737</td>\n",
       "      <td id=\"T_be8e6_row6_col8\" class=\"data row6 col8\" >0.0420</td>\n",
       "    </tr>\n",
       "    <tr>\n",
       "      <th id=\"T_be8e6_level0_row7\" class=\"row_heading level0 row7\" >lr</th>\n",
       "      <td id=\"T_be8e6_row7_col0\" class=\"data row7 col0\" >Logistic Regression</td>\n",
       "      <td id=\"T_be8e6_row7_col1\" class=\"data row7 col1\" >0.6157</td>\n",
       "      <td id=\"T_be8e6_row7_col2\" class=\"data row7 col2\" >0.6579</td>\n",
       "      <td id=\"T_be8e6_row7_col3\" class=\"data row7 col3\" >0.7507</td>\n",
       "      <td id=\"T_be8e6_row7_col4\" class=\"data row7 col4\" >0.6330</td>\n",
       "      <td id=\"T_be8e6_row7_col5\" class=\"data row7 col5\" >0.6817</td>\n",
       "      <td id=\"T_be8e6_row7_col6\" class=\"data row7 col6\" >0.2055</td>\n",
       "      <td id=\"T_be8e6_row7_col7\" class=\"data row7 col7\" >0.2115</td>\n",
       "      <td id=\"T_be8e6_row7_col8\" class=\"data row7 col8\" >0.7950</td>\n",
       "    </tr>\n",
       "    <tr>\n",
       "      <th id=\"T_be8e6_level0_row8\" class=\"row_heading level0 row8\" >dt</th>\n",
       "      <td id=\"T_be8e6_row8_col0\" class=\"data row8 col0\" >Decision Tree Classifier</td>\n",
       "      <td id=\"T_be8e6_row8_col1\" class=\"data row8 col1\" >0.6074</td>\n",
       "      <td id=\"T_be8e6_row8_col2\" class=\"data row8 col2\" >0.6035</td>\n",
       "      <td id=\"T_be8e6_row8_col3\" class=\"data row8 col3\" >0.6453</td>\n",
       "      <td id=\"T_be8e6_row8_col4\" class=\"data row8 col4\" >0.6398</td>\n",
       "      <td id=\"T_be8e6_row8_col5\" class=\"data row8 col5\" >0.6426</td>\n",
       "      <td id=\"T_be8e6_row8_col6\" class=\"data row8 col6\" >0.2072</td>\n",
       "      <td id=\"T_be8e6_row8_col7\" class=\"data row8 col7\" >0.2072</td>\n",
       "      <td id=\"T_be8e6_row8_col8\" class=\"data row8 col8\" >0.0660</td>\n",
       "    </tr>\n",
       "    <tr>\n",
       "      <th id=\"T_be8e6_level0_row9\" class=\"row_heading level0 row9\" >nb</th>\n",
       "      <td id=\"T_be8e6_row9_col0\" class=\"data row9 col0\" >Naive Bayes</td>\n",
       "      <td id=\"T_be8e6_row9_col1\" class=\"data row9 col1\" >0.4752</td>\n",
       "      <td id=\"T_be8e6_row9_col2\" class=\"data row9 col2\" >0.5518</td>\n",
       "      <td id=\"T_be8e6_row9_col3\" class=\"data row9 col3\" >0.0605</td>\n",
       "      <td id=\"T_be8e6_row9_col4\" class=\"data row9 col4\" >0.0749</td>\n",
       "      <td id=\"T_be8e6_row9_col5\" class=\"data row9 col5\" >0.0669</td>\n",
       "      <td id=\"T_be8e6_row9_col6\" class=\"data row9 col6\" >0.0353</td>\n",
       "      <td id=\"T_be8e6_row9_col7\" class=\"data row9 col7\" >0.0360</td>\n",
       "      <td id=\"T_be8e6_row9_col8\" class=\"data row9 col8\" >0.0330</td>\n",
       "    </tr>\n",
       "    <tr>\n",
       "      <th id=\"T_be8e6_level0_row10\" class=\"row_heading level0 row10\" >knn</th>\n",
       "      <td id=\"T_be8e6_row10_col0\" class=\"data row10 col0\" >K Neighbors Classifier</td>\n",
       "      <td id=\"T_be8e6_row10_col1\" class=\"data row10 col1\" >0.5137</td>\n",
       "      <td id=\"T_be8e6_row10_col2\" class=\"data row10 col2\" >0.5096</td>\n",
       "      <td id=\"T_be8e6_row10_col3\" class=\"data row10 col3\" >0.5938</td>\n",
       "      <td id=\"T_be8e6_row10_col4\" class=\"data row10 col4\" >0.5515</td>\n",
       "      <td id=\"T_be8e6_row10_col5\" class=\"data row10 col5\" >0.5718</td>\n",
       "      <td id=\"T_be8e6_row10_col6\" class=\"data row10 col6\" >0.0110</td>\n",
       "      <td id=\"T_be8e6_row10_col7\" class=\"data row10 col7\" >0.0111</td>\n",
       "      <td id=\"T_be8e6_row10_col8\" class=\"data row10 col8\" >0.3630</td>\n",
       "    </tr>\n",
       "    <tr>\n",
       "      <th id=\"T_be8e6_level0_row11\" class=\"row_heading level0 row11\" >dummy</th>\n",
       "      <td id=\"T_be8e6_row11_col0\" class=\"data row11 col0\" >Dummy Classifier</td>\n",
       "      <td id=\"T_be8e6_row11_col1\" class=\"data row11 col1\" >0.5468</td>\n",
       "      <td id=\"T_be8e6_row11_col2\" class=\"data row11 col2\" >0.5000</td>\n",
       "      <td id=\"T_be8e6_row11_col3\" class=\"data row11 col3\" >1.0000</td>\n",
       "      <td id=\"T_be8e6_row11_col4\" class=\"data row11 col4\" >0.5468</td>\n",
       "      <td id=\"T_be8e6_row11_col5\" class=\"data row11 col5\" >0.7070</td>\n",
       "      <td id=\"T_be8e6_row11_col6\" class=\"data row11 col6\" >0.0000</td>\n",
       "      <td id=\"T_be8e6_row11_col7\" class=\"data row11 col7\" >0.0000</td>\n",
       "      <td id=\"T_be8e6_row11_col8\" class=\"data row11 col8\" >0.0230</td>\n",
       "    </tr>\n",
       "    <tr>\n",
       "      <th id=\"T_be8e6_level0_row12\" class=\"row_heading level0 row12\" >svm</th>\n",
       "      <td id=\"T_be8e6_row12_col0\" class=\"data row12 col0\" >SVM - Linear Kernel</td>\n",
       "      <td id=\"T_be8e6_row12_col1\" class=\"data row12 col1\" >0.5035</td>\n",
       "      <td id=\"T_be8e6_row12_col2\" class=\"data row12 col2\" >0.0000</td>\n",
       "      <td id=\"T_be8e6_row12_col3\" class=\"data row12 col3\" >0.5015</td>\n",
       "      <td id=\"T_be8e6_row12_col4\" class=\"data row12 col4\" >0.4952</td>\n",
       "      <td id=\"T_be8e6_row12_col5\" class=\"data row12 col5\" >0.4972</td>\n",
       "      <td id=\"T_be8e6_row12_col6\" class=\"data row12 col6\" >0.0075</td>\n",
       "      <td id=\"T_be8e6_row12_col7\" class=\"data row12 col7\" >0.0057</td>\n",
       "      <td id=\"T_be8e6_row12_col8\" class=\"data row12 col8\" >0.9000</td>\n",
       "    </tr>\n",
       "    <tr>\n",
       "      <th id=\"T_be8e6_level0_row13\" class=\"row_heading level0 row13\" >ridge</th>\n",
       "      <td id=\"T_be8e6_row13_col0\" class=\"data row13 col0\" >Ridge Classifier</td>\n",
       "      <td id=\"T_be8e6_row13_col1\" class=\"data row13 col1\" >0.6868</td>\n",
       "      <td id=\"T_be8e6_row13_col2\" class=\"data row13 col2\" >0.0000</td>\n",
       "      <td id=\"T_be8e6_row13_col3\" class=\"data row13 col3\" >0.6429</td>\n",
       "      <td id=\"T_be8e6_row13_col4\" class=\"data row13 col4\" >0.7488</td>\n",
       "      <td id=\"T_be8e6_row13_col5\" class=\"data row13 col5\" >0.6918</td>\n",
       "      <td id=\"T_be8e6_row13_col6\" class=\"data row13 col6\" >0.3771</td>\n",
       "      <td id=\"T_be8e6_row13_col7\" class=\"data row13 col7\" >0.3817</td>\n",
       "      <td id=\"T_be8e6_row13_col8\" class=\"data row13 col8\" >0.0320</td>\n",
       "    </tr>\n",
       "  </tbody>\n",
       "</table>\n"
      ],
      "text/plain": [
       "<pandas.io.formats.style.Styler at 0x259c6484ac0>"
      ]
     },
     "metadata": {},
     "output_type": "display_data"
    },
    {
     "data": {
      "text/html": [],
      "text/plain": [
       "<IPython.core.display.HTML object>"
      ]
     },
     "metadata": {},
     "output_type": "display_data"
    }
   ],
   "source": [
    "best_3 = compare_models(sort = 'AUC', n_select = 3)"
   ]
  },
  {
   "cell_type": "code",
   "execution_count": 22,
   "id": "4039d76e",
   "metadata": {},
   "outputs": [],
   "source": [
    "tuned_best_3=[tune_model(i, fold=10, round=4, n_iter=10, custom_grid = None, optimize = 'AUC', choose_better = True, verbose = False) for i in best_3]"
   ]
  },
  {
   "cell_type": "markdown",
   "id": "59000eb8",
   "metadata": {},
   "source": [
    "# 모델 앙상블 (Model Ensemble)"
   ]
  },
  {
   "cell_type": "code",
   "execution_count": 23,
   "id": "6fc19285",
   "metadata": {
    "scrolled": false
   },
   "outputs": [
    {
     "data": {
      "text/html": [],
      "text/plain": [
       "<IPython.core.display.HTML object>"
      ]
     },
     "metadata": {},
     "output_type": "display_data"
    },
    {
     "data": {
      "text/html": [
       "<style type=\"text/css\">\n",
       "#T_d3041_row5_col0, #T_d3041_row5_col1, #T_d3041_row5_col2, #T_d3041_row5_col3, #T_d3041_row5_col4, #T_d3041_row5_col5, #T_d3041_row5_col6 {\n",
       "  background: yellow;\n",
       "}\n",
       "</style>\n",
       "<table id=\"T_d3041\">\n",
       "  <thead>\n",
       "    <tr>\n",
       "      <th class=\"blank level0\" >&nbsp;</th>\n",
       "      <th id=\"T_d3041_level0_col0\" class=\"col_heading level0 col0\" >Accuracy</th>\n",
       "      <th id=\"T_d3041_level0_col1\" class=\"col_heading level0 col1\" >AUC</th>\n",
       "      <th id=\"T_d3041_level0_col2\" class=\"col_heading level0 col2\" >Recall</th>\n",
       "      <th id=\"T_d3041_level0_col3\" class=\"col_heading level0 col3\" >Prec.</th>\n",
       "      <th id=\"T_d3041_level0_col4\" class=\"col_heading level0 col4\" >F1</th>\n",
       "      <th id=\"T_d3041_level0_col5\" class=\"col_heading level0 col5\" >Kappa</th>\n",
       "      <th id=\"T_d3041_level0_col6\" class=\"col_heading level0 col6\" >MCC</th>\n",
       "    </tr>\n",
       "    <tr>\n",
       "      <th class=\"index_name level0\" >Fold</th>\n",
       "      <th class=\"blank col0\" >&nbsp;</th>\n",
       "      <th class=\"blank col1\" >&nbsp;</th>\n",
       "      <th class=\"blank col2\" >&nbsp;</th>\n",
       "      <th class=\"blank col3\" >&nbsp;</th>\n",
       "      <th class=\"blank col4\" >&nbsp;</th>\n",
       "      <th class=\"blank col5\" >&nbsp;</th>\n",
       "      <th class=\"blank col6\" >&nbsp;</th>\n",
       "    </tr>\n",
       "  </thead>\n",
       "  <tbody>\n",
       "    <tr>\n",
       "      <th id=\"T_d3041_level0_row0\" class=\"row_heading level0 row0\" >0</th>\n",
       "      <td id=\"T_d3041_row0_col0\" class=\"data row0 col0\" >0.6952</td>\n",
       "      <td id=\"T_d3041_row0_col1\" class=\"data row0 col1\" >0.7665</td>\n",
       "      <td id=\"T_d3041_row0_col2\" class=\"data row0 col2\" >0.6076</td>\n",
       "      <td id=\"T_d3041_row0_col3\" class=\"data row0 col3\" >0.7865</td>\n",
       "      <td id=\"T_d3041_row0_col4\" class=\"data row0 col4\" >0.6855</td>\n",
       "      <td id=\"T_d3041_row0_col5\" class=\"data row0 col5\" >0.3992</td>\n",
       "      <td id=\"T_d3041_row0_col6\" class=\"data row0 col6\" >0.4117</td>\n",
       "    </tr>\n",
       "    <tr>\n",
       "      <th id=\"T_d3041_level0_row1\" class=\"row_heading level0 row1\" >1</th>\n",
       "      <td id=\"T_d3041_row1_col0\" class=\"data row1 col0\" >0.7064</td>\n",
       "      <td id=\"T_d3041_row1_col1\" class=\"data row1 col1\" >0.7749</td>\n",
       "      <td id=\"T_d3041_row1_col2\" class=\"data row1 col2\" >0.6231</td>\n",
       "      <td id=\"T_d3041_row1_col3\" class=\"data row1 col3\" >0.7956</td>\n",
       "      <td id=\"T_d3041_row1_col4\" class=\"data row1 col4\" >0.6988</td>\n",
       "      <td id=\"T_d3041_row1_col5\" class=\"data row1 col5\" >0.4205</td>\n",
       "      <td id=\"T_d3041_row1_col6\" class=\"data row1 col6\" >0.4325</td>\n",
       "    </tr>\n",
       "    <tr>\n",
       "      <th id=\"T_d3041_level0_row2\" class=\"row_heading level0 row2\" >2</th>\n",
       "      <td id=\"T_d3041_row2_col0\" class=\"data row2 col0\" >0.6884</td>\n",
       "      <td id=\"T_d3041_row2_col1\" class=\"data row2 col1\" >0.7615</td>\n",
       "      <td id=\"T_d3041_row2_col2\" class=\"data row2 col2\" >0.6046</td>\n",
       "      <td id=\"T_d3041_row2_col3\" class=\"data row2 col3\" >0.7761</td>\n",
       "      <td id=\"T_d3041_row2_col4\" class=\"data row2 col4\" >0.6797</td>\n",
       "      <td id=\"T_d3041_row2_col5\" class=\"data row2 col5\" >0.3854</td>\n",
       "      <td id=\"T_d3041_row2_col6\" class=\"data row2 col6\" >0.3968</td>\n",
       "    </tr>\n",
       "    <tr>\n",
       "      <th id=\"T_d3041_level0_row3\" class=\"row_heading level0 row3\" >3</th>\n",
       "      <td id=\"T_d3041_row3_col0\" class=\"data row3 col0\" >0.6883</td>\n",
       "      <td id=\"T_d3041_row3_col1\" class=\"data row3 col1\" >0.7597</td>\n",
       "      <td id=\"T_d3041_row3_col2\" class=\"data row3 col2\" >0.5977</td>\n",
       "      <td id=\"T_d3041_row3_col3\" class=\"data row3 col3\" >0.7807</td>\n",
       "      <td id=\"T_d3041_row3_col4\" class=\"data row3 col4\" >0.6771</td>\n",
       "      <td id=\"T_d3041_row3_col5\" class=\"data row3 col5\" >0.3859</td>\n",
       "      <td id=\"T_d3041_row3_col6\" class=\"data row3 col6\" >0.3988</td>\n",
       "    </tr>\n",
       "    <tr>\n",
       "      <th id=\"T_d3041_level0_row4\" class=\"row_heading level0 row4\" >4</th>\n",
       "      <td id=\"T_d3041_row4_col0\" class=\"data row4 col0\" >0.6901</td>\n",
       "      <td id=\"T_d3041_row4_col1\" class=\"data row4 col1\" >0.7559</td>\n",
       "      <td id=\"T_d3041_row4_col2\" class=\"data row4 col2\" >0.6053</td>\n",
       "      <td id=\"T_d3041_row4_col3\" class=\"data row4 col3\" >0.7789</td>\n",
       "      <td id=\"T_d3041_row4_col4\" class=\"data row4 col4\" >0.6812</td>\n",
       "      <td id=\"T_d3041_row4_col5\" class=\"data row4 col5\" >0.3889</td>\n",
       "      <td id=\"T_d3041_row4_col6\" class=\"data row4 col6\" >0.4006</td>\n",
       "    </tr>\n",
       "    <tr>\n",
       "      <th id=\"T_d3041_level0_row5\" class=\"row_heading level0 row5\" >Mean</th>\n",
       "      <td id=\"T_d3041_row5_col0\" class=\"data row5 col0\" >0.6937</td>\n",
       "      <td id=\"T_d3041_row5_col1\" class=\"data row5 col1\" >0.7637</td>\n",
       "      <td id=\"T_d3041_row5_col2\" class=\"data row5 col2\" >0.6076</td>\n",
       "      <td id=\"T_d3041_row5_col3\" class=\"data row5 col3\" >0.7836</td>\n",
       "      <td id=\"T_d3041_row5_col4\" class=\"data row5 col4\" >0.6845</td>\n",
       "      <td id=\"T_d3041_row5_col5\" class=\"data row5 col5\" >0.3960</td>\n",
       "      <td id=\"T_d3041_row5_col6\" class=\"data row5 col6\" >0.4081</td>\n",
       "    </tr>\n",
       "    <tr>\n",
       "      <th id=\"T_d3041_level0_row6\" class=\"row_heading level0 row6\" >Std</th>\n",
       "      <td id=\"T_d3041_row6_col0\" class=\"data row6 col0\" >0.0068</td>\n",
       "      <td id=\"T_d3041_row6_col1\" class=\"data row6 col1\" >0.0065</td>\n",
       "      <td id=\"T_d3041_row6_col2\" class=\"data row6 col2\" >0.0084</td>\n",
       "      <td id=\"T_d3041_row6_col3\" class=\"data row6 col3\" >0.0069</td>\n",
       "      <td id=\"T_d3041_row6_col4\" class=\"data row6 col4\" >0.0077</td>\n",
       "      <td id=\"T_d3041_row6_col5\" class=\"data row6 col5\" >0.0132</td>\n",
       "      <td id=\"T_d3041_row6_col6\" class=\"data row6 col6\" >0.0133</td>\n",
       "    </tr>\n",
       "  </tbody>\n",
       "</table>\n"
      ],
      "text/plain": [
       "<pandas.io.formats.style.Styler at 0x259c3a85700>"
      ]
     },
     "metadata": {},
     "output_type": "display_data"
    },
    {
     "data": {
      "text/html": [],
      "text/plain": [
       "<IPython.core.display.HTML object>"
      ]
     },
     "metadata": {},
     "output_type": "display_data"
    }
   ],
   "source": [
    "blender_best3 = blend_models(estimator_list = tuned_best_3, fold = 5, method = 'soft')"
   ]
  },
  {
   "cell_type": "markdown",
   "id": "bdd4eaf0",
   "metadata": {},
   "source": [
    "# 모델 예측 (Prediction)"
   ]
  },
  {
   "cell_type": "code",
   "execution_count": 24,
   "id": "dcdbf28f",
   "metadata": {},
   "outputs": [
    {
     "data": {
      "text/html": [
       "<style type=\"text/css\">\n",
       "</style>\n",
       "<table id=\"T_58738\">\n",
       "  <thead>\n",
       "    <tr>\n",
       "      <th class=\"blank level0\" >&nbsp;</th>\n",
       "      <th id=\"T_58738_level0_col0\" class=\"col_heading level0 col0\" >Model</th>\n",
       "      <th id=\"T_58738_level0_col1\" class=\"col_heading level0 col1\" >Accuracy</th>\n",
       "      <th id=\"T_58738_level0_col2\" class=\"col_heading level0 col2\" >AUC</th>\n",
       "      <th id=\"T_58738_level0_col3\" class=\"col_heading level0 col3\" >Recall</th>\n",
       "      <th id=\"T_58738_level0_col4\" class=\"col_heading level0 col4\" >Prec.</th>\n",
       "      <th id=\"T_58738_level0_col5\" class=\"col_heading level0 col5\" >F1</th>\n",
       "      <th id=\"T_58738_level0_col6\" class=\"col_heading level0 col6\" >Kappa</th>\n",
       "      <th id=\"T_58738_level0_col7\" class=\"col_heading level0 col7\" >MCC</th>\n",
       "    </tr>\n",
       "  </thead>\n",
       "  <tbody>\n",
       "    <tr>\n",
       "      <th id=\"T_58738_level0_row0\" class=\"row_heading level0 row0\" >0</th>\n",
       "      <td id=\"T_58738_row0_col0\" class=\"data row0 col0\" >Voting Classifier</td>\n",
       "      <td id=\"T_58738_row0_col1\" class=\"data row0 col1\" >0.7020</td>\n",
       "      <td id=\"T_58738_row0_col2\" class=\"data row0 col2\" >0.7725</td>\n",
       "      <td id=\"T_58738_row0_col3\" class=\"data row0 col3\" >0</td>\n",
       "      <td id=\"T_58738_row0_col4\" class=\"data row0 col4\" >0</td>\n",
       "      <td id=\"T_58738_row0_col5\" class=\"data row0 col5\" >0</td>\n",
       "      <td id=\"T_58738_row0_col6\" class=\"data row0 col6\" >0.4122</td>\n",
       "      <td id=\"T_58738_row0_col7\" class=\"data row0 col7\" >0.4244</td>\n",
       "    </tr>\n",
       "  </tbody>\n",
       "</table>\n"
      ],
      "text/plain": [
       "<pandas.io.formats.style.Styler at 0x259c3a85490>"
      ]
     },
     "metadata": {},
     "output_type": "display_data"
    }
   ],
   "source": [
    "pred_holdout = predict_model(blender_best3)"
   ]
  },
  {
   "cell_type": "markdown",
   "id": "63e0eb80",
   "metadata": {},
   "source": [
    "# 전체 데이터에 대한 재학습 (Re-training the model on whole data)"
   ]
  },
  {
   "cell_type": "code",
   "execution_count": 25,
   "id": "1baef9de",
   "metadata": {},
   "outputs": [],
   "source": [
    "final_model = finalize_model(blender_best3)"
   ]
  },
  {
   "cell_type": "code",
   "execution_count": 26,
   "id": "dc174b95",
   "metadata": {
    "scrolled": true
   },
   "outputs": [
    {
     "data": {
      "text/html": [
       "<style type=\"text/css\">\n",
       "</style>\n",
       "<table id=\"T_b3f37\">\n",
       "  <thead>\n",
       "    <tr>\n",
       "      <th class=\"blank level0\" >&nbsp;</th>\n",
       "      <th id=\"T_b3f37_level0_col0\" class=\"col_heading level0 col0\" >Model</th>\n",
       "      <th id=\"T_b3f37_level0_col1\" class=\"col_heading level0 col1\" >Accuracy</th>\n",
       "      <th id=\"T_b3f37_level0_col2\" class=\"col_heading level0 col2\" >AUC</th>\n",
       "      <th id=\"T_b3f37_level0_col3\" class=\"col_heading level0 col3\" >Recall</th>\n",
       "      <th id=\"T_b3f37_level0_col4\" class=\"col_heading level0 col4\" >Prec.</th>\n",
       "      <th id=\"T_b3f37_level0_col5\" class=\"col_heading level0 col5\" >F1</th>\n",
       "      <th id=\"T_b3f37_level0_col6\" class=\"col_heading level0 col6\" >Kappa</th>\n",
       "      <th id=\"T_b3f37_level0_col7\" class=\"col_heading level0 col7\" >MCC</th>\n",
       "    </tr>\n",
       "  </thead>\n",
       "  <tbody>\n",
       "    <tr>\n",
       "      <th id=\"T_b3f37_level0_row0\" class=\"row_heading level0 row0\" >0</th>\n",
       "      <td id=\"T_b3f37_row0_col0\" class=\"data row0 col0\" >Voting Classifier</td>\n",
       "      <td id=\"T_b3f37_row0_col1\" class=\"data row0 col1\" >0.7253</td>\n",
       "      <td id=\"T_b3f37_row0_col2\" class=\"data row0 col2\" >0.8075</td>\n",
       "      <td id=\"T_b3f37_row0_col3\" class=\"data row0 col3\" >0</td>\n",
       "      <td id=\"T_b3f37_row0_col4\" class=\"data row0 col4\" >0</td>\n",
       "      <td id=\"T_b3f37_row0_col5\" class=\"data row0 col5\" >0</td>\n",
       "      <td id=\"T_b3f37_row0_col6\" class=\"data row0 col6\" >0.4583</td>\n",
       "      <td id=\"T_b3f37_row0_col7\" class=\"data row0 col7\" >0.4723</td>\n",
       "    </tr>\n",
       "  </tbody>\n",
       "</table>\n"
      ],
      "text/plain": [
       "<pandas.io.formats.style.Styler at 0x259ccfa21f0>"
      ]
     },
     "metadata": {},
     "output_type": "display_data"
    }
   ],
   "source": [
    "pred_holdout = predict_model(final_model)"
   ]
  },
  {
   "cell_type": "markdown",
   "id": "9f77f484",
   "metadata": {},
   "source": [
    "# 대회용 test set에 대한 예측 (Predicting on test set for the competition)"
   ]
  },
  {
   "cell_type": "code",
   "execution_count": 27,
   "id": "087eee5b",
   "metadata": {},
   "outputs": [
    {
     "name": "stdout",
     "output_type": "stream",
     "text": [
      "train : (45532, 50)\n",
      "test : (11383, 49)\n"
     ]
    }
   ],
   "source": [
    "print(\"train :\",train.shape)\n",
    "print(\"test :\",test.shape)"
   ]
  },
  {
   "cell_type": "code",
   "execution_count": 28,
   "id": "790ead68",
   "metadata": {
    "scrolled": false
   },
   "outputs": [
    {
     "data": {
      "text/html": [],
      "text/plain": [
       "<IPython.core.display.HTML object>"
      ]
     },
     "metadata": {},
     "output_type": "display_data"
    },
    {
     "data": {
      "text/html": [
       "<div>\n",
       "<style scoped>\n",
       "    .dataframe tbody tr th:only-of-type {\n",
       "        vertical-align: middle;\n",
       "    }\n",
       "\n",
       "    .dataframe tbody tr th {\n",
       "        vertical-align: top;\n",
       "    }\n",
       "\n",
       "    .dataframe thead th {\n",
       "        text-align: right;\n",
       "    }\n",
       "</style>\n",
       "<table border=\"1\" class=\"dataframe\">\n",
       "  <thead>\n",
       "    <tr style=\"text-align: right;\">\n",
       "      <th></th>\n",
       "      <th>engnat</th>\n",
       "      <th>familysize</th>\n",
       "      <th>married</th>\n",
       "      <th>wr_01</th>\n",
       "      <th>wr_03</th>\n",
       "      <th>wr_05</th>\n",
       "      <th>wr_06</th>\n",
       "      <th>wr_09</th>\n",
       "      <th>wr_11</th>\n",
       "      <th>p_time</th>\n",
       "      <th>...</th>\n",
       "      <th>education_4</th>\n",
       "      <th>Mach_score</th>\n",
       "      <th>tp0106</th>\n",
       "      <th>tp0207</th>\n",
       "      <th>tp0308</th>\n",
       "      <th>tp0409</th>\n",
       "      <th>tp0510</th>\n",
       "      <th>is10s</th>\n",
       "      <th>Label</th>\n",
       "      <th>Score</th>\n",
       "    </tr>\n",
       "  </thead>\n",
       "  <tbody>\n",
       "    <tr>\n",
       "      <th>0</th>\n",
       "      <td>2.0</td>\n",
       "      <td>3.0</td>\n",
       "      <td>1.0</td>\n",
       "      <td>0.0</td>\n",
       "      <td>0.0</td>\n",
       "      <td>1.0</td>\n",
       "      <td>0.0</td>\n",
       "      <td>0.0</td>\n",
       "      <td>0.0</td>\n",
       "      <td>29074.0</td>\n",
       "      <td>...</td>\n",
       "      <td>0.0</td>\n",
       "      <td>2.45</td>\n",
       "      <td>7.0</td>\n",
       "      <td>6.0</td>\n",
       "      <td>5.0</td>\n",
       "      <td>7.0</td>\n",
       "      <td>4.0</td>\n",
       "      <td>1.0</td>\n",
       "      <td>2</td>\n",
       "      <td>0.6311</td>\n",
       "    </tr>\n",
       "    <tr>\n",
       "      <th>1</th>\n",
       "      <td>2.0</td>\n",
       "      <td>2.0</td>\n",
       "      <td>1.0</td>\n",
       "      <td>0.0</td>\n",
       "      <td>0.0</td>\n",
       "      <td>0.0</td>\n",
       "      <td>0.0</td>\n",
       "      <td>0.0</td>\n",
       "      <td>0.0</td>\n",
       "      <td>15497.0</td>\n",
       "      <td>...</td>\n",
       "      <td>0.0</td>\n",
       "      <td>2.80</td>\n",
       "      <td>7.0</td>\n",
       "      <td>7.0</td>\n",
       "      <td>7.0</td>\n",
       "      <td>7.0</td>\n",
       "      <td>7.0</td>\n",
       "      <td>1.0</td>\n",
       "      <td>2</td>\n",
       "      <td>0.8808</td>\n",
       "    </tr>\n",
       "    <tr>\n",
       "      <th>2</th>\n",
       "      <td>2.0</td>\n",
       "      <td>7.0</td>\n",
       "      <td>2.0</td>\n",
       "      <td>0.0</td>\n",
       "      <td>0.0</td>\n",
       "      <td>1.0</td>\n",
       "      <td>0.0</td>\n",
       "      <td>0.0</td>\n",
       "      <td>0.0</td>\n",
       "      <td>10899.0</td>\n",
       "      <td>...</td>\n",
       "      <td>0.0</td>\n",
       "      <td>3.55</td>\n",
       "      <td>12.0</td>\n",
       "      <td>7.0</td>\n",
       "      <td>8.0</td>\n",
       "      <td>3.0</td>\n",
       "      <td>12.0</td>\n",
       "      <td>0.0</td>\n",
       "      <td>1</td>\n",
       "      <td>0.5761</td>\n",
       "    </tr>\n",
       "    <tr>\n",
       "      <th>3</th>\n",
       "      <td>1.0</td>\n",
       "      <td>4.0</td>\n",
       "      <td>2.0</td>\n",
       "      <td>1.0</td>\n",
       "      <td>1.0</td>\n",
       "      <td>1.0</td>\n",
       "      <td>1.0</td>\n",
       "      <td>1.0</td>\n",
       "      <td>1.0</td>\n",
       "      <td>12223.0</td>\n",
       "      <td>...</td>\n",
       "      <td>1.0</td>\n",
       "      <td>3.35</td>\n",
       "      <td>1.0</td>\n",
       "      <td>12.0</td>\n",
       "      <td>3.0</td>\n",
       "      <td>12.0</td>\n",
       "      <td>1.0</td>\n",
       "      <td>0.0</td>\n",
       "      <td>1</td>\n",
       "      <td>0.8006</td>\n",
       "    </tr>\n",
       "    <tr>\n",
       "      <th>4</th>\n",
       "      <td>1.0</td>\n",
       "      <td>3.0</td>\n",
       "      <td>1.0</td>\n",
       "      <td>1.0</td>\n",
       "      <td>0.0</td>\n",
       "      <td>1.0</td>\n",
       "      <td>0.0</td>\n",
       "      <td>0.0</td>\n",
       "      <td>1.0</td>\n",
       "      <td>8982.0</td>\n",
       "      <td>...</td>\n",
       "      <td>0.0</td>\n",
       "      <td>2.90</td>\n",
       "      <td>12.0</td>\n",
       "      <td>3.0</td>\n",
       "      <td>7.0</td>\n",
       "      <td>5.0</td>\n",
       "      <td>7.0</td>\n",
       "      <td>1.0</td>\n",
       "      <td>2</td>\n",
       "      <td>0.7782</td>\n",
       "    </tr>\n",
       "    <tr>\n",
       "      <th>...</th>\n",
       "      <td>...</td>\n",
       "      <td>...</td>\n",
       "      <td>...</td>\n",
       "      <td>...</td>\n",
       "      <td>...</td>\n",
       "      <td>...</td>\n",
       "      <td>...</td>\n",
       "      <td>...</td>\n",
       "      <td>...</td>\n",
       "      <td>...</td>\n",
       "      <td>...</td>\n",
       "      <td>...</td>\n",
       "      <td>...</td>\n",
       "      <td>...</td>\n",
       "      <td>...</td>\n",
       "      <td>...</td>\n",
       "      <td>...</td>\n",
       "      <td>...</td>\n",
       "      <td>...</td>\n",
       "      <td>...</td>\n",
       "      <td>...</td>\n",
       "    </tr>\n",
       "    <tr>\n",
       "      <th>11378</th>\n",
       "      <td>2.0</td>\n",
       "      <td>3.0</td>\n",
       "      <td>1.0</td>\n",
       "      <td>1.0</td>\n",
       "      <td>0.0</td>\n",
       "      <td>1.0</td>\n",
       "      <td>0.0</td>\n",
       "      <td>0.0</td>\n",
       "      <td>0.0</td>\n",
       "      <td>8368.0</td>\n",
       "      <td>...</td>\n",
       "      <td>0.0</td>\n",
       "      <td>3.20</td>\n",
       "      <td>4.0</td>\n",
       "      <td>6.0</td>\n",
       "      <td>7.0</td>\n",
       "      <td>6.0</td>\n",
       "      <td>2.0</td>\n",
       "      <td>0.0</td>\n",
       "      <td>1</td>\n",
       "      <td>0.5497</td>\n",
       "    </tr>\n",
       "    <tr>\n",
       "      <th>11379</th>\n",
       "      <td>2.0</td>\n",
       "      <td>1.0</td>\n",
       "      <td>1.0</td>\n",
       "      <td>1.0</td>\n",
       "      <td>1.0</td>\n",
       "      <td>1.0</td>\n",
       "      <td>1.0</td>\n",
       "      <td>1.0</td>\n",
       "      <td>1.0</td>\n",
       "      <td>6097.0</td>\n",
       "      <td>...</td>\n",
       "      <td>0.0</td>\n",
       "      <td>4.55</td>\n",
       "      <td>3.0</td>\n",
       "      <td>7.0</td>\n",
       "      <td>9.0</td>\n",
       "      <td>1.0</td>\n",
       "      <td>3.0</td>\n",
       "      <td>1.0</td>\n",
       "      <td>2</td>\n",
       "      <td>0.8713</td>\n",
       "    </tr>\n",
       "    <tr>\n",
       "      <th>11380</th>\n",
       "      <td>1.0</td>\n",
       "      <td>4.0</td>\n",
       "      <td>2.0</td>\n",
       "      <td>1.0</td>\n",
       "      <td>1.0</td>\n",
       "      <td>1.0</td>\n",
       "      <td>0.0</td>\n",
       "      <td>0.0</td>\n",
       "      <td>0.0</td>\n",
       "      <td>7994.0</td>\n",
       "      <td>...</td>\n",
       "      <td>1.0</td>\n",
       "      <td>3.15</td>\n",
       "      <td>9.0</td>\n",
       "      <td>8.0</td>\n",
       "      <td>2.0</td>\n",
       "      <td>12.0</td>\n",
       "      <td>3.0</td>\n",
       "      <td>0.0</td>\n",
       "      <td>1</td>\n",
       "      <td>0.7232</td>\n",
       "    </tr>\n",
       "    <tr>\n",
       "      <th>11381</th>\n",
       "      <td>1.0</td>\n",
       "      <td>3.0</td>\n",
       "      <td>2.0</td>\n",
       "      <td>1.0</td>\n",
       "      <td>0.0</td>\n",
       "      <td>0.0</td>\n",
       "      <td>0.0</td>\n",
       "      <td>0.0</td>\n",
       "      <td>1.0</td>\n",
       "      <td>22938.0</td>\n",
       "      <td>...</td>\n",
       "      <td>0.0</td>\n",
       "      <td>3.05</td>\n",
       "      <td>9.0</td>\n",
       "      <td>12.0</td>\n",
       "      <td>2.0</td>\n",
       "      <td>12.0</td>\n",
       "      <td>2.0</td>\n",
       "      <td>0.0</td>\n",
       "      <td>1</td>\n",
       "      <td>0.6619</td>\n",
       "    </tr>\n",
       "    <tr>\n",
       "      <th>11382</th>\n",
       "      <td>2.0</td>\n",
       "      <td>2.0</td>\n",
       "      <td>1.0</td>\n",
       "      <td>0.0</td>\n",
       "      <td>0.0</td>\n",
       "      <td>0.0</td>\n",
       "      <td>1.0</td>\n",
       "      <td>0.0</td>\n",
       "      <td>1.0</td>\n",
       "      <td>20619.0</td>\n",
       "      <td>...</td>\n",
       "      <td>1.0</td>\n",
       "      <td>3.40</td>\n",
       "      <td>8.0</td>\n",
       "      <td>9.0</td>\n",
       "      <td>4.0</td>\n",
       "      <td>2.0</td>\n",
       "      <td>1.0</td>\n",
       "      <td>0.0</td>\n",
       "      <td>2</td>\n",
       "      <td>0.5812</td>\n",
       "    </tr>\n",
       "  </tbody>\n",
       "</table>\n",
       "<p>11383 rows × 49 columns</p>\n",
       "</div>"
      ],
      "text/plain": [
       "       engnat  familysize  married  wr_01  wr_03  wr_05  wr_06  wr_09  wr_11  \\\n",
       "0         2.0         3.0      1.0    0.0    0.0    1.0    0.0    0.0    0.0   \n",
       "1         2.0         2.0      1.0    0.0    0.0    0.0    0.0    0.0    0.0   \n",
       "2         2.0         7.0      2.0    0.0    0.0    1.0    0.0    0.0    0.0   \n",
       "3         1.0         4.0      2.0    1.0    1.0    1.0    1.0    1.0    1.0   \n",
       "4         1.0         3.0      1.0    1.0    0.0    1.0    0.0    0.0    1.0   \n",
       "...       ...         ...      ...    ...    ...    ...    ...    ...    ...   \n",
       "11378     2.0         3.0      1.0    1.0    0.0    1.0    0.0    0.0    0.0   \n",
       "11379     2.0         1.0      1.0    1.0    1.0    1.0    1.0    1.0    1.0   \n",
       "11380     1.0         4.0      2.0    1.0    1.0    1.0    0.0    0.0    0.0   \n",
       "11381     1.0         3.0      2.0    1.0    0.0    0.0    0.0    0.0    1.0   \n",
       "11382     2.0         2.0      1.0    0.0    0.0    0.0    1.0    0.0    1.0   \n",
       "\n",
       "        p_time  ...  education_4  Mach_score  tp0106  tp0207  tp0308  tp0409  \\\n",
       "0      29074.0  ...          0.0        2.45     7.0     6.0     5.0     7.0   \n",
       "1      15497.0  ...          0.0        2.80     7.0     7.0     7.0     7.0   \n",
       "2      10899.0  ...          0.0        3.55    12.0     7.0     8.0     3.0   \n",
       "3      12223.0  ...          1.0        3.35     1.0    12.0     3.0    12.0   \n",
       "4       8982.0  ...          0.0        2.90    12.0     3.0     7.0     5.0   \n",
       "...        ...  ...          ...         ...     ...     ...     ...     ...   \n",
       "11378   8368.0  ...          0.0        3.20     4.0     6.0     7.0     6.0   \n",
       "11379   6097.0  ...          0.0        4.55     3.0     7.0     9.0     1.0   \n",
       "11380   7994.0  ...          1.0        3.15     9.0     8.0     2.0    12.0   \n",
       "11381  22938.0  ...          0.0        3.05     9.0    12.0     2.0    12.0   \n",
       "11382  20619.0  ...          1.0        3.40     8.0     9.0     4.0     2.0   \n",
       "\n",
       "       tp0510  is10s  Label   Score  \n",
       "0         4.0    1.0      2  0.6311  \n",
       "1         7.0    1.0      2  0.8808  \n",
       "2        12.0    0.0      1  0.5761  \n",
       "3         1.0    0.0      1  0.8006  \n",
       "4         7.0    1.0      2  0.7782  \n",
       "...       ...    ...    ...     ...  \n",
       "11378     2.0    0.0      1  0.5497  \n",
       "11379     3.0    1.0      2  0.8713  \n",
       "11380     3.0    0.0      1  0.7232  \n",
       "11381     2.0    0.0      1  0.6619  \n",
       "11382     1.0    0.0      2  0.5812  \n",
       "\n",
       "[11383 rows x 49 columns]"
      ]
     },
     "execution_count": 28,
     "metadata": {},
     "output_type": "execute_result"
    }
   ],
   "source": [
    "predictions = predict_model(final_model, data = test)\n",
    "predictions"
   ]
  },
  {
   "cell_type": "code",
   "execution_count": 29,
   "id": "718f12ee",
   "metadata": {},
   "outputs": [],
   "source": [
    "submission= pd.read_csv('./sample_submission.csv')"
   ]
  },
  {
   "cell_type": "code",
   "execution_count": 30,
   "id": "97beb3d5",
   "metadata": {},
   "outputs": [],
   "source": [
    "submission['voted'] = predictions['Label']"
   ]
  },
  {
   "cell_type": "code",
   "execution_count": 31,
   "id": "523c1844",
   "metadata": {},
   "outputs": [],
   "source": [
    "submission.to_csv('submission_proba.csv', index = False)"
   ]
  },
  {
   "cell_type": "code",
   "execution_count": 32,
   "id": "0caea7d1",
   "metadata": {},
   "outputs": [
    {
     "data": {
      "text/plain": [
       "count    11383.000000\n",
       "mean         1.424317\n",
       "std          0.494261\n",
       "min          1.000000\n",
       "25%          1.000000\n",
       "50%          1.000000\n",
       "75%          2.000000\n",
       "max          2.000000\n",
       "Name: voted, dtype: float64"
      ]
     },
     "execution_count": 32,
     "metadata": {},
     "output_type": "execute_result"
    }
   ],
   "source": [
    "submission['voted'].describe()"
   ]
  },
  {
   "cell_type": "code",
   "execution_count": 33,
   "id": "a898450f",
   "metadata": {
    "scrolled": true
   },
   "outputs": [
    {
     "data": {
      "text/plain": [
       "0        2\n",
       "1        2\n",
       "2        1\n",
       "3        1\n",
       "4        2\n",
       "        ..\n",
       "11378    1\n",
       "11379    2\n",
       "11380    1\n",
       "11381    1\n",
       "11382    2\n",
       "Name: voted, Length: 11383, dtype: int8"
      ]
     },
     "execution_count": 33,
     "metadata": {},
     "output_type": "execute_result"
    }
   ],
   "source": [
    "submission['voted']"
   ]
  },
  {
   "cell_type": "code",
   "execution_count": 34,
   "id": "e87185df",
   "metadata": {
    "scrolled": true
   },
   "outputs": [
    {
     "data": {
      "text/plain": [
       "1    6553\n",
       "2    4830\n",
       "Name: voted, dtype: int64"
      ]
     },
     "execution_count": 34,
     "metadata": {},
     "output_type": "execute_result"
    }
   ],
   "source": [
    "submission['voted'].value_counts()"
   ]
  },
  {
   "cell_type": "markdown",
   "id": "a03bcd30",
   "metadata": {},
   "source": [
    "# TEST Set에 대한 AUC"
   ]
  },
  {
   "cell_type": "code",
   "execution_count": 35,
   "id": "392e9e6f",
   "metadata": {},
   "outputs": [
    {
     "data": {
      "text/plain": [
       "0.7345"
      ]
     },
     "execution_count": 35,
     "metadata": {},
     "output_type": "execute_result"
    }
   ],
   "source": [
    "from pycaret.utils import check_metric\n",
    "check_metric(pred_holdout['voted'], pred_holdout['Label'], metric='AUC')"
   ]
  }
 ],
 "metadata": {
  "kernelspec": {
   "display_name": "Python 3 (ipykernel)",
   "language": "python",
   "name": "python3"
  },
  "language_info": {
   "codemirror_mode": {
    "name": "ipython",
    "version": 3
   },
   "file_extension": ".py",
   "mimetype": "text/x-python",
   "name": "python",
   "nbconvert_exporter": "python",
   "pygments_lexer": "ipython3",
   "version": "3.9.12"
  }
 },
 "nbformat": 4,
 "nbformat_minor": 5
}
